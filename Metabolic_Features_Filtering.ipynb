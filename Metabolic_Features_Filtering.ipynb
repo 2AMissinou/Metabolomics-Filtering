{
  "nbformat": 4,
  "nbformat_minor": 0,
  "metadata": {
    "colab": {
      "name": "Metabolic-Features-Filtering.ipynb",
      "provenance": [],
      "authorship_tag": "ABX9TyOuXNmtKy9dUFC5XwCnsbaL",
      "include_colab_link": true
    },
    "kernelspec": {
      "name": "python3",
      "display_name": "Python 3"
    },
    "language_info": {
      "name": "python"
    }
  },
  "cells": [
    {
      "cell_type": "markdown",
      "metadata": {
        "id": "view-in-github",
        "colab_type": "text"
      },
      "source": [
        "<a href=\"https://colab.research.google.com/github/2AMissinou/Metabolomics-Filtering/blob/main/Metabolic_Features_Filtering.ipynb\" target=\"_parent\"><img src=\"https://colab.research.google.com/assets/colab-badge.svg\" alt=\"Open In Colab\"/></a>"
      ]
    },
    {
      "cell_type": "markdown",
      "source": [
        "## LC-MS data Clean up\n",
        "Authors: Anani Amegan MISSINOU (anani.a.missinou@gmai.com) <br>\n",
        "Input file format: .csv files or .txt files\n",
        "Outputs: .csv files <br>\n",
        "Dependencies: ggplot2, dplyr, ecodist, vegan, svglite <br>"
      ],
      "metadata": {
        "id": "rZjtSRehF7Ne"
      }
    },
    {
      "cell_type": "code",
      "source": [
        ""
      ],
      "metadata": {
        "id": "tzpUVIL4F_DP"
      },
      "execution_count": null,
      "outputs": []
    },
    {
      "cell_type": "markdown",
      "source": [
        ""
      ],
      "metadata": {
        "id": "q5u5hMMsJ0Vp"
      }
    }
  ]
}