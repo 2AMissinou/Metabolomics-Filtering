{
  "nbformat": 4,
  "nbformat_minor": 0,
  "metadata": {
    "colab": {
      "name": "Metabolic_Features_Filtering_v1.3.rp.ipynb",
      "provenance": [],
      "authorship_tag": "ABX9TyNfPLhokLoaY02cR0qn5SGN",
      "include_colab_link": true
    },
    "kernelspec": {
      "name": "python3",
      "display_name": "Python 3"
    },
    "language_info": {
      "name": "python"
    },
    "gpuClass": "standard"
  },
  "cells": [
    {
      "cell_type": "markdown",
      "metadata": {
        "id": "view-in-github",
        "colab_type": "text"
      },
      "source": [
        "<a href=\"https://colab.research.google.com/github/2AMissinou/Metabolomics-Filtering/blob/main/Metabolic_Features_Filtering_BRASSIMET-project_rp.ipynb\" target=\"_parent\"><img src=\"https://colab.research.google.com/assets/colab-badge.svg\" alt=\"Open In Colab\"/></a>"
      ]
    },
    {
      "cell_type": "markdown",
      "source": [
        "# **<font color='\tdodgerblue'> Metabolic features Clean up and Multivariate analysis **<font>\n",
        "\n",
        "---\n",
        "\n",
        "Authors: Anani Amegan Missinou (anani.a.missinou@gmail.com) <br>\n",
        "Input file format: .csv files or .txt files <br>\n",
        "Outputs: .csv files  <br>\n",
        "Dependencies: ggplot2, dplyr, ecodist, vegan, svglite\\"
      ],
      "metadata": {
        "id": "jru5YQzJtvgI"
      }
    },
    {
      "cell_type": "markdown",
      "source": [
        "## Use R and Python code Run rmagic by executing this command %load_ext rpy2. ipython.\n",
        "\n",
        "\n",
        "1.   Start rmagic by executing this in a cell: %load_ext rpy2. ipython. \n",
        "2.   Use %%R to execute cell magic. After that, every time you want to use R, add %%R in the beginning of each cell before code running."
      ],
      "metadata": {
        "id": "Zpmp9RTTeu7W"
      }
    },
    {
      "cell_type": "code",
      "source": [
        "%load_ext rpy2.ipython"
      ],
      "metadata": {
        "id": "_S0juWqcunoG"
      },
      "execution_count": null,
      "outputs": []
    },
    {
      "cell_type": "code",
      "source": [
        "%%R\n",
        "#installing and calling the necessary packages:\n",
        "install.packages(\"ggplot2\")\n",
        "install.packages(\"dplyr\")\n",
        "install.packages(\"ecodist\") #for PCoA using Bray Curtis distance\n",
        "install.packages(\"vegan\") #for PermANOVA\n",
        "install.packages(\"svglite\") # for saving ggplots as svg files\n",
        "install.packages(\"tidyverse\")"
      ],
      "metadata": {
        "id": "-0XpPEoWuk0F"
      },
      "execution_count": null,
      "outputs": []
    },
    {
      "cell_type": "code",
      "execution_count": null,
      "metadata": {
        "id": "-Rym0mXNMZ7B"
      },
      "outputs": [],
      "source": [
        "%%R\n",
        "require(\"ggplot2\")\n",
        "require(\"dplyr\")\n",
        "require(\"ecodist\")\n",
        "require(\"vegan\")\n",
        "require(\"svglite\")\n",
        "require(\"tidyverse\")"
      ]
    },
    {
      "cell_type": "markdown",
      "source": [
        "## Setting a local working directory and creating an automatic result directory:\n",
        "Works well with Jupyter Notebook. If you are working with Jupyter Notebook, you can simply copy the folder path from your local computer to the next cell output line. It will be set as your working directory <br> \n",
        "For ex: D:\\User\\Project\\Test_Data <br>\n",
        "<br>\n",
        "For Google Collab, we can upload the necessary files into a new folder using the 'Files' icon on the left and set the folder as working directory. And all the ouput files will be saved here as well and you need to download them finally into your local computer"
      ],
      "metadata": {
        "id": "MKFubSt_YhCr"
      }
    },
    {
      "cell_type": "code",
      "source": [
        "%%R\n",
        "# setting the current directory as the working directory\n",
        "#Directory <- normalizePath(readline(\"Enter the path of the folder with input files: \"),\"/\",mustWork=FALSE)\n",
        "#setwd(Directory)\n",
        "dir.create(\"/content/data_results\")\n",
        "setwd(\"/content/data_results\")\n"
      ],
      "metadata": {
        "id": "_DdM19cgY9Jc"
      },
      "execution_count": null,
      "outputs": []
    },
    {
      "cell_type": "code",
      "source": [
        "%%R\n",
        "getwd()"
      ],
      "metadata": {
        "id": "8lXzvXdDac8H",
        "outputId": "a58c1d45-52f1-47c4-a332-a4f3ed5111d3",
        "colab": {
          "base_uri": "https://localhost:8080/"
        }
      },
      "execution_count": null,
      "outputs": [
        {
          "output_type": "stream",
          "name": "stdout",
          "text": [
            "[1] \"/content/data_results\"\n"
          ]
        }
      ]
    },
    {
      "cell_type": "markdown",
      "source": [
        "## Reading the input data using URL (from Github):\n",
        "Alternatively, we can also directly pull the data files from our Functional Metabolomics Github page:"
      ],
      "metadata": {
        "id": "MDUhvPzlAc1T"
      }
    },
    {
      "cell_type": "code",
      "source": [
        "## Reading the input data using URL (from Github):\n",
        "# Alternatively, we can also directly pull the data files from our Functional Metabolomics Github page:\n",
        "\n",
        "%%R\n",
        "## Non-gap filled\n",
        "nft_url <- 'https://raw.githubusercontent.com/Functional-Metabolomics-Lab/CMFI_Seminar_Multivariate_Statistics/main/Test_Data/20220716_Xenobiotic_metabolism_non_gapfilled_quant_Bsub_quant.csv'\n",
        "## Gap filled\n",
        "ft_url <- 'https://raw.githubusercontent.com/Functional-Metabolomics-Lab/CMFI_Seminar_Multivariate_Statistics/main/Test_Data/20220716_Xenobiotic_metabolism_gapfilled_quant_Bsub.csv'\n",
        "md_url <- 'https://raw.githubusercontent.com/Functional-Metabolomics-Lab/CMFI_Seminar_Multivariate_Statistics/main/Test_Data/20220716_Xenobiotic_Metabolism_metadata_Bsub.txt'"
      ],
      "metadata": {
        "id": "cPTOllNS8-jf"
      },
      "execution_count": null,
      "outputs": []
    },
    {
      "cell_type": "code",
      "source": [
        "%%R\n",
        "nft <- read.csv(nft_url, header = T, check.names = F)\n",
        "ft <- read.csv(ft_url, header = T, check.names = F)\n",
        "md <- read.csv(md_url, header = T, check.names = F, sep = '\\t')"
      ],
      "metadata": {
        "id": "ZbNE4ZCyb8wZ"
      },
      "execution_count": null,
      "outputs": []
    },
    {
      "cell_type": "code",
      "source": [
        "%%R\n",
        "head(ft[,1:20], 3)\n",
        "#dim(ft)"
      ],
      "metadata": {
        "id": "AFtiRL7NcCaa",
        "outputId": "5cb67af4-e1a5-4188-acec-5c8c27385d87",
        "colab": {
          "base_uri": "https://localhost:8080/"
        }
      },
      "execution_count": null,
      "outputs": [
        {
          "output_type": "stream",
          "name": "stdout",
          "text": [
            "  row ID  row m/z row retention time row ion mobility row ion mobility unit\n",
            "1      2 284.0490         0.06921104               NA                    NA\n",
            "2      8 281.0509         0.10351847               NA                    NA\n",
            "3     10 267.0352         0.12503392               NA                    NA\n",
            "  row CCS correlation group ID annotation network number best ion\n",
            "1      NA                   NA                        NA       NA\n",
            "2      NA                   NA                        NA       NA\n",
            "3      NA                   NA                        NA       NA\n",
            "  auto MS2 verify identified by n= partners neutral M mass\n",
            "1              NA               NA       NA             NA\n",
            "2              NA               NA       NA             NA\n",
            "3              NA               NA       NA             NA\n",
            "  Blank_B.mzML Peak area t2_BS_C.mzML Peak area t0_BS_C.mzML Peak area\n",
            "1               18021.57               16982.87               20755.18\n",
            "2             1402257.60             1537228.20              228957.92\n",
            "3               83519.48               96762.88               84678.31\n",
            "  Blank_A.mzML Peak area t1_BS_C.mzML Peak area t5_BS_C.mzML Peak area\n",
            "1               24335.37                19328.7               23160.66\n",
            "2             1604372.00              1559159.1              263653.38\n",
            "3               90303.77                81488.6              115550.96\n",
            "  t3_BS_3.mzML Peak area\n",
            "1               65528.32\n",
            "2              266014.78\n",
            "3              107415.57\n"
          ]
        }
      ]
    },
    {
      "cell_type": "code",
      "source": [
        "%%R\n",
        "head(nft[,1:20], 3)\n",
        "#dim(nft)"
      ],
      "metadata": {
        "id": "awYtqrOcc9UM",
        "outputId": "ba3b6907-c490-4129-a676-6f83e5e2304f",
        "colab": {
          "base_uri": "https://localhost:8080/"
        }
      },
      "execution_count": null,
      "outputs": [
        {
          "output_type": "stream",
          "name": "stdout",
          "text": [
            "  row ID  row m/z row retention time row ion mobility row ion mobility unit\n",
            "1      2 284.0490         0.00635683               NA                    NA\n",
            "2      8 281.0508         0.06924535               NA                    NA\n",
            "3     10 267.0351         0.09624655               NA                    NA\n",
            "  row CCS correlation group ID annotation network number best ion\n",
            "1      NA                   NA                        NA       NA\n",
            "2      NA                   NA                        NA       NA\n",
            "3      NA                   NA                        NA       NA\n",
            "  auto MS2 verify identified by n= partners neutral M mass\n",
            "1              NA               NA       NA             NA\n",
            "2              NA               NA       NA             NA\n",
            "3              NA               NA       NA             NA\n",
            "  Blank_B.mzML Peak area t2_BS_C.mzML Peak area t0_BS_C.mzML Peak area\n",
            "1                      0                      0                      0\n",
            "2                      0                      0                      0\n",
            "3                      0                      0                      0\n",
            "  Blank_A.mzML Peak area t1_BS_C.mzML Peak area t5_BS_C.mzML Peak area\n",
            "1               24335.37                      0                      0\n",
            "2             1604372.00                      0                      0\n",
            "3               90303.77                      0                      0\n",
            "  t3_BS_3.mzML Peak area\n",
            "1               65528.32\n",
            "2                   0.00\n",
            "3                   0.00\n"
          ]
        }
      ]
    },
    {
      "cell_type": "code",
      "source": [
        "%%R\n",
        "head(md)\n",
        "#dim(md)"
      ],
      "metadata": {
        "id": "IkVr50qcdB5l",
        "outputId": "5de1d2b8-413a-4dea-bef5-7fdea177fcad",
        "colab": {
          "base_uri": "https://localhost:8080/"
        }
      },
      "execution_count": null,
      "outputs": [
        {
          "output_type": "stream",
          "name": "stdout",
          "text": [
            "                filename ATTRIBUTE_species ATTRIBUTE_SampleType\n",
            "1 t0_BS_C.mzML Peak area        B.subtilis    Without_Treatment\n",
            "2 t0_BS_1.mzML Peak area        B.subtilis    Without_Treatment\n",
            "3 t0_BS_2.mzML Peak area        B.subtilis    Without_Treatment\n",
            "4 t0_BS_3.mzML Peak area        B.subtilis    Without_Treatment\n",
            "5 t1_BS_C.mzML Peak area        B.subtilis    Without_Treatment\n",
            "6 t1_BS_1.mzML Peak area        B.subtilis       With_Treatment\n",
            "  ATTRIBUTE_timepoint ATTRIBUTE_hours ATTRIBUTE_mins ATTRIBUTE_replicates\n",
            "1                   0      -0.1666667            -10                    0\n",
            "2                   0      -0.1666667            -10                    1\n",
            "3                   0      -0.1666667            -10                    2\n",
            "4                   0      -0.1666667            -10                    3\n",
            "5                   1       0.0000000              0                    0\n",
            "6                   1       0.0000000              0                    1\n"
          ]
        }
      ]
    },
    {
      "cell_type": "markdown",
      "source": [
        "Trying to bring the feature table and metadata in the correct format such as the rownames of metadata and column names of feature table are the same. They both are the file names and they need to be same as from now on, we will call the columns in our feature table based on our metadata information. Thus, using the metadata, the user can filter their data easily. You can also directly deal with your feature table without metadata by getting your hands dirty with some coding!! But having a metadata improves the user-experience greatly."
      ],
      "metadata": {
        "id": "QT5KHSP6dJ3y"
      }
    },
    {
      "cell_type": "code",
      "source": [
        "%%R\n",
        "#Removing Peak area extensions\n",
        "colnames(ft) <- gsub(' Peak area','',colnames(ft))\n",
        "colnames(nft) <- gsub(' Peak area','',colnames(nft))\n",
        "md$filename<- gsub(' Peak area','',md$filename)\n",
        "\n",
        "#Removing if any NA columns present in the md file\n",
        "ft <- ft[,colSums(is.na(ft))<nrow(ft)]\n",
        "nft <- nft[,colSums(is.na(nft))<nrow(nft)]\n",
        "md <- md[,colSums(is.na(md))<nrow(md)]\n",
        "\n",
        "#Changing the row names of the files\n",
        "rownames(md) <- md$filename\n",
        "md <- md[,-1]\n",
        "rownames(ft) <- paste(ft$'row ID',round(ft$'row m/z',digits = 3),round(ft$'row retention time',digits = 3), sep = '_')\n",
        "rownames(nft) <- paste(nft$'row ID',round(nft$'row m/z',digits = 3),round(nft$'row retention time',digits = 3), sep = '_')\n",
        "\n",
        "#Picking only the files with column names containing 'mzML'\n",
        "ft <- ft[,grep('mzML',colnames(ft))]\n",
        "nft <- nft[,grep('mzML',colnames(nft))]\n",
        "\n",
        "# Converting replicate attributes into factors (categorical data)\n",
        "md$ATTRIBUTE_replicates <- as.factor(md$ATTRIBUTE_replicates)"
      ],
      "metadata": {
        "id": "uhsqFX5FEGR5"
      },
      "execution_count": null,
      "outputs": []
    },
    {
      "cell_type": "markdown",
      "source": [
        "Lets check the files once again!!"
      ],
      "metadata": {
        "id": "6pWOkjwxdaxu"
      }
    },
    {
      "cell_type": "code",
      "source": [
        "%%R\n",
        "head(nft[,1:20], 3)\n",
        "#dim(nft)"
      ],
      "metadata": {
        "id": "5dUUZfW4ddgZ",
        "outputId": "83105ec1-84ab-4367-b851-287920ce715e",
        "colab": {
          "base_uri": "https://localhost:8080/"
        }
      },
      "execution_count": null,
      "outputs": [
        {
          "output_type": "stream",
          "name": "stdout",
          "text": [
            "                 Blank_B.mzML t2_BS_C.mzML t0_BS_C.mzML Blank_A.mzML\n",
            "2_284.049_0.006             0            0            0     24335.37\n",
            "8_281.051_0.069             0            0            0   1604372.00\n",
            "10_267.035_0.096            0            0            0     90303.77\n",
            "                 t1_BS_C.mzML t5_BS_C.mzML t3_BS_3.mzML t2_BS_2.mzML\n",
            "2_284.049_0.006             0            0     65528.32            0\n",
            "8_281.051_0.069             0            0         0.00            0\n",
            "10_267.035_0.096            0            0         0.00            0\n",
            "                 t3_BS_C.mzML t2_BS_1.mzML t3_BS_2.mzML t1_BS_1.mzML\n",
            "2_284.049_0.006             0            0            0            0\n",
            "8_281.051_0.069             0      3636798            0            0\n",
            "10_267.035_0.096            0            0            0            0\n",
            "                 t2_BS_3.mzML t1_BS_3.mzML t1_BS_2.mzML t3_BS_1.mzML\n",
            "2_284.049_0.006             0            0            0         0.00\n",
            "8_281.051_0.069             0            0            0    825967.75\n",
            "10_267.035_0.096            0            0            0     42062.35\n",
            "                 t4_BS_C.mzML t6_BS_C.mzML t4_BS_2.mzML t0_BS_3.mzML\n",
            "2_284.049_0.006             0            0            0            0\n",
            "8_281.051_0.069             0            0            0            0\n",
            "10_267.035_0.096            0            0            0            0\n"
          ]
        }
      ]
    },
    {
      "cell_type": "code",
      "source": [
        "%%R\n",
        "head(ft[,1:20], 3)\n",
        "#dim(ft)"
      ],
      "metadata": {
        "id": "E0AabYq6dmvM",
        "outputId": "994a5c9a-b5c0-4804-9040-f4955e23bd00",
        "colab": {
          "base_uri": "https://localhost:8080/"
        }
      },
      "execution_count": null,
      "outputs": [
        {
          "output_type": "stream",
          "name": "stdout",
          "text": [
            "                 Blank_B.mzML t2_BS_C.mzML t0_BS_C.mzML Blank_A.mzML\n",
            "2_284.049_0.069      18021.57     16982.87     20755.18     24335.37\n",
            "8_281.051_0.104    1402257.60   1537228.20    228957.92   1604372.00\n",
            "10_267.035_0.125     83519.48     96762.88     84678.31     90303.77\n",
            "                 t1_BS_C.mzML t5_BS_C.mzML t3_BS_3.mzML t2_BS_2.mzML\n",
            "2_284.049_0.069       19328.7     23160.66     65528.32     4663.611\n",
            "8_281.051_0.104     1559159.1    263653.38    266014.78   238900.690\n",
            "10_267.035_0.125      81488.6    115550.96    107415.57    82006.620\n",
            "                 t3_BS_C.mzML t2_BS_1.mzML t3_BS_2.mzML t1_BS_1.mzML\n",
            "2_284.049_0.069      22136.30     4262.391     4854.831     20930.33\n",
            "8_281.051_0.104    1652363.80  3636798.200  1617942.000   1455835.20\n",
            "10_267.035_0.125     12551.38    96853.070   103621.760     86706.23\n",
            "                 t2_BS_3.mzML t1_BS_3.mzML t1_BS_2.mzML t3_BS_1.mzML\n",
            "2_284.049_0.069      20200.52     18188.45     5378.233     20001.40\n",
            "8_281.051_0.104    1604511.10   1527723.40  1458055.500    825967.75\n",
            "10_267.035_0.125     11919.04     90752.54    68145.160     42062.35\n",
            "                 t4_BS_C.mzML t6_BS_C.mzML t4_BS_2.mzML t0_BS_3.mzML\n",
            "2_284.049_0.069      21512.13     16409.04     23366.63     10024.89\n",
            "8_281.051_0.104    1739549.40   1678684.90   1672933.80   1447067.40\n",
            "10_267.035_0.125    118136.62    122509.38    113633.15     85716.81\n"
          ]
        }
      ]
    },
    {
      "cell_type": "code",
      "source": [
        "%%R\n",
        "head(md)\n",
        "#dim(md)"
      ],
      "metadata": {
        "id": "1oIQ7a8xdm4a",
        "outputId": "da6ad0ed-217b-4666-d278-1ab765aefb72",
        "colab": {
          "base_uri": "https://localhost:8080/"
        }
      },
      "execution_count": null,
      "outputs": [
        {
          "output_type": "stream",
          "name": "stdout",
          "text": [
            "             ATTRIBUTE_species ATTRIBUTE_SampleType ATTRIBUTE_timepoint\n",
            "t0_BS_C.mzML        B.subtilis    Without_Treatment                   0\n",
            "t0_BS_1.mzML        B.subtilis    Without_Treatment                   0\n",
            "t0_BS_2.mzML        B.subtilis    Without_Treatment                   0\n",
            "t0_BS_3.mzML        B.subtilis    Without_Treatment                   0\n",
            "t1_BS_C.mzML        B.subtilis    Without_Treatment                   1\n",
            "t1_BS_1.mzML        B.subtilis       With_Treatment                   1\n",
            "             ATTRIBUTE_hours ATTRIBUTE_mins ATTRIBUTE_replicates\n",
            "t0_BS_C.mzML      -0.1666667            -10                    0\n",
            "t0_BS_1.mzML      -0.1666667            -10                    1\n",
            "t0_BS_2.mzML      -0.1666667            -10                    2\n",
            "t0_BS_3.mzML      -0.1666667            -10                    3\n",
            "t1_BS_C.mzML       0.0000000              0                    0\n",
            "t1_BS_1.mzML       0.0000000              0                    1\n"
          ]
        }
      ]
    },
    {
      "cell_type": "markdown",
      "source": [
        "**About the experiment:**\n",
        "- Bacteria (B.subtilis) was treated with a pool of antibiotics (Sulfamethoxazole, sulfadimethoxine, cyproconazole) including a herbicide Asulam, taken at a concentration lower than their MIC (minimum inhibitory concentration).\n",
        "- The samples were collected at different timepoints, the compounds were extracted (with 50% EtOAc) and measured using LC-MS/MS.\n",
        "- The goal of the experiment was to look for any potential biotransformation. eg: Drug or xenobiotic metabolism"
      ],
      "metadata": {
        "id": "2Xe_7nR_d4Ue"
      }
    },
    {
      "cell_type": "markdown",
      "source": [
        "## Splitting the data into Control and Samples using Metadata:"
      ],
      "metadata": {
        "id": "SNSi1yp1d-6E"
      }
    },
    {
      "cell_type": "code",
      "source": [
        "%%R\n",
        "input_data <- ft\n"
      ],
      "metadata": {
        "id": "QXyDKNH8eA0E"
      },
      "execution_count": null,
      "outputs": []
    },
    {
      "cell_type": "code",
      "source": [
        "%%R\n",
        "head(md)\n",
        "print(matrix(data=colnames(md),nrow=length(colnames(md))))\n",
        "\n",
        "#These lines are not needed in R console, but in Jupyter Notebook to get the previous print statement working\n",
        "flush.console()  \n",
        "Sys.sleep(0.2)\n",
        "\n",
        "Condition <- as.double(unlist(readline(\"Enter the index of the attribute to split sample and control:\")))\n",
        "\n",
        "flush.console()  \n",
        "Sys.sleep(0.2)\n",
        "\n",
        "Levels_Cdtn <- levels(as.factor(md[,Condition[1]]))\n",
        "print(matrix(Levels_Cdtn,length(Levels_Cdtn)))\n",
        "\n",
        "flush.console()  \n",
        "Sys.sleep(0.2)\n",
        "    \n",
        "#Among the shown levels of an attribute, select the ones to keep\n",
        "Ctrl_id <- as.double(unlist(readline(\"Enter the index of your BLANK:\")))\n",
        "paste0('You chosen blank is:',Levels_Cdtn[Ctrl_id])\n",
        "\n",
        "#Splitting the data into control and samples based on the metadata\n",
        "md_Ctrl <- md[(md[,Condition] == Levels_Cdtn[Ctrl_id]),]\n",
        "Ctrl <- input_data[,which(colnames(input_data)%in%rownames(md_Ctrl))] \n",
        "md_Samples <- md[(md[,Condition] != Levels_Cdtn[Ctrl_id]),]\n",
        "Samples <- input_data[,which(colnames(input_data)%in%rownames(md_Samples))] "
      ],
      "metadata": {
        "id": "70XpQq8seF3k",
        "outputId": "5edb7136-976f-4dca-b332-7be3dd70365b",
        "colab": {
          "base_uri": "https://localhost:8080/"
        }
      },
      "execution_count": null,
      "outputs": [
        {
          "name": "stdout",
          "output_type": "stream",
          "text": [
            "     [,1]                  \n",
            "[1,] \"ATTRIBUTE_species\"   \n",
            "[2,] \"ATTRIBUTE_SampleType\"\n",
            "[3,] \"ATTRIBUTE_timepoint\" \n",
            "[4,] \"ATTRIBUTE_hours\"     \n",
            "[5,] \"ATTRIBUTE_mins\"      \n",
            "[6,] \"ATTRIBUTE_replicates\"\n",
            "Enter the index of the attribute to split sample and control:2\n",
            "     [,1]               \n",
            "[1,] \"Blank\"            \n",
            "[2,] \"With_Treatment\"   \n",
            "[3,] \"Without_Treatment\"\n",
            "Enter the index of your BLANK:1\n"
          ]
        }
      ]
    },
    {
      "cell_type": "code",
      "source": [
        "%%R\n",
        "head(Ctrl)\n",
        "#dim(Ctrl)"
      ],
      "metadata": {
        "id": "5vT0GmrGeNbu",
        "outputId": "5999860c-0953-42cf-a29b-b1df86bbca0e",
        "colab": {
          "base_uri": "https://localhost:8080/"
        }
      },
      "execution_count": null,
      "outputs": [
        {
          "output_type": "stream",
          "name": "stdout",
          "text": [
            "                 Blank_B.mzML Blank_A.mzML\n",
            "2_284.049_0.069      18021.57     24335.37\n",
            "8_281.051_0.104    1402257.60   1604372.00\n",
            "10_267.035_0.125     83519.48     90303.77\n",
            "13_227.022_0.035     21758.15     37453.91\n",
            "14_239.095_0.035     94997.12     72088.13\n",
            "16_302.059_0.041     27851.37     45895.42\n"
          ]
        }
      ]
    },
    {
      "cell_type": "code",
      "source": [
        "%%R\n",
        "head(Samples[,1:20], 3)\n",
        "#dim(Samples)"
      ],
      "metadata": {
        "id": "8DfjBd_9fZ7N",
        "outputId": "532beec7-ccee-4e73-9c70-25f4b6416920",
        "colab": {
          "base_uri": "https://localhost:8080/"
        }
      },
      "execution_count": null,
      "outputs": [
        {
          "output_type": "stream",
          "name": "stdout",
          "text": [
            "                 t2_BS_C.mzML t0_BS_C.mzML t1_BS_C.mzML t5_BS_C.mzML\n",
            "2_284.049_0.069      16982.87     20755.18      19328.7     23160.66\n",
            "8_281.051_0.104    1537228.20    228957.92    1559159.1    263653.38\n",
            "10_267.035_0.125     96762.88     84678.31      81488.6    115550.96\n",
            "                 t3_BS_3.mzML t2_BS_2.mzML t3_BS_C.mzML t2_BS_1.mzML\n",
            "2_284.049_0.069      65528.32     4663.611     22136.30     4262.391\n",
            "8_281.051_0.104     266014.78   238900.690   1652363.80  3636798.200\n",
            "10_267.035_0.125    107415.57    82006.620     12551.38    96853.070\n",
            "                 t3_BS_2.mzML t1_BS_1.mzML t2_BS_3.mzML t1_BS_3.mzML\n",
            "2_284.049_0.069      4854.831     20930.33     20200.52     18188.45\n",
            "8_281.051_0.104   1617942.000   1455835.20   1604511.10   1527723.40\n",
            "10_267.035_0.125   103621.760     86706.23     11919.04     90752.54\n",
            "                 t1_BS_2.mzML t3_BS_1.mzML t4_BS_C.mzML t6_BS_C.mzML\n",
            "2_284.049_0.069      5378.233     20001.40     21512.13     16409.04\n",
            "8_281.051_0.104   1458055.500    825967.75   1739549.40   1678684.90\n",
            "10_267.035_0.125    68145.160     42062.35    118136.62    122509.38\n",
            "                 t4_BS_2.mzML t0_BS_3.mzML t0_BS_2.mzML t7_BS_C.mzML\n",
            "2_284.049_0.069      23366.63     10024.89     3897.505     24439.49\n",
            "8_281.051_0.104    1672933.80   1447067.40  1486936.500   1755851.50\n",
            "10_267.035_0.125    113633.15     85716.81    85246.630     16367.01\n"
          ]
        }
      ]
    },
    {
      "cell_type": "markdown",
      "source": [
        "## Creating a function named FrequencyPlot:  \n",
        "The below function takes in the two input datatables: for example, gapfilled and non-gapfilled, calculates the frequency distribution of the data in the order of 10 and produces a grouped barplot showing the distribution as output. The frequency plot shows where the features are present in higher number."
      ],
      "metadata": {
        "id": "3hHisulIffjE"
      }
    },
    {
      "cell_type": "code",
      "source": [
        "%%R\n",
        "#'Global' settings for plot size in the output cell\n",
        "options(repr.plot.width=10, repr.plot.height=8,res=600) #For google collab\n",
        "#options(repr.plot.width=5, repr.plot.height=3) #For Jupyter Notebook"
      ],
      "metadata": {
        "id": "p7w6VFG7fkEg"
      },
      "execution_count": null,
      "outputs": []
    },
    {
      "cell_type": "code",
      "source": [
        "%%R\n",
        "\n",
        "FrequencyPlot <- function(x1,x2){\n",
        "  \n",
        "   #creating bins from -1 to 10^10 using sequence function seq()\n",
        "    bins <- c(-1,0,(1 * 10^(seq(0,10,1)))) \n",
        "    \n",
        "    #cut function cuts the give table into its appropriate bins\n",
        "    scores_x1 <- cut(as.matrix(x1),bins,labels = c('0','1','10','1E2','1E3','1E4','1E5','1E6','1E7','1E8','1E9','1E10')) \n",
        "    \n",
        "    #transform function convert the tables into a column format: easy for visualization \n",
        "    Table_x1<-transform(table(scores_x1)) #contains 2 columns: \"scores_x1\", \"Freq\"\n",
        "    \n",
        "    #Repeating the same steps for x2\n",
        "    scores_x2 <- cut(as.matrix(x2),bins,labels = c('0','1','10','1E2','1E3','1E4','1E5','1E6','1E7','1E8','1E9','1E10'))\n",
        "    Table_x2<-transform(table(scores_x2))\n",
        "  \n",
        "    #Getting the names of x1 and x2\n",
        "    arg1 <- deparse(substitute(x1))\n",
        "    arg2 <-deparse(substitute(x2))\n",
        "    \n",
        "    #Creating a data frame for plotting\n",
        "    data_plot <- as.data.frame(c(Table_x1$Freq,Table_x2$Freq)) #Concatenating the frequency info of both tables rowwise\n",
        "    colnames(data_plot) <- \"Freq\" #naming the 1st column as 'Freq'\n",
        "    data_plot$Condition <- c(rep(arg1,12),rep(arg2,12)) #adding a 2nd column 'Condition', which just repeats the name of x1 and x2 accordingly\n",
        "    data_plot$Range_bins <- rep(Table_x1$scores_x1,2) #Adding 3rd column 'Range Bins'\n",
        "    data_plot$Log_Freq <- log(data_plot$Freq+1) #Log scaling the frequency values\n",
        "    \n",
        "    ## GGPLOT2\n",
        "    BarPlot <- ggplot(data_plot, aes(Range_bins, Log_Freq, fill = Condition)) + \n",
        "    geom_bar(stat=\"identity\", position = \"dodge\", width=0.4) + \n",
        "    scale_fill_brewer(palette = \"Set1\") +\n",
        "    ggtitle(label=\"Frequency plot\") +\n",
        "    xlab(\"Range\") + ylab(\"(Log)Frequency\") + labs(fill = \"Data Type\") + \n",
        "    theme(axis.text.x = element_text(angle = 90, vjust = 0.5, hjust=1)) +   # setting the angle for the x label\n",
        "    theme(axis.text.y = element_text(angle = 45, vjust = 0.5, hjust=1)) +   # setting the angle for the y label\n",
        "    theme(plot.title = element_text(hjust = 0.5)) # centering the plot title\n",
        "  \n",
        "    print(BarPlot)\n",
        "}  "
      ],
      "metadata": {
        "id": "xSP2RW9nKbEn"
      },
      "execution_count": null,
      "outputs": []
    },
    {
      "cell_type": "code",
      "source": [
        "%%R\n",
        "FrequencyPlot1 = FrequencyPlot(Samples, Ctrl)\n",
        "ggsave(FrequencyPlot1,filename=\"FrequencyPlot.png\", width = 10, height = 8)"
      ],
      "metadata": {
        "id": "74Y5XEKQfwLm",
        "outputId": "dff19803-c04c-4734-eca4-fd008057274f",
        "colab": {
          "base_uri": "https://localhost:8080/",
          "height": 497
        }
      },
      "execution_count": null,
      "outputs": [
        {
          "output_type": "display_data",
          "data": {
            "image/png": "[encoded data removed]"
          },
          "metadata": {}
        }
      ]
    },
    {
      "cell_type": "markdown",
      "source": [
        "## Blank Removal:\n",
        "\n",
        "(Note: In LC-MS/MS, we use solvents also called as Blanks which are usually injected time-to-time to prevent carryover of the sample) </br>\n",
        "\n",
        "For the Blank removal step, we need to split the data as control blanks and samples. </br>\n",
        "\n",
        "**The blanks we are referring to here, is the control blanks in the experiment and not the LC-MS/MS blanks.**\n",
        "- The control blanks here is the sample without treatment. \n",
        "- Samples are biological replicates with treatment and we have two sets of data: B.sub and E.coli. </br>\n",
        "\n",
        "In general, having multiple control blanks helps us to compare any variation in the data. Comparing control to the sample helps us to identify the background features that contribute to any technical variation. A common filtering method is to use a cutoff to remove features that are not present sufficient enough in our biological samples.\n",
        "\n",
        "1. We find an average for all the feature intensities in your control set and sample set.\n",
        "Therefore, for n no.of features in a control or sample set, we get n no.of averaged features.\n",
        "2. Next, we get a ratio of this average_control vs average_sample. This ratio Control/sample tells us how much of that particular feature of a sample gets its contribution from control. If it is more than 30% (or Cutoff as 0.3), we consider the feature as noise.\n",
        "3. The resultant information (if ratio > Cutoff or not) is stored in a bin such as **1 == Noise or background signal, 0 == Feature Signal**\n",
        "4. We count the no.of features in the bin that satisfies the condition ratio > cutoff, and consider those features as 'noise or background features' and remove them.\n",
        "\n",
        "For a dataset containing several batches, the filtering steps are performed batch-wise."
      ],
      "metadata": {
        "id": "9UgP7VjTf0um"
      }
    },
    {
      "cell_type": "code",
      "source": [
        "%%R\n",
        "if(readline('Do you want to perform Blank Removal- Y/N:')=='Y'){\n",
        "    \n",
        "    #When cutoff is low, more noise (or background) detected; With higher cutoff, less background detected, thus more features observed\n",
        "    Cutoff <- as.numeric(readline('Enter Cutoff value between 0.1 & 1:')) # (i.e. 10% - 100%). Ideal cutoff range: 0.1-0.3\n",
        "    \n",
        "    #Getting mean for every feature in Ctrl and Samples\n",
        "    Avg_ctrl <- rowMeans(Ctrl, na.rm= FALSE, dims = 1) # set na.rm = FALSE to check if there are NA values. When set as TRUE, NA values are changed to 0\n",
        "    Avg_samples <- rowMeans(Samples, na.rm= FALSE, dims = 1)\n",
        "    \n",
        "    #Getting the ratio of Ctrl vs Sample\n",
        "    Ratio_Ctrl_Sample <- (Avg_ctrl+1)/(Avg_samples+1)\n",
        "    \n",
        "    # Creating a bin with 1s when the ratio>Cutoff, else put 0s\n",
        "    Bg_bin <- ifelse(Ratio_Ctrl_Sample > Cutoff, 1, 0 )\n",
        "    Blank_removal <- cbind(Samples,Bg_bin)\n",
        "\n",
        "    # Checking if there are any NA values present. Having NA values in the 4 variables will affect the final dataset to be created\n",
        "    temp_NA_Count <-cbind(Avg_ctrl ,Avg_samples,Ratio_Ctrl_Sample,Bg_bin)\n",
        "    \n",
        "    print('No of NA values in the following columns:')\n",
        "    print(colSums(is.na(temp_NA_Count)))\n",
        "\n",
        "     #Calculating the number of background features and features present\n",
        "    print(paste(\"No.of Background or noise features:\",sum(Bg_bin ==1,na.rm = TRUE)))\n",
        "    print(paste(\"No.of features after excluding noise:\",(nrow(Samples) - sum(Bg_bin ==1,na.rm = TRUE)))) \n",
        "\n",
        "    Blank_removal <- Blank_removal %>% filter(Bg_bin == 0) # Taking only the feature signals\n",
        "    Blank_removal <- as.matrix(Blank_removal[,-ncol(Blank_removal)]) # removing the last column Bg_bin \n",
        "}"
      ],
      "metadata": {
        "id": "oZuGciqVfyl1",
        "outputId": "f1862089-68a9-4c29-d00e-3156805525f2",
        "colab": {
          "base_uri": "https://localhost:8080/"
        }
      },
      "execution_count": null,
      "outputs": [
        {
          "output_type": "stream",
          "name": "stdout",
          "text": [
            "Do you want to perform Blank Removal- Y/N:Y\n",
            "Enter Cutoff value between 0.1 & 1:0.3\n",
            "[1] \"No of NA values in the following columns:\"\n",
            "         Avg_ctrl       Avg_samples Ratio_Ctrl_Sample            Bg_bin \n",
            "                0                 0                 0                 0 \n",
            "[1] \"No.of Background or noise features: 1311\"\n",
            "[1] \"No.of features after excluding noise: 4496\"\n"
          ]
        }
      ]
    },
    {
      "cell_type": "code",
      "source": [
        "%%R\n",
        "dim(Blank_removal)"
      ],
      "metadata": {
        "id": "bauG5plKgOMm",
        "outputId": "1a71b751-52ae-4d92-e65a-c6ac497b8f16",
        "colab": {
          "base_uri": "https://localhost:8080/"
        }
      },
      "execution_count": null,
      "outputs": [
        {
          "output_type": "stream",
          "name": "stdout",
          "text": [
            "[1] 4496   40\n"
          ]
        }
      ]
    },
    {
      "cell_type": "markdown",
      "source": [
        "## Imputation: \n",
        "\n",
        "For several reasons, real world datasets might have some missing values in it, in the form of NA, NANs or 0s. Eventhough the gapfilling step of MZmine fills the missing values, we still end up with some missing values or 0s in our feature table. This could be problematic for statistical analysis. \n",
        "In order to have a better dataset, we cannot simply discard those rows or columns with missing values as we will lose a chunk of our valuable data.\n",
        "Instead we can try imputing those missing values. Imputation involves replacing the missing values in the data with a meaningful, reasonable guess. There are several methods, such as:  \n",
        "1) Mean imputation (replacing the missing values in a column with the mean or average of the column)  \n",
        "2) Replacing it with the most frequent value  \n",
        "3) Several other machine learning imputation methods such as k-nearest neighbors algorithm(k-NN), Hidden Markov Model(HMM)\n",
        "\n",
        "One such method, we are going to use is: **to replace the zeros from the gapfilled quant table with the non-gap filled table** we get from MZmine. In order to do that, we can visualize our data distribution using the frequenct plot"
      ],
      "metadata": {
        "id": "qwzXA8l_gaQE"
      }
    },
    {
      "cell_type": "code",
      "source": [
        "%%R\n",
        "GapFilled <-Blank_removal\n",
        "NotGapFilled <- nft"
      ],
      "metadata": {
        "id": "XmtRIuMFgSfG"
      },
      "execution_count": null,
      "outputs": []
    },
    {
      "cell_type": "code",
      "source": [
        "%%R\n",
        "if(readline('Do you want to perform Imputation with minimum value of NonGapFilled table? - Y/N:')=='Y'){\n",
        "    \n",
        "    plot<- FrequencyPlot(GapFilled,NotGapFilled)\n",
        "    \n",
        "    Arg1 = plot$data$Condition[1]\n",
        "    Arg2 = plot$data$Condition[13]\n",
        "    \n",
        "    # accessing the datatable of plot and subsetting with the condition: Eliminating the Range (or bin) 0 and Ranges with zero frequencies \n",
        "    plotData_New <- subset(plot$data,plot$data$Freq!=0 & plot$data$Range_bins !=0) \n",
        "    \n",
        "    #getting the first appearing value of this new plot datatable\n",
        "    First_val_temp <- aggregate(plotData_New$Freq, by=list(plotData_New$Condition), FUN=first) \n",
        "    \n",
        "    # Subsetting the rows in the plotData_New that has the first appearing values\n",
        "    First_val <- plotData_New[plotData_New$Freq %in% c(First_val_temp$x[1],First_val_temp$x[2]),]\n",
        "  \n",
        "    # getting the 2nd minimum value of non-gap filled data. (The first minimum value in the data table is usually zero)\n",
        "    RawLOD <- round(min(NotGapFilled[NotGapFilled!=min(NotGapFilled)]))\n",
        "    print(paste0(\"The minimum value greater than 0 for \",Arg1,\":\", round(min(GapFilled[GapFilled!=min(GapFilled)]))))\n",
        "    print(paste0(\"The minimum value greater than 0 for \",Arg2,\":\", RawLOD))\n",
        "    \n",
        "    Imputed <- GapFilled\n",
        "    Imputed[Imputed<RawLOD] <- RawLOD # Replacing values<RawLOD with RawLOD\n",
        "} else return(GapFilled)\n",
        "\n",
        "\n",
        "ggsave(plot,filename=\"FrequencyPlot_GapFilled.png\", width = 10, height = 8)"
      ],
      "metadata": {
        "id": "e04XEHvSgec1",
        "outputId": "4c3ba349-9c5e-414e-c871-d58dac575ec3",
        "colab": {
          "base_uri": "https://localhost:8080/",
          "height": 554
        }
      },
      "execution_count": null,
      "outputs": [
        {
          "output_type": "stream",
          "name": "stdout",
          "text": [
            "Do you want to perform Imputation with minimum value of NonGapFilled table? - Y/N:Y\n",
            "[1] \"The minimum value greater than 0 for GapFilled:123\"\n",
            "[1] \"The minimum value greater than 0 for NotGapFilled:3766\"\n"
          ]
        },
        {
          "output_type": "display_data",
          "data": {
            "image/png": "[encoded data removed]"
          },
          "metadata": {}
        }
      ]
    },
    {
      "cell_type": "code",
      "source": [
        "%%R\n",
        "getwd()"
      ],
      "metadata": {
        "id": "t-wDVSpWgklt",
        "outputId": "23b3d4d4-29af-423d-d6d9-daea340aff5b",
        "colab": {
          "base_uri": "https://localhost:8080/"
        }
      },
      "execution_count": null,
      "outputs": [
        {
          "output_type": "stream",
          "name": "stdout",
          "text": [
            "[1] \"/content/data_results\"\n"
          ]
        }
      ]
    },
    {
      "cell_type": "code",
      "source": [
        "%%R\n",
        "write.csv(Imputed, file='Quant_Table_filled_with_MinValue.csv', row.names =TRUE) "
      ],
      "metadata": {
        "id": "65_myaKygnk-"
      },
      "execution_count": null,
      "outputs": []
    },
    {
      "cell_type": "code",
      "source": [
        "%%R\n",
        "head(Imputed[,1:20], 3)\n",
        "#dim(Imputed)"
      ],
      "metadata": {
        "id": "aZ31hKKGhN0Z",
        "outputId": "03d46144-e887-4f0e-fa16-516293337018",
        "colab": {
          "base_uri": "https://localhost:8080/"
        }
      },
      "execution_count": null,
      "outputs": [
        {
          "output_type": "stream",
          "name": "stdout",
          "text": [
            "                 t2_BS_C.mzML t0_BS_C.mzML t1_BS_C.mzML t5_BS_C.mzML\n",
            "46_284.049_0.292     28967.65     6016.644     19891.79    137709.25\n",
            "95_245.095_0.52       3766.00     3766.000      3766.00     43263.97\n",
            "99_157.097_0.52       3766.00     3766.000      3766.00      4953.36\n",
            "                 t3_BS_3.mzML t2_BS_2.mzML t3_BS_C.mzML t2_BS_1.mzML\n",
            "46_284.049_0.292    38654.650   123643.766     48592.70     87621.97\n",
            "95_245.095_0.52     68092.710    54846.290     51597.93     40212.03\n",
            "99_157.097_0.52      8625.011     4815.979      4152.35      3766.00\n",
            "                 t3_BS_2.mzML t1_BS_1.mzML t2_BS_3.mzML t1_BS_3.mzML\n",
            "46_284.049_0.292    15638.634    43170.520    37703.920    127769.73\n",
            "95_245.095_0.52     68410.980    74559.234    50340.758     39515.62\n",
            "99_157.097_0.52      7641.581     6916.565     4018.839      3766.00\n",
            "                 t1_BS_2.mzML t3_BS_1.mzML t4_BS_C.mzML t6_BS_C.mzML\n",
            "46_284.049_0.292    32267.916     54813.89    22190.750    138757.31\n",
            "95_245.095_0.52     56168.523     52213.00    67825.430     71027.30\n",
            "99_157.097_0.52      4450.422      3925.41     8736.579     12547.31\n",
            "                 t4_BS_2.mzML t0_BS_3.mzML t0_BS_2.mzML t7_BS_C.mzML\n",
            "46_284.049_0.292     51104.41     3766.000     44377.31    23708.252\n",
            "95_245.095_0.52      57153.69   107118.500     73117.06    29759.742\n",
            "99_157.097_0.52       7924.04     4724.805      3766.00     6418.098\n"
          ]
        }
      ]
    },
    {
      "cell_type": "markdown",
      "source": [
        "## Normalization:\n",
        "The following code performs sample-centric (column-wise) normalisation:"
      ],
      "metadata": {
        "id": "dK-zErdChgo-"
      }
    },
    {
      "cell_type": "code",
      "source": [
        "%%R\n",
        "if (readline(\"Do you want to perform Normalization: Y/N:\") == 'Y'){\n",
        "    \n",
        "    #Getting column-wise sums of the input-data\n",
        "    sample_sum <- colSums(Imputed, na.rm= TRUE, dims = 1)\n",
        "    \n",
        "    #Dividing each element of a particular column with its column sum\n",
        "    Normalized_data <- c()\n",
        "    for (i in 1:ncol(Imputed)){\n",
        "        x <- Imputed[,i] / sample_sum[i]\n",
        "        Normalized_data <- cbind(Normalized_data, x)\n",
        "    }\n",
        "    colnames(Normalized_data) <- names(sample_sum)\n",
        "    \n",
        "} else return(Imputed)\n",
        "  \n",
        "print(paste('No.of NA values in Normalized data:',sum(is.na(Normalized_data)== TRUE)))"
      ],
      "metadata": {
        "id": "BO6rWCp-hWgs",
        "outputId": "466ac626-885b-4b2a-b35b-2d17c14217d0",
        "colab": {
          "base_uri": "https://localhost:8080/"
        }
      },
      "execution_count": null,
      "outputs": [
        {
          "output_type": "stream",
          "name": "stdout",
          "text": [
            "Do you want to perform Normalization: Y/N:Y\n",
            "[1] \"No.of NA values in Normalized data: 0\"\n"
          ]
        }
      ]
    },
    {
      "cell_type": "code",
      "source": [
        "%%R\n",
        "write.csv(Normalized_data,file='Normalised_Quant_table.csv',row.names =TRUE) "
      ],
      "metadata": {
        "id": "pi8zd_FYhbFc"
      },
      "execution_count": null,
      "outputs": []
    },
    {
      "cell_type": "markdown",
      "source": [
        "In the following cell, we are checking once again if the rownames of our metadata is the same as the column names of our feature table. It should return **TRUE** and we are also checking the data sparsity before proceeding into any statistical tests. Data sparsity tells the amount of zeros we have in our normalized dataframe."
      ],
      "metadata": {
        "id": "FA2wIJuHhoFI"
      }
    },
    {
      "cell_type": "code",
      "source": [
        "%%R\n",
        "#Making sure the metadata rownames are identical to that of filenames in our featuretable in order to perform multivariate statistics\n",
        "md_Stats <- md[which(rownames(md)%in%colnames(Normalized_data)),]\n",
        "md_Stats <- md_Stats[match(colnames(Normalized_data),rownames(md_Stats)),]\n",
        "identical(colnames(Normalized_data),rownames(md_Stats))\n",
        "\n",
        "#Checking the data sparsity (amount of zeros in our data matrix):\n",
        "sum(Normalized_data == 0)/(dim(Normalized_data)[1]*dim(Normalized_data)[2])"
      ],
      "metadata": {
        "id": "b1SqxsVyhpjo",
        "outputId": "e39d1605-cad5-46a5-e058-435dbe4b4f56",
        "colab": {
          "base_uri": "https://localhost:8080/"
        }
      },
      "execution_count": null,
      "outputs": [
        {
          "output_type": "stream",
          "name": "stdout",
          "text": [
            "[1] 0\n"
          ]
        }
      ]
    },
    {
      "cell_type": "markdown",
      "source": [
        "In our case, there are no zeros as we have already imputed them all !! Let's do some statistics."
      ],
      "metadata": {
        "id": "mxanU8ahh0bC"
      }
    },
    {
      "cell_type": "markdown",
      "source": [
        "## Principal Coordinate analysis:"
      ],
      "metadata": {
        "id": "g7StZW3Dmeha"
      }
    },
    {
      "cell_type": "markdown",
      "source": [
        "Principal coordinates analysis (PCoA) is a metric multidimensional scaling (MDS) method that attempts to represent sample dissimilarities in a low-dimensional space. It converts a distance matrix consisting of pair-wise distances (dissimilarities) across samples into a 2- or 3-D graph ([Gower, 2005](https://doi.org/10.1002/0470011815.b2a13070)). Different distance metrics can be used to calculate dissimilarities among samples (e.g. Euclidean, Canberra, Minkowski). Performing a principal coordinates analysis using the Euclidean distance metric is the same as performing a principal components analysis (PCA). Selecting the best distance metric for a given dataset is part of the 'art' of data science.\n",
        "\n",
        "Within the metabolomics field the Euclidean, Bray-Curtis, Jaccard or Canberra distances are most commonly used. The Jaccard distance is an unweighted metric (presence/absence) whereas Euclidean, Bray-Curtis and Canberra distances take into account relative abundances (weighted). "
      ],
      "metadata": {
        "id": "KHYni1y7h5qp"
      }
    },
    {
      "cell_type": "markdown",
      "source": [
        "Calculating the pairwise distances across all samples using the Bray-Curtis distance metric:"
      ],
      "metadata": {
        "id": "Lsnf7t6RiC07"
      }
    },
    {
      "cell_type": "code",
      "source": [
        "%%R\n",
        "\n",
        "md_Stats <- md[which(rownames(md)%in%colnames(Normalized_data)),]\n",
        "md_Stats <- md_Stats[match(colnames(Normalized_data),rownames(md_Stats)),]\n",
        "\n",
        "dist_matrix <- bcdist(t(Normalized_data)) # transposed in order to compute the distance between the columns of a data matrix\n",
        "pcoa<- cmdscale(dist_matrix, eig = TRUE, x.ret=TRUE)\n",
        "pcoa.var.per <-round(pcoa$eig/sum(pcoa$eig)*100,1)\n",
        "pcoa.values <- pcoa$points"
      ],
      "metadata": {
        "id": "MhXc0ljKh21p"
      },
      "execution_count": null,
      "outputs": []
    },
    {
      "cell_type": "markdown",
      "source": [
        "Now that we have calculated our distance matrix, we can plot our PCoA analysis for any of the attributes in our metadata. Lets say, we choose the 2nd attribute \"sample type\" in the next cell, we can visualise the difference between the samples treated with and without antibiotics. "
      ],
      "metadata": {
        "id": "arAmwoH7n4hR"
      }
    },
    {
      "cell_type": "code",
      "source": [
        "%%R\n",
        "print(matrix(data=colnames(md_Stats),nrow=length(colnames(md_Stats))))\n",
        "at_int <- as.double(readline('Enter the index of your interested attribute for PCoA visualisation:'))\n",
        "\n",
        "flush.console()  \n",
        "Sys.sleep(0.2)\n",
        "\n",
        "#PCoA plot visualisation:\n",
        "pcoa.data <- data.frame(md_Stats[,at_int],\n",
        "                        X=pcoa.values[,1],\n",
        "                        Y=pcoa.values[,2])\n",
        "\n",
        "PCoA_plot <- ggplot(pcoa.data, aes(x=X, y=Y, col= as.factor(md_Stats[,at_int]))) + \n",
        "  geom_point(size=4,alpha=0.8)  +\n",
        "  ggtitle(label=\"MDS plot using Bray-Cutis Distance\") +\n",
        "  xlab(paste0(\"MDS1 : \",pcoa.var.per[1],\"%\",sep=\"\")) + \n",
        "  ylab(paste0(\"MDS2 : \",pcoa.var.per[2],\"%\",sep=\"\")) + \n",
        "  labs(color = colnames(md_Stats)[at_int]) + \n",
        "  theme(plot.title = element_text(hjust = 0.5)) \n",
        "\n",
        "ggsave(PCoA_plot,filename=\"PCoA-MDS Plot of SampleType_data Imputed and Normalized.png\", width = 10, height = 8)\n",
        "PCoA_plot"
      ],
      "metadata": {
        "id": "qWVF546Fn5bZ",
        "outputId": "6ee039e1-5d33-4eab-81d7-96253fdd1bfa",
        "colab": {
          "base_uri": "https://localhost:8080/",
          "height": 648
        }
      },
      "execution_count": null,
      "outputs": [
        {
          "name": "stdout",
          "output_type": "stream",
          "text": [
            "     [,1]                  \n",
            "[1,] \"ATTRIBUTE_species\"   \n",
            "[2,] \"ATTRIBUTE_SampleType\"\n",
            "[3,] \"ATTRIBUTE_timepoint\" \n",
            "[4,] \"ATTRIBUTE_hours\"     \n",
            "[5,] \"ATTRIBUTE_mins\"      \n",
            "[6,] \"ATTRIBUTE_replicates\"\n",
            "Enter the index of your interested attribute for PCoA visualisation:2\n"
          ]
        },
        {
          "output_type": "display_data",
          "data": {
            "image/png": "[encoded data removed]"
          },
          "metadata": {}
        }
      ]
    },
    {
      "cell_type": "markdown",
      "source": [
        "You can re-run the above cell with other attributes. But, when you try to visualise with attributes such as \"Timepoint\" or \"hours\", you cannot infer any trend. In such cases, we can subset our data and look at a particular condition.<br> Let us look at only the treated samples!!"
      ],
      "metadata": {
        "id": "UwyEz-Saobfh"
      }
    },
    {
      "cell_type": "code",
      "source": [
        "%%R\n",
        "md_Stats <- md[which(rownames(md)%in%colnames(Normalized_data)),]\n",
        "md_Stats <- md_Stats[match(colnames(Normalized_data),rownames(md_Stats)),]\n",
        "\n",
        "#Metadata subsetting based on condition:\n",
        "print(matrix(data=colnames(md_Stats),nrow=length(colnames(md_Stats))))\n",
        "Condition <- as.double(unlist(strsplit(readline(\"Enter the IDs of interested attributes separated by commas:\"),split=\",\")))\n",
        "for(i in 1:length(Condition)){\n",
        "  #Shows the different levels within each selected condition:\n",
        "  Levels_Cdtn <- levels(as.factor(md_Stats[,Condition[i]]))\n",
        "  print(matrix(Levels_Cdtn,length(Levels_Cdtn)))\n",
        "  \n",
        "  #These lines are not needed in R console, but in Jupyter Notebook to get the previous print statement working\n",
        "  flush.console()  \n",
        "  Sys.sleep(0.2)\n",
        "  \n",
        "  #Among the shown levels of an attribute, select the ones to keep\n",
        "  Cdtn <- as.double(unlist(strsplit(readline(\"Enter the IDs of condition(s) you want to KEEP (separated by commas):\"), split=',')))\n",
        "  Levels_Cdtn[Cdtn]\n",
        "  \n",
        "  #Selecting only rows in meta_filtered that match the condition\n",
        "  md_Stats <- md_Stats[(md_Stats[,Condition[i]] == Levels_Cdtn[Cdtn]),]\n",
        "}"
      ],
      "metadata": {
        "id": "6HoJv_PAoezq",
        "outputId": "f82a308c-ab77-4f89-dd79-d8c038c93791",
        "colab": {
          "base_uri": "https://localhost:8080/"
        }
      },
      "execution_count": null,
      "outputs": [
        {
          "name": "stdout",
          "output_type": "stream",
          "text": [
            "     [,1]                  \n",
            "[1,] \"ATTRIBUTE_species\"   \n",
            "[2,] \"ATTRIBUTE_SampleType\"\n",
            "[3,] \"ATTRIBUTE_timepoint\" \n",
            "[4,] \"ATTRIBUTE_hours\"     \n",
            "[5,] \"ATTRIBUTE_mins\"      \n",
            "[6,] \"ATTRIBUTE_replicates\"\n",
            "Enter the IDs of interested attributes separated by commas:2\n",
            "     [,1]               \n",
            "[1,] \"With_Treatment\"   \n",
            "[2,] \"Without_Treatment\"\n",
            "Enter the IDs of condition(s) you want to KEEP (separated by commas):1,2\n"
          ]
        }
      ]
    },
    {
      "cell_type": "code",
      "source": [
        "%%R\n",
        "#PCoA calculation for the subset data\n",
        "md_data <- Normalized_data[,which(colnames(Normalized_data)%in%rownames(md_Stats))] # the corresponding column files for the filtered metadata is picked from the normalized data\n",
        "\n",
        "dist_matrix <- as.matrix(bcdist(t(md_data))) # transposed in order to compute the distance between the columns of a data matrix\n",
        "pcoa<- cmdscale(dist_matrix, eig = TRUE, x.ret=TRUE)\n",
        "pcoa.var.per <-round(pcoa$eig/sum(pcoa$eig)*100,1)\n",
        "pcoa.values <- pcoa$points"
      ],
      "metadata": {
        "id": "vULsOuHEolhq"
      },
      "execution_count": null,
      "outputs": []
    },
    {
      "cell_type": "markdown",
      "source": [
        "Now you can try to visualise the plot for different attributes and see if you can infer something from the plot. (Spoiler alert: You do observe a trend with attributes: Timepoint, hours and mins)"
      ],
      "metadata": {
        "id": "wCPVSYPuopwo"
      }
    },
    {
      "cell_type": "code",
      "source": [
        "%%R\n",
        "print(matrix(data=colnames(md_Stats),nrow=length(colnames(md_Stats))))\n",
        "at_int <- as.double(readline('Enter the index of your interested attribute for PCoA visualisation:'))\n",
        "\n",
        "flush.console()  \n",
        "Sys.sleep(0.2)\n",
        "\n",
        "#PCoA plot:\n",
        "pcoa.data <- data.frame(md_Stats[,at_int],\n",
        "                        X=pcoa.values[,1],\n",
        "                        Y=pcoa.values[,2])\n",
        "\n",
        "PCoA_plot <- ggplot(pcoa.data, aes(x=X, y=Y, col= as.factor(md_Stats[,at_int]))) + \n",
        "  geom_point(size=4,alpha=0.8)  +\n",
        "  ggtitle(label=\"MDS plot using Bray-Cutis Distance\") +\n",
        "  xlab(paste0(\"MDS1 : \",pcoa.var.per[1],\"%\",sep=\"\")) + \n",
        "  ylab(paste0(\"MDS2 : \",pcoa.var.per[2],\"%\",sep=\"\")) + \n",
        "  labs(color = 'Timepoint') + \n",
        "  theme(plot.title = element_text(hjust = 0.5)) \n",
        "\n",
        "ggsave(PCoA_plot,filename=\"PCoA-MDS Plot of timepoint_data Imputed and Normalized.png\", width = 10, height = 8)\n",
        "PCoA_plot"
      ],
      "metadata": {
        "id": "Z9h21IusoqzR",
        "outputId": "1920d1ea-8977-40e9-edf2-1a7bc5edc818",
        "colab": {
          "base_uri": "https://localhost:8080/",
          "height": 648
        }
      },
      "execution_count": null,
      "outputs": [
        {
          "name": "stdout",
          "output_type": "stream",
          "text": [
            "     [,1]                  \n",
            "[1,] \"ATTRIBUTE_species\"   \n",
            "[2,] \"ATTRIBUTE_SampleType\"\n",
            "[3,] \"ATTRIBUTE_timepoint\" \n",
            "[4,] \"ATTRIBUTE_hours\"     \n",
            "[5,] \"ATTRIBUTE_mins\"      \n",
            "[6,] \"ATTRIBUTE_replicates\"\n",
            "Enter the index of your interested attribute for PCoA visualisation:3\n"
          ]
        },
        {
          "output_type": "display_data",
          "data": {
            "image/png": "[encoded data removed]"
          },
          "metadata": {}
        }
      ]
    },
    {
      "cell_type": "markdown",
      "source": [
        "## Permutational multivariate analysis of variance (PERMANOVA):\n",
        "\n",
        "PERMANOVA is a non-parametric method for multivariate analysis of variance, where P-values are obtained using permutations. The metric was originally developed within the field of ecology ([Anderson, 2008](https://onlinelibrary.wiley.com/doi/10.1111/j.1442-9993.2001.01070.pp.x)) but is today widely used in other fields, including the microbiome and metabolomics field. PERMANOVA is used to compare groups of samples and tests whether the centroid and/or the spread of the samples is different between the groups. \n",
        "\n"
      ],
      "metadata": {
        "id": "YhWHBPyvrUUw"
      }
    },
    {
      "cell_type": "markdown",
      "source": [
        "\n",
        "\n",
        "The adonis2() function in the vegan package can be used to perform a PERMANOVA. The input is any dissimilarity matrix and the test-statistic retrieved is a multivariate analogue to Fisher's F-ratio as well as an R2 value (Adonis R2). Here, we have used the same distance matrix we calculated for our PCoA."
      ],
      "metadata": {
        "id": "aW-p9LhKrpoY"
      }
    },
    {
      "cell_type": "code",
      "source": [
        "%%R\n",
        "adonres <- adonis2(dist_matrix  ~ md_Stats[,at_int],permutations = 999, distance='bray')\n",
        "rownames(adonres)[1] <- colnames(md_Stats)[at_int]\n",
        "adonres"
      ],
      "metadata": {
        "id": "mtkKR7-4rr_Z",
        "outputId": "f8bdb4f7-e8d6-45d0-bd77-997c53bf6d56",
        "colab": {
          "base_uri": "https://localhost:8080/"
        }
      },
      "execution_count": null,
      "outputs": [
        {
          "output_type": "stream",
          "name": "stdout",
          "text": [
            "Permutation test for adonis under reduced model\n",
            "Terms added sequentially (first to last)\n",
            "Permutation: free\n",
            "Number of permutations: 999\n",
            "\n",
            "adonis2(formula = dist_matrix ~ md_Stats[, at_int], permutations = 999, distance = \"bray\")\n",
            "                    Df SumOfSqs      R2      F Pr(>F)  \n",
            "ATTRIBUTE_timepoint  1  0.16265 0.14101 2.4623  0.046 *\n",
            "Residual            15  0.99085 0.85899                \n",
            "Total               16  1.15351 1.00000                \n",
            "---\n",
            "Signif. codes:  0 ‘***’ 0.001 ‘**’ 0.01 ‘*’ 0.05 ‘.’ 0.1 ‘ ’ 1\n"
          ]
        }
      ]
    },
    {
      "cell_type": "markdown",
      "source": [
        "The PERMANOVA test result tells us that, for P < 0.05, there is a significant difference amng the different conditions within the given attribute (significant variation expressed as the percentage of  Adonis R2)."
      ],
      "metadata": {
        "id": "qU1aY1o8r5-h"
      }
    },
    {
      "cell_type": "code",
      "source": [
        "%%R\n",
        "PCoA_plot + labs(subtitle = paste0(\"p=\",round(adonres$'Pr(>F)'[1],4),', ' ,\"adonis-R2=\",round(adonres$'R2'[1],4)))"
      ],
      "metadata": {
        "id": "a9WDtYvYr7af",
        "outputId": "91c70e34-48dd-4e4d-a9c5-987866640f2d",
        "colab": {
          "base_uri": "https://localhost:8080/",
          "height": 497
        }
      },
      "execution_count": null,
      "outputs": [
        {
          "output_type": "display_data",
          "data": {
            "image/png": "[encoded data removed]"
          },
          "metadata": {}
        }
      ]
    },
    {
      "cell_type": "code",
      "source": [
        "%%R\n",
        "ggsave(PCoA_plot,filename=\"PCoA-MDS Plot of .png\", width = 10, height = 8)"
      ],
      "metadata": {
        "id": "pLNiETM6sBzH"
      },
      "execution_count": null,
      "outputs": []
    },
    {
      "cell_type": "markdown",
      "source": [
        "## Complementary analysis\n",
        "\n",
        "\n",
        "\n",
        "1.   Heatmap \n",
        "2.   PLSDA\n",
        "3.   ROC analysis\n",
        "\n",
        "\n",
        "\n",
        "\n"
      ],
      "metadata": {
        "id": "LQqSBxHl5PUW"
      }
    },
    {
      "cell_type": "code",
      "source": [
        "%%R\n",
        "## Installing require package\n",
        "install.packages(\"devtools\")\n",
        "install.packages(\"ComplexHeatmap\")\n",
        "install.packages(\"circlize\")\n",
        "install.packages(\"tidyverse\")\n",
        "install.packages(\"dplyr\")\n",
        "install.packages(\"pheatmap\")\n",
        "install.packages(\"ggpubr\")\n",
        "install.packages(\"mvnormtest\")\n",
        "install.packages(\"vroom\")\n",
        "install.packages('magick')\n",
        "install.packages('viridis')"
      ],
      "metadata": {
        "id": "q_NXLIFd5Oa1"
      },
      "execution_count": null,
      "outputs": []
    },
    {
      "cell_type": "code",
      "source": [
        "%load_ext rpy2.ipython"
      ],
      "metadata": {
        "colab": {
          "base_uri": "https://localhost:8080/"
        },
        "id": "Yi-vLeSD51sf",
        "outputId": "7489a232-2e91-4102-ca57-e2772b0a3012"
      },
      "execution_count": null,
      "outputs": [
        {
          "output_type": "stream",
          "name": "stdout",
          "text": [
            "The rpy2.ipython extension is already loaded. To reload it, use:\n",
            "  %reload_ext rpy2.ipython\n"
          ]
        }
      ]
    },
    {
      "cell_type": "code",
      "source": [
        "%%R\n",
        "require(\"devtools\")\n",
        "require(\"ComplexHeatmap\")\n",
        "require(\"circlize\")\n",
        "require(\"tidyverse\")\n",
        "require(\"dplyr\")\n",
        "require((\"pheatmap\")\n",
        "require(\"ggpubr\")\n",
        "require(\"vroom\")\n",
        "require('magick')\n",
        "#require('viridis')"
      ],
      "metadata": {
        "id": "jWrB6fEkP7FH"
      },
      "execution_count": null,
      "outputs": []
    },
    {
      "cell_type": "markdown",
      "source": [
        "# Load table normalized  "
      ],
      "metadata": {
        "id": "KjZQ1VHGBlz3"
      }
    },
    {
      "cell_type": "code",
      "source": [
        "%%R\n",
        "dat_POS <- as.data.frame(read.csv(file = \"data/20220627_disturb_MZmine_POS_MS1-MS2_lowFiltered.csv\", row.names = 1))\n",
        "dat_NEG <- as.data.frame(read.csv(file = \"data/20220627_disturb_MZmine_POS_MS1-MS2_lowFiltered.csv\", row.names = 1))"
      ],
      "metadata": {
        "id": "78U-6xY1B-G-"
      },
      "execution_count": null,
      "outputs": []
    }
  ]
}