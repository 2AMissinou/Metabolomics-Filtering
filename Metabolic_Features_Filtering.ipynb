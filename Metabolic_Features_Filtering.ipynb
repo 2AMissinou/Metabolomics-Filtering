{
  "nbformat": 4,
  "nbformat_minor": 0,
  "metadata": {
    "colab": {
      "name": "Metabolic_Features_Filtering.ipynb",
      "provenance": [],
      "authorship_tag": "ABX9TyMxJG/rmT9t8MXXYqoJ779U",
      "include_colab_link": true
    },
    "kernelspec": {
      "name": "python3",
      "display_name": "Python 3"
    },
    "language_info": {
      "name": "python"
    }
  },
  "cells": [
    {
      "cell_type": "markdown",
      "metadata": {
        "id": "view-in-github",
        "colab_type": "text"
      },
      "source": [
        "<a href=\"https://colab.research.google.com/github/2AMissinou/Metabolomics-Filtering/blob/main/Metabolic_Features_Filtering.ipynb\" target=\"_parent\"><img src=\"https://colab.research.google.com/assets/colab-badge.svg\" alt=\"Open In Colab\"/></a>"
      ]
    },
    {
      "cell_type": "markdown",
      "source": [
        "## LC-MS data Clean up\n",
        "Authors: Anani Amegan MISSINOU (anani.a.missinou@gmai.com) <br>\n",
        "Input file format: .csv files or .txt files\n",
        "Outputs: .csv files <br>\n",
        "Dependencies: ggplot2, dplyr, ecodist, vegan, svglite <br>"
      ],
      "metadata": {
        "id": "C6CtQzMYXtrB"
      }
    },
    {
      "cell_type": "code",
      "execution_count": 2,
      "metadata": {
        "id": "sKAlgJUoXqmu"
      },
      "outputs": [],
      "source": [
        "# Run rmagic by executing this command\n",
        "%load_ext rpy2.ipython"
      ]
    },
    {
      "cell_type": "code",
      "source": [
        "#After that, every time you want to use R, add %%R in the beginning of each cell\n",
        "%%R \n",
        "R.version.string\n",
        "#print(installed.packages())"
      ],
      "metadata": {
        "colab": {
          "base_uri": "https://localhost:8080/"
        },
        "id": "f3_COslJYgMw",
        "outputId": "691442e9-723e-47cf-b246-c3fb4181fc95"
      },
      "execution_count": 3,
      "outputs": [
        {
          "output_type": "stream",
          "name": "stdout",
          "text": [
            "[1] \"R version 4.2.0 (2022-04-22)\"\n"
          ]
        }
      ]
    },
    {
      "cell_type": "code",
      "source": [
        "%%R\n",
        "#installing and calling the necessary packages:\n",
        "install.packages(\"ggplot2\")\n",
        "install.packages(\"dplyr\")\n",
        "install.packages(\"ecodist\") #for PCoA using Bray Curtis distance\n",
        "install.packages(\"vegan\") #for PermANOVA\n",
        "install.packages(\"svglite\") # for saving ggplots as svg files"
      ],
      "metadata": {
        "id": "knFzEHFfY0Mf"
      },
      "execution_count": null,
      "outputs": []
    },
    {
      "cell_type": "code",
      "execution_count": null,
      "metadata": {
        "id": "-Rym0mXNMZ7B"
      },
      "outputs": [],
      "source": [
        "%%R\n",
        "require(\"ggplot2\")\n",
        "require(\"dplyr\")\n",
        "require(\"ecodist\")\n",
        "require(\"vegan\")\n",
        "require(\"svglite\")"
      ]
    }
  ]
}