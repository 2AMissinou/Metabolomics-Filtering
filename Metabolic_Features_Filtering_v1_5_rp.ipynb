{
  "cells": [
    {
      "cell_type": "markdown",
      "metadata": {
        "id": "view-in-github",
        "colab_type": "text"
      },
      "source": [
        "<a href=\"https://colab.research.google.com/github/2AMissinou/Metabolomics-Filtering/blob/main/Metabolic_Features_Filtering_v1_5_rp.ipynb\" target=\"_parent\"><img src=\"https://colab.research.google.com/assets/colab-badge.svg\" alt=\"Open In Colab\"/></a>"
      ]
    },
    {
      "cell_type": "markdown",
      "id": "55766981",
      "metadata": {
        "id": "55766981"
      },
      "source": [
        "# **<font color='\tdodgerblue'> Metabolic features Clean up and Multivariate analysis **<font>\n",
        "\n",
        "---\n",
        "\n",
        "Authors: Anani Amegan Missinou (anani.a.missinou@gmail.com) <br>\n",
        "Input file format: .csv files or .txt files <br>\n",
        "Outputs: .csv files  <br>\n",
        "Dependencies: ggplot2, dplyr, ecodist, vegan, svglite\\"
      ]
    },
    {
      "cell_type": "markdown",
      "source": [
        "## Use R and Python code Run rmagic by executing this command %load_ext rpy2. ipython.\n",
        "\n",
        "\n",
        "1.   Start rmagic by executing this in a cell: %load_ext rpy2. ipython. \n",
        "2.   Use %%R to execute cell magic. After that, every time you want to use R, add %%R in the beginning of each cell before code running."
      ],
      "metadata": {
        "id": "bDGe7xtpF8eU"
      },
      "id": "bDGe7xtpF8eU"
    },
    {
      "cell_type": "code",
      "execution_count": null,
      "id": "BvfG-ihq2PZP",
      "metadata": {
        "id": "BvfG-ihq2PZP"
      },
      "outputs": [],
      "source": [
        "#installing and calling the necessary packages:\n",
        "install.packages(\"ggplot2\")\n",
        "install.packages(\"dplyr\")\n",
        "install.packages(\"ecodist\") #for PCoA using Bray Curtis distance\n",
        "install.packages(\"vegan\") #for PermANOVA\n",
        "install.packages(\"svglite\") # for saving ggplots as svg files"
      ]
    },
    {
      "cell_type": "code",
      "execution_count": null,
      "id": "-Rym0mXNMZ7B",
      "metadata": {
        "id": "-Rym0mXNMZ7B"
      },
      "outputs": [],
      "source": [
        "require(\"ggplot2\")\n",
        "require(\"dplyr\")\n",
        "require(\"ecodist\")\n",
        "require(\"vegan\")\n",
        "require(\"svglite\")"
      ]
    },
    {
      "cell_type": "markdown",
      "id": "863a44d4",
      "metadata": {
        "id": "863a44d4"
      },
      "source": [
        "## Setting a local working directory and creating an automatic result directory:\n",
        "Works well with Jupyter Notebook. If you are working with Jupyter Notebook, you can simply copy the folder path from your local computer to the next cell output line. It will be set as your working directory <br> \n",
        "For ex: D:\\User\\Project\\Test_Data <br>\n",
        "<br>\n",
        "For Google Collab, we can upload the necessary files into a new folder using the 'Files' icon on the left and set the folder as working directory. And all the ouput files will be saved here as well and you need to download them finally into your local computer"
      ]
    },
    {
      "cell_type": "code",
      "execution_count": null,
      "id": "4734f4b6",
      "metadata": {
        "id": "4734f4b6"
      },
      "outputs": [],
      "source": [
        "# setting the current directory as the working directory\n",
        "Directory <- normalizePath(readline(\"Enter the path of the folder with input files: \"),\"/\",mustWork=FALSE)\n",
        "setwd(Directory)"
      ]
    },
    {
      "cell_type": "code",
      "execution_count": 5,
      "id": "og4ryyATcSju",
      "metadata": {
        "id": "og4ryyATcSju",
        "colab": {
          "base_uri": "https://localhost:8080/",
          "height": 34
        },
        "outputId": "ccecb48a-73df-4589-e5f3-c784fe6bc833"
      },
      "outputs": [
        {
          "output_type": "display_data",
          "data": {
            "text/html": [
              "'/content'"
            ],
            "text/markdown": "'/content'",
            "text/latex": "'/content'",
            "text/plain": [
              "[1] \"/content\""
            ]
          },
          "metadata": {}
        }
      ],
      "source": [
        "getwd()"
      ]
    },
    {
      "cell_type": "code",
      "execution_count": 6,
      "id": "dd010938",
      "metadata": {
        "id": "dd010938",
        "colab": {
          "base_uri": "https://localhost:8080/"
        },
        "outputId": "7ee88db5-b8da-497b-bf5f-82fb2d81dfb9"
      },
      "outputs": [
        {
          "output_type": "stream",
          "name": "stdout",
          "text": [
            "[1] \"anscombe.json\"                \"california_housing_test.csv\" \n",
            "[3] \"california_housing_train.csv\" \"mnist_test.csv\"              \n",
            "[5] \"mnist_train_small.csv\"        \"README.md\"                   \n"
          ]
        }
      ],
      "source": [
        "# Getting all the files in the folder\n",
        "dirs <- dir(path=paste(getwd(), sep=\"\"), full.names=TRUE, recursive=TRUE)\n",
        "folders <- unique(dirname(dirs))\n",
        "files <- list.files(folders, full.names=TRUE)\n",
        "files_1 <- basename((files))\n",
        "files_2 <- dirname((files))\n",
        "# Creating a Result folder\n",
        "dir.create(path=paste(files_2[[1]], \"_Results\", sep=\"\"), showWarnings = TRUE)\n",
        "fName <-paste(files_2[[1]], \"_Results\", sep=\"\")\n",
        "\n",
        "print(files_1)"
      ]
    },
    {
      "cell_type": "markdown",
      "id": "55ab1133",
      "metadata": {
        "id": "55ab1133"
      },
      "source": [
        "**<font color='red'> In the following line, enter the required file ID numbers separated by commas. For example as: 1,2,3 </font>**"
      ]
    },
    {
      "cell_type": "code",
      "execution_count": null,
      "id": "45d07e82",
      "metadata": {
        "id": "45d07e82"
      },
      "outputs": [],
      "source": [
        "input <- as.double(unlist(strsplit(readline(\"Specify the file index of gapfilled & non-gapfilled feature-file, metadata:\"), split=\",\")))\n",
        "\n",
        "#Gets the extension of each file. Ex:csv\n",
        "pattern <- c()\n",
        "for (i in files_1){\n",
        "  sep_file <- substr(i, nchar(i)-2,nchar(i))\n",
        "  pattern <- rbind(pattern,sep_file)\n",
        "}\n",
        "#pattern\n",
        "\n",
        "ft <- read.csv(files_1[input[1]],sep = ifelse(pattern[input[1]]!=\"csv\",\"\\t\",\",\"), header=TRUE,check.names = FALSE) # By applying 'row.names = 1', the 1st column 'ID' becomes the row names\n",
        "nft<- read.csv(files_1[input[2]],sep=ifelse(pattern[input[2]]!=\"csv\",\"\\t\",\",\"), header = TRUE,check.names = FALSE)\n",
        "md <-read.csv(files_1[input[3]], sep = ifelse(pattern[input[3]]!=\"csv\",\"\\t\",\",\"), header=TRUE,check.names = FALSE)"
      ]
    },
    {
      "cell_type": "markdown",
      "id": "3a31eafc",
      "metadata": {
        "id": "3a31eafc"
      },
      "source": [
        "## Reading the input data using URL (from Github):\n",
        "Alternatively, we can also directly pull the data files from our Functional Metabolomics Github page:"
      ]
    },
    {
      "cell_type": "code",
      "execution_count": null,
      "id": "7988ffd6",
      "metadata": {
        "id": "7988ffd6"
      },
      "outputs": [],
      "source": [
        "## Non-gap filled\n",
        "nft_url <- 'https://raw.githubusercontent.com/Functional-Metabolomics-Lab/CMFI_Seminar_Multivariate_Statistics/main/Test_Data/20220716_Xenobiotic_metabolism_non_gapfilled_quant_Bsub_quant.csv'\n",
        "## Gap filled\n",
        "ft_url <- 'https://raw.githubusercontent.com/Functional-Metabolomics-Lab/CMFI_Seminar_Multivariate_Statistics/main/Test_Data/20220716_Xenobiotic_metabolism_gapfilled_quant_Bsub.csv'\n",
        "md_url <- 'https://raw.githubusercontent.com/Functional-Metabolomics-Lab/CMFI_Seminar_Multivariate_Statistics/main/Test_Data/20220716_Xenobiotic_Metabolism_metadata_Bsub.txt'"
      ]
    },
    {
      "cell_type": "code",
      "execution_count": 9,
      "id": "3ad9e910",
      "metadata": {
        "id": "3ad9e910"
      },
      "outputs": [],
      "source": [
        "nft <- read.csv(nft_url, header = T, check.names = F)\n",
        "ft <- read.csv(ft_url, header = T, check.names = F)\n",
        "md <- read.csv(md_url, header = T, check.names = F, sep = '\\t')"
      ]
    },
    {
      "cell_type": "markdown",
      "id": "4f12e24c",
      "metadata": {
        "id": "4f12e24c"
      },
      "source": [
        "Lets check if the data has been read correclty!!"
      ]
    },
    {
      "cell_type": "code",
      "execution_count": null,
      "id": "429ff705",
      "metadata": {
        "id": "429ff705"
      },
      "outputs": [],
      "source": [
        "head(ft)\n",
        "dim(ft)"
      ]
    },
    {
      "cell_type": "code",
      "execution_count": null,
      "id": "864b7231",
      "metadata": {
        "id": "864b7231"
      },
      "outputs": [],
      "source": [
        "head(nft)\n",
        "dim(nft)"
      ]
    },
    {
      "cell_type": "code",
      "execution_count": 12,
      "id": "a7bf0865",
      "metadata": {
        "colab": {
          "base_uri": "https://localhost:8080/",
          "height": 428
        },
        "id": "a7bf0865",
        "outputId": "c5a90d5c-a88a-4585-958c-943a93af8aaa"
      },
      "outputs": [
        {
          "output_type": "display_data",
          "data": {
            "text/html": [
              "<table class=\"dataframe\">\n",
              "<caption>A data.frame: 6 × 7</caption>\n",
              "<thead>\n",
              "\t<tr><th></th><th scope=col>filename</th><th scope=col>ATTRIBUTE_species</th><th scope=col>ATTRIBUTE_SampleType</th><th scope=col>ATTRIBUTE_timepoint</th><th scope=col>ATTRIBUTE_hours</th><th scope=col>ATTRIBUTE_mins</th><th scope=col>ATTRIBUTE_replicates</th></tr>\n",
              "\t<tr><th></th><th scope=col>&lt;chr&gt;</th><th scope=col>&lt;chr&gt;</th><th scope=col>&lt;chr&gt;</th><th scope=col>&lt;int&gt;</th><th scope=col>&lt;dbl&gt;</th><th scope=col>&lt;int&gt;</th><th scope=col>&lt;int&gt;</th></tr>\n",
              "</thead>\n",
              "<tbody>\n",
              "\t<tr><th scope=row>1</th><td>t0_BS_C.mzML Peak area</td><td>B.subtilis</td><td>Without_Treatment</td><td>0</td><td>-0.1666667</td><td>-10</td><td>0</td></tr>\n",
              "\t<tr><th scope=row>2</th><td>t0_BS_1.mzML Peak area</td><td>B.subtilis</td><td>Without_Treatment</td><td>0</td><td>-0.1666667</td><td>-10</td><td>1</td></tr>\n",
              "\t<tr><th scope=row>3</th><td>t0_BS_2.mzML Peak area</td><td>B.subtilis</td><td>Without_Treatment</td><td>0</td><td>-0.1666667</td><td>-10</td><td>2</td></tr>\n",
              "\t<tr><th scope=row>4</th><td>t0_BS_3.mzML Peak area</td><td>B.subtilis</td><td>Without_Treatment</td><td>0</td><td>-0.1666667</td><td>-10</td><td>3</td></tr>\n",
              "\t<tr><th scope=row>5</th><td>t1_BS_C.mzML Peak area</td><td>B.subtilis</td><td>Without_Treatment</td><td>1</td><td> 0.0000000</td><td>  0</td><td>0</td></tr>\n",
              "\t<tr><th scope=row>6</th><td>t1_BS_1.mzML Peak area</td><td>B.subtilis</td><td>With_Treatment   </td><td>1</td><td> 0.0000000</td><td>  0</td><td>1</td></tr>\n",
              "</tbody>\n",
              "</table>\n"
            ],
            "text/markdown": "\nA data.frame: 6 × 7\n\n| <!--/--> | filename &lt;chr&gt; | ATTRIBUTE_species &lt;chr&gt; | ATTRIBUTE_SampleType &lt;chr&gt; | ATTRIBUTE_timepoint &lt;int&gt; | ATTRIBUTE_hours &lt;dbl&gt; | ATTRIBUTE_mins &lt;int&gt; | ATTRIBUTE_replicates &lt;int&gt; |\n|---|---|---|---|---|---|---|---|\n| 1 | t0_BS_C.mzML Peak area | B.subtilis | Without_Treatment | 0 | -0.1666667 | -10 | 0 |\n| 2 | t0_BS_1.mzML Peak area | B.subtilis | Without_Treatment | 0 | -0.1666667 | -10 | 1 |\n| 3 | t0_BS_2.mzML Peak area | B.subtilis | Without_Treatment | 0 | -0.1666667 | -10 | 2 |\n| 4 | t0_BS_3.mzML Peak area | B.subtilis | Without_Treatment | 0 | -0.1666667 | -10 | 3 |\n| 5 | t1_BS_C.mzML Peak area | B.subtilis | Without_Treatment | 1 |  0.0000000 |   0 | 0 |\n| 6 | t1_BS_1.mzML Peak area | B.subtilis | With_Treatment    | 1 |  0.0000000 |   0 | 1 |\n\n",
            "text/latex": "A data.frame: 6 × 7\n\\begin{tabular}{r|lllllll}\n  & filename & ATTRIBUTE\\_species & ATTRIBUTE\\_SampleType & ATTRIBUTE\\_timepoint & ATTRIBUTE\\_hours & ATTRIBUTE\\_mins & ATTRIBUTE\\_replicates\\\\\n  & <chr> & <chr> & <chr> & <int> & <dbl> & <int> & <int>\\\\\n\\hline\n\t1 & t0\\_BS\\_C.mzML Peak area & B.subtilis & Without\\_Treatment & 0 & -0.1666667 & -10 & 0\\\\\n\t2 & t0\\_BS\\_1.mzML Peak area & B.subtilis & Without\\_Treatment & 0 & -0.1666667 & -10 & 1\\\\\n\t3 & t0\\_BS\\_2.mzML Peak area & B.subtilis & Without\\_Treatment & 0 & -0.1666667 & -10 & 2\\\\\n\t4 & t0\\_BS\\_3.mzML Peak area & B.subtilis & Without\\_Treatment & 0 & -0.1666667 & -10 & 3\\\\\n\t5 & t1\\_BS\\_C.mzML Peak area & B.subtilis & Without\\_Treatment & 1 &  0.0000000 &   0 & 0\\\\\n\t6 & t1\\_BS\\_1.mzML Peak area & B.subtilis & With\\_Treatment    & 1 &  0.0000000 &   0 & 1\\\\\n\\end{tabular}\n",
            "text/plain": [
              "  filename               ATTRIBUTE_species ATTRIBUTE_SampleType\n",
              "1 t0_BS_C.mzML Peak area B.subtilis        Without_Treatment   \n",
              "2 t0_BS_1.mzML Peak area B.subtilis        Without_Treatment   \n",
              "3 t0_BS_2.mzML Peak area B.subtilis        Without_Treatment   \n",
              "4 t0_BS_3.mzML Peak area B.subtilis        Without_Treatment   \n",
              "5 t1_BS_C.mzML Peak area B.subtilis        Without_Treatment   \n",
              "6 t1_BS_1.mzML Peak area B.subtilis        With_Treatment      \n",
              "  ATTRIBUTE_timepoint ATTRIBUTE_hours ATTRIBUTE_mins ATTRIBUTE_replicates\n",
              "1 0                   -0.1666667      -10            0                   \n",
              "2 0                   -0.1666667      -10            1                   \n",
              "3 0                   -0.1666667      -10            2                   \n",
              "4 0                   -0.1666667      -10            3                   \n",
              "5 1                    0.0000000        0            0                   \n",
              "6 1                    0.0000000        0            1                   "
            ]
          },
          "metadata": {}
        },
        {
          "output_type": "display_data",
          "data": {
            "text/html": [
              "<style>\n",
              ".list-inline {list-style: none; margin:0; padding: 0}\n",
              ".list-inline>li {display: inline-block}\n",
              ".list-inline>li:not(:last-child)::after {content: \"\\00b7\"; padding: 0 .5ex}\n",
              "</style>\n",
              "<ol class=list-inline><li>42</li><li>7</li></ol>\n"
            ],
            "text/markdown": "1. 42\n2. 7\n\n\n",
            "text/latex": "\\begin{enumerate*}\n\\item 42\n\\item 7\n\\end{enumerate*}\n",
            "text/plain": [
              "[1] 42  7"
            ]
          },
          "metadata": {}
        }
      ],
      "source": [
        "head(md)\n",
        "dim(md)"
      ]
    },
    {
      "cell_type": "markdown",
      "id": "f19073e0",
      "metadata": {
        "id": "f19073e0"
      },
      "source": [
        "Trying to bring the feature table and metadata in the correct format such as the rownames of metadata and column names of feature table are the same. They both are the file names and they need to be same as from now on, we will call the columns in our feature table based on our metadata information. Thus, using the metadata, the user can filter their data easily. You can also directly deal with your feature table without metadata by getting your hands dirty with some coding!! But having a metadata improves the user-experience greatly."
      ]
    },
    {
      "cell_type": "code",
      "execution_count": 13,
      "id": "25ffd93c",
      "metadata": {
        "id": "25ffd93c"
      },
      "outputs": [],
      "source": [
        "#Removing Peak area extensions\n",
        "colnames(ft) <- gsub(' Peak area','',colnames(ft))\n",
        "colnames(nft) <- gsub(' Peak area','',colnames(nft))\n",
        "md$filename<- gsub(' Peak area','',md$filename)\n",
        "\n",
        "#Removing if any NA columns present in the md file\n",
        "ft <- ft[,colSums(is.na(ft))<nrow(ft)]\n",
        "nft <- nft[,colSums(is.na(nft))<nrow(nft)]\n",
        "md <- md[,colSums(is.na(md))<nrow(md)]\n",
        "\n",
        "#Changing the row names of the files\n",
        "rownames(md) <- md$filename\n",
        "md <- md[,-1]\n",
        "rownames(ft) <- paste(ft$'row ID',round(ft$'row m/z',digits = 3),round(ft$'row retention time',digits = 3), sep = '_')\n",
        "rownames(nft) <- paste(nft$'row ID',round(nft$'row m/z',digits = 3),round(nft$'row retention time',digits = 3), sep = '_')\n",
        "\n",
        "#Picking only the files with column names containing 'mzML'\n",
        "ft <- ft[,grep('mzML',colnames(ft))]\n",
        "nft <- nft[,grep('mzML',colnames(nft))]\n",
        "\n",
        "# Converting replicate attributes into factors (categorical data)\n",
        "md$ATTRIBUTE_replicates <- as.factor(md$ATTRIBUTE_replicates)"
      ]
    },
    {
      "cell_type": "markdown",
      "id": "e927cf45",
      "metadata": {
        "id": "e927cf45"
      },
      "source": [
        "Lets check the files once again!!"
      ]
    },
    {
      "cell_type": "code",
      "execution_count": 14,
      "id": "e76fb0e3",
      "metadata": {
        "colab": {
          "base_uri": "https://localhost:8080/",
          "height": 324
        },
        "id": "e76fb0e3",
        "outputId": "1046874a-1c10-4285-d525-67a691541bc3"
      },
      "outputs": [
        {
          "output_type": "display_data",
          "data": {
            "text/html": [
              "<table class=\"dataframe\">\n",
              "<caption>A data.frame: 6 × 42</caption>\n",
              "<thead>\n",
              "\t<tr><th></th><th scope=col>Blank_B.mzML</th><th scope=col>t2_BS_C.mzML</th><th scope=col>t0_BS_C.mzML</th><th scope=col>Blank_A.mzML</th><th scope=col>t1_BS_C.mzML</th><th scope=col>t5_BS_C.mzML</th><th scope=col>t3_BS_3.mzML</th><th scope=col>t2_BS_2.mzML</th><th scope=col>t3_BS_C.mzML</th><th scope=col>t2_BS_1.mzML</th><th scope=col>⋯</th><th scope=col>t5_BS_3.mzML</th><th scope=col>t6_BS_2.mzML</th><th scope=col>t5_BS_1.mzML</th><th scope=col>t6_BS_3.mzML</th><th scope=col>t0_BS_1.mzML</th><th scope=col>t9_BS_1.mzML</th><th scope=col>t5_BS_2.mzML</th><th scope=col>t8_BS_3.mzML</th><th scope=col>t9_BS_3.mzML</th><th scope=col>t9_BS_2.mzML</th></tr>\n",
              "\t<tr><th></th><th scope=col>&lt;dbl&gt;</th><th scope=col>&lt;dbl&gt;</th><th scope=col>&lt;dbl&gt;</th><th scope=col>&lt;dbl&gt;</th><th scope=col>&lt;dbl&gt;</th><th scope=col>&lt;dbl&gt;</th><th scope=col>&lt;dbl&gt;</th><th scope=col>&lt;dbl&gt;</th><th scope=col>&lt;dbl&gt;</th><th scope=col>&lt;dbl&gt;</th><th scope=col>⋯</th><th scope=col>&lt;dbl&gt;</th><th scope=col>&lt;dbl&gt;</th><th scope=col>&lt;dbl&gt;</th><th scope=col>&lt;dbl&gt;</th><th scope=col>&lt;dbl&gt;</th><th scope=col>&lt;dbl&gt;</th><th scope=col>&lt;dbl&gt;</th><th scope=col>&lt;dbl&gt;</th><th scope=col>&lt;dbl&gt;</th><th scope=col>&lt;dbl&gt;</th></tr>\n",
              "</thead>\n",
              "<tbody>\n",
              "\t<tr><th scope=row>2_284.049_0.006</th><td>0</td><td>0</td><td>0</td><td>  24335.37</td><td>0</td><td>0</td><td>65528.32</td><td>0</td><td>0</td><td>      0</td><td>⋯</td><td>0</td><td>0</td><td>0</td><td>0</td><td>0</td><td>0</td><td>0</td><td>0</td><td>0</td><td>0</td></tr>\n",
              "\t<tr><th scope=row>8_281.051_0.069</th><td>0</td><td>0</td><td>0</td><td>1604372.00</td><td>0</td><td>0</td><td>    0.00</td><td>0</td><td>0</td><td>3636798</td><td>⋯</td><td>0</td><td>0</td><td>0</td><td>0</td><td>0</td><td>0</td><td>0</td><td>0</td><td>0</td><td>0</td></tr>\n",
              "\t<tr><th scope=row>10_267.035_0.096</th><td>0</td><td>0</td><td>0</td><td>  90303.77</td><td>0</td><td>0</td><td>    0.00</td><td>0</td><td>0</td><td>      0</td><td>⋯</td><td>0</td><td>0</td><td>0</td><td>0</td><td>0</td><td>0</td><td>0</td><td>0</td><td>0</td><td>0</td></tr>\n",
              "\t<tr><th scope=row>13_227.022_0.115</th><td>0</td><td>0</td><td>0</td><td>  37453.91</td><td>0</td><td>0</td><td>    0.00</td><td>0</td><td>0</td><td>      0</td><td>⋯</td><td>0</td><td>0</td><td>0</td><td>0</td><td>0</td><td>0</td><td>0</td><td>0</td><td>0</td><td>0</td></tr>\n",
              "\t<tr><th scope=row>14_239.095_0.116</th><td>0</td><td>0</td><td>0</td><td>  72088.13</td><td>0</td><td>0</td><td>    0.00</td><td>0</td><td>0</td><td>      0</td><td>⋯</td><td>0</td><td>0</td><td>0</td><td>0</td><td>0</td><td>0</td><td>0</td><td>0</td><td>0</td><td>0</td></tr>\n",
              "\t<tr><th scope=row>16_302.059_0.127</th><td>0</td><td>0</td><td>0</td><td>  45895.42</td><td>0</td><td>0</td><td>    0.00</td><td>0</td><td>0</td><td>      0</td><td>⋯</td><td>0</td><td>0</td><td>0</td><td>0</td><td>0</td><td>0</td><td>0</td><td>0</td><td>0</td><td>0</td></tr>\n",
              "</tbody>\n",
              "</table>\n"
            ],
            "text/markdown": "\nA data.frame: 6 × 42\n\n| <!--/--> | Blank_B.mzML &lt;dbl&gt; | t2_BS_C.mzML &lt;dbl&gt; | t0_BS_C.mzML &lt;dbl&gt; | Blank_A.mzML &lt;dbl&gt; | t1_BS_C.mzML &lt;dbl&gt; | t5_BS_C.mzML &lt;dbl&gt; | t3_BS_3.mzML &lt;dbl&gt; | t2_BS_2.mzML &lt;dbl&gt; | t3_BS_C.mzML &lt;dbl&gt; | t2_BS_1.mzML &lt;dbl&gt; | ⋯ ⋯ | t5_BS_3.mzML &lt;dbl&gt; | t6_BS_2.mzML &lt;dbl&gt; | t5_BS_1.mzML &lt;dbl&gt; | t6_BS_3.mzML &lt;dbl&gt; | t0_BS_1.mzML &lt;dbl&gt; | t9_BS_1.mzML &lt;dbl&gt; | t5_BS_2.mzML &lt;dbl&gt; | t8_BS_3.mzML &lt;dbl&gt; | t9_BS_3.mzML &lt;dbl&gt; | t9_BS_2.mzML &lt;dbl&gt; |\n|---|---|---|---|---|---|---|---|---|---|---|---|---|---|---|---|---|---|---|---|---|---|\n| 2_284.049_0.006 | 0 | 0 | 0 |   24335.37 | 0 | 0 | 65528.32 | 0 | 0 |       0 | ⋯ | 0 | 0 | 0 | 0 | 0 | 0 | 0 | 0 | 0 | 0 |\n| 8_281.051_0.069 | 0 | 0 | 0 | 1604372.00 | 0 | 0 |     0.00 | 0 | 0 | 3636798 | ⋯ | 0 | 0 | 0 | 0 | 0 | 0 | 0 | 0 | 0 | 0 |\n| 10_267.035_0.096 | 0 | 0 | 0 |   90303.77 | 0 | 0 |     0.00 | 0 | 0 |       0 | ⋯ | 0 | 0 | 0 | 0 | 0 | 0 | 0 | 0 | 0 | 0 |\n| 13_227.022_0.115 | 0 | 0 | 0 |   37453.91 | 0 | 0 |     0.00 | 0 | 0 |       0 | ⋯ | 0 | 0 | 0 | 0 | 0 | 0 | 0 | 0 | 0 | 0 |\n| 14_239.095_0.116 | 0 | 0 | 0 |   72088.13 | 0 | 0 |     0.00 | 0 | 0 |       0 | ⋯ | 0 | 0 | 0 | 0 | 0 | 0 | 0 | 0 | 0 | 0 |\n| 16_302.059_0.127 | 0 | 0 | 0 |   45895.42 | 0 | 0 |     0.00 | 0 | 0 |       0 | ⋯ | 0 | 0 | 0 | 0 | 0 | 0 | 0 | 0 | 0 | 0 |\n\n",
            "text/latex": "A data.frame: 6 × 42\n\\begin{tabular}{r|lllllllllllllllllllll}\n  & Blank\\_B.mzML & t2\\_BS\\_C.mzML & t0\\_BS\\_C.mzML & Blank\\_A.mzML & t1\\_BS\\_C.mzML & t5\\_BS\\_C.mzML & t3\\_BS\\_3.mzML & t2\\_BS\\_2.mzML & t3\\_BS\\_C.mzML & t2\\_BS\\_1.mzML & ⋯ & t5\\_BS\\_3.mzML & t6\\_BS\\_2.mzML & t5\\_BS\\_1.mzML & t6\\_BS\\_3.mzML & t0\\_BS\\_1.mzML & t9\\_BS\\_1.mzML & t5\\_BS\\_2.mzML & t8\\_BS\\_3.mzML & t9\\_BS\\_3.mzML & t9\\_BS\\_2.mzML\\\\\n  & <dbl> & <dbl> & <dbl> & <dbl> & <dbl> & <dbl> & <dbl> & <dbl> & <dbl> & <dbl> & ⋯ & <dbl> & <dbl> & <dbl> & <dbl> & <dbl> & <dbl> & <dbl> & <dbl> & <dbl> & <dbl>\\\\\n\\hline\n\t2\\_284.049\\_0.006 & 0 & 0 & 0 &   24335.37 & 0 & 0 & 65528.32 & 0 & 0 &       0 & ⋯ & 0 & 0 & 0 & 0 & 0 & 0 & 0 & 0 & 0 & 0\\\\\n\t8\\_281.051\\_0.069 & 0 & 0 & 0 & 1604372.00 & 0 & 0 &     0.00 & 0 & 0 & 3636798 & ⋯ & 0 & 0 & 0 & 0 & 0 & 0 & 0 & 0 & 0 & 0\\\\\n\t10\\_267.035\\_0.096 & 0 & 0 & 0 &   90303.77 & 0 & 0 &     0.00 & 0 & 0 &       0 & ⋯ & 0 & 0 & 0 & 0 & 0 & 0 & 0 & 0 & 0 & 0\\\\\n\t13\\_227.022\\_0.115 & 0 & 0 & 0 &   37453.91 & 0 & 0 &     0.00 & 0 & 0 &       0 & ⋯ & 0 & 0 & 0 & 0 & 0 & 0 & 0 & 0 & 0 & 0\\\\\n\t14\\_239.095\\_0.116 & 0 & 0 & 0 &   72088.13 & 0 & 0 &     0.00 & 0 & 0 &       0 & ⋯ & 0 & 0 & 0 & 0 & 0 & 0 & 0 & 0 & 0 & 0\\\\\n\t16\\_302.059\\_0.127 & 0 & 0 & 0 &   45895.42 & 0 & 0 &     0.00 & 0 & 0 &       0 & ⋯ & 0 & 0 & 0 & 0 & 0 & 0 & 0 & 0 & 0 & 0\\\\\n\\end{tabular}\n",
            "text/plain": [
              "                 Blank_B.mzML t2_BS_C.mzML t0_BS_C.mzML Blank_A.mzML\n",
              "2_284.049_0.006  0            0            0              24335.37  \n",
              "8_281.051_0.069  0            0            0            1604372.00  \n",
              "10_267.035_0.096 0            0            0              90303.77  \n",
              "13_227.022_0.115 0            0            0              37453.91  \n",
              "14_239.095_0.116 0            0            0              72088.13  \n",
              "16_302.059_0.127 0            0            0              45895.42  \n",
              "                 t1_BS_C.mzML t5_BS_C.mzML t3_BS_3.mzML t2_BS_2.mzML\n",
              "2_284.049_0.006  0            0            65528.32     0           \n",
              "8_281.051_0.069  0            0                0.00     0           \n",
              "10_267.035_0.096 0            0                0.00     0           \n",
              "13_227.022_0.115 0            0                0.00     0           \n",
              "14_239.095_0.116 0            0                0.00     0           \n",
              "16_302.059_0.127 0            0                0.00     0           \n",
              "                 t3_BS_C.mzML t2_BS_1.mzML ⋯ t5_BS_3.mzML t6_BS_2.mzML\n",
              "2_284.049_0.006  0                  0      ⋯ 0            0           \n",
              "8_281.051_0.069  0            3636798      ⋯ 0            0           \n",
              "10_267.035_0.096 0                  0      ⋯ 0            0           \n",
              "13_227.022_0.115 0                  0      ⋯ 0            0           \n",
              "14_239.095_0.116 0                  0      ⋯ 0            0           \n",
              "16_302.059_0.127 0                  0      ⋯ 0            0           \n",
              "                 t5_BS_1.mzML t6_BS_3.mzML t0_BS_1.mzML t9_BS_1.mzML\n",
              "2_284.049_0.006  0            0            0            0           \n",
              "8_281.051_0.069  0            0            0            0           \n",
              "10_267.035_0.096 0            0            0            0           \n",
              "13_227.022_0.115 0            0            0            0           \n",
              "14_239.095_0.116 0            0            0            0           \n",
              "16_302.059_0.127 0            0            0            0           \n",
              "                 t5_BS_2.mzML t8_BS_3.mzML t9_BS_3.mzML t9_BS_2.mzML\n",
              "2_284.049_0.006  0            0            0            0           \n",
              "8_281.051_0.069  0            0            0            0           \n",
              "10_267.035_0.096 0            0            0            0           \n",
              "13_227.022_0.115 0            0            0            0           \n",
              "14_239.095_0.116 0            0            0            0           \n",
              "16_302.059_0.127 0            0            0            0           "
            ]
          },
          "metadata": {}
        },
        {
          "output_type": "display_data",
          "data": {
            "text/html": [
              "<style>\n",
              ".list-inline {list-style: none; margin:0; padding: 0}\n",
              ".list-inline>li {display: inline-block}\n",
              ".list-inline>li:not(:last-child)::after {content: \"\\00b7\"; padding: 0 .5ex}\n",
              "</style>\n",
              "<ol class=list-inline><li>5807</li><li>42</li></ol>\n"
            ],
            "text/markdown": "1. 5807\n2. 42\n\n\n",
            "text/latex": "\\begin{enumerate*}\n\\item 5807\n\\item 42\n\\end{enumerate*}\n",
            "text/plain": [
              "[1] 5807   42"
            ]
          },
          "metadata": {}
        }
      ],
      "source": [
        "head(nft)\n",
        "dim(nft)"
      ]
    },
    {
      "cell_type": "code",
      "execution_count": 15,
      "id": "499d8a48",
      "metadata": {
        "colab": {
          "base_uri": "https://localhost:8080/",
          "height": 324
        },
        "id": "499d8a48",
        "outputId": "c58164d4-0b8f-4061-a67c-d365ddf9540d"
      },
      "outputs": [
        {
          "output_type": "display_data",
          "data": {
            "text/html": [
              "<table class=\"dataframe\">\n",
              "<caption>A data.frame: 6 × 42</caption>\n",
              "<thead>\n",
              "\t<tr><th></th><th scope=col>Blank_B.mzML</th><th scope=col>t2_BS_C.mzML</th><th scope=col>t0_BS_C.mzML</th><th scope=col>Blank_A.mzML</th><th scope=col>t1_BS_C.mzML</th><th scope=col>t5_BS_C.mzML</th><th scope=col>t3_BS_3.mzML</th><th scope=col>t2_BS_2.mzML</th><th scope=col>t3_BS_C.mzML</th><th scope=col>t2_BS_1.mzML</th><th scope=col>⋯</th><th scope=col>t5_BS_3.mzML</th><th scope=col>t6_BS_2.mzML</th><th scope=col>t5_BS_1.mzML</th><th scope=col>t6_BS_3.mzML</th><th scope=col>t0_BS_1.mzML</th><th scope=col>t9_BS_1.mzML</th><th scope=col>t5_BS_2.mzML</th><th scope=col>t8_BS_3.mzML</th><th scope=col>t9_BS_3.mzML</th><th scope=col>t9_BS_2.mzML</th></tr>\n",
              "\t<tr><th></th><th scope=col>&lt;dbl&gt;</th><th scope=col>&lt;dbl&gt;</th><th scope=col>&lt;dbl&gt;</th><th scope=col>&lt;dbl&gt;</th><th scope=col>&lt;dbl&gt;</th><th scope=col>&lt;dbl&gt;</th><th scope=col>&lt;dbl&gt;</th><th scope=col>&lt;dbl&gt;</th><th scope=col>&lt;dbl&gt;</th><th scope=col>&lt;dbl&gt;</th><th scope=col>⋯</th><th scope=col>&lt;dbl&gt;</th><th scope=col>&lt;dbl&gt;</th><th scope=col>&lt;dbl&gt;</th><th scope=col>&lt;dbl&gt;</th><th scope=col>&lt;dbl&gt;</th><th scope=col>&lt;dbl&gt;</th><th scope=col>&lt;dbl&gt;</th><th scope=col>&lt;dbl&gt;</th><th scope=col>&lt;dbl&gt;</th><th scope=col>&lt;dbl&gt;</th></tr>\n",
              "</thead>\n",
              "<tbody>\n",
              "\t<tr><th scope=row>2_284.049_0.069</th><td>  18021.57</td><td>  16982.87</td><td> 20755.18</td><td>  24335.37</td><td>  19328.70</td><td> 23160.66</td><td> 65528.32</td><td>  4663.611</td><td>  22136.30</td><td>   4262.391</td><td>⋯</td><td>  21375.27</td><td>  23021.77</td><td>  18208.166</td><td>  19423.74</td><td>  17433.18</td><td>  25643.275</td><td>  19439.27</td><td>  28515.10</td><td>  27789.33</td><td>  24276.26</td></tr>\n",
              "\t<tr><th scope=row>8_281.051_0.104</th><td>1402257.60</td><td>1537228.20</td><td>228957.92</td><td>1604372.00</td><td>1559159.10</td><td>263653.38</td><td>266014.78</td><td>238900.690</td><td>1652363.80</td><td>3636798.200</td><td>⋯</td><td>1716907.50</td><td>1725159.00</td><td>1687922.400</td><td>1711116.90</td><td>1525560.80</td><td>1988580.500</td><td>1680300.80</td><td>2050065.20</td><td>1969012.20</td><td>1937270.80</td></tr>\n",
              "\t<tr><th scope=row>10_267.035_0.125</th><td>  83519.48</td><td>  96762.88</td><td> 84678.31</td><td>  90303.77</td><td>  81488.60</td><td>115550.96</td><td>107415.57</td><td> 82006.620</td><td>  12551.38</td><td>  96853.070</td><td>⋯</td><td> 122031.09</td><td> 127510.91</td><td>   8224.141</td><td> 123302.27</td><td>  83531.95</td><td> 166977.810</td><td> 117669.37</td><td> 155001.64</td><td> 159289.83</td><td> 155360.70</td></tr>\n",
              "\t<tr><th scope=row>13_227.022_0.035</th><td>  21758.15</td><td>  26107.27</td><td> 29125.81</td><td>  37453.91</td><td>  20693.07</td><td> 64607.33</td><td> 34512.42</td><td> 27379.434</td><td>  62945.52</td><td>  32709.602</td><td>⋯</td><td>  63844.68</td><td>  43124.89</td><td>  21728.576</td><td>  28306.74</td><td>  21987.09</td><td>  77407.750</td><td>  52930.57</td><td>  41270.76</td><td>  74911.14</td><td>  40599.87</td></tr>\n",
              "\t<tr><th scope=row>14_239.095_0.035</th><td>  94997.12</td><td>  53176.10</td><td>100849.48</td><td>  72088.13</td><td>  95871.80</td><td> 90154.41</td><td> 91077.77</td><td> 41458.566</td><td>  89611.88</td><td>  89120.625</td><td>⋯</td><td>  90778.20</td><td>  89629.49</td><td>  89971.610</td><td>  69065.44</td><td>  92206.42</td><td>   8322.643</td><td>  89443.13</td><td>  85359.16</td><td>  53224.13</td><td>  98724.91</td></tr>\n",
              "\t<tr><th scope=row>16_302.059_0.041</th><td>  27851.37</td><td>  48689.27</td><td> 51742.97</td><td>  45895.42</td><td>  32060.05</td><td> 59807.74</td><td> 29840.88</td><td> 69905.130</td><td>  75531.13</td><td>  35575.457</td><td>⋯</td><td>  72733.80</td><td>  38676.01</td><td>  79390.100</td><td>  34950.79</td><td>  66040.79</td><td>  65106.055</td><td>  23823.50</td><td>  50425.25</td><td>  37610.27</td><td>  85097.12</td></tr>\n",
              "</tbody>\n",
              "</table>\n"
            ],
            "text/markdown": "\nA data.frame: 6 × 42\n\n| <!--/--> | Blank_B.mzML &lt;dbl&gt; | t2_BS_C.mzML &lt;dbl&gt; | t0_BS_C.mzML &lt;dbl&gt; | Blank_A.mzML &lt;dbl&gt; | t1_BS_C.mzML &lt;dbl&gt; | t5_BS_C.mzML &lt;dbl&gt; | t3_BS_3.mzML &lt;dbl&gt; | t2_BS_2.mzML &lt;dbl&gt; | t3_BS_C.mzML &lt;dbl&gt; | t2_BS_1.mzML &lt;dbl&gt; | ⋯ ⋯ | t5_BS_3.mzML &lt;dbl&gt; | t6_BS_2.mzML &lt;dbl&gt; | t5_BS_1.mzML &lt;dbl&gt; | t6_BS_3.mzML &lt;dbl&gt; | t0_BS_1.mzML &lt;dbl&gt; | t9_BS_1.mzML &lt;dbl&gt; | t5_BS_2.mzML &lt;dbl&gt; | t8_BS_3.mzML &lt;dbl&gt; | t9_BS_3.mzML &lt;dbl&gt; | t9_BS_2.mzML &lt;dbl&gt; |\n|---|---|---|---|---|---|---|---|---|---|---|---|---|---|---|---|---|---|---|---|---|---|\n| 2_284.049_0.069 |   18021.57 |   16982.87 |  20755.18 |   24335.37 |   19328.70 |  23160.66 |  65528.32 |   4663.611 |   22136.30 |    4262.391 | ⋯ |   21375.27 |   23021.77 |   18208.166 |   19423.74 |   17433.18 |   25643.275 |   19439.27 |   28515.10 |   27789.33 |   24276.26 |\n| 8_281.051_0.104 | 1402257.60 | 1537228.20 | 228957.92 | 1604372.00 | 1559159.10 | 263653.38 | 266014.78 | 238900.690 | 1652363.80 | 3636798.200 | ⋯ | 1716907.50 | 1725159.00 | 1687922.400 | 1711116.90 | 1525560.80 | 1988580.500 | 1680300.80 | 2050065.20 | 1969012.20 | 1937270.80 |\n| 10_267.035_0.125 |   83519.48 |   96762.88 |  84678.31 |   90303.77 |   81488.60 | 115550.96 | 107415.57 |  82006.620 |   12551.38 |   96853.070 | ⋯ |  122031.09 |  127510.91 |    8224.141 |  123302.27 |   83531.95 |  166977.810 |  117669.37 |  155001.64 |  159289.83 |  155360.70 |\n| 13_227.022_0.035 |   21758.15 |   26107.27 |  29125.81 |   37453.91 |   20693.07 |  64607.33 |  34512.42 |  27379.434 |   62945.52 |   32709.602 | ⋯ |   63844.68 |   43124.89 |   21728.576 |   28306.74 |   21987.09 |   77407.750 |   52930.57 |   41270.76 |   74911.14 |   40599.87 |\n| 14_239.095_0.035 |   94997.12 |   53176.10 | 100849.48 |   72088.13 |   95871.80 |  90154.41 |  91077.77 |  41458.566 |   89611.88 |   89120.625 | ⋯ |   90778.20 |   89629.49 |   89971.610 |   69065.44 |   92206.42 |    8322.643 |   89443.13 |   85359.16 |   53224.13 |   98724.91 |\n| 16_302.059_0.041 |   27851.37 |   48689.27 |  51742.97 |   45895.42 |   32060.05 |  59807.74 |  29840.88 |  69905.130 |   75531.13 |   35575.457 | ⋯ |   72733.80 |   38676.01 |   79390.100 |   34950.79 |   66040.79 |   65106.055 |   23823.50 |   50425.25 |   37610.27 |   85097.12 |\n\n",
            "text/latex": "A data.frame: 6 × 42\n\\begin{tabular}{r|lllllllllllllllllllll}\n  & Blank\\_B.mzML & t2\\_BS\\_C.mzML & t0\\_BS\\_C.mzML & Blank\\_A.mzML & t1\\_BS\\_C.mzML & t5\\_BS\\_C.mzML & t3\\_BS\\_3.mzML & t2\\_BS\\_2.mzML & t3\\_BS\\_C.mzML & t2\\_BS\\_1.mzML & ⋯ & t5\\_BS\\_3.mzML & t6\\_BS\\_2.mzML & t5\\_BS\\_1.mzML & t6\\_BS\\_3.mzML & t0\\_BS\\_1.mzML & t9\\_BS\\_1.mzML & t5\\_BS\\_2.mzML & t8\\_BS\\_3.mzML & t9\\_BS\\_3.mzML & t9\\_BS\\_2.mzML\\\\\n  & <dbl> & <dbl> & <dbl> & <dbl> & <dbl> & <dbl> & <dbl> & <dbl> & <dbl> & <dbl> & ⋯ & <dbl> & <dbl> & <dbl> & <dbl> & <dbl> & <dbl> & <dbl> & <dbl> & <dbl> & <dbl>\\\\\n\\hline\n\t2\\_284.049\\_0.069 &   18021.57 &   16982.87 &  20755.18 &   24335.37 &   19328.70 &  23160.66 &  65528.32 &   4663.611 &   22136.30 &    4262.391 & ⋯ &   21375.27 &   23021.77 &   18208.166 &   19423.74 &   17433.18 &   25643.275 &   19439.27 &   28515.10 &   27789.33 &   24276.26\\\\\n\t8\\_281.051\\_0.104 & 1402257.60 & 1537228.20 & 228957.92 & 1604372.00 & 1559159.10 & 263653.38 & 266014.78 & 238900.690 & 1652363.80 & 3636798.200 & ⋯ & 1716907.50 & 1725159.00 & 1687922.400 & 1711116.90 & 1525560.80 & 1988580.500 & 1680300.80 & 2050065.20 & 1969012.20 & 1937270.80\\\\\n\t10\\_267.035\\_0.125 &   83519.48 &   96762.88 &  84678.31 &   90303.77 &   81488.60 & 115550.96 & 107415.57 &  82006.620 &   12551.38 &   96853.070 & ⋯ &  122031.09 &  127510.91 &    8224.141 &  123302.27 &   83531.95 &  166977.810 &  117669.37 &  155001.64 &  159289.83 &  155360.70\\\\\n\t13\\_227.022\\_0.035 &   21758.15 &   26107.27 &  29125.81 &   37453.91 &   20693.07 &  64607.33 &  34512.42 &  27379.434 &   62945.52 &   32709.602 & ⋯ &   63844.68 &   43124.89 &   21728.576 &   28306.74 &   21987.09 &   77407.750 &   52930.57 &   41270.76 &   74911.14 &   40599.87\\\\\n\t14\\_239.095\\_0.035 &   94997.12 &   53176.10 & 100849.48 &   72088.13 &   95871.80 &  90154.41 &  91077.77 &  41458.566 &   89611.88 &   89120.625 & ⋯ &   90778.20 &   89629.49 &   89971.610 &   69065.44 &   92206.42 &    8322.643 &   89443.13 &   85359.16 &   53224.13 &   98724.91\\\\\n\t16\\_302.059\\_0.041 &   27851.37 &   48689.27 &  51742.97 &   45895.42 &   32060.05 &  59807.74 &  29840.88 &  69905.130 &   75531.13 &   35575.457 & ⋯ &   72733.80 &   38676.01 &   79390.100 &   34950.79 &   66040.79 &   65106.055 &   23823.50 &   50425.25 &   37610.27 &   85097.12\\\\\n\\end{tabular}\n",
            "text/plain": [
              "                 Blank_B.mzML t2_BS_C.mzML t0_BS_C.mzML Blank_A.mzML\n",
              "2_284.049_0.069    18021.57     16982.87    20755.18      24335.37  \n",
              "8_281.051_0.104  1402257.60   1537228.20   228957.92    1604372.00  \n",
              "10_267.035_0.125   83519.48     96762.88    84678.31      90303.77  \n",
              "13_227.022_0.035   21758.15     26107.27    29125.81      37453.91  \n",
              "14_239.095_0.035   94997.12     53176.10   100849.48      72088.13  \n",
              "16_302.059_0.041   27851.37     48689.27    51742.97      45895.42  \n",
              "                 t1_BS_C.mzML t5_BS_C.mzML t3_BS_3.mzML t2_BS_2.mzML\n",
              "2_284.049_0.069    19328.70    23160.66     65528.32      4663.611  \n",
              "8_281.051_0.104  1559159.10   263653.38    266014.78    238900.690  \n",
              "10_267.035_0.125   81488.60   115550.96    107415.57     82006.620  \n",
              "13_227.022_0.035   20693.07    64607.33     34512.42     27379.434  \n",
              "14_239.095_0.035   95871.80    90154.41     91077.77     41458.566  \n",
              "16_302.059_0.041   32060.05    59807.74     29840.88     69905.130  \n",
              "                 t3_BS_C.mzML t2_BS_1.mzML ⋯ t5_BS_3.mzML t6_BS_2.mzML\n",
              "2_284.049_0.069    22136.30      4262.391  ⋯   21375.27     23021.77  \n",
              "8_281.051_0.104  1652363.80   3636798.200  ⋯ 1716907.50   1725159.00  \n",
              "10_267.035_0.125   12551.38     96853.070  ⋯  122031.09    127510.91  \n",
              "13_227.022_0.035   62945.52     32709.602  ⋯   63844.68     43124.89  \n",
              "14_239.095_0.035   89611.88     89120.625  ⋯   90778.20     89629.49  \n",
              "16_302.059_0.041   75531.13     35575.457  ⋯   72733.80     38676.01  \n",
              "                 t5_BS_1.mzML t6_BS_3.mzML t0_BS_1.mzML t9_BS_1.mzML\n",
              "2_284.049_0.069    18208.166    19423.74     17433.18     25643.275 \n",
              "8_281.051_0.104  1687922.400  1711116.90   1525560.80   1988580.500 \n",
              "10_267.035_0.125    8224.141   123302.27     83531.95    166977.810 \n",
              "13_227.022_0.035   21728.576    28306.74     21987.09     77407.750 \n",
              "14_239.095_0.035   89971.610    69065.44     92206.42      8322.643 \n",
              "16_302.059_0.041   79390.100    34950.79     66040.79     65106.055 \n",
              "                 t5_BS_2.mzML t8_BS_3.mzML t9_BS_3.mzML t9_BS_2.mzML\n",
              "2_284.049_0.069    19439.27     28515.10     27789.33     24276.26  \n",
              "8_281.051_0.104  1680300.80   2050065.20   1969012.20   1937270.80  \n",
              "10_267.035_0.125  117669.37    155001.64    159289.83    155360.70  \n",
              "13_227.022_0.035   52930.57     41270.76     74911.14     40599.87  \n",
              "14_239.095_0.035   89443.13     85359.16     53224.13     98724.91  \n",
              "16_302.059_0.041   23823.50     50425.25     37610.27     85097.12  "
            ]
          },
          "metadata": {}
        },
        {
          "output_type": "display_data",
          "data": {
            "text/html": [
              "<style>\n",
              ".list-inline {list-style: none; margin:0; padding: 0}\n",
              ".list-inline>li {display: inline-block}\n",
              ".list-inline>li:not(:last-child)::after {content: \"\\00b7\"; padding: 0 .5ex}\n",
              "</style>\n",
              "<ol class=list-inline><li>5807</li><li>42</li></ol>\n"
            ],
            "text/markdown": "1. 5807\n2. 42\n\n\n",
            "text/latex": "\\begin{enumerate*}\n\\item 5807\n\\item 42\n\\end{enumerate*}\n",
            "text/plain": [
              "[1] 5807   42"
            ]
          },
          "metadata": {}
        }
      ],
      "source": [
        "head(ft)\n",
        "dim(ft)"
      ]
    },
    {
      "cell_type": "code",
      "execution_count": 16,
      "id": "55093982",
      "metadata": {
        "id": "55093982",
        "colab": {
          "base_uri": "https://localhost:8080/",
          "height": 324
        },
        "outputId": "1cc321b5-6196-44ea-aa23-69ef87697e19"
      },
      "outputs": [
        {
          "output_type": "display_data",
          "data": {
            "text/html": [
              "<table class=\"dataframe\">\n",
              "<caption>A data.frame: 6 × 6</caption>\n",
              "<thead>\n",
              "\t<tr><th></th><th scope=col>ATTRIBUTE_species</th><th scope=col>ATTRIBUTE_SampleType</th><th scope=col>ATTRIBUTE_timepoint</th><th scope=col>ATTRIBUTE_hours</th><th scope=col>ATTRIBUTE_mins</th><th scope=col>ATTRIBUTE_replicates</th></tr>\n",
              "\t<tr><th></th><th scope=col>&lt;chr&gt;</th><th scope=col>&lt;chr&gt;</th><th scope=col>&lt;int&gt;</th><th scope=col>&lt;dbl&gt;</th><th scope=col>&lt;int&gt;</th><th scope=col>&lt;fct&gt;</th></tr>\n",
              "</thead>\n",
              "<tbody>\n",
              "\t<tr><th scope=row>t0_BS_C.mzML</th><td>B.subtilis</td><td>Without_Treatment</td><td>0</td><td>-0.1666667</td><td>-10</td><td>0</td></tr>\n",
              "\t<tr><th scope=row>t0_BS_1.mzML</th><td>B.subtilis</td><td>Without_Treatment</td><td>0</td><td>-0.1666667</td><td>-10</td><td>1</td></tr>\n",
              "\t<tr><th scope=row>t0_BS_2.mzML</th><td>B.subtilis</td><td>Without_Treatment</td><td>0</td><td>-0.1666667</td><td>-10</td><td>2</td></tr>\n",
              "\t<tr><th scope=row>t0_BS_3.mzML</th><td>B.subtilis</td><td>Without_Treatment</td><td>0</td><td>-0.1666667</td><td>-10</td><td>3</td></tr>\n",
              "\t<tr><th scope=row>t1_BS_C.mzML</th><td>B.subtilis</td><td>Without_Treatment</td><td>1</td><td> 0.0000000</td><td>  0</td><td>0</td></tr>\n",
              "\t<tr><th scope=row>t1_BS_1.mzML</th><td>B.subtilis</td><td>With_Treatment   </td><td>1</td><td> 0.0000000</td><td>  0</td><td>1</td></tr>\n",
              "</tbody>\n",
              "</table>\n"
            ],
            "text/markdown": "\nA data.frame: 6 × 6\n\n| <!--/--> | ATTRIBUTE_species &lt;chr&gt; | ATTRIBUTE_SampleType &lt;chr&gt; | ATTRIBUTE_timepoint &lt;int&gt; | ATTRIBUTE_hours &lt;dbl&gt; | ATTRIBUTE_mins &lt;int&gt; | ATTRIBUTE_replicates &lt;fct&gt; |\n|---|---|---|---|---|---|---|\n| t0_BS_C.mzML | B.subtilis | Without_Treatment | 0 | -0.1666667 | -10 | 0 |\n| t0_BS_1.mzML | B.subtilis | Without_Treatment | 0 | -0.1666667 | -10 | 1 |\n| t0_BS_2.mzML | B.subtilis | Without_Treatment | 0 | -0.1666667 | -10 | 2 |\n| t0_BS_3.mzML | B.subtilis | Without_Treatment | 0 | -0.1666667 | -10 | 3 |\n| t1_BS_C.mzML | B.subtilis | Without_Treatment | 1 |  0.0000000 |   0 | 0 |\n| t1_BS_1.mzML | B.subtilis | With_Treatment    | 1 |  0.0000000 |   0 | 1 |\n\n",
            "text/latex": "A data.frame: 6 × 6\n\\begin{tabular}{r|llllll}\n  & ATTRIBUTE\\_species & ATTRIBUTE\\_SampleType & ATTRIBUTE\\_timepoint & ATTRIBUTE\\_hours & ATTRIBUTE\\_mins & ATTRIBUTE\\_replicates\\\\\n  & <chr> & <chr> & <int> & <dbl> & <int> & <fct>\\\\\n\\hline\n\tt0\\_BS\\_C.mzML & B.subtilis & Without\\_Treatment & 0 & -0.1666667 & -10 & 0\\\\\n\tt0\\_BS\\_1.mzML & B.subtilis & Without\\_Treatment & 0 & -0.1666667 & -10 & 1\\\\\n\tt0\\_BS\\_2.mzML & B.subtilis & Without\\_Treatment & 0 & -0.1666667 & -10 & 2\\\\\n\tt0\\_BS\\_3.mzML & B.subtilis & Without\\_Treatment & 0 & -0.1666667 & -10 & 3\\\\\n\tt1\\_BS\\_C.mzML & B.subtilis & Without\\_Treatment & 1 &  0.0000000 &   0 & 0\\\\\n\tt1\\_BS\\_1.mzML & B.subtilis & With\\_Treatment    & 1 &  0.0000000 &   0 & 1\\\\\n\\end{tabular}\n",
            "text/plain": [
              "             ATTRIBUTE_species ATTRIBUTE_SampleType ATTRIBUTE_timepoint\n",
              "t0_BS_C.mzML B.subtilis        Without_Treatment    0                  \n",
              "t0_BS_1.mzML B.subtilis        Without_Treatment    0                  \n",
              "t0_BS_2.mzML B.subtilis        Without_Treatment    0                  \n",
              "t0_BS_3.mzML B.subtilis        Without_Treatment    0                  \n",
              "t1_BS_C.mzML B.subtilis        Without_Treatment    1                  \n",
              "t1_BS_1.mzML B.subtilis        With_Treatment       1                  \n",
              "             ATTRIBUTE_hours ATTRIBUTE_mins ATTRIBUTE_replicates\n",
              "t0_BS_C.mzML -0.1666667      -10            0                   \n",
              "t0_BS_1.mzML -0.1666667      -10            1                   \n",
              "t0_BS_2.mzML -0.1666667      -10            2                   \n",
              "t0_BS_3.mzML -0.1666667      -10            3                   \n",
              "t1_BS_C.mzML  0.0000000        0            0                   \n",
              "t1_BS_1.mzML  0.0000000        0            1                   "
            ]
          },
          "metadata": {}
        },
        {
          "output_type": "display_data",
          "data": {
            "text/html": [
              "<style>\n",
              ".list-inline {list-style: none; margin:0; padding: 0}\n",
              ".list-inline>li {display: inline-block}\n",
              ".list-inline>li:not(:last-child)::after {content: \"\\00b7\"; padding: 0 .5ex}\n",
              "</style>\n",
              "<ol class=list-inline><li>42</li><li>6</li></ol>\n"
            ],
            "text/markdown": "1. 42\n2. 6\n\n\n",
            "text/latex": "\\begin{enumerate*}\n\\item 42\n\\item 6\n\\end{enumerate*}\n",
            "text/plain": [
              "[1] 42  6"
            ]
          },
          "metadata": {}
        }
      ],
      "source": [
        "head(md)\n",
        "dim(md)"
      ]
    },
    {
      "cell_type": "markdown",
      "id": "ea08fc3d",
      "metadata": {
        "id": "ea08fc3d"
      },
      "source": [
        "**About the experiment:**\n",
        "- Bacteria (B.subtilis) was treated with a pool of antibiotics (Sulfamethoxazole, sulfadimethoxine, cyproconazole) including a herbicide Asulam, taken at a concentration lower than their MIC (minimum inhibitory concentration).\n",
        "- The samples were collected at different timepoints, the compounds were extracted (with 50% EtOAc) and measured using LC-MS/MS.\n",
        "- The goal of the experiment was to look for any potential biotransformation. eg: Drug or xenobiotic metabolism"
      ]
    },
    {
      "cell_type": "markdown",
      "id": "fa549984",
      "metadata": {
        "id": "fa549984"
      },
      "source": [
        "## Splitting the data into Control and Samples using Metadata:"
      ]
    },
    {
      "cell_type": "code",
      "execution_count": 17,
      "id": "F7LHJ3dOf1EO",
      "metadata": {
        "id": "F7LHJ3dOf1EO"
      },
      "outputs": [],
      "source": [
        "input_data <- ft"
      ]
    },
    {
      "cell_type": "code",
      "execution_count": null,
      "id": "f2dc8ca3",
      "metadata": {
        "colab": {
          "base_uri": "https://localhost:8080/",
          "height": 449
        },
        "id": "f2dc8ca3",
        "outputId": "c6e70c97-8f4d-45de-c435-4d9bcc837796"
      },
      "outputs": [
        {
          "output_type": "display_data",
          "data": {
            "text/html": [
              "<table class=\"dataframe\">\n",
              "<caption>A data.frame: 6 × 6</caption>\n",
              "<thead>\n",
              "\t<tr><th></th><th scope=col>ATTRIBUTE_species</th><th scope=col>ATTRIBUTE_SampleType</th><th scope=col>ATTRIBUTE_timepoint</th><th scope=col>ATTRIBUTE_hours</th><th scope=col>ATTRIBUTE_mins</th><th scope=col>ATTRIBUTE_replicates</th></tr>\n",
              "\t<tr><th></th><th scope=col>&lt;chr&gt;</th><th scope=col>&lt;chr&gt;</th><th scope=col>&lt;int&gt;</th><th scope=col>&lt;dbl&gt;</th><th scope=col>&lt;int&gt;</th><th scope=col>&lt;fct&gt;</th></tr>\n",
              "</thead>\n",
              "<tbody>\n",
              "\t<tr><th scope=row>t0_BS_C.mzML</th><td>B.subtilis</td><td>Without_Treatment</td><td>0</td><td>-0.1666667</td><td>-10</td><td>0</td></tr>\n",
              "\t<tr><th scope=row>t0_BS_1.mzML</th><td>B.subtilis</td><td>Without_Treatment</td><td>0</td><td>-0.1666667</td><td>-10</td><td>1</td></tr>\n",
              "\t<tr><th scope=row>t0_BS_2.mzML</th><td>B.subtilis</td><td>Without_Treatment</td><td>0</td><td>-0.1666667</td><td>-10</td><td>2</td></tr>\n",
              "\t<tr><th scope=row>t0_BS_3.mzML</th><td>B.subtilis</td><td>Without_Treatment</td><td>0</td><td>-0.1666667</td><td>-10</td><td>3</td></tr>\n",
              "\t<tr><th scope=row>t1_BS_C.mzML</th><td>B.subtilis</td><td>Without_Treatment</td><td>1</td><td> 0.0000000</td><td>  0</td><td>0</td></tr>\n",
              "\t<tr><th scope=row>t1_BS_1.mzML</th><td>B.subtilis</td><td>With_Treatment   </td><td>1</td><td> 0.0000000</td><td>  0</td><td>1</td></tr>\n",
              "</tbody>\n",
              "</table>\n"
            ],
            "text/markdown": "\nA data.frame: 6 × 6\n\n| <!--/--> | ATTRIBUTE_species &lt;chr&gt; | ATTRIBUTE_SampleType &lt;chr&gt; | ATTRIBUTE_timepoint &lt;int&gt; | ATTRIBUTE_hours &lt;dbl&gt; | ATTRIBUTE_mins &lt;int&gt; | ATTRIBUTE_replicates &lt;fct&gt; |\n|---|---|---|---|---|---|---|\n| t0_BS_C.mzML | B.subtilis | Without_Treatment | 0 | -0.1666667 | -10 | 0 |\n| t0_BS_1.mzML | B.subtilis | Without_Treatment | 0 | -0.1666667 | -10 | 1 |\n| t0_BS_2.mzML | B.subtilis | Without_Treatment | 0 | -0.1666667 | -10 | 2 |\n| t0_BS_3.mzML | B.subtilis | Without_Treatment | 0 | -0.1666667 | -10 | 3 |\n| t1_BS_C.mzML | B.subtilis | Without_Treatment | 1 |  0.0000000 |   0 | 0 |\n| t1_BS_1.mzML | B.subtilis | With_Treatment    | 1 |  0.0000000 |   0 | 1 |\n\n",
            "text/latex": "A data.frame: 6 × 6\n\\begin{tabular}{r|llllll}\n  & ATTRIBUTE\\_species & ATTRIBUTE\\_SampleType & ATTRIBUTE\\_timepoint & ATTRIBUTE\\_hours & ATTRIBUTE\\_mins & ATTRIBUTE\\_replicates\\\\\n  & <chr> & <chr> & <int> & <dbl> & <int> & <fct>\\\\\n\\hline\n\tt0\\_BS\\_C.mzML & B.subtilis & Without\\_Treatment & 0 & -0.1666667 & -10 & 0\\\\\n\tt0\\_BS\\_1.mzML & B.subtilis & Without\\_Treatment & 0 & -0.1666667 & -10 & 1\\\\\n\tt0\\_BS\\_2.mzML & B.subtilis & Without\\_Treatment & 0 & -0.1666667 & -10 & 2\\\\\n\tt0\\_BS\\_3.mzML & B.subtilis & Without\\_Treatment & 0 & -0.1666667 & -10 & 3\\\\\n\tt1\\_BS\\_C.mzML & B.subtilis & Without\\_Treatment & 1 &  0.0000000 &   0 & 0\\\\\n\tt1\\_BS\\_1.mzML & B.subtilis & With\\_Treatment    & 1 &  0.0000000 &   0 & 1\\\\\n\\end{tabular}\n",
            "text/plain": [
              "             ATTRIBUTE_species ATTRIBUTE_SampleType ATTRIBUTE_timepoint\n",
              "t0_BS_C.mzML B.subtilis        Without_Treatment    0                  \n",
              "t0_BS_1.mzML B.subtilis        Without_Treatment    0                  \n",
              "t0_BS_2.mzML B.subtilis        Without_Treatment    0                  \n",
              "t0_BS_3.mzML B.subtilis        Without_Treatment    0                  \n",
              "t1_BS_C.mzML B.subtilis        Without_Treatment    1                  \n",
              "t1_BS_1.mzML B.subtilis        With_Treatment       1                  \n",
              "             ATTRIBUTE_hours ATTRIBUTE_mins ATTRIBUTE_replicates\n",
              "t0_BS_C.mzML -0.1666667      -10            0                   \n",
              "t0_BS_1.mzML -0.1666667      -10            1                   \n",
              "t0_BS_2.mzML -0.1666667      -10            2                   \n",
              "t0_BS_3.mzML -0.1666667      -10            3                   \n",
              "t1_BS_C.mzML  0.0000000        0            0                   \n",
              "t1_BS_1.mzML  0.0000000        0            1                   "
            ]
          },
          "metadata": {}
        },
        {
          "output_type": "stream",
          "name": "stdout",
          "text": [
            "     [,1]                  \n",
            "[1,] \"ATTRIBUTE_species\"   \n",
            "[2,] \"ATTRIBUTE_SampleType\"\n",
            "[3,] \"ATTRIBUTE_timepoint\" \n",
            "[4,] \"ATTRIBUTE_hours\"     \n",
            "[5,] \"ATTRIBUTE_mins\"      \n",
            "[6,] \"ATTRIBUTE_replicates\"\n"
          ]
        }
      ],
      "source": [
        "head(md)\n",
        "print(matrix(data=colnames(md),nrow=length(colnames(md))))\n",
        "\n",
        "#These lines are not needed in R console, but in Jupyter Notebook to get the previous print statement working\n",
        "flush.console()  \n",
        "Sys.sleep(0.2)\n",
        "\n",
        "Condition <- as.double(unlist(readline(\"Enter the index of the attribute to split sample and control:\")))\n",
        "\n",
        "flush.console()  \n",
        "Sys.sleep(0.2)\n",
        "\n",
        "Levels_Cdtn <- levels(as.factor(md[,Condition[1]]))\n",
        "print(matrix(Levels_Cdtn,length(Levels_Cdtn)))\n",
        "\n",
        "flush.console()  \n",
        "Sys.sleep(0.2)\n",
        "    \n",
        "#Among the shown levels of an attribute, select the ones to keep\n",
        "Ctrl_id <- as.double(unlist(readline(\"Enter the index of your BLANK:\")))\n",
        "paste0('You chosen blank is:',Levels_Cdtn[Ctrl_id])\n",
        "\n",
        "#Splitting the data into control and samples based on the metadata\n",
        "md_Ctrl <- md[(md[,Condition] == Levels_Cdtn[Ctrl_id]),]\n",
        "Ctrl <- input_data[,which(colnames(input_data)%in%rownames(md_Ctrl))] \n",
        "md_Samples <- md[(md[,Condition] != Levels_Cdtn[Ctrl_id]),]\n",
        "Samples <- input_data[,which(colnames(input_data)%in%rownames(md_Samples))] "
      ]
    },
    {
      "cell_type": "code",
      "execution_count": null,
      "id": "3c2c31f4",
      "metadata": {
        "colab": {
          "base_uri": "https://localhost:8080/",
          "height": 130
        },
        "id": "3c2c31f4",
        "outputId": "49a48236-9cd2-4124-fa7f-caffb214e889"
      },
      "outputs": [
        {
          "output_type": "error",
          "ename": "ERROR",
          "evalue": "ignored",
          "traceback": [
            "Error in head(Ctrl): object 'Ctrl' not found\nTraceback:\n",
            "1. head(Ctrl)"
          ]
        }
      ],
      "source": [
        "head(Ctrl)\n",
        "dim(Ctrl)"
      ]
    },
    {
      "cell_type": "code",
      "execution_count": null,
      "id": "85457a6b",
      "metadata": {
        "colab": {
          "base_uri": "https://localhost:8080/",
          "height": 130
        },
        "id": "85457a6b",
        "outputId": "233e50ed-abed-4a9e-fce9-d43cf7cad574"
      },
      "outputs": [
        {
          "output_type": "error",
          "ename": "ERROR",
          "evalue": "ignored",
          "traceback": [
            "Error in head(Samples): object 'Samples' not found\nTraceback:\n",
            "1. head(Samples)"
          ]
        }
      ],
      "source": [
        "head(Samples)\n",
        "dim(Samples)"
      ]
    },
    {
      "cell_type": "markdown",
      "id": "96275453",
      "metadata": {
        "id": "96275453"
      },
      "source": [
        "### Creating a function named FrequencyPlot:  \n",
        "The below function takes in the two input datatables: for example, gapfilled and non-gapfilled, calculates the frequency distribution of the data in the order of 10 and produces a grouped barplot showing the distribution as output. The frequency plot shows where the features are present in higher number."
      ]
    },
    {
      "cell_type": "code",
      "execution_count": null,
      "id": "e6d2b3b4",
      "metadata": {
        "id": "e6d2b3b4"
      },
      "outputs": [],
      "source": [
        "#'Global' settings for plot size in the output cell\n",
        "options(repr.plot.width=10, repr.plot.height=8,res=600) #For google collab\n",
        "#options(repr.plot.width=5, repr.plot.height=3) #For Jupyter Notebook"
      ]
    },
    {
      "cell_type": "code",
      "execution_count": null,
      "id": "4755a764",
      "metadata": {
        "id": "4755a764"
      },
      "outputs": [],
      "source": [
        "FrequencyPlot <- function(x1,x2){\n",
        "  \n",
        "   #creating bins from -1 to 10^10 using sequence function seq()\n",
        "    bins <- c(-1,0,(1 * 10^(seq(0,10,1)))) \n",
        "    \n",
        "    #cut function cuts the give table into its appropriate bins\n",
        "    scores_x1 <- cut(as.matrix(x1),bins,labels = c('0','1','10','1E2','1E3','1E4','1E5','1E6','1E7','1E8','1E9','1E10')) \n",
        "    \n",
        "    #transform function convert the tables into a column format: easy for visualization \n",
        "    Table_x1<-transform(table(scores_x1)) #contains 2 columns: \"scores_x1\", \"Freq\"\n",
        "    \n",
        "    #Repeating the same steps for x2\n",
        "    scores_x2 <- cut(as.matrix(x2),bins,labels = c('0','1','10','1E2','1E3','1E4','1E5','1E6','1E7','1E8','1E9','1E10'))\n",
        "    Table_x2<-transform(table(scores_x2))\n",
        "  \n",
        "    #Getting the names of x1 and x2\n",
        "    arg1 <- deparse(substitute(x1))\n",
        "    arg2 <-deparse(substitute(x2))\n",
        "    \n",
        "    #Creating a data frame for plotting\n",
        "    data_plot <- as.data.frame(c(Table_x1$Freq,Table_x2$Freq)) #Concatenating the frequency info of both tables rowwise\n",
        "    colnames(data_plot) <- \"Freq\" #naming the 1st column as 'Freq'\n",
        "    data_plot$Condition <- c(rep(arg1,12),rep(arg2,12)) #adding a 2nd column 'Condition', which just repeats the name of x1 and x2 accordingly\n",
        "    data_plot$Range_bins <- rep(Table_x1$scores_x1,2) #Adding 3rd column 'Range Bins'\n",
        "    data_plot$Log_Freq <- log(data_plot$Freq+1) #Log scaling the frequency values\n",
        "    \n",
        "    ## GGPLOT2\n",
        "    BarPlot <- ggplot(data_plot, aes(Range_bins, Log_Freq, fill = Condition)) + \n",
        "    geom_bar(stat=\"identity\", position = \"dodge\", width=0.4) + \n",
        "    scale_fill_brewer(palette = \"Set1\") +\n",
        "    ggtitle(label=\"Frequency plot\") +\n",
        "    xlab(\"Range\") + ylab(\"(Log)Frequency\") + labs(fill = \"Data Type\") + \n",
        "    theme(axis.text.x = element_text(angle = 90, vjust = 0.5, hjust=1)) +   # setting the angle for the x label\n",
        "    theme(axis.text.y = element_text(angle = 45, vjust = 0.5, hjust=1)) +   # setting the angle for the y label\n",
        "    theme(plot.title = element_text(hjust = 0.5)) # centering the plot title\n",
        "  \n",
        "    print(BarPlot)\n",
        "}  "
      ]
    },
    {
      "cell_type": "markdown",
      "id": "43099574",
      "metadata": {
        "id": "43099574"
      },
      "source": [
        "## Blank Removal:\n",
        "\n",
        "(Note: In LC-MS/MS, we use solvents also called as Blanks which are usually injected time-to-time to prevent carryover of the sample) </br>\n",
        "\n",
        "For the Blank removal step, we need to split the data as control blanks and samples. </br>\n",
        "\n",
        "**The blanks we are referring to here, is the control blanks in the experiment and not the LC-MS/MS blanks.**\n",
        "- The control blanks here is the sample without treatment. \n",
        "- Samples are biological replicates with treatment and we have two sets of data: B.sub and E.coli. </br>\n",
        "\n",
        "In general, having multiple control blanks helps us to compare any variation in the data. Comparing control to the sample helps us to identify the background features that contribute to any technical variation. A common filtering method is to use a cutoff to remove features that are not present sufficient enough in our biological samples.\n",
        "\n",
        "1. We find an average for all the feature intensities in your control set and sample set.\n",
        "Therefore, for n no.of features in a control or sample set, we get n no.of averaged features.\n",
        "2. Next, we get a ratio of this average_control vs average_sample. This ratio Control/sample tells us how much of that particular feature of a sample gets its contribution from control. If it is more than 30% (or Cutoff as 0.3), we consider the feature as noise.\n",
        "3. The resultant information (if ratio > Cutoff or not) is stored in a bin such as **1 == Noise or background signal, 0 == Feature Signal**\n",
        "4. We count the no.of features in the bin that satisfies the condition ratio > cutoff, and consider those features as 'noise or background features' and remove them.\n",
        "\n",
        "For a dataset containing several batches, the filtering steps are performed batch-wise."
      ]
    },
    {
      "cell_type": "code",
      "execution_count": null,
      "id": "af1aa72f",
      "metadata": {
        "colab": {
          "base_uri": "https://localhost:8080/"
        },
        "id": "af1aa72f",
        "outputId": "be9c9779-a740-4797-c119-ca32837abee0"
      },
      "outputs": [
        {
          "name": "stdout",
          "output_type": "stream",
          "text": [
            "Do you want to perform Blank Removal- Y/N:Y\n"
          ]
        }
      ],
      "source": [
        "if(readline('Do you want to perform Blank Removal- Y/N:')=='Y'){\n",
        "    \n",
        "    #When cutoff is low, more noise (or background) detected; With higher cutoff, less background detected, thus more features observed\n",
        "    Cutoff <- as.numeric(readline('Enter Cutoff value between 0.1 & 1:')) # (i.e. 10% - 100%). Ideal cutoff range: 0.1-0.3\n",
        "    \n",
        "    #Getting mean for every feature in Ctrl and Samples\n",
        "    Avg_ctrl <- rowMeans(Ctrl, na.rm= FALSE, dims = 1) # set na.rm = FALSE to check if there are NA values. When set as TRUE, NA values are changed to 0\n",
        "    Avg_samples <- rowMeans(Samples, na.rm= FALSE, dims = 1)\n",
        "    \n",
        "    #Getting the ratio of Ctrl vs Sample\n",
        "    Ratio_Ctrl_Sample <- (Avg_ctrl+1)/(Avg_samples+1)\n",
        "    \n",
        "    # Creating a bin with 1s when the ratio>Cutoff, else put 0s\n",
        "    Bg_bin <- ifelse(Ratio_Ctrl_Sample > Cutoff, 1, 0 )\n",
        "    Blank_removal <- cbind(Samples,Bg_bin)\n",
        "\n",
        "    # Checking if there are any NA values present. Having NA values in the 4 variables will affect the final dataset to be created\n",
        "    temp_NA_Count <-cbind(Avg_ctrl ,Avg_samples,Ratio_Ctrl_Sample,Bg_bin)\n",
        "    \n",
        "    print('No of NA values in the following columns:')\n",
        "    print(colSums(is.na(temp_NA_Count)))\n",
        "\n",
        "     #Calculating the number of background features and features present\n",
        "    print(paste(\"No.of Background or noise features:\",sum(Bg_bin ==1,na.rm = TRUE)))\n",
        "    print(paste(\"No.of features after excluding noise:\",(nrow(Samples) - sum(Bg_bin ==1,na.rm = TRUE)))) \n",
        "\n",
        "    Blank_removal <- Blank_removal %>% filter(Bg_bin == 0) # Taking only the feature signals\n",
        "    Blank_removal <- as.matrix(Blank_removal[,-ncol(Blank_removal)]) # removing the last column Bg_bin \n",
        "}"
      ]
    },
    {
      "cell_type": "code",
      "execution_count": null,
      "id": "eh8Gd6QD_Dt3",
      "metadata": {
        "id": "eh8Gd6QD_Dt3",
        "colab": {
          "base_uri": "https://localhost:8080/",
          "height": 96
        },
        "outputId": "dc04ecc7-3dac-4aaf-c396-0441000e944d"
      },
      "outputs": [
        {
          "output_type": "error",
          "ename": "ERROR",
          "evalue": "ignored",
          "traceback": [
            "Error in eval(expr, envir, enclos): object 'Blank_removal' not found\nTraceback:\n"
          ]
        }
      ],
      "source": [
        "dim(Blank_removal)"
      ]
    },
    {
      "cell_type": "markdown",
      "id": "b4210007",
      "metadata": {
        "id": "b4210007"
      },
      "source": [
        "## Imputation: \n",
        "\n",
        "For several reasons, real world datasets might have some missing values in it, in the form of NA, NANs or 0s. Eventhough the gapfilling step of MZmine fills the missing values, we still end up with some missing values or 0s in our feature table. This could be problematic for statistical analysis. \n",
        "In order to have a better dataset, we cannot simply discard those rows or columns with missing values as we will lose a chunk of our valuable data.\n",
        "Instead we can try imputing those missing values. Imputation involves replacing the missing values in the data with a meaningful, reasonable guess. There are several methods, such as:  \n",
        "1) Mean imputation (replacing the missing values in a column with the mean or average of the column)  \n",
        "2) Replacing it with the most frequent value  \n",
        "3) Several other machine learning imputation methods such as k-nearest neighbors algorithm(k-NN), Hidden Markov Model(HMM)\n",
        "\n",
        "One such method, we are going to use is: **to replace the zeros from the gapfilled quant table with the non-gap filled table** we get from MZmine. In order to do that, we can visualize our data distribution using the frequenct plot"
      ]
    },
    {
      "cell_type": "code",
      "execution_count": null,
      "id": "9d83ae53",
      "metadata": {
        "id": "9d83ae53",
        "colab": {
          "base_uri": "https://localhost:8080/",
          "height": 96
        },
        "outputId": "e7655389-3303-4e6b-cf51-e9bdae8dc5c1"
      },
      "outputs": [
        {
          "output_type": "error",
          "ename": "ERROR",
          "evalue": "ignored",
          "traceback": [
            "Error in eval(expr, envir, enclos): object 'Blank_removal' not found\nTraceback:\n"
          ]
        }
      ],
      "source": [
        "GapFilled <-Blank_removal\n",
        "NotGapFilled <- nft"
      ]
    },
    {
      "cell_type": "code",
      "execution_count": null,
      "id": "e527abdb",
      "metadata": {
        "colab": {
          "base_uri": "https://localhost:8080/",
          "height": 182
        },
        "id": "e527abdb",
        "outputId": "102665b1-2168-458f-f6db-6d527408b268"
      },
      "outputs": [
        {
          "output_type": "error",
          "ename": "ERROR",
          "evalue": "ignored",
          "traceback": [
            "Error in as.matrix(x1): object 'GapFilled' not found\nTraceback:\n",
            "1. FrequencyPlot(GapFilled, NotGapFilled)   # at line 3 of file <text>",
            "2. cut(as.matrix(x1), bins, labels = c(\"0\", \"1\", \"10\", \"1E2\", \"1E3\", \n .     \"1E4\", \"1E5\", \"1E6\", \"1E7\", \"1E8\", \"1E9\", \"1E10\"))   # at line 7 of file <text>",
            "3. as.matrix(x1)   # at line 7 of file <text>"
          ]
        }
      ],
      "source": [
        "if(readline('Do you want to perform Imputation with minimum value of NonGapFilled table? - Y/N:')=='Y'){\n",
        "    \n",
        "    plot<- FrequencyPlot(GapFilled,NotGapFilled)\n",
        "    \n",
        "    Arg1 = plot$data$Condition[1]\n",
        "    Arg2 = plot$data$Condition[13]\n",
        "    \n",
        "    # accessing the datatable of plot and subsetting with the condition: Eliminating the Range (or bin) 0 and Ranges with zero frequencies \n",
        "    plotData_New <- subset(plot$data,plot$data$Freq!=0 & plot$data$Range_bins !=0) \n",
        "    \n",
        "    #getting the first appearing value of this new plot datatable\n",
        "    First_val_temp <- aggregate(plotData_New$Freq, by=list(plotData_New$Condition), FUN=first) \n",
        "    \n",
        "    # Subsetting the rows in the plotData_New that has the first appearing values\n",
        "    First_val <- plotData_New[plotData_New$Freq %in% c(First_val_temp$x[1],First_val_temp$x[2]),]\n",
        "  \n",
        "    # getting the 2nd minimum value of non-gap filled data. (The first minimum value in the data table is usually zero)\n",
        "    RawLOD <- round(min(NotGapFilled[NotGapFilled!=min(NotGapFilled)]))\n",
        "    print(paste0(\"The minimum value greater than 0 for \",Arg1,\":\", round(min(GapFilled[GapFilled!=min(GapFilled)]))))\n",
        "    print(paste0(\"The minimum value greater than 0 for \",Arg2,\":\", RawLOD))\n",
        "    \n",
        "    Imputed <- GapFilled\n",
        "    Imputed[Imputed<RawLOD] <- RawLOD # Replacing values<RawLOD with RawLOD\n",
        "} else return(GapFilled)"
      ]
    },
    {
      "cell_type": "code",
      "execution_count": null,
      "id": "2698000e",
      "metadata": {
        "id": "2698000e",
        "colab": {
          "base_uri": "https://localhost:8080/",
          "height": 269
        },
        "outputId": "e2f0730d-d337-4eb0-fac9-ab9cc4543b77"
      },
      "outputs": [
        {
          "output_type": "error",
          "ename": "ERROR",
          "evalue": "ignored",
          "traceback": [
            "Error in is.data.frame(x): object 'Imputed' not found\nTraceback:\n",
            "1. write.csv(Imputed, file = paste0(\"Quant_Table_filled_with_MinValue_\", \n .     RawLOD, \".csv\"), row.names = TRUE)",
            "2. eval.parent(Call)",
            "3. eval(expr, p)",
            "4. eval(expr, p)",
            "5. utils::write.table(Imputed, file = paste0(\"Quant_Table_filled_with_MinValue_\", \n .     RawLOD, \".csv\"), row.names = TRUE, col.names = NA, sep = \",\", \n .     dec = \".\", qmethod = \"double\")",
            "6. is.data.frame(x)"
          ]
        }
      ],
      "source": [
        "write.csv(Imputed, file=paste0('Quant_Table_filled_with_MinValue_',RawLOD,'.csv'),row.names =TRUE) "
      ]
    },
    {
      "cell_type": "code",
      "execution_count": null,
      "id": "a25d5a9c",
      "metadata": {
        "id": "a25d5a9c",
        "colab": {
          "base_uri": "https://localhost:8080/",
          "height": 130
        },
        "outputId": "fef1225a-8620-457b-ca4a-401f3be68447"
      },
      "outputs": [
        {
          "output_type": "error",
          "ename": "ERROR",
          "evalue": "ignored",
          "traceback": [
            "Error in head(Imputed): object 'Imputed' not found\nTraceback:\n",
            "1. head(Imputed)"
          ]
        }
      ],
      "source": [
        "head(Imputed)\n",
        "dim(Imputed)"
      ]
    },
    {
      "cell_type": "markdown",
      "id": "f06a2dd7",
      "metadata": {
        "id": "f06a2dd7"
      },
      "source": [
        "## Normalization:\n",
        "The following code performs sample-centric (column-wise) normalisation:"
      ]
    },
    {
      "cell_type": "code",
      "execution_count": null,
      "id": "3a008a7a",
      "metadata": {
        "id": "3a008a7a"
      },
      "outputs": [],
      "source": [
        "if (readline(\"Do you want to perform Normalization: Y/N:\") == 'Y'){\n",
        "    \n",
        "    #Getting column-wise sums of the input-data\n",
        "    sample_sum <- colSums(Imputed, na.rm= TRUE, dims = 1)\n",
        "    \n",
        "    #Dividing each element of a particular column with its column sum\n",
        "    Normalized_data <- c()\n",
        "    for (i in 1:ncol(Imputed)){\n",
        "        x <- Imputed[,i] / sample_sum[i]\n",
        "        Normalized_data <- cbind(Normalized_data, x)\n",
        "    }\n",
        "    colnames(Normalized_data) <- names(sample_sum)\n",
        "    \n",
        "} else return(Imputed)\n",
        "  \n",
        "print(paste('No.of NA values in Normalized data:',sum(is.na(Normalized_data)== TRUE)))"
      ]
    },
    {
      "cell_type": "code",
      "execution_count": null,
      "id": "58fc407e",
      "metadata": {
        "id": "58fc407e"
      },
      "outputs": [],
      "source": [
        "write.csv(Normalized_data,file='Normalised_Quant_table.csv',row.names =TRUE) "
      ]
    },
    {
      "cell_type": "markdown",
      "id": "3ceee464",
      "metadata": {
        "id": "3ceee464"
      },
      "source": [
        "In the following cell, we are checking once again if the rownames of our metadata is the same as the column names of our feature table. It should return **TRUE** and we are also checking the data sparsity before proceeding into any statistical tests. Data sparsity tells the amount of zeros we have in our normalized dataframe."
      ]
    },
    {
      "cell_type": "code",
      "execution_count": null,
      "id": "f39728f3",
      "metadata": {
        "id": "f39728f3"
      },
      "outputs": [],
      "source": [
        "#Making sure the metadata rownames are identical to that of filenames in our featuretable in order to perform multivariate statistics\n",
        "md_Stats <- md[which(rownames(md)%in%colnames(Normalized_data)),]\n",
        "md_Stats <- md_Stats[match(colnames(Normalized_data),rownames(md_Stats)),]\n",
        "identical(colnames(Normalized_data),rownames(md_Stats))\n",
        "\n",
        "#Checking the data sparsity (amount of zeros in our data matrix):\n",
        "sum(Normalized_data == 0)/(dim(Normalized_data)[1]*dim(Normalized_data)[2])"
      ]
    },
    {
      "cell_type": "markdown",
      "id": "c0bf6359",
      "metadata": {
        "id": "c0bf6359"
      },
      "source": [
        "In our case, there are no zeros as we have already imputed them all !! Let's do some statistics."
      ]
    },
    {
      "cell_type": "markdown",
      "id": "0d1d4bbc",
      "metadata": {
        "id": "0d1d4bbc"
      },
      "source": [
        "## Principal Coordinate analysis:"
      ]
    },
    {
      "cell_type": "markdown",
      "id": "hpRW_hXmiPjs",
      "metadata": {
        "id": "hpRW_hXmiPjs"
      },
      "source": [
        "Principal coordinates analysis (PCoA) is a metric multidimensional scaling (MDS) method that attempts to represent sample dissimilarities in a low-dimensional space. It converts a distance matrix consisting of pair-wise distances (dissimilarities) across samples into a 2- or 3-D graph ([Gower, 2005](https://doi.org/10.1002/0470011815.b2a13070)). Different distance metrics can be used to calculate dissimilarities among samples (e.g. Euclidean, Canberra, Minkowski). Performing a principal coordinates analysis using the Euclidean distance metric is the same as performing a principal components analysis (PCA). Selecting the best distance metric for a given dataset is part of the 'art' of data science.\n",
        "\n",
        "Within the metabolomics field the Euclidean, Bray-Curtis, Jaccard or Canberra distances are most commonly used. The Jaccard distance is an unweighted metric (presence/absence) whereas Euclidean, Bray-Curtis and Canberra distances take into account relative abundances (weighted). "
      ]
    },
    {
      "cell_type": "markdown",
      "id": "affc3d5e",
      "metadata": {
        "id": "affc3d5e"
      },
      "source": [
        "Calculating the pairwise distances across all samples using the Bray-Curtis distance metric:"
      ]
    },
    {
      "cell_type": "code",
      "execution_count": null,
      "id": "a695c379",
      "metadata": {
        "id": "a695c379"
      },
      "outputs": [],
      "source": [
        "md_Stats <- md[which(rownames(md)%in%colnames(Normalized_data)),]\n",
        "md_Stats <- md_Stats[match(colnames(Normalized_data),rownames(md_Stats)),]\n",
        "\n",
        "dist_matrix <- bcdist(t(Normalized_data)) # transposed in order to compute the distance between the columns of a data matrix\n",
        "pcoa<- cmdscale(dist_matrix, eig = TRUE, x.ret=TRUE)\n",
        "pcoa.var.per <-round(pcoa$eig/sum(pcoa$eig)*100,1)\n",
        "pcoa.values <- pcoa$points"
      ]
    },
    {
      "cell_type": "markdown",
      "id": "9a20e6da",
      "metadata": {
        "id": "9a20e6da"
      },
      "source": [
        "Now that we have calculated our distance matrix, we can plot our PCoA analysis for any of the attributes in our metadata. Lets say, we choose the 2nd attribute \"sample type\" in the next cell, we can visualise the difference between the samples treated with and without antibiotics. "
      ]
    },
    {
      "cell_type": "code",
      "execution_count": null,
      "id": "4ff07a5c",
      "metadata": {
        "id": "4ff07a5c"
      },
      "outputs": [],
      "source": [
        "print(matrix(data=colnames(md_Stats),nrow=length(colnames(md_Stats))))\n",
        "at_int <- as.double(readline('Enter the index of your interested attribute for PCoA visualisation:'))\n",
        "\n",
        "flush.console()  \n",
        "Sys.sleep(0.2)\n",
        "\n",
        "#PCoA plot visualisation:\n",
        "pcoa.data <- data.frame(md_Stats[,at_int],\n",
        "                        X=pcoa.values[,1],\n",
        "                        Y=pcoa.values[,2])\n",
        "\n",
        "PCoA_plot <- ggplot(pcoa.data, aes(x=X, y=Y, col= as.factor(md_Stats[,at_int]))) + \n",
        "  geom_point(size=4,alpha=0.8)  +\n",
        "  ggtitle(label=\"MDS plot using Bray-Cutis Distance\") +\n",
        "  xlab(paste0(\"MDS1 : \",pcoa.var.per[1],\"%\",sep=\"\")) + \n",
        "  ylab(paste0(\"MDS2 : \",pcoa.var.per[2],\"%\",sep=\"\")) + \n",
        "  labs(color = colnames(md_Stats)[at_int]) + \n",
        "  theme(plot.title = element_text(hjust = 0.5)) \n",
        "\n",
        "PCoA_plot"
      ]
    },
    {
      "cell_type": "markdown",
      "id": "c86f4772",
      "metadata": {
        "id": "c86f4772"
      },
      "source": [
        "You can re-run the above cell with other attributes. But, when you try to visualise with attributes such as \"Timepoint\" or \"hours\", you cannot infer any trend. In such cases, we can subset our data and look at a particular condition.<br> Let us look at only the treated samples!!"
      ]
    },
    {
      "cell_type": "code",
      "execution_count": null,
      "id": "d0e4828b",
      "metadata": {
        "id": "d0e4828b"
      },
      "outputs": [],
      "source": [
        "md_Stats <- md[which(rownames(md)%in%colnames(Normalized_data)),]\n",
        "md_Stats <- md_Stats[match(colnames(Normalized_data),rownames(md_Stats)),]\n",
        "\n",
        "#Metadata subsetting based on condition:\n",
        "print(matrix(data=colnames(md_Stats),nrow=length(colnames(md_Stats))))\n",
        "Condition <- as.double(unlist(strsplit(readline(\"Enter the IDs of interested attributes separated by commas:\"),split=\",\")))\n",
        "for(i in 1:length(Condition)){\n",
        "  #Shows the different levels within each selected condition:\n",
        "  Levels_Cdtn <- levels(as.factor(md_Stats[,Condition[i]]))\n",
        "  print(matrix(Levels_Cdtn,length(Levels_Cdtn)))\n",
        "  \n",
        "  #These lines are not needed in R console, but in Jupyter Notebook to get the previous print statement working\n",
        "  flush.console()  \n",
        "  Sys.sleep(0.2)\n",
        "  \n",
        "  #Among the shown levels of an attribute, select the ones to keep\n",
        "  Cdtn <- as.double(unlist(strsplit(readline(\"Enter the IDs of condition(s) you want to KEEP (separated by commas):\"), split=',')))\n",
        "  Levels_Cdtn[Cdtn]\n",
        "  \n",
        "  #Selecting only rows in meta_filtered that match the condition\n",
        "  md_Stats <- md_Stats[(md_Stats[,Condition[i]] == Levels_Cdtn[Cdtn]),]\n",
        "}"
      ]
    },
    {
      "cell_type": "code",
      "execution_count": null,
      "id": "0c3bce6e",
      "metadata": {
        "id": "0c3bce6e"
      },
      "outputs": [],
      "source": [
        "#PCoA calculation for the subset data\n",
        "md_data <- Normalized_data[,which(colnames(Normalized_data)%in%rownames(md_Stats))] # the corresponding column files for the filtered metadata is picked from the normalized data\n",
        "\n",
        "dist_matrix <- as.matrix(bcdist(t(md_data))) # transposed in order to compute the distance between the columns of a data matrix\n",
        "pcoa<- cmdscale(dist_matrix, eig = TRUE, x.ret=TRUE)\n",
        "pcoa.var.per <-round(pcoa$eig/sum(pcoa$eig)*100,1)\n",
        "pcoa.values <- pcoa$points"
      ]
    },
    {
      "cell_type": "markdown",
      "id": "794ba89e",
      "metadata": {
        "id": "794ba89e"
      },
      "source": [
        "Now you can try to visualise the plot for different attributes and see if you can infer something from the plot. (Spoiler alert: You do observe a trend with attributes: Timepoint, hours and mins)"
      ]
    },
    {
      "cell_type": "code",
      "execution_count": null,
      "id": "fbb2b56f",
      "metadata": {
        "id": "fbb2b56f"
      },
      "outputs": [],
      "source": [
        "print(matrix(data=colnames(md_Stats),nrow=length(colnames(md_Stats))))\n",
        "at_int <- as.double(readline('Enter the index of your interested attribute for PCoA visualisation:'))\n",
        "\n",
        "flush.console()  \n",
        "Sys.sleep(0.2)\n",
        "\n",
        "#PCoA plot:\n",
        "pcoa.data <- data.frame(md_Stats[,at_int],\n",
        "                        X=pcoa.values[,1],\n",
        "                        Y=pcoa.values[,2])\n",
        "\n",
        "PCoA_plot <- ggplot(pcoa.data, aes(x=X, y=Y, col= as.factor(md_Stats[,at_int]))) + \n",
        "  geom_point(size=4,alpha=0.8)  +\n",
        "  ggtitle(label=\"MDS plot using Bray-Cutis Distance\") +\n",
        "  xlab(paste0(\"MDS1 : \",pcoa.var.per[1],\"%\",sep=\"\")) + \n",
        "  ylab(paste0(\"MDS2 : \",pcoa.var.per[2],\"%\",sep=\"\")) + \n",
        "  labs(color = 'Timepoint') + \n",
        "  theme(plot.title = element_text(hjust = 0.5)) \n",
        "\n",
        "PCoA_plot"
      ]
    },
    {
      "cell_type": "markdown",
      "id": "9557a7c1",
      "metadata": {
        "id": "9557a7c1"
      },
      "source": [
        "## Permutational multivariate analysis of variance (PERMANOVA):"
      ]
    },
    {
      "cell_type": "markdown",
      "id": "mzJvolcGj-6l",
      "metadata": {
        "id": "mzJvolcGj-6l"
      },
      "source": [
        "PERMANOVA is a non-parametric method for multivariate analysis of variance, where P-values are obtained using permutations. The metric was originally developed within the field of ecology ([Anderson, 2008](https://onlinelibrary.wiley.com/doi/10.1111/j.1442-9993.2001.01070.pp.x)) but is today widely used in other fields, including the microbiome and metabolomics field. PERMANOVA is used to compare groups of samples and tests whether the centroid and/or the spread of the samples is different between the groups. "
      ]
    },
    {
      "cell_type": "markdown",
      "id": "mjaTwY3Tkde9",
      "metadata": {
        "id": "mjaTwY3Tkde9"
      },
      "source": [
        "The adonis2() function in the vegan package can be used to perform a PERMANOVA. The input is any dissimilarity matrix and the test-statistic retrieved is a multivariate analogue to Fisher's F-ratio as well as an R2 value (Adonis R2). Here, we have used the same distance matrix we calculated for our PCoA."
      ]
    },
    {
      "cell_type": "code",
      "execution_count": null,
      "id": "b3f215de",
      "metadata": {
        "id": "b3f215de"
      },
      "outputs": [],
      "source": [
        "adonres <- adonis2(dist_matrix  ~ md_Stats[,at_int],permutations = 999, distance='bray')\n",
        "rownames(adonres)[1] <- colnames(md_Stats)[at_int]\n",
        "adonres"
      ]
    },
    {
      "cell_type": "markdown",
      "id": "dtA0FEaRkyuA",
      "metadata": {
        "id": "dtA0FEaRkyuA"
      },
      "source": [
        "The PERMANOVA test result tells us that, for P < 0.05, there is a significant difference amng the different conditions within the given attribute (significant variation expressed as the percentage of  Adonis R2)."
      ]
    },
    {
      "cell_type": "code",
      "execution_count": null,
      "id": "4f52d72d",
      "metadata": {
        "id": "4f52d72d"
      },
      "outputs": [],
      "source": [
        "PCoA_plot + labs(subtitle = paste0(\"p=\",round(adonres$'Pr(>F)'[1],4),', ' ,\"adonis-R2=\",round(adonres$'R2'[1],4)))"
      ]
    },
    {
      "cell_type": "code",
      "execution_count": null,
      "id": "4de93365",
      "metadata": {
        "id": "4de93365"
      },
      "outputs": [],
      "source": [
        "ggsave(PCoA_plot,filename=\"MDS_plot.svg\", width = 10, height = 8)"
      ]
    }
  ],
  "metadata": {
    "colab": {
      "collapsed_sections": [],
      "name": "Metabolic_Features_Filtering_v1.5.rp.ipynb",
      "provenance": [],
      "include_colab_link": true
    },
    "kernelspec": {
      "display_name": "R",
      "language": "R",
      "name": "ir"
    },
    "language_info": {
      "codemirror_mode": "r",
      "file_extension": ".r",
      "mimetype": "text/x-r-source",
      "name": "R",
      "pygments_lexer": "r",
      "version": "3.6.1"
    }
  },
  "nbformat": 4,
  "nbformat_minor": 5
}