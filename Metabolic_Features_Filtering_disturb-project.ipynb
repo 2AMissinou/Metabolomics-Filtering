{
  "cells": [
    {
      "cell_type": "markdown",
      "metadata": {
        "id": "view-in-github",
        "colab_type": "text"
      },
      "source": [
        "<a href=\"https://colab.research.google.com/github/2AMissinou/Metabolomics-Filtering/blob/main/Metabolic_Features_Filtering_disturb-project.ipynb\" target=\"_parent\"><img src=\"https://colab.research.google.com/assets/colab-badge.svg\" alt=\"Open In Colab\"/></a>"
      ]
    },
    {
      "cell_type": "markdown",
      "id": "55766981",
      "metadata": {
        "id": "55766981"
      },
      "source": [
        "# **<font color='\tdodgerblue'> Metabolic features Clean up and Multivariate analysis **<font>\n",
        "\n",
        "---\n",
        "\n",
        "Authors: Anani Amegan Missinou (anani.a.missinou@gmail.com) <br>\n",
        "Input file format: .csv files or .txt files <br>\n",
        "Outputs: .csv files  <br>\n",
        "Dependencies: ggplot2, dplyr, ecodist, vegan, svglite\\"
      ]
    },
    {
      "cell_type": "markdown",
      "source": [
        "## Use R and Python code Run rmagic by executing this command %load_ext rpy2. ipython.\n",
        "\n",
        "\n",
        "1.   Start rmagic by executing this in a cell: %load_ext rpy2. ipython. \n",
        "2.   Use %%R to execute cell magic. After that, every time you want to use R, add %%R in the beginning of each cell before code running."
      ],
      "metadata": {
        "id": "bDGe7xtpF8eU"
      },
      "id": "bDGe7xtpF8eU"
    },
    {
      "cell_type": "code",
      "execution_count": 1,
      "id": "BvfG-ihq2PZP",
      "metadata": {
        "id": "BvfG-ihq2PZP",
        "colab": {
          "base_uri": "https://localhost:8080/"
        },
        "outputId": "88718786-9258-4023-ba5c-f78da29f1f19"
      },
      "outputs": [
        {
          "output_type": "stream",
          "name": "stderr",
          "text": [
            "Installing package into ‘/usr/local/lib/R/site-library’\n",
            "(as ‘lib’ is unspecified)\n",
            "\n",
            "Installing package into ‘/usr/local/lib/R/site-library’\n",
            "(as ‘lib’ is unspecified)\n",
            "\n",
            "Installing package into ‘/usr/local/lib/R/site-library’\n",
            "(as ‘lib’ is unspecified)\n",
            "\n",
            "Installing package into ‘/usr/local/lib/R/site-library’\n",
            "(as ‘lib’ is unspecified)\n",
            "\n",
            "Installing package into ‘/usr/local/lib/R/site-library’\n",
            "(as ‘lib’ is unspecified)\n",
            "\n"
          ]
        }
      ],
      "source": [
        "#installing and calling the necessary packages:\n",
        "install.packages(\"ggplot2\")\n",
        "install.packages(\"dplyr\")\n",
        "install.packages(\"ecodist\") #for PCoA using Bray Curtis distance\n",
        "install.packages(\"vegan\") #for PermANOVA\n",
        "install.packages(\"svglite\") # for saving ggplots as svg files"
      ]
    },
    {
      "cell_type": "code",
      "execution_count": 2,
      "id": "-Rym0mXNMZ7B",
      "metadata": {
        "id": "-Rym0mXNMZ7B",
        "colab": {
          "base_uri": "https://localhost:8080/"
        },
        "outputId": "e7dfa254-e9d1-4c78-a6f9-50951e709129"
      },
      "outputs": [
        {
          "output_type": "stream",
          "name": "stderr",
          "text": [
            "Loading required package: ggplot2\n",
            "\n",
            "Loading required package: dplyr\n",
            "\n",
            "\n",
            "Attaching package: ‘dplyr’\n",
            "\n",
            "\n",
            "The following objects are masked from ‘package:stats’:\n",
            "\n",
            "    filter, lag\n",
            "\n",
            "\n",
            "The following objects are masked from ‘package:base’:\n",
            "\n",
            "    intersect, setdiff, setequal, union\n",
            "\n",
            "\n",
            "Loading required package: ecodist\n",
            "\n",
            "Loading required package: vegan\n",
            "\n",
            "Loading required package: permute\n",
            "\n",
            "Loading required package: lattice\n",
            "\n",
            "This is vegan 2.6-2\n",
            "\n",
            "\n",
            "Attaching package: ‘vegan’\n",
            "\n",
            "\n",
            "The following object is masked from ‘package:ecodist’:\n",
            "\n",
            "    mantel\n",
            "\n",
            "\n",
            "Loading required package: svglite\n",
            "\n"
          ]
        }
      ],
      "source": [
        "require(\"ggplot2\")\n",
        "require(\"dplyr\")\n",
        "require(\"ecodist\")\n",
        "require(\"vegan\")\n",
        "require(\"svglite\")"
      ]
    },
    {
      "cell_type": "markdown",
      "id": "863a44d4",
      "metadata": {
        "id": "863a44d4"
      },
      "source": [
        "## Setting a local working directory and creating an automatic result directory:\n",
        "Works well with Jupyter Notebook. If you are working with Jupyter Notebook, you can simply copy the folder path from your local computer to the next cell output line. It will be set as your working directory <br> \n",
        "For ex: D:\\User\\Project\\Test_Data <br>\n",
        "<br>\n",
        "For Google Collab, we can upload the necessary files into a new folder using the 'Files' icon on the left and set the folder as working directory. And all the ouput files will be saved here as well and you need to download them finally into your local computer"
      ]
    },
    {
      "cell_type": "code",
      "execution_count": 3,
      "id": "4734f4b6",
      "metadata": {
        "id": "4734f4b6",
        "colab": {
          "base_uri": "https://localhost:8080/"
        },
        "outputId": "cb67cde5-620d-44a0-ee33-3742fdc1bcbf"
      },
      "outputs": [
        {
          "output_type": "stream",
          "name": "stderr",
          "text": [
            "Warning message in dir.create(\"/content/data_results\"):\n",
            "“'/content/data_results' already exists”\n"
          ]
        }
      ],
      "source": [
        "# setting the current directory as the working directory\n",
        "dir.create(\"/content/data_results\")\n",
        "setwd(\"/content/data_results\")"
      ]
    },
    {
      "cell_type": "code",
      "execution_count": 4,
      "id": "og4ryyATcSju",
      "metadata": {
        "id": "og4ryyATcSju",
        "colab": {
          "base_uri": "https://localhost:8080/",
          "height": 34
        },
        "outputId": "9257f6cb-c33e-4c41-9616-2cb4b07ef0ad"
      },
      "outputs": [
        {
          "output_type": "display_data",
          "data": {
            "text/html": [
              "'/content/data_results'"
            ],
            "text/markdown": "'/content/data_results'",
            "text/latex": "'/content/data\\_results'",
            "text/plain": [
              "[1] \"/content/data_results\""
            ]
          },
          "metadata": {}
        }
      ],
      "source": [
        "getwd()"
      ]
    },
    {
      "cell_type": "markdown",
      "id": "55ab1133",
      "metadata": {
        "id": "55ab1133"
      },
      "source": [
        "**<font color='red'> In the following line, enter the required file ID numbers separated by commas. For example as: 1,2,3 </font>**"
      ]
    },
    {
      "cell_type": "code",
      "execution_count": 5,
      "id": "3ad9e910",
      "metadata": {
        "id": "3ad9e910"
      },
      "outputs": [],
      "source": [
        "nft <- read.csv('/content/220725_disturb_MZmine_POS_MS1-2_NonBlanked_NonGapFilled_4R.csv', header = T, check.names = F)\n",
        "ft <- read.csv('/content/220725_disturb_MZmine_POS_MS1-2_NonBlanked_GapFilled_4R.csv', header = T, check.names = F)\n",
        "md <- read.csv('/content/20220725_disturb_metadata.txt', header = T, check.names = F, sep = '\\t')"
      ]
    },
    {
      "cell_type": "markdown",
      "id": "4f12e24c",
      "metadata": {
        "id": "4f12e24c"
      },
      "source": [
        "Lets check if the data has been read correclty!!"
      ]
    },
    {
      "cell_type": "code",
      "execution_count": 6,
      "id": "429ff705",
      "metadata": {
        "id": "429ff705",
        "colab": {
          "base_uri": "https://localhost:8080/",
          "height": 358
        },
        "outputId": "399554be-c34a-47c3-dbc3-4742f24d07ac"
      },
      "outputs": [
        {
          "output_type": "display_data",
          "data": {
            "text/html": [
              "<table class=\"dataframe\">\n",
              "<caption>A data.frame: 6 × 29</caption>\n",
              "<thead>\n",
              "\t<tr><th></th><th scope=col>row ID</th><th scope=col>row m/z</th><th scope=col>row retention time</th><th scope=col>S01_B14_H2O_POS.mzML area</th><th scope=col>S02_B14_H2O_POS.mzML area</th><th scope=col>S03_D14_H2O_POS.mzML area</th><th scope=col>S04_D14_H2O_POS.mzML area</th><th scope=col>S20_B28_H2O_POS.mzML area</th><th scope=col>S21_B28_H2O_POS.mzML area</th><th scope=col>S22_B28_H2O_POS.mzML area</th><th scope=col>⋯</th><th scope=col>S26_B28_JN2_POS.mzML area</th><th scope=col>S27_B28_JN2_POS.mzML area</th><th scope=col>S28_B28_JN2_POS.mzML area</th><th scope=col>S29_D28_JN2_POS.mzML area</th><th scope=col>S30_D28_JN2_POS.mzML area</th><th scope=col>S31_D28_JN2_POS.mzML area</th><th scope=col>S05_Dn14_H2O_POS.mzML area</th><th scope=col>S06_Dn14_H2O_POS.mzML area</th><th scope=col>PM04_POS.mzML area</th><th scope=col>PM05_POS.mzML area</th></tr>\n",
              "\t<tr><th></th><th scope=col>&lt;int&gt;</th><th scope=col>&lt;dbl&gt;</th><th scope=col>&lt;dbl&gt;</th><th scope=col>&lt;int&gt;</th><th scope=col>&lt;int&gt;</th><th scope=col>&lt;int&gt;</th><th scope=col>&lt;int&gt;</th><th scope=col>&lt;int&gt;</th><th scope=col>&lt;int&gt;</th><th scope=col>&lt;int&gt;</th><th scope=col>⋯</th><th scope=col>&lt;dbl&gt;</th><th scope=col>&lt;dbl&gt;</th><th scope=col>&lt;dbl&gt;</th><th scope=col>&lt;dbl&gt;</th><th scope=col>&lt;dbl&gt;</th><th scope=col>&lt;dbl&gt;</th><th scope=col>&lt;dbl&gt;</th><th scope=col>&lt;dbl&gt;</th><th scope=col>&lt;dbl&gt;</th><th scope=col>&lt;dbl&gt;</th></tr>\n",
              "</thead>\n",
              "<tbody>\n",
              "\t<tr><th scope=row>1</th><td>1</td><td>303.883</td><td>0.03</td><td>  850000</td><td> 1800000</td><td> 1600000</td><td> 1200000</td><td> 2100000</td><td>  660000</td><td>  980000</td><td>⋯</td><td>1.2e+06</td><td>1.7e+06</td><td>9.1e+05</td><td>4.8e+05</td><td>6.8e+05</td><td>2.4e+06</td><td>7.2e+05</td><td>1.4e+06</td><td>1.7e+05</td><td>3.2e+06</td></tr>\n",
              "\t<tr><th scope=row>2</th><td>2</td><td>186.956</td><td>0.03</td><td> 3300000</td><td>11000000</td><td> 9800000</td><td>16000000</td><td> 2900000</td><td> 3400000</td><td> 2900000</td><td>⋯</td><td>1.3e+07</td><td>1.1e+07</td><td>3.3e+06</td><td>3.3e+06</td><td>3.3e+06</td><td>9.7e+06</td><td>3.3e+06</td><td>1.5e+07</td><td>2.5e+06</td><td>9.8e+06</td></tr>\n",
              "\t<tr><th scope=row>3</th><td>3</td><td>158.962</td><td>0.03</td><td>12000000</td><td>39000000</td><td>39000000</td><td>13000000</td><td>11000000</td><td>13000000</td><td>11000000</td><td>⋯</td><td>5.1e+07</td><td>6.1e+07</td><td>1.2e+07</td><td>1.2e+07</td><td>1.2e+07</td><td>1.1e+07</td><td>1.2e+07</td><td>5.6e+07</td><td>1.0e+07</td><td>4.3e+07</td></tr>\n",
              "\t<tr><th scope=row>4</th><td>4</td><td>275.889</td><td>0.03</td><td>  350000</td><td>  890000</td><td>  540000</td><td>  720000</td><td>  810000</td><td>  140000</td><td>  610000</td><td>⋯</td><td>5.0e+05</td><td>7.2e+05</td><td>3.3e+05</td><td>1.4e+05</td><td>2.3e+05</td><td>1.2e+06</td><td>2.2e+05</td><td>6.7e+05</td><td>1.7e+04</td><td>1.1e+06</td></tr>\n",
              "\t<tr><th scope=row>5</th><td>5</td><td>156.966</td><td>0.03</td><td>  740000</td><td> 2400000</td><td> 1900000</td><td>  810000</td><td>  680000</td><td>  770000</td><td> 3300000</td><td>⋯</td><td>2.5e+06</td><td>2.5e+06</td><td>7.5e+05</td><td>7.5e+05</td><td>7.7e+05</td><td>2.1e+06</td><td>7.6e+05</td><td>3.6e+06</td><td>6.4e+05</td><td>3.3e+06</td></tr>\n",
              "\t<tr><th scope=row>6</th><td>6</td><td>130.967</td><td>0.03</td><td> 1700000</td><td> 3600000</td><td> 6900000</td><td> 7600000</td><td> 3300000</td><td> 1800000</td><td> 6800000</td><td>⋯</td><td>7.7e+06</td><td>7.6e+06</td><td>1.7e+06</td><td>1.8e+06</td><td>9.3e+06</td><td>5.5e+06</td><td>8.6e+06</td><td>8.5e+06</td><td>1.7e+06</td><td>8.3e+06</td></tr>\n",
              "</tbody>\n",
              "</table>\n"
            ],
            "text/markdown": "\nA data.frame: 6 × 29\n\n| <!--/--> | row ID &lt;int&gt; | row m/z &lt;dbl&gt; | row retention time &lt;dbl&gt; | S01_B14_H2O_POS.mzML area &lt;int&gt; | S02_B14_H2O_POS.mzML area &lt;int&gt; | S03_D14_H2O_POS.mzML area &lt;int&gt; | S04_D14_H2O_POS.mzML area &lt;int&gt; | S20_B28_H2O_POS.mzML area &lt;int&gt; | S21_B28_H2O_POS.mzML area &lt;int&gt; | S22_B28_H2O_POS.mzML area &lt;int&gt; | ⋯ ⋯ | S26_B28_JN2_POS.mzML area &lt;dbl&gt; | S27_B28_JN2_POS.mzML area &lt;dbl&gt; | S28_B28_JN2_POS.mzML area &lt;dbl&gt; | S29_D28_JN2_POS.mzML area &lt;dbl&gt; | S30_D28_JN2_POS.mzML area &lt;dbl&gt; | S31_D28_JN2_POS.mzML area &lt;dbl&gt; | S05_Dn14_H2O_POS.mzML area &lt;dbl&gt; | S06_Dn14_H2O_POS.mzML area &lt;dbl&gt; | PM04_POS.mzML area &lt;dbl&gt; | PM05_POS.mzML area &lt;dbl&gt; |\n|---|---|---|---|---|---|---|---|---|---|---|---|---|---|---|---|---|---|---|---|---|---|\n| 1 | 1 | 303.883 | 0.03 |   850000 |  1800000 |  1600000 |  1200000 |  2100000 |   660000 |   980000 | ⋯ | 1.2e+06 | 1.7e+06 | 9.1e+05 | 4.8e+05 | 6.8e+05 | 2.4e+06 | 7.2e+05 | 1.4e+06 | 1.7e+05 | 3.2e+06 |\n| 2 | 2 | 186.956 | 0.03 |  3300000 | 11000000 |  9800000 | 16000000 |  2900000 |  3400000 |  2900000 | ⋯ | 1.3e+07 | 1.1e+07 | 3.3e+06 | 3.3e+06 | 3.3e+06 | 9.7e+06 | 3.3e+06 | 1.5e+07 | 2.5e+06 | 9.8e+06 |\n| 3 | 3 | 158.962 | 0.03 | 12000000 | 39000000 | 39000000 | 13000000 | 11000000 | 13000000 | 11000000 | ⋯ | 5.1e+07 | 6.1e+07 | 1.2e+07 | 1.2e+07 | 1.2e+07 | 1.1e+07 | 1.2e+07 | 5.6e+07 | 1.0e+07 | 4.3e+07 |\n| 4 | 4 | 275.889 | 0.03 |   350000 |   890000 |   540000 |   720000 |   810000 |   140000 |   610000 | ⋯ | 5.0e+05 | 7.2e+05 | 3.3e+05 | 1.4e+05 | 2.3e+05 | 1.2e+06 | 2.2e+05 | 6.7e+05 | 1.7e+04 | 1.1e+06 |\n| 5 | 5 | 156.966 | 0.03 |   740000 |  2400000 |  1900000 |   810000 |   680000 |   770000 |  3300000 | ⋯ | 2.5e+06 | 2.5e+06 | 7.5e+05 | 7.5e+05 | 7.7e+05 | 2.1e+06 | 7.6e+05 | 3.6e+06 | 6.4e+05 | 3.3e+06 |\n| 6 | 6 | 130.967 | 0.03 |  1700000 |  3600000 |  6900000 |  7600000 |  3300000 |  1800000 |  6800000 | ⋯ | 7.7e+06 | 7.6e+06 | 1.7e+06 | 1.8e+06 | 9.3e+06 | 5.5e+06 | 8.6e+06 | 8.5e+06 | 1.7e+06 | 8.3e+06 |\n\n",
            "text/latex": "A data.frame: 6 × 29\n\\begin{tabular}{r|lllllllllllllllllllll}\n  & row ID & row m/z & row retention time & S01\\_B14\\_H2O\\_POS.mzML area & S02\\_B14\\_H2O\\_POS.mzML area & S03\\_D14\\_H2O\\_POS.mzML area & S04\\_D14\\_H2O\\_POS.mzML area & S20\\_B28\\_H2O\\_POS.mzML area & S21\\_B28\\_H2O\\_POS.mzML area & S22\\_B28\\_H2O\\_POS.mzML area & ⋯ & S26\\_B28\\_JN2\\_POS.mzML area & S27\\_B28\\_JN2\\_POS.mzML area & S28\\_B28\\_JN2\\_POS.mzML area & S29\\_D28\\_JN2\\_POS.mzML area & S30\\_D28\\_JN2\\_POS.mzML area & S31\\_D28\\_JN2\\_POS.mzML area & S05\\_Dn14\\_H2O\\_POS.mzML area & S06\\_Dn14\\_H2O\\_POS.mzML area & PM04\\_POS.mzML area & PM05\\_POS.mzML area\\\\\n  & <int> & <dbl> & <dbl> & <int> & <int> & <int> & <int> & <int> & <int> & <int> & ⋯ & <dbl> & <dbl> & <dbl> & <dbl> & <dbl> & <dbl> & <dbl> & <dbl> & <dbl> & <dbl>\\\\\n\\hline\n\t1 & 1 & 303.883 & 0.03 &   850000 &  1800000 &  1600000 &  1200000 &  2100000 &   660000 &   980000 & ⋯ & 1.2e+06 & 1.7e+06 & 9.1e+05 & 4.8e+05 & 6.8e+05 & 2.4e+06 & 7.2e+05 & 1.4e+06 & 1.7e+05 & 3.2e+06\\\\\n\t2 & 2 & 186.956 & 0.03 &  3300000 & 11000000 &  9800000 & 16000000 &  2900000 &  3400000 &  2900000 & ⋯ & 1.3e+07 & 1.1e+07 & 3.3e+06 & 3.3e+06 & 3.3e+06 & 9.7e+06 & 3.3e+06 & 1.5e+07 & 2.5e+06 & 9.8e+06\\\\\n\t3 & 3 & 158.962 & 0.03 & 12000000 & 39000000 & 39000000 & 13000000 & 11000000 & 13000000 & 11000000 & ⋯ & 5.1e+07 & 6.1e+07 & 1.2e+07 & 1.2e+07 & 1.2e+07 & 1.1e+07 & 1.2e+07 & 5.6e+07 & 1.0e+07 & 4.3e+07\\\\\n\t4 & 4 & 275.889 & 0.03 &   350000 &   890000 &   540000 &   720000 &   810000 &   140000 &   610000 & ⋯ & 5.0e+05 & 7.2e+05 & 3.3e+05 & 1.4e+05 & 2.3e+05 & 1.2e+06 & 2.2e+05 & 6.7e+05 & 1.7e+04 & 1.1e+06\\\\\n\t5 & 5 & 156.966 & 0.03 &   740000 &  2400000 &  1900000 &   810000 &   680000 &   770000 &  3300000 & ⋯ & 2.5e+06 & 2.5e+06 & 7.5e+05 & 7.5e+05 & 7.7e+05 & 2.1e+06 & 7.6e+05 & 3.6e+06 & 6.4e+05 & 3.3e+06\\\\\n\t6 & 6 & 130.967 & 0.03 &  1700000 &  3600000 &  6900000 &  7600000 &  3300000 &  1800000 &  6800000 & ⋯ & 7.7e+06 & 7.6e+06 & 1.7e+06 & 1.8e+06 & 9.3e+06 & 5.5e+06 & 8.6e+06 & 8.5e+06 & 1.7e+06 & 8.3e+06\\\\\n\\end{tabular}\n",
            "text/plain": [
              "  row ID row m/z row retention time S01_B14_H2O_POS.mzML area\n",
              "1 1      303.883 0.03                 850000                 \n",
              "2 2      186.956 0.03                3300000                 \n",
              "3 3      158.962 0.03               12000000                 \n",
              "4 4      275.889 0.03                 350000                 \n",
              "5 5      156.966 0.03                 740000                 \n",
              "6 6      130.967 0.03                1700000                 \n",
              "  S02_B14_H2O_POS.mzML area S03_D14_H2O_POS.mzML area S04_D14_H2O_POS.mzML area\n",
              "1  1800000                   1600000                   1200000                 \n",
              "2 11000000                   9800000                  16000000                 \n",
              "3 39000000                  39000000                  13000000                 \n",
              "4   890000                    540000                    720000                 \n",
              "5  2400000                   1900000                    810000                 \n",
              "6  3600000                   6900000                   7600000                 \n",
              "  S20_B28_H2O_POS.mzML area S21_B28_H2O_POS.mzML area S22_B28_H2O_POS.mzML area\n",
              "1  2100000                    660000                    980000                 \n",
              "2  2900000                   3400000                   2900000                 \n",
              "3 11000000                  13000000                  11000000                 \n",
              "4   810000                    140000                    610000                 \n",
              "5   680000                    770000                   3300000                 \n",
              "6  3300000                   1800000                   6800000                 \n",
              "  ⋯ S26_B28_JN2_POS.mzML area S27_B28_JN2_POS.mzML area\n",
              "1 ⋯ 1.2e+06                   1.7e+06                  \n",
              "2 ⋯ 1.3e+07                   1.1e+07                  \n",
              "3 ⋯ 5.1e+07                   6.1e+07                  \n",
              "4 ⋯ 5.0e+05                   7.2e+05                  \n",
              "5 ⋯ 2.5e+06                   2.5e+06                  \n",
              "6 ⋯ 7.7e+06                   7.6e+06                  \n",
              "  S28_B28_JN2_POS.mzML area S29_D28_JN2_POS.mzML area S30_D28_JN2_POS.mzML area\n",
              "1 9.1e+05                   4.8e+05                   6.8e+05                  \n",
              "2 3.3e+06                   3.3e+06                   3.3e+06                  \n",
              "3 1.2e+07                   1.2e+07                   1.2e+07                  \n",
              "4 3.3e+05                   1.4e+05                   2.3e+05                  \n",
              "5 7.5e+05                   7.5e+05                   7.7e+05                  \n",
              "6 1.7e+06                   1.8e+06                   9.3e+06                  \n",
              "  S31_D28_JN2_POS.mzML area S05_Dn14_H2O_POS.mzML area\n",
              "1 2.4e+06                   7.2e+05                   \n",
              "2 9.7e+06                   3.3e+06                   \n",
              "3 1.1e+07                   1.2e+07                   \n",
              "4 1.2e+06                   2.2e+05                   \n",
              "5 2.1e+06                   7.6e+05                   \n",
              "6 5.5e+06                   8.6e+06                   \n",
              "  S06_Dn14_H2O_POS.mzML area PM04_POS.mzML area PM05_POS.mzML area\n",
              "1 1.4e+06                    1.7e+05            3.2e+06           \n",
              "2 1.5e+07                    2.5e+06            9.8e+06           \n",
              "3 5.6e+07                    1.0e+07            4.3e+07           \n",
              "4 6.7e+05                    1.7e+04            1.1e+06           \n",
              "5 3.6e+06                    6.4e+05            3.3e+06           \n",
              "6 8.5e+06                    1.7e+06            8.3e+06           "
            ]
          },
          "metadata": {}
        },
        {
          "output_type": "display_data",
          "data": {
            "text/html": [
              "<style>\n",
              ".list-inline {list-style: none; margin:0; padding: 0}\n",
              ".list-inline>li {display: inline-block}\n",
              ".list-inline>li:not(:last-child)::after {content: \"\\00b7\"; padding: 0 .5ex}\n",
              "</style>\n",
              "<ol class=list-inline><li>7209</li><li>29</li></ol>\n"
            ],
            "text/markdown": "1. 7209\n2. 29\n\n\n",
            "text/latex": "\\begin{enumerate*}\n\\item 7209\n\\item 29\n\\end{enumerate*}\n",
            "text/plain": [
              "[1] 7209   29"
            ]
          },
          "metadata": {}
        }
      ],
      "source": [
        "head(ft)\n",
        "dim(ft)"
      ]
    },
    {
      "cell_type": "code",
      "execution_count": 7,
      "id": "864b7231",
      "metadata": {
        "id": "864b7231",
        "colab": {
          "base_uri": "https://localhost:8080/",
          "height": 358
        },
        "outputId": "3254590d-e7c5-46c1-f121-3507d4bc66e7"
      },
      "outputs": [
        {
          "output_type": "display_data",
          "data": {
            "text/html": [
              "<table class=\"dataframe\">\n",
              "<caption>A data.frame: 6 × 29</caption>\n",
              "<thead>\n",
              "\t<tr><th></th><th scope=col>row ID</th><th scope=col>row m/z</th><th scope=col>row retention time</th><th scope=col>S01_B14_H2O_POS.mzML area</th><th scope=col>S02_B14_H2O_POS.mzML area</th><th scope=col>S03_D14_H2O_POS.mzML area</th><th scope=col>S04_D14_H2O_POS.mzML area</th><th scope=col>S20_B28_H2O_POS.mzML area</th><th scope=col>S21_B28_H2O_POS.mzML area</th><th scope=col>S22_B28_H2O_POS.mzML area</th><th scope=col>⋯</th><th scope=col>S26_B28_JN2_POS.mzML area</th><th scope=col>S27_B28_JN2_POS.mzML area</th><th scope=col>S28_B28_JN2_POS.mzML area</th><th scope=col>S29_D28_JN2_POS.mzML area</th><th scope=col>S30_D28_JN2_POS.mzML area</th><th scope=col>S31_D28_JN2_POS.mzML area</th><th scope=col>S05_Dn14_H2O_POS.mzML area</th><th scope=col>S06_Dn14_H2O_POS.mzML area</th><th scope=col>PM04_POS.mzML area</th><th scope=col>PM05_POS.mzML area</th></tr>\n",
              "\t<tr><th></th><th scope=col>&lt;int&gt;</th><th scope=col>&lt;dbl&gt;</th><th scope=col>&lt;dbl&gt;</th><th scope=col>&lt;int&gt;</th><th scope=col>&lt;int&gt;</th><th scope=col>&lt;int&gt;</th><th scope=col>&lt;int&gt;</th><th scope=col>&lt;int&gt;</th><th scope=col>&lt;int&gt;</th><th scope=col>&lt;int&gt;</th><th scope=col>⋯</th><th scope=col>&lt;dbl&gt;</th><th scope=col>&lt;dbl&gt;</th><th scope=col>&lt;dbl&gt;</th><th scope=col>&lt;dbl&gt;</th><th scope=col>&lt;dbl&gt;</th><th scope=col>&lt;dbl&gt;</th><th scope=col>&lt;dbl&gt;</th><th scope=col>&lt;dbl&gt;</th><th scope=col>&lt;dbl&gt;</th><th scope=col>&lt;dbl&gt;</th></tr>\n",
              "</thead>\n",
              "<tbody>\n",
              "\t<tr><th scope=row>1</th><td>1</td><td>303.883</td><td>0.02</td><td>850000</td><td> 1800000</td><td> 1600000</td><td> 1200000</td><td>2100000</td><td>660000</td><td> 980000</td><td>⋯</td><td>1.2e+06</td><td>1.7e+06</td><td>910000</td><td>480000</td><td> 680000</td><td>2400000</td><td> 720000</td><td>1.4e+06</td><td>0</td><td>3.2e+06</td></tr>\n",
              "\t<tr><th scope=row>2</th><td>2</td><td>186.956</td><td>0.02</td><td>     0</td><td>11000000</td><td> 9800000</td><td>16000000</td><td>      0</td><td>     0</td><td>      0</td><td>⋯</td><td>1.3e+07</td><td>1.1e+07</td><td>     0</td><td>     0</td><td>      0</td><td>9700000</td><td>      0</td><td>1.5e+07</td><td>0</td><td>9.8e+06</td></tr>\n",
              "\t<tr><th scope=row>3</th><td>3</td><td>158.962</td><td>0.02</td><td>     0</td><td>39000000</td><td>39000000</td><td>       0</td><td>      0</td><td>     0</td><td>      0</td><td>⋯</td><td>5.1e+07</td><td>6.1e+07</td><td>     0</td><td>     0</td><td>      0</td><td>      0</td><td>      0</td><td>5.6e+07</td><td>0</td><td>4.3e+07</td></tr>\n",
              "\t<tr><th scope=row>4</th><td>4</td><td>275.889</td><td>0.02</td><td>350000</td><td>  890000</td><td>  540000</td><td>  720000</td><td> 810000</td><td>     0</td><td> 610000</td><td>⋯</td><td>5.0e+05</td><td>7.2e+05</td><td>330000</td><td>     0</td><td> 230000</td><td>1200000</td><td> 220000</td><td>6.7e+05</td><td>0</td><td>1.1e+06</td></tr>\n",
              "\t<tr><th scope=row>5</th><td>5</td><td>156.966</td><td>0.02</td><td>     0</td><td> 2400000</td><td> 1900000</td><td>       0</td><td>      0</td><td>     0</td><td>3300000</td><td>⋯</td><td>2.5e+06</td><td>2.5e+06</td><td>     0</td><td>     0</td><td>      0</td><td>2100000</td><td>      0</td><td>3.6e+06</td><td>0</td><td>3.3e+06</td></tr>\n",
              "\t<tr><th scope=row>6</th><td>6</td><td>130.967</td><td>0.02</td><td>     0</td><td> 3600000</td><td> 6900000</td><td> 7600000</td><td>3300000</td><td>     0</td><td>6800000</td><td>⋯</td><td>7.7e+06</td><td>7.6e+06</td><td>     0</td><td>     0</td><td>9300000</td><td>5500000</td><td>8600000</td><td>8.5e+06</td><td>0</td><td>8.3e+06</td></tr>\n",
              "</tbody>\n",
              "</table>\n"
            ],
            "text/markdown": "\nA data.frame: 6 × 29\n\n| <!--/--> | row ID &lt;int&gt; | row m/z &lt;dbl&gt; | row retention time &lt;dbl&gt; | S01_B14_H2O_POS.mzML area &lt;int&gt; | S02_B14_H2O_POS.mzML area &lt;int&gt; | S03_D14_H2O_POS.mzML area &lt;int&gt; | S04_D14_H2O_POS.mzML area &lt;int&gt; | S20_B28_H2O_POS.mzML area &lt;int&gt; | S21_B28_H2O_POS.mzML area &lt;int&gt; | S22_B28_H2O_POS.mzML area &lt;int&gt; | ⋯ ⋯ | S26_B28_JN2_POS.mzML area &lt;dbl&gt; | S27_B28_JN2_POS.mzML area &lt;dbl&gt; | S28_B28_JN2_POS.mzML area &lt;dbl&gt; | S29_D28_JN2_POS.mzML area &lt;dbl&gt; | S30_D28_JN2_POS.mzML area &lt;dbl&gt; | S31_D28_JN2_POS.mzML area &lt;dbl&gt; | S05_Dn14_H2O_POS.mzML area &lt;dbl&gt; | S06_Dn14_H2O_POS.mzML area &lt;dbl&gt; | PM04_POS.mzML area &lt;dbl&gt; | PM05_POS.mzML area &lt;dbl&gt; |\n|---|---|---|---|---|---|---|---|---|---|---|---|---|---|---|---|---|---|---|---|---|---|\n| 1 | 1 | 303.883 | 0.02 | 850000 |  1800000 |  1600000 |  1200000 | 2100000 | 660000 |  980000 | ⋯ | 1.2e+06 | 1.7e+06 | 910000 | 480000 |  680000 | 2400000 |  720000 | 1.4e+06 | 0 | 3.2e+06 |\n| 2 | 2 | 186.956 | 0.02 |      0 | 11000000 |  9800000 | 16000000 |       0 |      0 |       0 | ⋯ | 1.3e+07 | 1.1e+07 |      0 |      0 |       0 | 9700000 |       0 | 1.5e+07 | 0 | 9.8e+06 |\n| 3 | 3 | 158.962 | 0.02 |      0 | 39000000 | 39000000 |        0 |       0 |      0 |       0 | ⋯ | 5.1e+07 | 6.1e+07 |      0 |      0 |       0 |       0 |       0 | 5.6e+07 | 0 | 4.3e+07 |\n| 4 | 4 | 275.889 | 0.02 | 350000 |   890000 |   540000 |   720000 |  810000 |      0 |  610000 | ⋯ | 5.0e+05 | 7.2e+05 | 330000 |      0 |  230000 | 1200000 |  220000 | 6.7e+05 | 0 | 1.1e+06 |\n| 5 | 5 | 156.966 | 0.02 |      0 |  2400000 |  1900000 |        0 |       0 |      0 | 3300000 | ⋯ | 2.5e+06 | 2.5e+06 |      0 |      0 |       0 | 2100000 |       0 | 3.6e+06 | 0 | 3.3e+06 |\n| 6 | 6 | 130.967 | 0.02 |      0 |  3600000 |  6900000 |  7600000 | 3300000 |      0 | 6800000 | ⋯ | 7.7e+06 | 7.6e+06 |      0 |      0 | 9300000 | 5500000 | 8600000 | 8.5e+06 | 0 | 8.3e+06 |\n\n",
            "text/latex": "A data.frame: 6 × 29\n\\begin{tabular}{r|lllllllllllllllllllll}\n  & row ID & row m/z & row retention time & S01\\_B14\\_H2O\\_POS.mzML area & S02\\_B14\\_H2O\\_POS.mzML area & S03\\_D14\\_H2O\\_POS.mzML area & S04\\_D14\\_H2O\\_POS.mzML area & S20\\_B28\\_H2O\\_POS.mzML area & S21\\_B28\\_H2O\\_POS.mzML area & S22\\_B28\\_H2O\\_POS.mzML area & ⋯ & S26\\_B28\\_JN2\\_POS.mzML area & S27\\_B28\\_JN2\\_POS.mzML area & S28\\_B28\\_JN2\\_POS.mzML area & S29\\_D28\\_JN2\\_POS.mzML area & S30\\_D28\\_JN2\\_POS.mzML area & S31\\_D28\\_JN2\\_POS.mzML area & S05\\_Dn14\\_H2O\\_POS.mzML area & S06\\_Dn14\\_H2O\\_POS.mzML area & PM04\\_POS.mzML area & PM05\\_POS.mzML area\\\\\n  & <int> & <dbl> & <dbl> & <int> & <int> & <int> & <int> & <int> & <int> & <int> & ⋯ & <dbl> & <dbl> & <dbl> & <dbl> & <dbl> & <dbl> & <dbl> & <dbl> & <dbl> & <dbl>\\\\\n\\hline\n\t1 & 1 & 303.883 & 0.02 & 850000 &  1800000 &  1600000 &  1200000 & 2100000 & 660000 &  980000 & ⋯ & 1.2e+06 & 1.7e+06 & 910000 & 480000 &  680000 & 2400000 &  720000 & 1.4e+06 & 0 & 3.2e+06\\\\\n\t2 & 2 & 186.956 & 0.02 &      0 & 11000000 &  9800000 & 16000000 &       0 &      0 &       0 & ⋯ & 1.3e+07 & 1.1e+07 &      0 &      0 &       0 & 9700000 &       0 & 1.5e+07 & 0 & 9.8e+06\\\\\n\t3 & 3 & 158.962 & 0.02 &      0 & 39000000 & 39000000 &        0 &       0 &      0 &       0 & ⋯ & 5.1e+07 & 6.1e+07 &      0 &      0 &       0 &       0 &       0 & 5.6e+07 & 0 & 4.3e+07\\\\\n\t4 & 4 & 275.889 & 0.02 & 350000 &   890000 &   540000 &   720000 &  810000 &      0 &  610000 & ⋯ & 5.0e+05 & 7.2e+05 & 330000 &      0 &  230000 & 1200000 &  220000 & 6.7e+05 & 0 & 1.1e+06\\\\\n\t5 & 5 & 156.966 & 0.02 &      0 &  2400000 &  1900000 &        0 &       0 &      0 & 3300000 & ⋯ & 2.5e+06 & 2.5e+06 &      0 &      0 &       0 & 2100000 &       0 & 3.6e+06 & 0 & 3.3e+06\\\\\n\t6 & 6 & 130.967 & 0.02 &      0 &  3600000 &  6900000 &  7600000 & 3300000 &      0 & 6800000 & ⋯ & 7.7e+06 & 7.6e+06 &      0 &      0 & 9300000 & 5500000 & 8600000 & 8.5e+06 & 0 & 8.3e+06\\\\\n\\end{tabular}\n",
            "text/plain": [
              "  row ID row m/z row retention time S01_B14_H2O_POS.mzML area\n",
              "1 1      303.883 0.02               850000                   \n",
              "2 2      186.956 0.02                    0                   \n",
              "3 3      158.962 0.02                    0                   \n",
              "4 4      275.889 0.02               350000                   \n",
              "5 5      156.966 0.02                    0                   \n",
              "6 6      130.967 0.02                    0                   \n",
              "  S02_B14_H2O_POS.mzML area S03_D14_H2O_POS.mzML area S04_D14_H2O_POS.mzML area\n",
              "1  1800000                   1600000                   1200000                 \n",
              "2 11000000                   9800000                  16000000                 \n",
              "3 39000000                  39000000                         0                 \n",
              "4   890000                    540000                    720000                 \n",
              "5  2400000                   1900000                         0                 \n",
              "6  3600000                   6900000                   7600000                 \n",
              "  S20_B28_H2O_POS.mzML area S21_B28_H2O_POS.mzML area S22_B28_H2O_POS.mzML area\n",
              "1 2100000                   660000                     980000                  \n",
              "2       0                        0                          0                  \n",
              "3       0                        0                          0                  \n",
              "4  810000                        0                     610000                  \n",
              "5       0                        0                    3300000                  \n",
              "6 3300000                        0                    6800000                  \n",
              "  ⋯ S26_B28_JN2_POS.mzML area S27_B28_JN2_POS.mzML area\n",
              "1 ⋯ 1.2e+06                   1.7e+06                  \n",
              "2 ⋯ 1.3e+07                   1.1e+07                  \n",
              "3 ⋯ 5.1e+07                   6.1e+07                  \n",
              "4 ⋯ 5.0e+05                   7.2e+05                  \n",
              "5 ⋯ 2.5e+06                   2.5e+06                  \n",
              "6 ⋯ 7.7e+06                   7.6e+06                  \n",
              "  S28_B28_JN2_POS.mzML area S29_D28_JN2_POS.mzML area S30_D28_JN2_POS.mzML area\n",
              "1 910000                    480000                     680000                  \n",
              "2      0                         0                          0                  \n",
              "3      0                         0                          0                  \n",
              "4 330000                         0                     230000                  \n",
              "5      0                         0                          0                  \n",
              "6      0                         0                    9300000                  \n",
              "  S31_D28_JN2_POS.mzML area S05_Dn14_H2O_POS.mzML area\n",
              "1 2400000                    720000                   \n",
              "2 9700000                         0                   \n",
              "3       0                         0                   \n",
              "4 1200000                    220000                   \n",
              "5 2100000                         0                   \n",
              "6 5500000                   8600000                   \n",
              "  S06_Dn14_H2O_POS.mzML area PM04_POS.mzML area PM05_POS.mzML area\n",
              "1 1.4e+06                    0                  3.2e+06           \n",
              "2 1.5e+07                    0                  9.8e+06           \n",
              "3 5.6e+07                    0                  4.3e+07           \n",
              "4 6.7e+05                    0                  1.1e+06           \n",
              "5 3.6e+06                    0                  3.3e+06           \n",
              "6 8.5e+06                    0                  8.3e+06           "
            ]
          },
          "metadata": {}
        },
        {
          "output_type": "display_data",
          "data": {
            "text/html": [
              "<style>\n",
              ".list-inline {list-style: none; margin:0; padding: 0}\n",
              ".list-inline>li {display: inline-block}\n",
              ".list-inline>li:not(:last-child)::after {content: \"\\00b7\"; padding: 0 .5ex}\n",
              "</style>\n",
              "<ol class=list-inline><li>7209</li><li>29</li></ol>\n"
            ],
            "text/markdown": "1. 7209\n2. 29\n\n\n",
            "text/latex": "\\begin{enumerate*}\n\\item 7209\n\\item 29\n\\end{enumerate*}\n",
            "text/plain": [
              "[1] 7209   29"
            ]
          },
          "metadata": {}
        }
      ],
      "source": [
        "head(nft)\n",
        "dim(nft)"
      ]
    },
    {
      "cell_type": "code",
      "execution_count": 8,
      "id": "a7bf0865",
      "metadata": {
        "colab": {
          "base_uri": "https://localhost:8080/",
          "height": 428
        },
        "id": "a7bf0865",
        "outputId": "409e5a94-2473-446f-d00d-46612f5c0402"
      },
      "outputs": [
        {
          "output_type": "display_data",
          "data": {
            "text/html": [
              "<table class=\"dataframe\">\n",
              "<caption>A data.frame: 6 × 26</caption>\n",
              "<thead>\n",
              "\t<tr><th></th><th scope=col>filename</th><th scope=col>ATTRIBUTE_species</th><th scope=col>ATTRIBUTE_SampleType</th><th scope=col>ATTRIBUTE_timepoint</th><th scope=col>ATTRIBUTE_replicates</th><th scope=col>Accessions</th><th scope=col>Treatments</th><th scope=col>Kinetics</th><th scope=col>Samples_code</th><th scope=col>Conditions_code</th><th scope=col>⋯</th><th scope=col>B14_B28_D14_D28_H2O</th><th scope=col>B14_D14_H2O</th><th scope=col>B28_D28_H2O</th><th scope=col>B14_D14_JN2</th><th scope=col>B28_D28_JN2</th><th scope=col>B14_B28_D14_D28_JN2</th><th scope=col>BJN2_14</th><th scope=col>DJN2_14</th><th scope=col>BJN2_28</th><th scope=col>DJN2_28</th></tr>\n",
              "\t<tr><th></th><th scope=col>&lt;chr&gt;</th><th scope=col>&lt;chr&gt;</th><th scope=col>&lt;chr&gt;</th><th scope=col>&lt;chr&gt;</th><th scope=col>&lt;int&gt;</th><th scope=col>&lt;chr&gt;</th><th scope=col>&lt;chr&gt;</th><th scope=col>&lt;chr&gt;</th><th scope=col>&lt;chr&gt;</th><th scope=col>&lt;chr&gt;</th><th scope=col>⋯</th><th scope=col>&lt;chr&gt;</th><th scope=col>&lt;chr&gt;</th><th scope=col>&lt;chr&gt;</th><th scope=col>&lt;chr&gt;</th><th scope=col>&lt;chr&gt;</th><th scope=col>&lt;chr&gt;</th><th scope=col>&lt;chr&gt;</th><th scope=col>&lt;chr&gt;</th><th scope=col>&lt;chr&gt;</th><th scope=col>&lt;chr&gt;</th></tr>\n",
              "</thead>\n",
              "<tbody>\n",
              "\t<tr><th scope=row>1</th><td>S01_B14_H2O_POS.mzML area</td><td>Bristol</td><td>Without_Treatment</td><td>14dpi</td><td>1</td><td>Bristol</td><td>H2O</td><td>14dpi</td><td>B14_H2O_rep1</td><td>Bristol_14_H2O</td><td>⋯</td><td>Bristol_Control</td><td>Bristol_14_H2O</td><td>NA            </td><td>NA</td><td>NA</td><td>NA</td><td>Bristol_14_H2O</td><td>NA           </td><td>NA            </td><td>NA</td></tr>\n",
              "\t<tr><th scope=row>2</th><td>S02_B14_H2O_POS.mzML area</td><td>Bristol</td><td>Without_Treatment</td><td>14dpi</td><td>2</td><td>Bristol</td><td>H2O</td><td>14dpi</td><td>B14_H2O_rep2</td><td>Bristol_14_H2O</td><td>⋯</td><td>Bristol_Control</td><td>Bristol_14_H2O</td><td>NA            </td><td>NA</td><td>NA</td><td>NA</td><td>Bristol_14_H2O</td><td>NA           </td><td>NA            </td><td>NA</td></tr>\n",
              "\t<tr><th scope=row>3</th><td>S03_D14_H2O_POS.mzML area</td><td>Darmor </td><td>Without_Treatment</td><td>14dpi</td><td>1</td><td>Darmor </td><td>H2O</td><td>14dpi</td><td>D14_H2O_rep1</td><td>Darmor_14_H2O </td><td>⋯</td><td>Darmor_Control </td><td>Darmor_14_H2O </td><td>NA            </td><td>NA</td><td>NA</td><td>NA</td><td>NA            </td><td>Darmor_14_H2O</td><td>NA            </td><td>NA</td></tr>\n",
              "\t<tr><th scope=row>4</th><td>S04_D14_H2O_POS.mzML area</td><td>Darmor </td><td>Without_Treatment</td><td>14dpi</td><td>2</td><td>Darmor </td><td>H2O</td><td>14dpi</td><td>D14_H2O_rep2</td><td>Darmor_14_H2O </td><td>⋯</td><td>Darmor_Control </td><td>Darmor_14_H2O </td><td>NA            </td><td>NA</td><td>NA</td><td>NA</td><td>NA            </td><td>Darmor_14_H2O</td><td>NA            </td><td>NA</td></tr>\n",
              "\t<tr><th scope=row>5</th><td>S20_B28_H2O_POS.mzML area</td><td>Bristol</td><td>Without_Treatment</td><td>28dpi</td><td>1</td><td>Bristol</td><td>H2O</td><td>28dpi</td><td>B28_H2O_rep1</td><td>Bristol_28_H2O</td><td>⋯</td><td>Bristol_Control</td><td>NA            </td><td>Bristol_28_H2O</td><td>NA</td><td>NA</td><td>NA</td><td>NA            </td><td>NA           </td><td>Bristol_28_H2O</td><td>NA</td></tr>\n",
              "\t<tr><th scope=row>6</th><td>S21_B28_H2O_POS.mzML area</td><td>Bristol</td><td>Without_Treatment</td><td>28dpi</td><td>2</td><td>Bristol</td><td>H2O</td><td>28dpi</td><td>B28_H2O_rep2</td><td>Bristol_28_H2O</td><td>⋯</td><td>Bristol_Control</td><td>NA            </td><td>Bristol_28_H2O</td><td>NA</td><td>NA</td><td>NA</td><td>NA            </td><td>NA           </td><td>Bristol_28_H2O</td><td>NA</td></tr>\n",
              "</tbody>\n",
              "</table>\n"
            ],
            "text/markdown": "\nA data.frame: 6 × 26\n\n| <!--/--> | filename &lt;chr&gt; | ATTRIBUTE_species &lt;chr&gt; | ATTRIBUTE_SampleType &lt;chr&gt; | ATTRIBUTE_timepoint &lt;chr&gt; | ATTRIBUTE_replicates &lt;int&gt; | Accessions &lt;chr&gt; | Treatments &lt;chr&gt; | Kinetics &lt;chr&gt; | Samples_code &lt;chr&gt; | Conditions_code &lt;chr&gt; | ⋯ ⋯ | B14_B28_D14_D28_H2O &lt;chr&gt; | B14_D14_H2O &lt;chr&gt; | B28_D28_H2O &lt;chr&gt; | B14_D14_JN2 &lt;chr&gt; | B28_D28_JN2 &lt;chr&gt; | B14_B28_D14_D28_JN2 &lt;chr&gt; | BJN2_14 &lt;chr&gt; | DJN2_14 &lt;chr&gt; | BJN2_28 &lt;chr&gt; | DJN2_28 &lt;chr&gt; |\n|---|---|---|---|---|---|---|---|---|---|---|---|---|---|---|---|---|---|---|---|---|---|\n| 1 | S01_B14_H2O_POS.mzML area | Bristol | Without_Treatment | 14dpi | 1 | Bristol | H2O | 14dpi | B14_H2O_rep1 | Bristol_14_H2O | ⋯ | Bristol_Control | Bristol_14_H2O | NA             | NA | NA | NA | Bristol_14_H2O | NA            | NA             | NA |\n| 2 | S02_B14_H2O_POS.mzML area | Bristol | Without_Treatment | 14dpi | 2 | Bristol | H2O | 14dpi | B14_H2O_rep2 | Bristol_14_H2O | ⋯ | Bristol_Control | Bristol_14_H2O | NA             | NA | NA | NA | Bristol_14_H2O | NA            | NA             | NA |\n| 3 | S03_D14_H2O_POS.mzML area | Darmor  | Without_Treatment | 14dpi | 1 | Darmor  | H2O | 14dpi | D14_H2O_rep1 | Darmor_14_H2O  | ⋯ | Darmor_Control  | Darmor_14_H2O  | NA             | NA | NA | NA | NA             | Darmor_14_H2O | NA             | NA |\n| 4 | S04_D14_H2O_POS.mzML area | Darmor  | Without_Treatment | 14dpi | 2 | Darmor  | H2O | 14dpi | D14_H2O_rep2 | Darmor_14_H2O  | ⋯ | Darmor_Control  | Darmor_14_H2O  | NA             | NA | NA | NA | NA             | Darmor_14_H2O | NA             | NA |\n| 5 | S20_B28_H2O_POS.mzML area | Bristol | Without_Treatment | 28dpi | 1 | Bristol | H2O | 28dpi | B28_H2O_rep1 | Bristol_28_H2O | ⋯ | Bristol_Control | NA             | Bristol_28_H2O | NA | NA | NA | NA             | NA            | Bristol_28_H2O | NA |\n| 6 | S21_B28_H2O_POS.mzML area | Bristol | Without_Treatment | 28dpi | 2 | Bristol | H2O | 28dpi | B28_H2O_rep2 | Bristol_28_H2O | ⋯ | Bristol_Control | NA             | Bristol_28_H2O | NA | NA | NA | NA             | NA            | Bristol_28_H2O | NA |\n\n",
            "text/latex": "A data.frame: 6 × 26\n\\begin{tabular}{r|lllllllllllllllllllll}\n  & filename & ATTRIBUTE\\_species & ATTRIBUTE\\_SampleType & ATTRIBUTE\\_timepoint & ATTRIBUTE\\_replicates & Accessions & Treatments & Kinetics & Samples\\_code & Conditions\\_code & ⋯ & B14\\_B28\\_D14\\_D28\\_H2O & B14\\_D14\\_H2O & B28\\_D28\\_H2O & B14\\_D14\\_JN2 & B28\\_D28\\_JN2 & B14\\_B28\\_D14\\_D28\\_JN2 & BJN2\\_14 & DJN2\\_14 & BJN2\\_28 & DJN2\\_28\\\\\n  & <chr> & <chr> & <chr> & <chr> & <int> & <chr> & <chr> & <chr> & <chr> & <chr> & ⋯ & <chr> & <chr> & <chr> & <chr> & <chr> & <chr> & <chr> & <chr> & <chr> & <chr>\\\\\n\\hline\n\t1 & S01\\_B14\\_H2O\\_POS.mzML area & Bristol & Without\\_Treatment & 14dpi & 1 & Bristol & H2O & 14dpi & B14\\_H2O\\_rep1 & Bristol\\_14\\_H2O & ⋯ & Bristol\\_Control & Bristol\\_14\\_H2O & NA             & NA & NA & NA & Bristol\\_14\\_H2O & NA            & NA             & NA\\\\\n\t2 & S02\\_B14\\_H2O\\_POS.mzML area & Bristol & Without\\_Treatment & 14dpi & 2 & Bristol & H2O & 14dpi & B14\\_H2O\\_rep2 & Bristol\\_14\\_H2O & ⋯ & Bristol\\_Control & Bristol\\_14\\_H2O & NA             & NA & NA & NA & Bristol\\_14\\_H2O & NA            & NA             & NA\\\\\n\t3 & S03\\_D14\\_H2O\\_POS.mzML area & Darmor  & Without\\_Treatment & 14dpi & 1 & Darmor  & H2O & 14dpi & D14\\_H2O\\_rep1 & Darmor\\_14\\_H2O  & ⋯ & Darmor\\_Control  & Darmor\\_14\\_H2O  & NA             & NA & NA & NA & NA             & Darmor\\_14\\_H2O & NA             & NA\\\\\n\t4 & S04\\_D14\\_H2O\\_POS.mzML area & Darmor  & Without\\_Treatment & 14dpi & 2 & Darmor  & H2O & 14dpi & D14\\_H2O\\_rep2 & Darmor\\_14\\_H2O  & ⋯ & Darmor\\_Control  & Darmor\\_14\\_H2O  & NA             & NA & NA & NA & NA             & Darmor\\_14\\_H2O & NA             & NA\\\\\n\t5 & S20\\_B28\\_H2O\\_POS.mzML area & Bristol & Without\\_Treatment & 28dpi & 1 & Bristol & H2O & 28dpi & B28\\_H2O\\_rep1 & Bristol\\_28\\_H2O & ⋯ & Bristol\\_Control & NA             & Bristol\\_28\\_H2O & NA & NA & NA & NA             & NA            & Bristol\\_28\\_H2O & NA\\\\\n\t6 & S21\\_B28\\_H2O\\_POS.mzML area & Bristol & Without\\_Treatment & 28dpi & 2 & Bristol & H2O & 28dpi & B28\\_H2O\\_rep2 & Bristol\\_28\\_H2O & ⋯ & Bristol\\_Control & NA             & Bristol\\_28\\_H2O & NA & NA & NA & NA             & NA            & Bristol\\_28\\_H2O & NA\\\\\n\\end{tabular}\n",
            "text/plain": [
              "  filename                  ATTRIBUTE_species ATTRIBUTE_SampleType\n",
              "1 S01_B14_H2O_POS.mzML area Bristol           Without_Treatment   \n",
              "2 S02_B14_H2O_POS.mzML area Bristol           Without_Treatment   \n",
              "3 S03_D14_H2O_POS.mzML area Darmor            Without_Treatment   \n",
              "4 S04_D14_H2O_POS.mzML area Darmor            Without_Treatment   \n",
              "5 S20_B28_H2O_POS.mzML area Bristol           Without_Treatment   \n",
              "6 S21_B28_H2O_POS.mzML area Bristol           Without_Treatment   \n",
              "  ATTRIBUTE_timepoint ATTRIBUTE_replicates Accessions Treatments Kinetics\n",
              "1 14dpi               1                    Bristol    H2O        14dpi   \n",
              "2 14dpi               2                    Bristol    H2O        14dpi   \n",
              "3 14dpi               1                    Darmor     H2O        14dpi   \n",
              "4 14dpi               2                    Darmor     H2O        14dpi   \n",
              "5 28dpi               1                    Bristol    H2O        28dpi   \n",
              "6 28dpi               2                    Bristol    H2O        28dpi   \n",
              "  Samples_code Conditions_code ⋯ B14_B28_D14_D28_H2O B14_D14_H2O   \n",
              "1 B14_H2O_rep1 Bristol_14_H2O  ⋯ Bristol_Control     Bristol_14_H2O\n",
              "2 B14_H2O_rep2 Bristol_14_H2O  ⋯ Bristol_Control     Bristol_14_H2O\n",
              "3 D14_H2O_rep1 Darmor_14_H2O   ⋯ Darmor_Control      Darmor_14_H2O \n",
              "4 D14_H2O_rep2 Darmor_14_H2O   ⋯ Darmor_Control      Darmor_14_H2O \n",
              "5 B28_H2O_rep1 Bristol_28_H2O  ⋯ Bristol_Control     NA            \n",
              "6 B28_H2O_rep2 Bristol_28_H2O  ⋯ Bristol_Control     NA            \n",
              "  B28_D28_H2O    B14_D14_JN2 B28_D28_JN2 B14_B28_D14_D28_JN2 BJN2_14       \n",
              "1 NA             NA          NA          NA                  Bristol_14_H2O\n",
              "2 NA             NA          NA          NA                  Bristol_14_H2O\n",
              "3 NA             NA          NA          NA                  NA            \n",
              "4 NA             NA          NA          NA                  NA            \n",
              "5 Bristol_28_H2O NA          NA          NA                  NA            \n",
              "6 Bristol_28_H2O NA          NA          NA                  NA            \n",
              "  DJN2_14       BJN2_28        DJN2_28\n",
              "1 NA            NA             NA     \n",
              "2 NA            NA             NA     \n",
              "3 Darmor_14_H2O NA             NA     \n",
              "4 Darmor_14_H2O NA             NA     \n",
              "5 NA            Bristol_28_H2O NA     \n",
              "6 NA            Bristol_28_H2O NA     "
            ]
          },
          "metadata": {}
        },
        {
          "output_type": "display_data",
          "data": {
            "text/html": [
              "<style>\n",
              ".list-inline {list-style: none; margin:0; padding: 0}\n",
              ".list-inline>li {display: inline-block}\n",
              ".list-inline>li:not(:last-child)::after {content: \"\\00b7\"; padding: 0 .5ex}\n",
              "</style>\n",
              "<ol class=list-inline><li>26</li><li>26</li></ol>\n"
            ],
            "text/markdown": "1. 26\n2. 26\n\n\n",
            "text/latex": "\\begin{enumerate*}\n\\item 26\n\\item 26\n\\end{enumerate*}\n",
            "text/plain": [
              "[1] 26 26"
            ]
          },
          "metadata": {}
        }
      ],
      "source": [
        "head(md)\n",
        "dim(md)"
      ]
    },
    {
      "cell_type": "markdown",
      "id": "f19073e0",
      "metadata": {
        "id": "f19073e0"
      },
      "source": [
        "Trying to bring the feature table and metadata in the correct format such as the rownames of metadata and column names of feature table are the same. They both are the file names and they need to be same as from now on, we will call the columns in our feature table based on our metadata information. Thus, using the metadata, the user can filter their data easily. You can also directly deal with your feature table without metadata by getting your hands dirty with some coding!! But having a metadata improves the user-experience greatly."
      ]
    },
    {
      "cell_type": "code",
      "execution_count": 9,
      "id": "25ffd93c",
      "metadata": {
        "id": "25ffd93c"
      },
      "outputs": [],
      "source": [
        "#Removing Peak area extensions\n",
        "colnames(ft) <- gsub(' Peak area','',colnames(ft))\n",
        "colnames(nft) <- gsub(' Peak area','',colnames(nft))\n",
        "md$filename<- gsub(' Peak area','',md$filename)\n",
        "\n",
        "#Removing if any NA columns present in the md file\n",
        "ft <- ft[,colSums(is.na(ft))<nrow(ft)]\n",
        "nft <- nft[,colSums(is.na(nft))<nrow(nft)]\n",
        "md <- md[,colSums(is.na(md))<nrow(md)]\n",
        "\n",
        "#Changing the row names of the files\n",
        "rownames(md) <- md$filename\n",
        "md <- md[,-1]\n",
        "rownames(ft) <- paste(ft$'row ID',round(ft$'row m/z',digits = 3),round(ft$'row retention time',digits = 3), sep = '_')\n",
        "rownames(nft) <- paste(nft$'row ID',round(nft$'row m/z',digits = 3),round(nft$'row retention time',digits = 3), sep = '_')\n",
        "\n",
        "#Picking only the files with column names containing 'mzML'\n",
        "ft <- ft[,grep('mzML',colnames(ft))]\n",
        "nft <- nft[,grep('mzML',colnames(nft))]\n",
        "\n",
        "# Converting replicate attributes into factors (categorical data)\n",
        "md$ATTRIBUTE_replicates <- as.factor(md$ATTRIBUTE_replicates)"
      ]
    },
    {
      "cell_type": "markdown",
      "id": "e927cf45",
      "metadata": {
        "id": "e927cf45"
      },
      "source": [
        "Lets check the files once again!!"
      ]
    },
    {
      "cell_type": "code",
      "execution_count": 10,
      "id": "e76fb0e3",
      "metadata": {
        "colab": {
          "base_uri": "https://localhost:8080/",
          "height": 341
        },
        "id": "e76fb0e3",
        "outputId": "6148c94b-7e25-4203-b9bc-2c40c5b96819"
      },
      "outputs": [
        {
          "output_type": "display_data",
          "data": {
            "text/html": [
              "<table class=\"dataframe\">\n",
              "<caption>A data.frame: 6 × 26</caption>\n",
              "<thead>\n",
              "\t<tr><th></th><th scope=col>S01_B14_H2O_POS.mzML area</th><th scope=col>S02_B14_H2O_POS.mzML area</th><th scope=col>S03_D14_H2O_POS.mzML area</th><th scope=col>S04_D14_H2O_POS.mzML area</th><th scope=col>S20_B28_H2O_POS.mzML area</th><th scope=col>S21_B28_H2O_POS.mzML area</th><th scope=col>S22_B28_H2O_POS.mzML area</th><th scope=col>S23_D28_H2O_POS.mzML area</th><th scope=col>S24_D28_H2O_POS.mzML area</th><th scope=col>S25_D28_H2O_POS.mzML area</th><th scope=col>⋯</th><th scope=col>S26_B28_JN2_POS.mzML area</th><th scope=col>S27_B28_JN2_POS.mzML area</th><th scope=col>S28_B28_JN2_POS.mzML area</th><th scope=col>S29_D28_JN2_POS.mzML area</th><th scope=col>S30_D28_JN2_POS.mzML area</th><th scope=col>S31_D28_JN2_POS.mzML area</th><th scope=col>S05_Dn14_H2O_POS.mzML area</th><th scope=col>S06_Dn14_H2O_POS.mzML area</th><th scope=col>PM04_POS.mzML area</th><th scope=col>PM05_POS.mzML area</th></tr>\n",
              "\t<tr><th></th><th scope=col>&lt;int&gt;</th><th scope=col>&lt;int&gt;</th><th scope=col>&lt;int&gt;</th><th scope=col>&lt;int&gt;</th><th scope=col>&lt;int&gt;</th><th scope=col>&lt;int&gt;</th><th scope=col>&lt;int&gt;</th><th scope=col>&lt;int&gt;</th><th scope=col>&lt;int&gt;</th><th scope=col>&lt;int&gt;</th><th scope=col>⋯</th><th scope=col>&lt;dbl&gt;</th><th scope=col>&lt;dbl&gt;</th><th scope=col>&lt;dbl&gt;</th><th scope=col>&lt;dbl&gt;</th><th scope=col>&lt;dbl&gt;</th><th scope=col>&lt;dbl&gt;</th><th scope=col>&lt;dbl&gt;</th><th scope=col>&lt;dbl&gt;</th><th scope=col>&lt;dbl&gt;</th><th scope=col>&lt;dbl&gt;</th></tr>\n",
              "</thead>\n",
              "<tbody>\n",
              "\t<tr><th scope=row>1_303.883_0.02</th><td>850000</td><td> 1800000</td><td> 1600000</td><td> 1200000</td><td>2100000</td><td>660000</td><td> 980000</td><td>1400000</td><td> 3000000</td><td> 990000</td><td>⋯</td><td>1.2e+06</td><td>1.7e+06</td><td>910000</td><td>480000</td><td> 680000</td><td>2400000</td><td> 720000</td><td>1.4e+06</td><td>0</td><td>3.2e+06</td></tr>\n",
              "\t<tr><th scope=row>2_186.956_0.02</th><td>     0</td><td>11000000</td><td> 9800000</td><td>16000000</td><td>      0</td><td>     0</td><td>      0</td><td>      0</td><td>12000000</td><td>      0</td><td>⋯</td><td>1.3e+07</td><td>1.1e+07</td><td>     0</td><td>     0</td><td>      0</td><td>9700000</td><td>      0</td><td>1.5e+07</td><td>0</td><td>9.8e+06</td></tr>\n",
              "\t<tr><th scope=row>3_158.962_0.02</th><td>     0</td><td>39000000</td><td>39000000</td><td>       0</td><td>      0</td><td>     0</td><td>      0</td><td>      0</td><td>42000000</td><td>      0</td><td>⋯</td><td>5.1e+07</td><td>6.1e+07</td><td>     0</td><td>     0</td><td>      0</td><td>      0</td><td>      0</td><td>5.6e+07</td><td>0</td><td>4.3e+07</td></tr>\n",
              "\t<tr><th scope=row>4_275.889_0.02</th><td>350000</td><td>  890000</td><td>  540000</td><td>  720000</td><td> 810000</td><td>     0</td><td> 610000</td><td> 250000</td><td> 1500000</td><td> 540000</td><td>⋯</td><td>5.0e+05</td><td>7.2e+05</td><td>330000</td><td>     0</td><td> 230000</td><td>1200000</td><td> 220000</td><td>6.7e+05</td><td>0</td><td>1.1e+06</td></tr>\n",
              "\t<tr><th scope=row>5_156.966_0.02</th><td>     0</td><td> 2400000</td><td> 1900000</td><td>       0</td><td>      0</td><td>     0</td><td>3300000</td><td>      0</td><td> 3100000</td><td>      0</td><td>⋯</td><td>2.5e+06</td><td>2.5e+06</td><td>     0</td><td>     0</td><td>      0</td><td>2100000</td><td>      0</td><td>3.6e+06</td><td>0</td><td>3.3e+06</td></tr>\n",
              "\t<tr><th scope=row>6_130.967_0.02</th><td>     0</td><td> 3600000</td><td> 6900000</td><td> 7600000</td><td>3300000</td><td>     0</td><td>6800000</td><td>5300000</td><td> 3900000</td><td>8700000</td><td>⋯</td><td>7.7e+06</td><td>7.6e+06</td><td>     0</td><td>     0</td><td>9300000</td><td>5500000</td><td>8600000</td><td>8.5e+06</td><td>0</td><td>8.3e+06</td></tr>\n",
              "</tbody>\n",
              "</table>\n"
            ],
            "text/markdown": "\nA data.frame: 6 × 26\n\n| <!--/--> | S01_B14_H2O_POS.mzML area &lt;int&gt; | S02_B14_H2O_POS.mzML area &lt;int&gt; | S03_D14_H2O_POS.mzML area &lt;int&gt; | S04_D14_H2O_POS.mzML area &lt;int&gt; | S20_B28_H2O_POS.mzML area &lt;int&gt; | S21_B28_H2O_POS.mzML area &lt;int&gt; | S22_B28_H2O_POS.mzML area &lt;int&gt; | S23_D28_H2O_POS.mzML area &lt;int&gt; | S24_D28_H2O_POS.mzML area &lt;int&gt; | S25_D28_H2O_POS.mzML area &lt;int&gt; | ⋯ ⋯ | S26_B28_JN2_POS.mzML area &lt;dbl&gt; | S27_B28_JN2_POS.mzML area &lt;dbl&gt; | S28_B28_JN2_POS.mzML area &lt;dbl&gt; | S29_D28_JN2_POS.mzML area &lt;dbl&gt; | S30_D28_JN2_POS.mzML area &lt;dbl&gt; | S31_D28_JN2_POS.mzML area &lt;dbl&gt; | S05_Dn14_H2O_POS.mzML area &lt;dbl&gt; | S06_Dn14_H2O_POS.mzML area &lt;dbl&gt; | PM04_POS.mzML area &lt;dbl&gt; | PM05_POS.mzML area &lt;dbl&gt; |\n|---|---|---|---|---|---|---|---|---|---|---|---|---|---|---|---|---|---|---|---|---|---|\n| 1_303.883_0.02 | 850000 |  1800000 |  1600000 |  1200000 | 2100000 | 660000 |  980000 | 1400000 |  3000000 |  990000 | ⋯ | 1.2e+06 | 1.7e+06 | 910000 | 480000 |  680000 | 2400000 |  720000 | 1.4e+06 | 0 | 3.2e+06 |\n| 2_186.956_0.02 |      0 | 11000000 |  9800000 | 16000000 |       0 |      0 |       0 |       0 | 12000000 |       0 | ⋯ | 1.3e+07 | 1.1e+07 |      0 |      0 |       0 | 9700000 |       0 | 1.5e+07 | 0 | 9.8e+06 |\n| 3_158.962_0.02 |      0 | 39000000 | 39000000 |        0 |       0 |      0 |       0 |       0 | 42000000 |       0 | ⋯ | 5.1e+07 | 6.1e+07 |      0 |      0 |       0 |       0 |       0 | 5.6e+07 | 0 | 4.3e+07 |\n| 4_275.889_0.02 | 350000 |   890000 |   540000 |   720000 |  810000 |      0 |  610000 |  250000 |  1500000 |  540000 | ⋯ | 5.0e+05 | 7.2e+05 | 330000 |      0 |  230000 | 1200000 |  220000 | 6.7e+05 | 0 | 1.1e+06 |\n| 5_156.966_0.02 |      0 |  2400000 |  1900000 |        0 |       0 |      0 | 3300000 |       0 |  3100000 |       0 | ⋯ | 2.5e+06 | 2.5e+06 |      0 |      0 |       0 | 2100000 |       0 | 3.6e+06 | 0 | 3.3e+06 |\n| 6_130.967_0.02 |      0 |  3600000 |  6900000 |  7600000 | 3300000 |      0 | 6800000 | 5300000 |  3900000 | 8700000 | ⋯ | 7.7e+06 | 7.6e+06 |      0 |      0 | 9300000 | 5500000 | 8600000 | 8.5e+06 | 0 | 8.3e+06 |\n\n",
            "text/latex": "A data.frame: 6 × 26\n\\begin{tabular}{r|lllllllllllllllllllll}\n  & S01\\_B14\\_H2O\\_POS.mzML area & S02\\_B14\\_H2O\\_POS.mzML area & S03\\_D14\\_H2O\\_POS.mzML area & S04\\_D14\\_H2O\\_POS.mzML area & S20\\_B28\\_H2O\\_POS.mzML area & S21\\_B28\\_H2O\\_POS.mzML area & S22\\_B28\\_H2O\\_POS.mzML area & S23\\_D28\\_H2O\\_POS.mzML area & S24\\_D28\\_H2O\\_POS.mzML area & S25\\_D28\\_H2O\\_POS.mzML area & ⋯ & S26\\_B28\\_JN2\\_POS.mzML area & S27\\_B28\\_JN2\\_POS.mzML area & S28\\_B28\\_JN2\\_POS.mzML area & S29\\_D28\\_JN2\\_POS.mzML area & S30\\_D28\\_JN2\\_POS.mzML area & S31\\_D28\\_JN2\\_POS.mzML area & S05\\_Dn14\\_H2O\\_POS.mzML area & S06\\_Dn14\\_H2O\\_POS.mzML area & PM04\\_POS.mzML area & PM05\\_POS.mzML area\\\\\n  & <int> & <int> & <int> & <int> & <int> & <int> & <int> & <int> & <int> & <int> & ⋯ & <dbl> & <dbl> & <dbl> & <dbl> & <dbl> & <dbl> & <dbl> & <dbl> & <dbl> & <dbl>\\\\\n\\hline\n\t1\\_303.883\\_0.02 & 850000 &  1800000 &  1600000 &  1200000 & 2100000 & 660000 &  980000 & 1400000 &  3000000 &  990000 & ⋯ & 1.2e+06 & 1.7e+06 & 910000 & 480000 &  680000 & 2400000 &  720000 & 1.4e+06 & 0 & 3.2e+06\\\\\n\t2\\_186.956\\_0.02 &      0 & 11000000 &  9800000 & 16000000 &       0 &      0 &       0 &       0 & 12000000 &       0 & ⋯ & 1.3e+07 & 1.1e+07 &      0 &      0 &       0 & 9700000 &       0 & 1.5e+07 & 0 & 9.8e+06\\\\\n\t3\\_158.962\\_0.02 &      0 & 39000000 & 39000000 &        0 &       0 &      0 &       0 &       0 & 42000000 &       0 & ⋯ & 5.1e+07 & 6.1e+07 &      0 &      0 &       0 &       0 &       0 & 5.6e+07 & 0 & 4.3e+07\\\\\n\t4\\_275.889\\_0.02 & 350000 &   890000 &   540000 &   720000 &  810000 &      0 &  610000 &  250000 &  1500000 &  540000 & ⋯ & 5.0e+05 & 7.2e+05 & 330000 &      0 &  230000 & 1200000 &  220000 & 6.7e+05 & 0 & 1.1e+06\\\\\n\t5\\_156.966\\_0.02 &      0 &  2400000 &  1900000 &        0 &       0 &      0 & 3300000 &       0 &  3100000 &       0 & ⋯ & 2.5e+06 & 2.5e+06 &      0 &      0 &       0 & 2100000 &       0 & 3.6e+06 & 0 & 3.3e+06\\\\\n\t6\\_130.967\\_0.02 &      0 &  3600000 &  6900000 &  7600000 & 3300000 &      0 & 6800000 & 5300000 &  3900000 & 8700000 & ⋯ & 7.7e+06 & 7.6e+06 &      0 &      0 & 9300000 & 5500000 & 8600000 & 8.5e+06 & 0 & 8.3e+06\\\\\n\\end{tabular}\n",
            "text/plain": [
              "               S01_B14_H2O_POS.mzML area S02_B14_H2O_POS.mzML area\n",
              "1_303.883_0.02 850000                     1800000                 \n",
              "2_186.956_0.02      0                    11000000                 \n",
              "3_158.962_0.02      0                    39000000                 \n",
              "4_275.889_0.02 350000                      890000                 \n",
              "5_156.966_0.02      0                     2400000                 \n",
              "6_130.967_0.02      0                     3600000                 \n",
              "               S03_D14_H2O_POS.mzML area S04_D14_H2O_POS.mzML area\n",
              "1_303.883_0.02  1600000                   1200000                 \n",
              "2_186.956_0.02  9800000                  16000000                 \n",
              "3_158.962_0.02 39000000                         0                 \n",
              "4_275.889_0.02   540000                    720000                 \n",
              "5_156.966_0.02  1900000                         0                 \n",
              "6_130.967_0.02  6900000                   7600000                 \n",
              "               S20_B28_H2O_POS.mzML area S21_B28_H2O_POS.mzML area\n",
              "1_303.883_0.02 2100000                   660000                   \n",
              "2_186.956_0.02       0                        0                   \n",
              "3_158.962_0.02       0                        0                   \n",
              "4_275.889_0.02  810000                        0                   \n",
              "5_156.966_0.02       0                        0                   \n",
              "6_130.967_0.02 3300000                        0                   \n",
              "               S22_B28_H2O_POS.mzML area S23_D28_H2O_POS.mzML area\n",
              "1_303.883_0.02  980000                   1400000                  \n",
              "2_186.956_0.02       0                         0                  \n",
              "3_158.962_0.02       0                         0                  \n",
              "4_275.889_0.02  610000                    250000                  \n",
              "5_156.966_0.02 3300000                         0                  \n",
              "6_130.967_0.02 6800000                   5300000                  \n",
              "               S24_D28_H2O_POS.mzML area S25_D28_H2O_POS.mzML area ⋯\n",
              "1_303.883_0.02  3000000                   990000                   ⋯\n",
              "2_186.956_0.02 12000000                        0                   ⋯\n",
              "3_158.962_0.02 42000000                        0                   ⋯\n",
              "4_275.889_0.02  1500000                   540000                   ⋯\n",
              "5_156.966_0.02  3100000                        0                   ⋯\n",
              "6_130.967_0.02  3900000                  8700000                   ⋯\n",
              "               S26_B28_JN2_POS.mzML area S27_B28_JN2_POS.mzML area\n",
              "1_303.883_0.02 1.2e+06                   1.7e+06                  \n",
              "2_186.956_0.02 1.3e+07                   1.1e+07                  \n",
              "3_158.962_0.02 5.1e+07                   6.1e+07                  \n",
              "4_275.889_0.02 5.0e+05                   7.2e+05                  \n",
              "5_156.966_0.02 2.5e+06                   2.5e+06                  \n",
              "6_130.967_0.02 7.7e+06                   7.6e+06                  \n",
              "               S28_B28_JN2_POS.mzML area S29_D28_JN2_POS.mzML area\n",
              "1_303.883_0.02 910000                    480000                   \n",
              "2_186.956_0.02      0                         0                   \n",
              "3_158.962_0.02      0                         0                   \n",
              "4_275.889_0.02 330000                         0                   \n",
              "5_156.966_0.02      0                         0                   \n",
              "6_130.967_0.02      0                         0                   \n",
              "               S30_D28_JN2_POS.mzML area S31_D28_JN2_POS.mzML area\n",
              "1_303.883_0.02  680000                   2400000                  \n",
              "2_186.956_0.02       0                   9700000                  \n",
              "3_158.962_0.02       0                         0                  \n",
              "4_275.889_0.02  230000                   1200000                  \n",
              "5_156.966_0.02       0                   2100000                  \n",
              "6_130.967_0.02 9300000                   5500000                  \n",
              "               S05_Dn14_H2O_POS.mzML area S06_Dn14_H2O_POS.mzML area\n",
              "1_303.883_0.02  720000                    1.4e+06                   \n",
              "2_186.956_0.02       0                    1.5e+07                   \n",
              "3_158.962_0.02       0                    5.6e+07                   \n",
              "4_275.889_0.02  220000                    6.7e+05                   \n",
              "5_156.966_0.02       0                    3.6e+06                   \n",
              "6_130.967_0.02 8600000                    8.5e+06                   \n",
              "               PM04_POS.mzML area PM05_POS.mzML area\n",
              "1_303.883_0.02 0                  3.2e+06           \n",
              "2_186.956_0.02 0                  9.8e+06           \n",
              "3_158.962_0.02 0                  4.3e+07           \n",
              "4_275.889_0.02 0                  1.1e+06           \n",
              "5_156.966_0.02 0                  3.3e+06           \n",
              "6_130.967_0.02 0                  8.3e+06           "
            ]
          },
          "metadata": {}
        },
        {
          "output_type": "display_data",
          "data": {
            "text/html": [
              "<style>\n",
              ".list-inline {list-style: none; margin:0; padding: 0}\n",
              ".list-inline>li {display: inline-block}\n",
              ".list-inline>li:not(:last-child)::after {content: \"\\00b7\"; padding: 0 .5ex}\n",
              "</style>\n",
              "<ol class=list-inline><li>7209</li><li>26</li></ol>\n"
            ],
            "text/markdown": "1. 7209\n2. 26\n\n\n",
            "text/latex": "\\begin{enumerate*}\n\\item 7209\n\\item 26\n\\end{enumerate*}\n",
            "text/plain": [
              "[1] 7209   26"
            ]
          },
          "metadata": {}
        }
      ],
      "source": [
        "head(nft)\n",
        "dim(nft)"
      ]
    },
    {
      "cell_type": "code",
      "execution_count": 12,
      "id": "499d8a48",
      "metadata": {
        "colab": {
          "base_uri": "https://localhost:8080/",
          "height": 341
        },
        "id": "499d8a48",
        "outputId": "33038b17-90a7-4ab6-f873-05782147d861"
      },
      "outputs": [
        {
          "output_type": "display_data",
          "data": {
            "text/html": [
              "<table class=\"dataframe\">\n",
              "<caption>A data.frame: 6 × 26</caption>\n",
              "<thead>\n",
              "\t<tr><th></th><th scope=col>S01_B14_H2O_POS.mzML area</th><th scope=col>S02_B14_H2O_POS.mzML area</th><th scope=col>S03_D14_H2O_POS.mzML area</th><th scope=col>S04_D14_H2O_POS.mzML area</th><th scope=col>S20_B28_H2O_POS.mzML area</th><th scope=col>S21_B28_H2O_POS.mzML area</th><th scope=col>S22_B28_H2O_POS.mzML area</th><th scope=col>S23_D28_H2O_POS.mzML area</th><th scope=col>S24_D28_H2O_POS.mzML area</th><th scope=col>S25_D28_H2O_POS.mzML area</th><th scope=col>⋯</th><th scope=col>S26_B28_JN2_POS.mzML area</th><th scope=col>S27_B28_JN2_POS.mzML area</th><th scope=col>S28_B28_JN2_POS.mzML area</th><th scope=col>S29_D28_JN2_POS.mzML area</th><th scope=col>S30_D28_JN2_POS.mzML area</th><th scope=col>S31_D28_JN2_POS.mzML area</th><th scope=col>S05_Dn14_H2O_POS.mzML area</th><th scope=col>S06_Dn14_H2O_POS.mzML area</th><th scope=col>PM04_POS.mzML area</th><th scope=col>PM05_POS.mzML area</th></tr>\n",
              "\t<tr><th></th><th scope=col>&lt;int&gt;</th><th scope=col>&lt;int&gt;</th><th scope=col>&lt;int&gt;</th><th scope=col>&lt;int&gt;</th><th scope=col>&lt;int&gt;</th><th scope=col>&lt;int&gt;</th><th scope=col>&lt;int&gt;</th><th scope=col>&lt;int&gt;</th><th scope=col>&lt;int&gt;</th><th scope=col>&lt;int&gt;</th><th scope=col>⋯</th><th scope=col>&lt;dbl&gt;</th><th scope=col>&lt;dbl&gt;</th><th scope=col>&lt;dbl&gt;</th><th scope=col>&lt;dbl&gt;</th><th scope=col>&lt;dbl&gt;</th><th scope=col>&lt;dbl&gt;</th><th scope=col>&lt;dbl&gt;</th><th scope=col>&lt;dbl&gt;</th><th scope=col>&lt;dbl&gt;</th><th scope=col>&lt;dbl&gt;</th></tr>\n",
              "</thead>\n",
              "<tbody>\n",
              "\t<tr><th scope=row>1_303.883_0.03</th><td>  850000</td><td> 1800000</td><td> 1600000</td><td> 1200000</td><td> 2100000</td><td>  660000</td><td>  980000</td><td> 1400000</td><td> 3000000</td><td>  990000</td><td>⋯</td><td>1.2e+06</td><td>1.7e+06</td><td>9.1e+05</td><td>4.8e+05</td><td>6.8e+05</td><td>2.4e+06</td><td>7.2e+05</td><td>1.4e+06</td><td>1.7e+05</td><td>3.2e+06</td></tr>\n",
              "\t<tr><th scope=row>2_186.956_0.03</th><td> 3300000</td><td>11000000</td><td> 9800000</td><td>16000000</td><td> 2900000</td><td> 3400000</td><td> 2900000</td><td> 3200000</td><td>12000000</td><td> 3300000</td><td>⋯</td><td>1.3e+07</td><td>1.1e+07</td><td>3.3e+06</td><td>3.3e+06</td><td>3.3e+06</td><td>9.7e+06</td><td>3.3e+06</td><td>1.5e+07</td><td>2.5e+06</td><td>9.8e+06</td></tr>\n",
              "\t<tr><th scope=row>3_158.962_0.03</th><td>12000000</td><td>39000000</td><td>39000000</td><td>13000000</td><td>11000000</td><td>13000000</td><td>11000000</td><td>12000000</td><td>42000000</td><td>12000000</td><td>⋯</td><td>5.1e+07</td><td>6.1e+07</td><td>1.2e+07</td><td>1.2e+07</td><td>1.2e+07</td><td>1.1e+07</td><td>1.2e+07</td><td>5.6e+07</td><td>1.0e+07</td><td>4.3e+07</td></tr>\n",
              "\t<tr><th scope=row>4_275.889_0.03</th><td>  350000</td><td>  890000</td><td>  540000</td><td>  720000</td><td>  810000</td><td>  140000</td><td>  610000</td><td>  250000</td><td> 1500000</td><td>  540000</td><td>⋯</td><td>5.0e+05</td><td>7.2e+05</td><td>3.3e+05</td><td>1.4e+05</td><td>2.3e+05</td><td>1.2e+06</td><td>2.2e+05</td><td>6.7e+05</td><td>1.7e+04</td><td>1.1e+06</td></tr>\n",
              "\t<tr><th scope=row>5_156.966_0.03</th><td>  740000</td><td> 2400000</td><td> 1900000</td><td>  810000</td><td>  680000</td><td>  770000</td><td> 3300000</td><td>  780000</td><td> 3100000</td><td>  760000</td><td>⋯</td><td>2.5e+06</td><td>2.5e+06</td><td>7.5e+05</td><td>7.5e+05</td><td>7.7e+05</td><td>2.1e+06</td><td>7.6e+05</td><td>3.6e+06</td><td>6.4e+05</td><td>3.3e+06</td></tr>\n",
              "\t<tr><th scope=row>6_130.967_0.03</th><td> 1700000</td><td> 3600000</td><td> 6900000</td><td> 7600000</td><td> 3300000</td><td> 1800000</td><td> 6800000</td><td> 5300000</td><td> 3900000</td><td> 8700000</td><td>⋯</td><td>7.7e+06</td><td>7.6e+06</td><td>1.7e+06</td><td>1.8e+06</td><td>9.3e+06</td><td>5.5e+06</td><td>8.6e+06</td><td>8.5e+06</td><td>1.7e+06</td><td>8.3e+06</td></tr>\n",
              "</tbody>\n",
              "</table>\n"
            ],
            "text/markdown": "\nA data.frame: 6 × 26\n\n| <!--/--> | S01_B14_H2O_POS.mzML area &lt;int&gt; | S02_B14_H2O_POS.mzML area &lt;int&gt; | S03_D14_H2O_POS.mzML area &lt;int&gt; | S04_D14_H2O_POS.mzML area &lt;int&gt; | S20_B28_H2O_POS.mzML area &lt;int&gt; | S21_B28_H2O_POS.mzML area &lt;int&gt; | S22_B28_H2O_POS.mzML area &lt;int&gt; | S23_D28_H2O_POS.mzML area &lt;int&gt; | S24_D28_H2O_POS.mzML area &lt;int&gt; | S25_D28_H2O_POS.mzML area &lt;int&gt; | ⋯ ⋯ | S26_B28_JN2_POS.mzML area &lt;dbl&gt; | S27_B28_JN2_POS.mzML area &lt;dbl&gt; | S28_B28_JN2_POS.mzML area &lt;dbl&gt; | S29_D28_JN2_POS.mzML area &lt;dbl&gt; | S30_D28_JN2_POS.mzML area &lt;dbl&gt; | S31_D28_JN2_POS.mzML area &lt;dbl&gt; | S05_Dn14_H2O_POS.mzML area &lt;dbl&gt; | S06_Dn14_H2O_POS.mzML area &lt;dbl&gt; | PM04_POS.mzML area &lt;dbl&gt; | PM05_POS.mzML area &lt;dbl&gt; |\n|---|---|---|---|---|---|---|---|---|---|---|---|---|---|---|---|---|---|---|---|---|---|\n| 1_303.883_0.03 |   850000 |  1800000 |  1600000 |  1200000 |  2100000 |   660000 |   980000 |  1400000 |  3000000 |   990000 | ⋯ | 1.2e+06 | 1.7e+06 | 9.1e+05 | 4.8e+05 | 6.8e+05 | 2.4e+06 | 7.2e+05 | 1.4e+06 | 1.7e+05 | 3.2e+06 |\n| 2_186.956_0.03 |  3300000 | 11000000 |  9800000 | 16000000 |  2900000 |  3400000 |  2900000 |  3200000 | 12000000 |  3300000 | ⋯ | 1.3e+07 | 1.1e+07 | 3.3e+06 | 3.3e+06 | 3.3e+06 | 9.7e+06 | 3.3e+06 | 1.5e+07 | 2.5e+06 | 9.8e+06 |\n| 3_158.962_0.03 | 12000000 | 39000000 | 39000000 | 13000000 | 11000000 | 13000000 | 11000000 | 12000000 | 42000000 | 12000000 | ⋯ | 5.1e+07 | 6.1e+07 | 1.2e+07 | 1.2e+07 | 1.2e+07 | 1.1e+07 | 1.2e+07 | 5.6e+07 | 1.0e+07 | 4.3e+07 |\n| 4_275.889_0.03 |   350000 |   890000 |   540000 |   720000 |   810000 |   140000 |   610000 |   250000 |  1500000 |   540000 | ⋯ | 5.0e+05 | 7.2e+05 | 3.3e+05 | 1.4e+05 | 2.3e+05 | 1.2e+06 | 2.2e+05 | 6.7e+05 | 1.7e+04 | 1.1e+06 |\n| 5_156.966_0.03 |   740000 |  2400000 |  1900000 |   810000 |   680000 |   770000 |  3300000 |   780000 |  3100000 |   760000 | ⋯ | 2.5e+06 | 2.5e+06 | 7.5e+05 | 7.5e+05 | 7.7e+05 | 2.1e+06 | 7.6e+05 | 3.6e+06 | 6.4e+05 | 3.3e+06 |\n| 6_130.967_0.03 |  1700000 |  3600000 |  6900000 |  7600000 |  3300000 |  1800000 |  6800000 |  5300000 |  3900000 |  8700000 | ⋯ | 7.7e+06 | 7.6e+06 | 1.7e+06 | 1.8e+06 | 9.3e+06 | 5.5e+06 | 8.6e+06 | 8.5e+06 | 1.7e+06 | 8.3e+06 |\n\n",
            "text/latex": "A data.frame: 6 × 26\n\\begin{tabular}{r|lllllllllllllllllllll}\n  & S01\\_B14\\_H2O\\_POS.mzML area & S02\\_B14\\_H2O\\_POS.mzML area & S03\\_D14\\_H2O\\_POS.mzML area & S04\\_D14\\_H2O\\_POS.mzML area & S20\\_B28\\_H2O\\_POS.mzML area & S21\\_B28\\_H2O\\_POS.mzML area & S22\\_B28\\_H2O\\_POS.mzML area & S23\\_D28\\_H2O\\_POS.mzML area & S24\\_D28\\_H2O\\_POS.mzML area & S25\\_D28\\_H2O\\_POS.mzML area & ⋯ & S26\\_B28\\_JN2\\_POS.mzML area & S27\\_B28\\_JN2\\_POS.mzML area & S28\\_B28\\_JN2\\_POS.mzML area & S29\\_D28\\_JN2\\_POS.mzML area & S30\\_D28\\_JN2\\_POS.mzML area & S31\\_D28\\_JN2\\_POS.mzML area & S05\\_Dn14\\_H2O\\_POS.mzML area & S06\\_Dn14\\_H2O\\_POS.mzML area & PM04\\_POS.mzML area & PM05\\_POS.mzML area\\\\\n  & <int> & <int> & <int> & <int> & <int> & <int> & <int> & <int> & <int> & <int> & ⋯ & <dbl> & <dbl> & <dbl> & <dbl> & <dbl> & <dbl> & <dbl> & <dbl> & <dbl> & <dbl>\\\\\n\\hline\n\t1\\_303.883\\_0.03 &   850000 &  1800000 &  1600000 &  1200000 &  2100000 &   660000 &   980000 &  1400000 &  3000000 &   990000 & ⋯ & 1.2e+06 & 1.7e+06 & 9.1e+05 & 4.8e+05 & 6.8e+05 & 2.4e+06 & 7.2e+05 & 1.4e+06 & 1.7e+05 & 3.2e+06\\\\\n\t2\\_186.956\\_0.03 &  3300000 & 11000000 &  9800000 & 16000000 &  2900000 &  3400000 &  2900000 &  3200000 & 12000000 &  3300000 & ⋯ & 1.3e+07 & 1.1e+07 & 3.3e+06 & 3.3e+06 & 3.3e+06 & 9.7e+06 & 3.3e+06 & 1.5e+07 & 2.5e+06 & 9.8e+06\\\\\n\t3\\_158.962\\_0.03 & 12000000 & 39000000 & 39000000 & 13000000 & 11000000 & 13000000 & 11000000 & 12000000 & 42000000 & 12000000 & ⋯ & 5.1e+07 & 6.1e+07 & 1.2e+07 & 1.2e+07 & 1.2e+07 & 1.1e+07 & 1.2e+07 & 5.6e+07 & 1.0e+07 & 4.3e+07\\\\\n\t4\\_275.889\\_0.03 &   350000 &   890000 &   540000 &   720000 &   810000 &   140000 &   610000 &   250000 &  1500000 &   540000 & ⋯ & 5.0e+05 & 7.2e+05 & 3.3e+05 & 1.4e+05 & 2.3e+05 & 1.2e+06 & 2.2e+05 & 6.7e+05 & 1.7e+04 & 1.1e+06\\\\\n\t5\\_156.966\\_0.03 &   740000 &  2400000 &  1900000 &   810000 &   680000 &   770000 &  3300000 &   780000 &  3100000 &   760000 & ⋯ & 2.5e+06 & 2.5e+06 & 7.5e+05 & 7.5e+05 & 7.7e+05 & 2.1e+06 & 7.6e+05 & 3.6e+06 & 6.4e+05 & 3.3e+06\\\\\n\t6\\_130.967\\_0.03 &  1700000 &  3600000 &  6900000 &  7600000 &  3300000 &  1800000 &  6800000 &  5300000 &  3900000 &  8700000 & ⋯ & 7.7e+06 & 7.6e+06 & 1.7e+06 & 1.8e+06 & 9.3e+06 & 5.5e+06 & 8.6e+06 & 8.5e+06 & 1.7e+06 & 8.3e+06\\\\\n\\end{tabular}\n",
            "text/plain": [
              "               S01_B14_H2O_POS.mzML area S02_B14_H2O_POS.mzML area\n",
              "1_303.883_0.03   850000                   1800000                 \n",
              "2_186.956_0.03  3300000                  11000000                 \n",
              "3_158.962_0.03 12000000                  39000000                 \n",
              "4_275.889_0.03   350000                    890000                 \n",
              "5_156.966_0.03   740000                   2400000                 \n",
              "6_130.967_0.03  1700000                   3600000                 \n",
              "               S03_D14_H2O_POS.mzML area S04_D14_H2O_POS.mzML area\n",
              "1_303.883_0.03  1600000                   1200000                 \n",
              "2_186.956_0.03  9800000                  16000000                 \n",
              "3_158.962_0.03 39000000                  13000000                 \n",
              "4_275.889_0.03   540000                    720000                 \n",
              "5_156.966_0.03  1900000                    810000                 \n",
              "6_130.967_0.03  6900000                   7600000                 \n",
              "               S20_B28_H2O_POS.mzML area S21_B28_H2O_POS.mzML area\n",
              "1_303.883_0.03  2100000                    660000                 \n",
              "2_186.956_0.03  2900000                   3400000                 \n",
              "3_158.962_0.03 11000000                  13000000                 \n",
              "4_275.889_0.03   810000                    140000                 \n",
              "5_156.966_0.03   680000                    770000                 \n",
              "6_130.967_0.03  3300000                   1800000                 \n",
              "               S22_B28_H2O_POS.mzML area S23_D28_H2O_POS.mzML area\n",
              "1_303.883_0.03   980000                   1400000                 \n",
              "2_186.956_0.03  2900000                   3200000                 \n",
              "3_158.962_0.03 11000000                  12000000                 \n",
              "4_275.889_0.03   610000                    250000                 \n",
              "5_156.966_0.03  3300000                    780000                 \n",
              "6_130.967_0.03  6800000                   5300000                 \n",
              "               S24_D28_H2O_POS.mzML area S25_D28_H2O_POS.mzML area ⋯\n",
              "1_303.883_0.03  3000000                    990000                  ⋯\n",
              "2_186.956_0.03 12000000                   3300000                  ⋯\n",
              "3_158.962_0.03 42000000                  12000000                  ⋯\n",
              "4_275.889_0.03  1500000                    540000                  ⋯\n",
              "5_156.966_0.03  3100000                    760000                  ⋯\n",
              "6_130.967_0.03  3900000                   8700000                  ⋯\n",
              "               S26_B28_JN2_POS.mzML area S27_B28_JN2_POS.mzML area\n",
              "1_303.883_0.03 1.2e+06                   1.7e+06                  \n",
              "2_186.956_0.03 1.3e+07                   1.1e+07                  \n",
              "3_158.962_0.03 5.1e+07                   6.1e+07                  \n",
              "4_275.889_0.03 5.0e+05                   7.2e+05                  \n",
              "5_156.966_0.03 2.5e+06                   2.5e+06                  \n",
              "6_130.967_0.03 7.7e+06                   7.6e+06                  \n",
              "               S28_B28_JN2_POS.mzML area S29_D28_JN2_POS.mzML area\n",
              "1_303.883_0.03 9.1e+05                   4.8e+05                  \n",
              "2_186.956_0.03 3.3e+06                   3.3e+06                  \n",
              "3_158.962_0.03 1.2e+07                   1.2e+07                  \n",
              "4_275.889_0.03 3.3e+05                   1.4e+05                  \n",
              "5_156.966_0.03 7.5e+05                   7.5e+05                  \n",
              "6_130.967_0.03 1.7e+06                   1.8e+06                  \n",
              "               S30_D28_JN2_POS.mzML area S31_D28_JN2_POS.mzML area\n",
              "1_303.883_0.03 6.8e+05                   2.4e+06                  \n",
              "2_186.956_0.03 3.3e+06                   9.7e+06                  \n",
              "3_158.962_0.03 1.2e+07                   1.1e+07                  \n",
              "4_275.889_0.03 2.3e+05                   1.2e+06                  \n",
              "5_156.966_0.03 7.7e+05                   2.1e+06                  \n",
              "6_130.967_0.03 9.3e+06                   5.5e+06                  \n",
              "               S05_Dn14_H2O_POS.mzML area S06_Dn14_H2O_POS.mzML area\n",
              "1_303.883_0.03 7.2e+05                    1.4e+06                   \n",
              "2_186.956_0.03 3.3e+06                    1.5e+07                   \n",
              "3_158.962_0.03 1.2e+07                    5.6e+07                   \n",
              "4_275.889_0.03 2.2e+05                    6.7e+05                   \n",
              "5_156.966_0.03 7.6e+05                    3.6e+06                   \n",
              "6_130.967_0.03 8.6e+06                    8.5e+06                   \n",
              "               PM04_POS.mzML area PM05_POS.mzML area\n",
              "1_303.883_0.03 1.7e+05            3.2e+06           \n",
              "2_186.956_0.03 2.5e+06            9.8e+06           \n",
              "3_158.962_0.03 1.0e+07            4.3e+07           \n",
              "4_275.889_0.03 1.7e+04            1.1e+06           \n",
              "5_156.966_0.03 6.4e+05            3.3e+06           \n",
              "6_130.967_0.03 1.7e+06            8.3e+06           "
            ]
          },
          "metadata": {}
        },
        {
          "output_type": "display_data",
          "data": {
            "text/html": [
              "<style>\n",
              ".list-inline {list-style: none; margin:0; padding: 0}\n",
              ".list-inline>li {display: inline-block}\n",
              ".list-inline>li:not(:last-child)::after {content: \"\\00b7\"; padding: 0 .5ex}\n",
              "</style>\n",
              "<ol class=list-inline><li>7209</li><li>26</li></ol>\n"
            ],
            "text/markdown": "1. 7209\n2. 26\n\n\n",
            "text/latex": "\\begin{enumerate*}\n\\item 7209\n\\item 26\n\\end{enumerate*}\n",
            "text/plain": [
              "[1] 7209   26"
            ]
          },
          "metadata": {}
        }
      ],
      "source": [
        "head(ft)\n",
        "dim(ft)"
      ]
    },
    {
      "cell_type": "code",
      "execution_count": 13,
      "id": "55093982",
      "metadata": {
        "id": "55093982",
        "colab": {
          "base_uri": "https://localhost:8080/",
          "height": 428
        },
        "outputId": "8c027a96-9de5-450b-f0e2-d21cb13a4a2f"
      },
      "outputs": [
        {
          "output_type": "display_data",
          "data": {
            "text/html": [
              "<table class=\"dataframe\">\n",
              "<caption>A data.frame: 6 × 25</caption>\n",
              "<thead>\n",
              "\t<tr><th></th><th scope=col>ATTRIBUTE_species</th><th scope=col>ATTRIBUTE_SampleType</th><th scope=col>ATTRIBUTE_timepoint</th><th scope=col>ATTRIBUTE_replicates</th><th scope=col>Accessions</th><th scope=col>Treatments</th><th scope=col>Kinetics</th><th scope=col>Samples_code</th><th scope=col>Conditions_code</th><th scope=col>B14_H2O_JN2</th><th scope=col>⋯</th><th scope=col>B14_B28_D14_D28_H2O</th><th scope=col>B14_D14_H2O</th><th scope=col>B28_D28_H2O</th><th scope=col>B14_D14_JN2</th><th scope=col>B28_D28_JN2</th><th scope=col>B14_B28_D14_D28_JN2</th><th scope=col>BJN2_14</th><th scope=col>DJN2_14</th><th scope=col>BJN2_28</th><th scope=col>DJN2_28</th></tr>\n",
              "\t<tr><th></th><th scope=col>&lt;chr&gt;</th><th scope=col>&lt;chr&gt;</th><th scope=col>&lt;chr&gt;</th><th scope=col>&lt;fct&gt;</th><th scope=col>&lt;chr&gt;</th><th scope=col>&lt;chr&gt;</th><th scope=col>&lt;chr&gt;</th><th scope=col>&lt;chr&gt;</th><th scope=col>&lt;chr&gt;</th><th scope=col>&lt;chr&gt;</th><th scope=col>⋯</th><th scope=col>&lt;chr&gt;</th><th scope=col>&lt;chr&gt;</th><th scope=col>&lt;chr&gt;</th><th scope=col>&lt;chr&gt;</th><th scope=col>&lt;chr&gt;</th><th scope=col>&lt;chr&gt;</th><th scope=col>&lt;chr&gt;</th><th scope=col>&lt;chr&gt;</th><th scope=col>&lt;chr&gt;</th><th scope=col>&lt;chr&gt;</th></tr>\n",
              "</thead>\n",
              "<tbody>\n",
              "\t<tr><th scope=row>S01_B14_H2O_POS.mzML area</th><td>Bristol</td><td>Without_Treatment</td><td>14dpi</td><td>1</td><td>Bristol</td><td>H2O</td><td>14dpi</td><td>B14_H2O_rep1</td><td>Bristol_14_H2O</td><td>Bristol_14_H2O</td><td>⋯</td><td>Bristol_Control</td><td>Bristol_14_H2O</td><td>NA            </td><td>NA</td><td>NA</td><td>NA</td><td>Bristol_14_H2O</td><td>NA           </td><td>NA            </td><td>NA</td></tr>\n",
              "\t<tr><th scope=row>S02_B14_H2O_POS.mzML area</th><td>Bristol</td><td>Without_Treatment</td><td>14dpi</td><td>2</td><td>Bristol</td><td>H2O</td><td>14dpi</td><td>B14_H2O_rep2</td><td>Bristol_14_H2O</td><td>Bristol_14_H2O</td><td>⋯</td><td>Bristol_Control</td><td>Bristol_14_H2O</td><td>NA            </td><td>NA</td><td>NA</td><td>NA</td><td>Bristol_14_H2O</td><td>NA           </td><td>NA            </td><td>NA</td></tr>\n",
              "\t<tr><th scope=row>S03_D14_H2O_POS.mzML area</th><td>Darmor </td><td>Without_Treatment</td><td>14dpi</td><td>1</td><td>Darmor </td><td>H2O</td><td>14dpi</td><td>D14_H2O_rep1</td><td>Darmor_14_H2O </td><td>NA            </td><td>⋯</td><td>Darmor_Control </td><td>Darmor_14_H2O </td><td>NA            </td><td>NA</td><td>NA</td><td>NA</td><td>NA            </td><td>Darmor_14_H2O</td><td>NA            </td><td>NA</td></tr>\n",
              "\t<tr><th scope=row>S04_D14_H2O_POS.mzML area</th><td>Darmor </td><td>Without_Treatment</td><td>14dpi</td><td>2</td><td>Darmor </td><td>H2O</td><td>14dpi</td><td>D14_H2O_rep2</td><td>Darmor_14_H2O </td><td>NA            </td><td>⋯</td><td>Darmor_Control </td><td>Darmor_14_H2O </td><td>NA            </td><td>NA</td><td>NA</td><td>NA</td><td>NA            </td><td>Darmor_14_H2O</td><td>NA            </td><td>NA</td></tr>\n",
              "\t<tr><th scope=row>S20_B28_H2O_POS.mzML area</th><td>Bristol</td><td>Without_Treatment</td><td>28dpi</td><td>1</td><td>Bristol</td><td>H2O</td><td>28dpi</td><td>B28_H2O_rep1</td><td>Bristol_28_H2O</td><td>Bristol_28_H2O</td><td>⋯</td><td>Bristol_Control</td><td>NA            </td><td>Bristol_28_H2O</td><td>NA</td><td>NA</td><td>NA</td><td>NA            </td><td>NA           </td><td>Bristol_28_H2O</td><td>NA</td></tr>\n",
              "\t<tr><th scope=row>S21_B28_H2O_POS.mzML area</th><td>Bristol</td><td>Without_Treatment</td><td>28dpi</td><td>2</td><td>Bristol</td><td>H2O</td><td>28dpi</td><td>B28_H2O_rep2</td><td>Bristol_28_H2O</td><td>Bristol_28_H2O</td><td>⋯</td><td>Bristol_Control</td><td>NA            </td><td>Bristol_28_H2O</td><td>NA</td><td>NA</td><td>NA</td><td>NA            </td><td>NA           </td><td>Bristol_28_H2O</td><td>NA</td></tr>\n",
              "</tbody>\n",
              "</table>\n"
            ],
            "text/markdown": "\nA data.frame: 6 × 25\n\n| <!--/--> | ATTRIBUTE_species &lt;chr&gt; | ATTRIBUTE_SampleType &lt;chr&gt; | ATTRIBUTE_timepoint &lt;chr&gt; | ATTRIBUTE_replicates &lt;fct&gt; | Accessions &lt;chr&gt; | Treatments &lt;chr&gt; | Kinetics &lt;chr&gt; | Samples_code &lt;chr&gt; | Conditions_code &lt;chr&gt; | B14_H2O_JN2 &lt;chr&gt; | ⋯ ⋯ | B14_B28_D14_D28_H2O &lt;chr&gt; | B14_D14_H2O &lt;chr&gt; | B28_D28_H2O &lt;chr&gt; | B14_D14_JN2 &lt;chr&gt; | B28_D28_JN2 &lt;chr&gt; | B14_B28_D14_D28_JN2 &lt;chr&gt; | BJN2_14 &lt;chr&gt; | DJN2_14 &lt;chr&gt; | BJN2_28 &lt;chr&gt; | DJN2_28 &lt;chr&gt; |\n|---|---|---|---|---|---|---|---|---|---|---|---|---|---|---|---|---|---|---|---|---|---|\n| S01_B14_H2O_POS.mzML area | Bristol | Without_Treatment | 14dpi | 1 | Bristol | H2O | 14dpi | B14_H2O_rep1 | Bristol_14_H2O | Bristol_14_H2O | ⋯ | Bristol_Control | Bristol_14_H2O | NA             | NA | NA | NA | Bristol_14_H2O | NA            | NA             | NA |\n| S02_B14_H2O_POS.mzML area | Bristol | Without_Treatment | 14dpi | 2 | Bristol | H2O | 14dpi | B14_H2O_rep2 | Bristol_14_H2O | Bristol_14_H2O | ⋯ | Bristol_Control | Bristol_14_H2O | NA             | NA | NA | NA | Bristol_14_H2O | NA            | NA             | NA |\n| S03_D14_H2O_POS.mzML area | Darmor  | Without_Treatment | 14dpi | 1 | Darmor  | H2O | 14dpi | D14_H2O_rep1 | Darmor_14_H2O  | NA             | ⋯ | Darmor_Control  | Darmor_14_H2O  | NA             | NA | NA | NA | NA             | Darmor_14_H2O | NA             | NA |\n| S04_D14_H2O_POS.mzML area | Darmor  | Without_Treatment | 14dpi | 2 | Darmor  | H2O | 14dpi | D14_H2O_rep2 | Darmor_14_H2O  | NA             | ⋯ | Darmor_Control  | Darmor_14_H2O  | NA             | NA | NA | NA | NA             | Darmor_14_H2O | NA             | NA |\n| S20_B28_H2O_POS.mzML area | Bristol | Without_Treatment | 28dpi | 1 | Bristol | H2O | 28dpi | B28_H2O_rep1 | Bristol_28_H2O | Bristol_28_H2O | ⋯ | Bristol_Control | NA             | Bristol_28_H2O | NA | NA | NA | NA             | NA            | Bristol_28_H2O | NA |\n| S21_B28_H2O_POS.mzML area | Bristol | Without_Treatment | 28dpi | 2 | Bristol | H2O | 28dpi | B28_H2O_rep2 | Bristol_28_H2O | Bristol_28_H2O | ⋯ | Bristol_Control | NA             | Bristol_28_H2O | NA | NA | NA | NA             | NA            | Bristol_28_H2O | NA |\n\n",
            "text/latex": "A data.frame: 6 × 25\n\\begin{tabular}{r|lllllllllllllllllllll}\n  & ATTRIBUTE\\_species & ATTRIBUTE\\_SampleType & ATTRIBUTE\\_timepoint & ATTRIBUTE\\_replicates & Accessions & Treatments & Kinetics & Samples\\_code & Conditions\\_code & B14\\_H2O\\_JN2 & ⋯ & B14\\_B28\\_D14\\_D28\\_H2O & B14\\_D14\\_H2O & B28\\_D28\\_H2O & B14\\_D14\\_JN2 & B28\\_D28\\_JN2 & B14\\_B28\\_D14\\_D28\\_JN2 & BJN2\\_14 & DJN2\\_14 & BJN2\\_28 & DJN2\\_28\\\\\n  & <chr> & <chr> & <chr> & <fct> & <chr> & <chr> & <chr> & <chr> & <chr> & <chr> & ⋯ & <chr> & <chr> & <chr> & <chr> & <chr> & <chr> & <chr> & <chr> & <chr> & <chr>\\\\\n\\hline\n\tS01\\_B14\\_H2O\\_POS.mzML area & Bristol & Without\\_Treatment & 14dpi & 1 & Bristol & H2O & 14dpi & B14\\_H2O\\_rep1 & Bristol\\_14\\_H2O & Bristol\\_14\\_H2O & ⋯ & Bristol\\_Control & Bristol\\_14\\_H2O & NA             & NA & NA & NA & Bristol\\_14\\_H2O & NA            & NA             & NA\\\\\n\tS02\\_B14\\_H2O\\_POS.mzML area & Bristol & Without\\_Treatment & 14dpi & 2 & Bristol & H2O & 14dpi & B14\\_H2O\\_rep2 & Bristol\\_14\\_H2O & Bristol\\_14\\_H2O & ⋯ & Bristol\\_Control & Bristol\\_14\\_H2O & NA             & NA & NA & NA & Bristol\\_14\\_H2O & NA            & NA             & NA\\\\\n\tS03\\_D14\\_H2O\\_POS.mzML area & Darmor  & Without\\_Treatment & 14dpi & 1 & Darmor  & H2O & 14dpi & D14\\_H2O\\_rep1 & Darmor\\_14\\_H2O  & NA             & ⋯ & Darmor\\_Control  & Darmor\\_14\\_H2O  & NA             & NA & NA & NA & NA             & Darmor\\_14\\_H2O & NA             & NA\\\\\n\tS04\\_D14\\_H2O\\_POS.mzML area & Darmor  & Without\\_Treatment & 14dpi & 2 & Darmor  & H2O & 14dpi & D14\\_H2O\\_rep2 & Darmor\\_14\\_H2O  & NA             & ⋯ & Darmor\\_Control  & Darmor\\_14\\_H2O  & NA             & NA & NA & NA & NA             & Darmor\\_14\\_H2O & NA             & NA\\\\\n\tS20\\_B28\\_H2O\\_POS.mzML area & Bristol & Without\\_Treatment & 28dpi & 1 & Bristol & H2O & 28dpi & B28\\_H2O\\_rep1 & Bristol\\_28\\_H2O & Bristol\\_28\\_H2O & ⋯ & Bristol\\_Control & NA             & Bristol\\_28\\_H2O & NA & NA & NA & NA             & NA            & Bristol\\_28\\_H2O & NA\\\\\n\tS21\\_B28\\_H2O\\_POS.mzML area & Bristol & Without\\_Treatment & 28dpi & 2 & Bristol & H2O & 28dpi & B28\\_H2O\\_rep2 & Bristol\\_28\\_H2O & Bristol\\_28\\_H2O & ⋯ & Bristol\\_Control & NA             & Bristol\\_28\\_H2O & NA & NA & NA & NA             & NA            & Bristol\\_28\\_H2O & NA\\\\\n\\end{tabular}\n",
            "text/plain": [
              "                          ATTRIBUTE_species ATTRIBUTE_SampleType\n",
              "S01_B14_H2O_POS.mzML area Bristol           Without_Treatment   \n",
              "S02_B14_H2O_POS.mzML area Bristol           Without_Treatment   \n",
              "S03_D14_H2O_POS.mzML area Darmor            Without_Treatment   \n",
              "S04_D14_H2O_POS.mzML area Darmor            Without_Treatment   \n",
              "S20_B28_H2O_POS.mzML area Bristol           Without_Treatment   \n",
              "S21_B28_H2O_POS.mzML area Bristol           Without_Treatment   \n",
              "                          ATTRIBUTE_timepoint ATTRIBUTE_replicates Accessions\n",
              "S01_B14_H2O_POS.mzML area 14dpi               1                    Bristol   \n",
              "S02_B14_H2O_POS.mzML area 14dpi               2                    Bristol   \n",
              "S03_D14_H2O_POS.mzML area 14dpi               1                    Darmor    \n",
              "S04_D14_H2O_POS.mzML area 14dpi               2                    Darmor    \n",
              "S20_B28_H2O_POS.mzML area 28dpi               1                    Bristol   \n",
              "S21_B28_H2O_POS.mzML area 28dpi               2                    Bristol   \n",
              "                          Treatments Kinetics Samples_code Conditions_code\n",
              "S01_B14_H2O_POS.mzML area H2O        14dpi    B14_H2O_rep1 Bristol_14_H2O \n",
              "S02_B14_H2O_POS.mzML area H2O        14dpi    B14_H2O_rep2 Bristol_14_H2O \n",
              "S03_D14_H2O_POS.mzML area H2O        14dpi    D14_H2O_rep1 Darmor_14_H2O  \n",
              "S04_D14_H2O_POS.mzML area H2O        14dpi    D14_H2O_rep2 Darmor_14_H2O  \n",
              "S20_B28_H2O_POS.mzML area H2O        28dpi    B28_H2O_rep1 Bristol_28_H2O \n",
              "S21_B28_H2O_POS.mzML area H2O        28dpi    B28_H2O_rep2 Bristol_28_H2O \n",
              "                          B14_H2O_JN2    ⋯ B14_B28_D14_D28_H2O B14_D14_H2O   \n",
              "S01_B14_H2O_POS.mzML area Bristol_14_H2O ⋯ Bristol_Control     Bristol_14_H2O\n",
              "S02_B14_H2O_POS.mzML area Bristol_14_H2O ⋯ Bristol_Control     Bristol_14_H2O\n",
              "S03_D14_H2O_POS.mzML area NA             ⋯ Darmor_Control      Darmor_14_H2O \n",
              "S04_D14_H2O_POS.mzML area NA             ⋯ Darmor_Control      Darmor_14_H2O \n",
              "S20_B28_H2O_POS.mzML area Bristol_28_H2O ⋯ Bristol_Control     NA            \n",
              "S21_B28_H2O_POS.mzML area Bristol_28_H2O ⋯ Bristol_Control     NA            \n",
              "                          B28_D28_H2O    B14_D14_JN2 B28_D28_JN2\n",
              "S01_B14_H2O_POS.mzML area NA             NA          NA         \n",
              "S02_B14_H2O_POS.mzML area NA             NA          NA         \n",
              "S03_D14_H2O_POS.mzML area NA             NA          NA         \n",
              "S04_D14_H2O_POS.mzML area NA             NA          NA         \n",
              "S20_B28_H2O_POS.mzML area Bristol_28_H2O NA          NA         \n",
              "S21_B28_H2O_POS.mzML area Bristol_28_H2O NA          NA         \n",
              "                          B14_B28_D14_D28_JN2 BJN2_14        DJN2_14      \n",
              "S01_B14_H2O_POS.mzML area NA                  Bristol_14_H2O NA           \n",
              "S02_B14_H2O_POS.mzML area NA                  Bristol_14_H2O NA           \n",
              "S03_D14_H2O_POS.mzML area NA                  NA             Darmor_14_H2O\n",
              "S04_D14_H2O_POS.mzML area NA                  NA             Darmor_14_H2O\n",
              "S20_B28_H2O_POS.mzML area NA                  NA             NA           \n",
              "S21_B28_H2O_POS.mzML area NA                  NA             NA           \n",
              "                          BJN2_28        DJN2_28\n",
              "S01_B14_H2O_POS.mzML area NA             NA     \n",
              "S02_B14_H2O_POS.mzML area NA             NA     \n",
              "S03_D14_H2O_POS.mzML area NA             NA     \n",
              "S04_D14_H2O_POS.mzML area NA             NA     \n",
              "S20_B28_H2O_POS.mzML area Bristol_28_H2O NA     \n",
              "S21_B28_H2O_POS.mzML area Bristol_28_H2O NA     "
            ]
          },
          "metadata": {}
        },
        {
          "output_type": "display_data",
          "data": {
            "text/html": [
              "<style>\n",
              ".list-inline {list-style: none; margin:0; padding: 0}\n",
              ".list-inline>li {display: inline-block}\n",
              ".list-inline>li:not(:last-child)::after {content: \"\\00b7\"; padding: 0 .5ex}\n",
              "</style>\n",
              "<ol class=list-inline><li>26</li><li>25</li></ol>\n"
            ],
            "text/markdown": "1. 26\n2. 25\n\n\n",
            "text/latex": "\\begin{enumerate*}\n\\item 26\n\\item 25\n\\end{enumerate*}\n",
            "text/plain": [
              "[1] 26 25"
            ]
          },
          "metadata": {}
        }
      ],
      "source": [
        "head(md)\n",
        "dim(md)"
      ]
    },
    {
      "cell_type": "markdown",
      "id": "ea08fc3d",
      "metadata": {
        "id": "ea08fc3d"
      },
      "source": [
        "**About the experiment:**\n",
        "\n",
        "\n",
        "1. Plant growth\n",
        "Two accessions of B. napus ssp. oleifera (winter oilseed rape (WOSR)), the partially resistant ‘Darmor’ and the moderately susceptible ‘Bristol’) (Missinou et al., 2022) were analyzed in three biological replicates, each with eight plants per accession. Seeds were germinated in a climate-controlled greenhouse in pots using a mixture of soil and sand (ratio 2:1). Plants were grown in a growth chamber under a daily cycle of 16h/8h in light/dark at 20°C and 18°C, respectively. They were fertilized twice with a half-dosed Hoagland solution. \n",
        "\n",
        "2. Inoculum preparation and petiole inoculations \n",
        "Plants at the 3-leaves stage were inoculated with 10µL at 10E7 conidia/mL of JN2 isolate of the fungus Leptosphaeria maculans on cut petiole. Plants treated with distilled water instead of spore suspension were used as controls. Both groups of plants (control and inoculated) were maintained under controlled conditions and covered with opaque plastic to create a 100% relative humidity atmosphere for 48 h, in the dark for the first 24 h. In the absence of light, increased humidity is favorable to spore germination. \n",
        "\n",
        "3. Sample preparation of for LC-MS experiment\n",
        "The samples were collected at different timepoints (14 and 28 days after inoculation). The dried tissues were disintegrated by shaking for 60 s with a frequency of 30 Hz using the TissueLyser with grinding jars (10 ml) and stainless-steel grinding balls (Qiagen, Hilden, Germany). Compounds were extracted (with 99/1 MeOH/HXOOH) and measured using UPLC_Q-exactive-Orbitrap (Thermo Fisher Scientific).  \n",
        "\n",
        "\n",
        "The goal of the experiment was to identify the chemical defenses mobilized by rapeseed when it perceives, at the level of its stem, infection by L. maculans, in particular in the partially resistant genotype \"Darmor\""
      ]
    },
    {
      "cell_type": "markdown",
      "id": "fa549984",
      "metadata": {
        "id": "fa549984"
      },
      "source": [
        "## Splitting the data into Control and Samples using Metadata:"
      ]
    },
    {
      "cell_type": "code",
      "execution_count": 14,
      "id": "F7LHJ3dOf1EO",
      "metadata": {
        "id": "F7LHJ3dOf1EO"
      },
      "outputs": [],
      "source": [
        "input_data <- ft"
      ]
    },
    {
      "cell_type": "code",
      "execution_count": 15,
      "id": "f2dc8ca3",
      "metadata": {
        "colab": {
          "base_uri": "https://localhost:8080/",
          "height": 1000
        },
        "id": "f2dc8ca3",
        "outputId": "d6dc8afd-80f4-4695-949b-4b29f896942b"
      },
      "outputs": [
        {
          "output_type": "display_data",
          "data": {
            "text/html": [
              "<table class=\"dataframe\">\n",
              "<caption>A data.frame: 6 × 25</caption>\n",
              "<thead>\n",
              "\t<tr><th></th><th scope=col>ATTRIBUTE_species</th><th scope=col>ATTRIBUTE_SampleType</th><th scope=col>ATTRIBUTE_timepoint</th><th scope=col>ATTRIBUTE_replicates</th><th scope=col>Accessions</th><th scope=col>Treatments</th><th scope=col>Kinetics</th><th scope=col>Samples_code</th><th scope=col>Conditions_code</th><th scope=col>B14_H2O_JN2</th><th scope=col>⋯</th><th scope=col>B14_B28_D14_D28_H2O</th><th scope=col>B14_D14_H2O</th><th scope=col>B28_D28_H2O</th><th scope=col>B14_D14_JN2</th><th scope=col>B28_D28_JN2</th><th scope=col>B14_B28_D14_D28_JN2</th><th scope=col>BJN2_14</th><th scope=col>DJN2_14</th><th scope=col>BJN2_28</th><th scope=col>DJN2_28</th></tr>\n",
              "\t<tr><th></th><th scope=col>&lt;chr&gt;</th><th scope=col>&lt;chr&gt;</th><th scope=col>&lt;chr&gt;</th><th scope=col>&lt;fct&gt;</th><th scope=col>&lt;chr&gt;</th><th scope=col>&lt;chr&gt;</th><th scope=col>&lt;chr&gt;</th><th scope=col>&lt;chr&gt;</th><th scope=col>&lt;chr&gt;</th><th scope=col>&lt;chr&gt;</th><th scope=col>⋯</th><th scope=col>&lt;chr&gt;</th><th scope=col>&lt;chr&gt;</th><th scope=col>&lt;chr&gt;</th><th scope=col>&lt;chr&gt;</th><th scope=col>&lt;chr&gt;</th><th scope=col>&lt;chr&gt;</th><th scope=col>&lt;chr&gt;</th><th scope=col>&lt;chr&gt;</th><th scope=col>&lt;chr&gt;</th><th scope=col>&lt;chr&gt;</th></tr>\n",
              "</thead>\n",
              "<tbody>\n",
              "\t<tr><th scope=row>S01_B14_H2O_POS.mzML area</th><td>Bristol</td><td>Without_Treatment</td><td>14dpi</td><td>1</td><td>Bristol</td><td>H2O</td><td>14dpi</td><td>B14_H2O_rep1</td><td>Bristol_14_H2O</td><td>Bristol_14_H2O</td><td>⋯</td><td>Bristol_Control</td><td>Bristol_14_H2O</td><td>NA            </td><td>NA</td><td>NA</td><td>NA</td><td>Bristol_14_H2O</td><td>NA           </td><td>NA            </td><td>NA</td></tr>\n",
              "\t<tr><th scope=row>S02_B14_H2O_POS.mzML area</th><td>Bristol</td><td>Without_Treatment</td><td>14dpi</td><td>2</td><td>Bristol</td><td>H2O</td><td>14dpi</td><td>B14_H2O_rep2</td><td>Bristol_14_H2O</td><td>Bristol_14_H2O</td><td>⋯</td><td>Bristol_Control</td><td>Bristol_14_H2O</td><td>NA            </td><td>NA</td><td>NA</td><td>NA</td><td>Bristol_14_H2O</td><td>NA           </td><td>NA            </td><td>NA</td></tr>\n",
              "\t<tr><th scope=row>S03_D14_H2O_POS.mzML area</th><td>Darmor </td><td>Without_Treatment</td><td>14dpi</td><td>1</td><td>Darmor </td><td>H2O</td><td>14dpi</td><td>D14_H2O_rep1</td><td>Darmor_14_H2O </td><td>NA            </td><td>⋯</td><td>Darmor_Control </td><td>Darmor_14_H2O </td><td>NA            </td><td>NA</td><td>NA</td><td>NA</td><td>NA            </td><td>Darmor_14_H2O</td><td>NA            </td><td>NA</td></tr>\n",
              "\t<tr><th scope=row>S04_D14_H2O_POS.mzML area</th><td>Darmor </td><td>Without_Treatment</td><td>14dpi</td><td>2</td><td>Darmor </td><td>H2O</td><td>14dpi</td><td>D14_H2O_rep2</td><td>Darmor_14_H2O </td><td>NA            </td><td>⋯</td><td>Darmor_Control </td><td>Darmor_14_H2O </td><td>NA            </td><td>NA</td><td>NA</td><td>NA</td><td>NA            </td><td>Darmor_14_H2O</td><td>NA            </td><td>NA</td></tr>\n",
              "\t<tr><th scope=row>S20_B28_H2O_POS.mzML area</th><td>Bristol</td><td>Without_Treatment</td><td>28dpi</td><td>1</td><td>Bristol</td><td>H2O</td><td>28dpi</td><td>B28_H2O_rep1</td><td>Bristol_28_H2O</td><td>Bristol_28_H2O</td><td>⋯</td><td>Bristol_Control</td><td>NA            </td><td>Bristol_28_H2O</td><td>NA</td><td>NA</td><td>NA</td><td>NA            </td><td>NA           </td><td>Bristol_28_H2O</td><td>NA</td></tr>\n",
              "\t<tr><th scope=row>S21_B28_H2O_POS.mzML area</th><td>Bristol</td><td>Without_Treatment</td><td>28dpi</td><td>2</td><td>Bristol</td><td>H2O</td><td>28dpi</td><td>B28_H2O_rep2</td><td>Bristol_28_H2O</td><td>Bristol_28_H2O</td><td>⋯</td><td>Bristol_Control</td><td>NA            </td><td>Bristol_28_H2O</td><td>NA</td><td>NA</td><td>NA</td><td>NA            </td><td>NA           </td><td>Bristol_28_H2O</td><td>NA</td></tr>\n",
              "</tbody>\n",
              "</table>\n"
            ],
            "text/markdown": "\nA data.frame: 6 × 25\n\n| <!--/--> | ATTRIBUTE_species &lt;chr&gt; | ATTRIBUTE_SampleType &lt;chr&gt; | ATTRIBUTE_timepoint &lt;chr&gt; | ATTRIBUTE_replicates &lt;fct&gt; | Accessions &lt;chr&gt; | Treatments &lt;chr&gt; | Kinetics &lt;chr&gt; | Samples_code &lt;chr&gt; | Conditions_code &lt;chr&gt; | B14_H2O_JN2 &lt;chr&gt; | ⋯ ⋯ | B14_B28_D14_D28_H2O &lt;chr&gt; | B14_D14_H2O &lt;chr&gt; | B28_D28_H2O &lt;chr&gt; | B14_D14_JN2 &lt;chr&gt; | B28_D28_JN2 &lt;chr&gt; | B14_B28_D14_D28_JN2 &lt;chr&gt; | BJN2_14 &lt;chr&gt; | DJN2_14 &lt;chr&gt; | BJN2_28 &lt;chr&gt; | DJN2_28 &lt;chr&gt; |\n|---|---|---|---|---|---|---|---|---|---|---|---|---|---|---|---|---|---|---|---|---|---|\n| S01_B14_H2O_POS.mzML area | Bristol | Without_Treatment | 14dpi | 1 | Bristol | H2O | 14dpi | B14_H2O_rep1 | Bristol_14_H2O | Bristol_14_H2O | ⋯ | Bristol_Control | Bristol_14_H2O | NA             | NA | NA | NA | Bristol_14_H2O | NA            | NA             | NA |\n| S02_B14_H2O_POS.mzML area | Bristol | Without_Treatment | 14dpi | 2 | Bristol | H2O | 14dpi | B14_H2O_rep2 | Bristol_14_H2O | Bristol_14_H2O | ⋯ | Bristol_Control | Bristol_14_H2O | NA             | NA | NA | NA | Bristol_14_H2O | NA            | NA             | NA |\n| S03_D14_H2O_POS.mzML area | Darmor  | Without_Treatment | 14dpi | 1 | Darmor  | H2O | 14dpi | D14_H2O_rep1 | Darmor_14_H2O  | NA             | ⋯ | Darmor_Control  | Darmor_14_H2O  | NA             | NA | NA | NA | NA             | Darmor_14_H2O | NA             | NA |\n| S04_D14_H2O_POS.mzML area | Darmor  | Without_Treatment | 14dpi | 2 | Darmor  | H2O | 14dpi | D14_H2O_rep2 | Darmor_14_H2O  | NA             | ⋯ | Darmor_Control  | Darmor_14_H2O  | NA             | NA | NA | NA | NA             | Darmor_14_H2O | NA             | NA |\n| S20_B28_H2O_POS.mzML area | Bristol | Without_Treatment | 28dpi | 1 | Bristol | H2O | 28dpi | B28_H2O_rep1 | Bristol_28_H2O | Bristol_28_H2O | ⋯ | Bristol_Control | NA             | Bristol_28_H2O | NA | NA | NA | NA             | NA            | Bristol_28_H2O | NA |\n| S21_B28_H2O_POS.mzML area | Bristol | Without_Treatment | 28dpi | 2 | Bristol | H2O | 28dpi | B28_H2O_rep2 | Bristol_28_H2O | Bristol_28_H2O | ⋯ | Bristol_Control | NA             | Bristol_28_H2O | NA | NA | NA | NA             | NA            | Bristol_28_H2O | NA |\n\n",
            "text/latex": "A data.frame: 6 × 25\n\\begin{tabular}{r|lllllllllllllllllllll}\n  & ATTRIBUTE\\_species & ATTRIBUTE\\_SampleType & ATTRIBUTE\\_timepoint & ATTRIBUTE\\_replicates & Accessions & Treatments & Kinetics & Samples\\_code & Conditions\\_code & B14\\_H2O\\_JN2 & ⋯ & B14\\_B28\\_D14\\_D28\\_H2O & B14\\_D14\\_H2O & B28\\_D28\\_H2O & B14\\_D14\\_JN2 & B28\\_D28\\_JN2 & B14\\_B28\\_D14\\_D28\\_JN2 & BJN2\\_14 & DJN2\\_14 & BJN2\\_28 & DJN2\\_28\\\\\n  & <chr> & <chr> & <chr> & <fct> & <chr> & <chr> & <chr> & <chr> & <chr> & <chr> & ⋯ & <chr> & <chr> & <chr> & <chr> & <chr> & <chr> & <chr> & <chr> & <chr> & <chr>\\\\\n\\hline\n\tS01\\_B14\\_H2O\\_POS.mzML area & Bristol & Without\\_Treatment & 14dpi & 1 & Bristol & H2O & 14dpi & B14\\_H2O\\_rep1 & Bristol\\_14\\_H2O & Bristol\\_14\\_H2O & ⋯ & Bristol\\_Control & Bristol\\_14\\_H2O & NA             & NA & NA & NA & Bristol\\_14\\_H2O & NA            & NA             & NA\\\\\n\tS02\\_B14\\_H2O\\_POS.mzML area & Bristol & Without\\_Treatment & 14dpi & 2 & Bristol & H2O & 14dpi & B14\\_H2O\\_rep2 & Bristol\\_14\\_H2O & Bristol\\_14\\_H2O & ⋯ & Bristol\\_Control & Bristol\\_14\\_H2O & NA             & NA & NA & NA & Bristol\\_14\\_H2O & NA            & NA             & NA\\\\\n\tS03\\_D14\\_H2O\\_POS.mzML area & Darmor  & Without\\_Treatment & 14dpi & 1 & Darmor  & H2O & 14dpi & D14\\_H2O\\_rep1 & Darmor\\_14\\_H2O  & NA             & ⋯ & Darmor\\_Control  & Darmor\\_14\\_H2O  & NA             & NA & NA & NA & NA             & Darmor\\_14\\_H2O & NA             & NA\\\\\n\tS04\\_D14\\_H2O\\_POS.mzML area & Darmor  & Without\\_Treatment & 14dpi & 2 & Darmor  & H2O & 14dpi & D14\\_H2O\\_rep2 & Darmor\\_14\\_H2O  & NA             & ⋯ & Darmor\\_Control  & Darmor\\_14\\_H2O  & NA             & NA & NA & NA & NA             & Darmor\\_14\\_H2O & NA             & NA\\\\\n\tS20\\_B28\\_H2O\\_POS.mzML area & Bristol & Without\\_Treatment & 28dpi & 1 & Bristol & H2O & 28dpi & B28\\_H2O\\_rep1 & Bristol\\_28\\_H2O & Bristol\\_28\\_H2O & ⋯ & Bristol\\_Control & NA             & Bristol\\_28\\_H2O & NA & NA & NA & NA             & NA            & Bristol\\_28\\_H2O & NA\\\\\n\tS21\\_B28\\_H2O\\_POS.mzML area & Bristol & Without\\_Treatment & 28dpi & 2 & Bristol & H2O & 28dpi & B28\\_H2O\\_rep2 & Bristol\\_28\\_H2O & Bristol\\_28\\_H2O & ⋯ & Bristol\\_Control & NA             & Bristol\\_28\\_H2O & NA & NA & NA & NA             & NA            & Bristol\\_28\\_H2O & NA\\\\\n\\end{tabular}\n",
            "text/plain": [
              "                          ATTRIBUTE_species ATTRIBUTE_SampleType\n",
              "S01_B14_H2O_POS.mzML area Bristol           Without_Treatment   \n",
              "S02_B14_H2O_POS.mzML area Bristol           Without_Treatment   \n",
              "S03_D14_H2O_POS.mzML area Darmor            Without_Treatment   \n",
              "S04_D14_H2O_POS.mzML area Darmor            Without_Treatment   \n",
              "S20_B28_H2O_POS.mzML area Bristol           Without_Treatment   \n",
              "S21_B28_H2O_POS.mzML area Bristol           Without_Treatment   \n",
              "                          ATTRIBUTE_timepoint ATTRIBUTE_replicates Accessions\n",
              "S01_B14_H2O_POS.mzML area 14dpi               1                    Bristol   \n",
              "S02_B14_H2O_POS.mzML area 14dpi               2                    Bristol   \n",
              "S03_D14_H2O_POS.mzML area 14dpi               1                    Darmor    \n",
              "S04_D14_H2O_POS.mzML area 14dpi               2                    Darmor    \n",
              "S20_B28_H2O_POS.mzML area 28dpi               1                    Bristol   \n",
              "S21_B28_H2O_POS.mzML area 28dpi               2                    Bristol   \n",
              "                          Treatments Kinetics Samples_code Conditions_code\n",
              "S01_B14_H2O_POS.mzML area H2O        14dpi    B14_H2O_rep1 Bristol_14_H2O \n",
              "S02_B14_H2O_POS.mzML area H2O        14dpi    B14_H2O_rep2 Bristol_14_H2O \n",
              "S03_D14_H2O_POS.mzML area H2O        14dpi    D14_H2O_rep1 Darmor_14_H2O  \n",
              "S04_D14_H2O_POS.mzML area H2O        14dpi    D14_H2O_rep2 Darmor_14_H2O  \n",
              "S20_B28_H2O_POS.mzML area H2O        28dpi    B28_H2O_rep1 Bristol_28_H2O \n",
              "S21_B28_H2O_POS.mzML area H2O        28dpi    B28_H2O_rep2 Bristol_28_H2O \n",
              "                          B14_H2O_JN2    ⋯ B14_B28_D14_D28_H2O B14_D14_H2O   \n",
              "S01_B14_H2O_POS.mzML area Bristol_14_H2O ⋯ Bristol_Control     Bristol_14_H2O\n",
              "S02_B14_H2O_POS.mzML area Bristol_14_H2O ⋯ Bristol_Control     Bristol_14_H2O\n",
              "S03_D14_H2O_POS.mzML area NA             ⋯ Darmor_Control      Darmor_14_H2O \n",
              "S04_D14_H2O_POS.mzML area NA             ⋯ Darmor_Control      Darmor_14_H2O \n",
              "S20_B28_H2O_POS.mzML area Bristol_28_H2O ⋯ Bristol_Control     NA            \n",
              "S21_B28_H2O_POS.mzML area Bristol_28_H2O ⋯ Bristol_Control     NA            \n",
              "                          B28_D28_H2O    B14_D14_JN2 B28_D28_JN2\n",
              "S01_B14_H2O_POS.mzML area NA             NA          NA         \n",
              "S02_B14_H2O_POS.mzML area NA             NA          NA         \n",
              "S03_D14_H2O_POS.mzML area NA             NA          NA         \n",
              "S04_D14_H2O_POS.mzML area NA             NA          NA         \n",
              "S20_B28_H2O_POS.mzML area Bristol_28_H2O NA          NA         \n",
              "S21_B28_H2O_POS.mzML area Bristol_28_H2O NA          NA         \n",
              "                          B14_B28_D14_D28_JN2 BJN2_14        DJN2_14      \n",
              "S01_B14_H2O_POS.mzML area NA                  Bristol_14_H2O NA           \n",
              "S02_B14_H2O_POS.mzML area NA                  Bristol_14_H2O NA           \n",
              "S03_D14_H2O_POS.mzML area NA                  NA             Darmor_14_H2O\n",
              "S04_D14_H2O_POS.mzML area NA                  NA             Darmor_14_H2O\n",
              "S20_B28_H2O_POS.mzML area NA                  NA             NA           \n",
              "S21_B28_H2O_POS.mzML area NA                  NA             NA           \n",
              "                          BJN2_28        DJN2_28\n",
              "S01_B14_H2O_POS.mzML area NA             NA     \n",
              "S02_B14_H2O_POS.mzML area NA             NA     \n",
              "S03_D14_H2O_POS.mzML area NA             NA     \n",
              "S04_D14_H2O_POS.mzML area NA             NA     \n",
              "S20_B28_H2O_POS.mzML area Bristol_28_H2O NA     \n",
              "S21_B28_H2O_POS.mzML area Bristol_28_H2O NA     "
            ]
          },
          "metadata": {}
        },
        {
          "name": "stdout",
          "output_type": "stream",
          "text": [
            "      [,1]                  \n",
            " [1,] \"ATTRIBUTE_species\"   \n",
            " [2,] \"ATTRIBUTE_SampleType\"\n",
            " [3,] \"ATTRIBUTE_timepoint\" \n",
            " [4,] \"ATTRIBUTE_replicates\"\n",
            " [5,] \"Accessions\"          \n",
            " [6,] \"Treatments\"          \n",
            " [7,] \"Kinetics\"            \n",
            " [8,] \"Samples_code\"        \n",
            " [9,] \"Conditions_code\"     \n",
            "[10,] \"B14_H2O_JN2\"         \n",
            "[11,] \"D14_H2O_JN2\"         \n",
            "[12,] \"B28_H2O_JN2\"         \n",
            "[13,] \"D28_H2O_JN2\"         \n",
            "[14,] \"B14_28_H2O_JN2\"      \n",
            "[15,] \"D14_28_H2O_JN2\"      \n",
            "[16,] \"B14_B28_D14_D28_H2O\" \n",
            "[17,] \"B14_D14_H2O\"         \n",
            "[18,] \"B28_D28_H2O\"         \n",
            "[19,] \"B14_D14_JN2\"         \n",
            "[20,] \"B28_D28_JN2\"         \n",
            "[21,] \"B14_B28_D14_D28_JN2\" \n",
            "[22,] \"BJN2_14\"             \n",
            "[23,] \"DJN2_14\"             \n",
            "[24,] \"BJN2_28\"             \n",
            "[25,] \"DJN2_28\"             \n",
            "Enter the index of the attribute to split sample and control:2\n",
            "     [,1]               \n",
            "[1,] \"Blank\"            \n",
            "[2,] \"With_Treatment\"   \n",
            "[3,] \"Without_Treatment\"\n",
            "Enter the index of your BLANK:1\n"
          ]
        },
        {
          "output_type": "display_data",
          "data": {
            "text/html": [
              "'You chosen blank is:Blank'"
            ],
            "text/markdown": "'You chosen blank is:Blank'",
            "text/latex": "'You chosen blank is:Blank'",
            "text/plain": [
              "[1] \"You chosen blank is:Blank\""
            ]
          },
          "metadata": {}
        }
      ],
      "source": [
        "head(md)\n",
        "print(matrix(data=colnames(md),nrow=length(colnames(md))))\n",
        "\n",
        "#These lines are not needed in R console, but in Jupyter Notebook to get the previous print statement working\n",
        "flush.console()  \n",
        "Sys.sleep(0.2)\n",
        "\n",
        "Condition <- as.double(unlist(readline(\"Enter the index of the attribute to split sample and control:\")))\n",
        "\n",
        "flush.console()  \n",
        "Sys.sleep(0.2)\n",
        "\n",
        "Levels_Cdtn <- levels(as.factor(md[,Condition[1]]))\n",
        "print(matrix(Levels_Cdtn,length(Levels_Cdtn)))\n",
        "\n",
        "flush.console()  \n",
        "Sys.sleep(0.2)\n",
        "    \n",
        "#Among the shown levels of an attribute, select the ones to keep\n",
        "Ctrl_id <- as.double(unlist(readline(\"Enter the index of your BLANK:\")))\n",
        "paste0('You chosen blank is:',Levels_Cdtn[Ctrl_id])\n",
        "\n",
        "#Splitting the data into control and samples based on the metadata\n",
        "md_Ctrl <- md[(md[,Condition] == Levels_Cdtn[Ctrl_id]),]\n",
        "Ctrl <- input_data[,which(colnames(input_data)%in%rownames(md_Ctrl))] \n",
        "md_Samples <- md[(md[,Condition] != Levels_Cdtn[Ctrl_id]),]\n",
        "Samples <- input_data[,which(colnames(input_data)%in%rownames(md_Samples))] "
      ]
    },
    {
      "cell_type": "code",
      "execution_count": 16,
      "id": "3c2c31f4",
      "metadata": {
        "colab": {
          "base_uri": "https://localhost:8080/",
          "height": 304
        },
        "id": "3c2c31f4",
        "outputId": "7b2ada40-ec8e-4cee-d1ae-639150e06581"
      },
      "outputs": [
        {
          "output_type": "display_data",
          "data": {
            "text/html": [
              "<table class=\"dataframe\">\n",
              "<caption>A data.frame: 6 × 2</caption>\n",
              "<thead>\n",
              "\t<tr><th></th><th scope=col>PM04_POS.mzML area</th><th scope=col>PM05_POS.mzML area</th></tr>\n",
              "\t<tr><th></th><th scope=col>&lt;dbl&gt;</th><th scope=col>&lt;dbl&gt;</th></tr>\n",
              "</thead>\n",
              "<tbody>\n",
              "\t<tr><th scope=row>1_303.883_0.03</th><td>1.7e+05</td><td>3.2e+06</td></tr>\n",
              "\t<tr><th scope=row>2_186.956_0.03</th><td>2.5e+06</td><td>9.8e+06</td></tr>\n",
              "\t<tr><th scope=row>3_158.962_0.03</th><td>1.0e+07</td><td>4.3e+07</td></tr>\n",
              "\t<tr><th scope=row>4_275.889_0.03</th><td>1.7e+04</td><td>1.1e+06</td></tr>\n",
              "\t<tr><th scope=row>5_156.966_0.03</th><td>6.4e+05</td><td>3.3e+06</td></tr>\n",
              "\t<tr><th scope=row>6_130.967_0.03</th><td>1.7e+06</td><td>8.3e+06</td></tr>\n",
              "</tbody>\n",
              "</table>\n"
            ],
            "text/markdown": "\nA data.frame: 6 × 2\n\n| <!--/--> | PM04_POS.mzML area &lt;dbl&gt; | PM05_POS.mzML area &lt;dbl&gt; |\n|---|---|---|\n| 1_303.883_0.03 | 1.7e+05 | 3.2e+06 |\n| 2_186.956_0.03 | 2.5e+06 | 9.8e+06 |\n| 3_158.962_0.03 | 1.0e+07 | 4.3e+07 |\n| 4_275.889_0.03 | 1.7e+04 | 1.1e+06 |\n| 5_156.966_0.03 | 6.4e+05 | 3.3e+06 |\n| 6_130.967_0.03 | 1.7e+06 | 8.3e+06 |\n\n",
            "text/latex": "A data.frame: 6 × 2\n\\begin{tabular}{r|ll}\n  & PM04\\_POS.mzML area & PM05\\_POS.mzML area\\\\\n  & <dbl> & <dbl>\\\\\n\\hline\n\t1\\_303.883\\_0.03 & 1.7e+05 & 3.2e+06\\\\\n\t2\\_186.956\\_0.03 & 2.5e+06 & 9.8e+06\\\\\n\t3\\_158.962\\_0.03 & 1.0e+07 & 4.3e+07\\\\\n\t4\\_275.889\\_0.03 & 1.7e+04 & 1.1e+06\\\\\n\t5\\_156.966\\_0.03 & 6.4e+05 & 3.3e+06\\\\\n\t6\\_130.967\\_0.03 & 1.7e+06 & 8.3e+06\\\\\n\\end{tabular}\n",
            "text/plain": [
              "               PM04_POS.mzML area PM05_POS.mzML area\n",
              "1_303.883_0.03 1.7e+05            3.2e+06           \n",
              "2_186.956_0.03 2.5e+06            9.8e+06           \n",
              "3_158.962_0.03 1.0e+07            4.3e+07           \n",
              "4_275.889_0.03 1.7e+04            1.1e+06           \n",
              "5_156.966_0.03 6.4e+05            3.3e+06           \n",
              "6_130.967_0.03 1.7e+06            8.3e+06           "
            ]
          },
          "metadata": {}
        },
        {
          "output_type": "display_data",
          "data": {
            "text/html": [
              "<style>\n",
              ".list-inline {list-style: none; margin:0; padding: 0}\n",
              ".list-inline>li {display: inline-block}\n",
              ".list-inline>li:not(:last-child)::after {content: \"\\00b7\"; padding: 0 .5ex}\n",
              "</style>\n",
              "<ol class=list-inline><li>7209</li><li>2</li></ol>\n"
            ],
            "text/markdown": "1. 7209\n2. 2\n\n\n",
            "text/latex": "\\begin{enumerate*}\n\\item 7209\n\\item 2\n\\end{enumerate*}\n",
            "text/plain": [
              "[1] 7209    2"
            ]
          },
          "metadata": {}
        }
      ],
      "source": [
        "head(Ctrl)\n",
        "dim(Ctrl)"
      ]
    },
    {
      "cell_type": "code",
      "execution_count": 17,
      "id": "85457a6b",
      "metadata": {
        "colab": {
          "base_uri": "https://localhost:8080/",
          "height": 341
        },
        "id": "85457a6b",
        "outputId": "4306ec68-ec31-4831-970b-2be1145551ce"
      },
      "outputs": [
        {
          "output_type": "display_data",
          "data": {
            "text/html": [
              "<table class=\"dataframe\">\n",
              "<caption>A data.frame: 6 × 24</caption>\n",
              "<thead>\n",
              "\t<tr><th></th><th scope=col>S01_B14_H2O_POS.mzML area</th><th scope=col>S02_B14_H2O_POS.mzML area</th><th scope=col>S03_D14_H2O_POS.mzML area</th><th scope=col>S04_D14_H2O_POS.mzML area</th><th scope=col>S20_B28_H2O_POS.mzML area</th><th scope=col>S21_B28_H2O_POS.mzML area</th><th scope=col>S22_B28_H2O_POS.mzML area</th><th scope=col>S23_D28_H2O_POS.mzML area</th><th scope=col>S24_D28_H2O_POS.mzML area</th><th scope=col>S25_D28_H2O_POS.mzML area</th><th scope=col>⋯</th><th scope=col>S11_D14_JN2_POS.mzML area</th><th scope=col>S12_D14_JN2_POS.mzML area</th><th scope=col>S26_B28_JN2_POS.mzML area</th><th scope=col>S27_B28_JN2_POS.mzML area</th><th scope=col>S28_B28_JN2_POS.mzML area</th><th scope=col>S29_D28_JN2_POS.mzML area</th><th scope=col>S30_D28_JN2_POS.mzML area</th><th scope=col>S31_D28_JN2_POS.mzML area</th><th scope=col>S05_Dn14_H2O_POS.mzML area</th><th scope=col>S06_Dn14_H2O_POS.mzML area</th></tr>\n",
              "\t<tr><th></th><th scope=col>&lt;int&gt;</th><th scope=col>&lt;int&gt;</th><th scope=col>&lt;int&gt;</th><th scope=col>&lt;int&gt;</th><th scope=col>&lt;int&gt;</th><th scope=col>&lt;int&gt;</th><th scope=col>&lt;int&gt;</th><th scope=col>&lt;int&gt;</th><th scope=col>&lt;int&gt;</th><th scope=col>&lt;int&gt;</th><th scope=col>⋯</th><th scope=col>&lt;int&gt;</th><th scope=col>&lt;dbl&gt;</th><th scope=col>&lt;dbl&gt;</th><th scope=col>&lt;dbl&gt;</th><th scope=col>&lt;dbl&gt;</th><th scope=col>&lt;dbl&gt;</th><th scope=col>&lt;dbl&gt;</th><th scope=col>&lt;dbl&gt;</th><th scope=col>&lt;dbl&gt;</th><th scope=col>&lt;dbl&gt;</th></tr>\n",
              "</thead>\n",
              "<tbody>\n",
              "\t<tr><th scope=row>1_303.883_0.03</th><td>  850000</td><td> 1800000</td><td> 1600000</td><td> 1200000</td><td> 2100000</td><td>  660000</td><td>  980000</td><td> 1400000</td><td> 3000000</td><td>  990000</td><td>⋯</td><td> 2800000</td><td>2.3e+06</td><td>1.2e+06</td><td>1.7e+06</td><td>9.1e+05</td><td>4.8e+05</td><td>6.8e+05</td><td>2.4e+06</td><td>7.2e+05</td><td>1.4e+06</td></tr>\n",
              "\t<tr><th scope=row>2_186.956_0.03</th><td> 3300000</td><td>11000000</td><td> 9800000</td><td>16000000</td><td> 2900000</td><td> 3400000</td><td> 2900000</td><td> 3200000</td><td>12000000</td><td> 3300000</td><td>⋯</td><td>15000000</td><td>2.9e+06</td><td>1.3e+07</td><td>1.1e+07</td><td>3.3e+06</td><td>3.3e+06</td><td>3.3e+06</td><td>9.7e+06</td><td>3.3e+06</td><td>1.5e+07</td></tr>\n",
              "\t<tr><th scope=row>3_158.962_0.03</th><td>12000000</td><td>39000000</td><td>39000000</td><td>13000000</td><td>11000000</td><td>13000000</td><td>11000000</td><td>12000000</td><td>42000000</td><td>12000000</td><td>⋯</td><td>57000000</td><td>5.1e+07</td><td>5.1e+07</td><td>6.1e+07</td><td>1.2e+07</td><td>1.2e+07</td><td>1.2e+07</td><td>1.1e+07</td><td>1.2e+07</td><td>5.6e+07</td></tr>\n",
              "\t<tr><th scope=row>4_275.889_0.03</th><td>  350000</td><td>  890000</td><td>  540000</td><td>  720000</td><td>  810000</td><td>  140000</td><td>  610000</td><td>  250000</td><td> 1500000</td><td>  540000</td><td>⋯</td><td> 1100000</td><td>8.9e+05</td><td>5.0e+05</td><td>7.2e+05</td><td>3.3e+05</td><td>1.4e+05</td><td>2.3e+05</td><td>1.2e+06</td><td>2.2e+05</td><td>6.7e+05</td></tr>\n",
              "\t<tr><th scope=row>5_156.966_0.03</th><td>  740000</td><td> 2400000</td><td> 1900000</td><td>  810000</td><td>  680000</td><td>  770000</td><td> 3300000</td><td>  780000</td><td> 3100000</td><td>  760000</td><td>⋯</td><td> 3600000</td><td>3.2e+06</td><td>2.5e+06</td><td>2.5e+06</td><td>7.5e+05</td><td>7.5e+05</td><td>7.7e+05</td><td>2.1e+06</td><td>7.6e+05</td><td>3.6e+06</td></tr>\n",
              "\t<tr><th scope=row>6_130.967_0.03</th><td> 1700000</td><td> 3600000</td><td> 6900000</td><td> 7600000</td><td> 3300000</td><td> 1800000</td><td> 6800000</td><td> 5300000</td><td> 3900000</td><td> 8700000</td><td>⋯</td><td> 8400000</td><td>7.7e+06</td><td>7.7e+06</td><td>7.6e+06</td><td>1.7e+06</td><td>1.8e+06</td><td>9.3e+06</td><td>5.5e+06</td><td>8.6e+06</td><td>8.5e+06</td></tr>\n",
              "</tbody>\n",
              "</table>\n"
            ],
            "text/markdown": "\nA data.frame: 6 × 24\n\n| <!--/--> | S01_B14_H2O_POS.mzML area &lt;int&gt; | S02_B14_H2O_POS.mzML area &lt;int&gt; | S03_D14_H2O_POS.mzML area &lt;int&gt; | S04_D14_H2O_POS.mzML area &lt;int&gt; | S20_B28_H2O_POS.mzML area &lt;int&gt; | S21_B28_H2O_POS.mzML area &lt;int&gt; | S22_B28_H2O_POS.mzML area &lt;int&gt; | S23_D28_H2O_POS.mzML area &lt;int&gt; | S24_D28_H2O_POS.mzML area &lt;int&gt; | S25_D28_H2O_POS.mzML area &lt;int&gt; | ⋯ ⋯ | S11_D14_JN2_POS.mzML area &lt;int&gt; | S12_D14_JN2_POS.mzML area &lt;dbl&gt; | S26_B28_JN2_POS.mzML area &lt;dbl&gt; | S27_B28_JN2_POS.mzML area &lt;dbl&gt; | S28_B28_JN2_POS.mzML area &lt;dbl&gt; | S29_D28_JN2_POS.mzML area &lt;dbl&gt; | S30_D28_JN2_POS.mzML area &lt;dbl&gt; | S31_D28_JN2_POS.mzML area &lt;dbl&gt; | S05_Dn14_H2O_POS.mzML area &lt;dbl&gt; | S06_Dn14_H2O_POS.mzML area &lt;dbl&gt; |\n|---|---|---|---|---|---|---|---|---|---|---|---|---|---|---|---|---|---|---|---|---|---|\n| 1_303.883_0.03 |   850000 |  1800000 |  1600000 |  1200000 |  2100000 |   660000 |   980000 |  1400000 |  3000000 |   990000 | ⋯ |  2800000 | 2.3e+06 | 1.2e+06 | 1.7e+06 | 9.1e+05 | 4.8e+05 | 6.8e+05 | 2.4e+06 | 7.2e+05 | 1.4e+06 |\n| 2_186.956_0.03 |  3300000 | 11000000 |  9800000 | 16000000 |  2900000 |  3400000 |  2900000 |  3200000 | 12000000 |  3300000 | ⋯ | 15000000 | 2.9e+06 | 1.3e+07 | 1.1e+07 | 3.3e+06 | 3.3e+06 | 3.3e+06 | 9.7e+06 | 3.3e+06 | 1.5e+07 |\n| 3_158.962_0.03 | 12000000 | 39000000 | 39000000 | 13000000 | 11000000 | 13000000 | 11000000 | 12000000 | 42000000 | 12000000 | ⋯ | 57000000 | 5.1e+07 | 5.1e+07 | 6.1e+07 | 1.2e+07 | 1.2e+07 | 1.2e+07 | 1.1e+07 | 1.2e+07 | 5.6e+07 |\n| 4_275.889_0.03 |   350000 |   890000 |   540000 |   720000 |   810000 |   140000 |   610000 |   250000 |  1500000 |   540000 | ⋯ |  1100000 | 8.9e+05 | 5.0e+05 | 7.2e+05 | 3.3e+05 | 1.4e+05 | 2.3e+05 | 1.2e+06 | 2.2e+05 | 6.7e+05 |\n| 5_156.966_0.03 |   740000 |  2400000 |  1900000 |   810000 |   680000 |   770000 |  3300000 |   780000 |  3100000 |   760000 | ⋯ |  3600000 | 3.2e+06 | 2.5e+06 | 2.5e+06 | 7.5e+05 | 7.5e+05 | 7.7e+05 | 2.1e+06 | 7.6e+05 | 3.6e+06 |\n| 6_130.967_0.03 |  1700000 |  3600000 |  6900000 |  7600000 |  3300000 |  1800000 |  6800000 |  5300000 |  3900000 |  8700000 | ⋯ |  8400000 | 7.7e+06 | 7.7e+06 | 7.6e+06 | 1.7e+06 | 1.8e+06 | 9.3e+06 | 5.5e+06 | 8.6e+06 | 8.5e+06 |\n\n",
            "text/latex": "A data.frame: 6 × 24\n\\begin{tabular}{r|lllllllllllllllllllll}\n  & S01\\_B14\\_H2O\\_POS.mzML area & S02\\_B14\\_H2O\\_POS.mzML area & S03\\_D14\\_H2O\\_POS.mzML area & S04\\_D14\\_H2O\\_POS.mzML area & S20\\_B28\\_H2O\\_POS.mzML area & S21\\_B28\\_H2O\\_POS.mzML area & S22\\_B28\\_H2O\\_POS.mzML area & S23\\_D28\\_H2O\\_POS.mzML area & S24\\_D28\\_H2O\\_POS.mzML area & S25\\_D28\\_H2O\\_POS.mzML area & ⋯ & S11\\_D14\\_JN2\\_POS.mzML area & S12\\_D14\\_JN2\\_POS.mzML area & S26\\_B28\\_JN2\\_POS.mzML area & S27\\_B28\\_JN2\\_POS.mzML area & S28\\_B28\\_JN2\\_POS.mzML area & S29\\_D28\\_JN2\\_POS.mzML area & S30\\_D28\\_JN2\\_POS.mzML area & S31\\_D28\\_JN2\\_POS.mzML area & S05\\_Dn14\\_H2O\\_POS.mzML area & S06\\_Dn14\\_H2O\\_POS.mzML area\\\\\n  & <int> & <int> & <int> & <int> & <int> & <int> & <int> & <int> & <int> & <int> & ⋯ & <int> & <dbl> & <dbl> & <dbl> & <dbl> & <dbl> & <dbl> & <dbl> & <dbl> & <dbl>\\\\\n\\hline\n\t1\\_303.883\\_0.03 &   850000 &  1800000 &  1600000 &  1200000 &  2100000 &   660000 &   980000 &  1400000 &  3000000 &   990000 & ⋯ &  2800000 & 2.3e+06 & 1.2e+06 & 1.7e+06 & 9.1e+05 & 4.8e+05 & 6.8e+05 & 2.4e+06 & 7.2e+05 & 1.4e+06\\\\\n\t2\\_186.956\\_0.03 &  3300000 & 11000000 &  9800000 & 16000000 &  2900000 &  3400000 &  2900000 &  3200000 & 12000000 &  3300000 & ⋯ & 15000000 & 2.9e+06 & 1.3e+07 & 1.1e+07 & 3.3e+06 & 3.3e+06 & 3.3e+06 & 9.7e+06 & 3.3e+06 & 1.5e+07\\\\\n\t3\\_158.962\\_0.03 & 12000000 & 39000000 & 39000000 & 13000000 & 11000000 & 13000000 & 11000000 & 12000000 & 42000000 & 12000000 & ⋯ & 57000000 & 5.1e+07 & 5.1e+07 & 6.1e+07 & 1.2e+07 & 1.2e+07 & 1.2e+07 & 1.1e+07 & 1.2e+07 & 5.6e+07\\\\\n\t4\\_275.889\\_0.03 &   350000 &   890000 &   540000 &   720000 &   810000 &   140000 &   610000 &   250000 &  1500000 &   540000 & ⋯ &  1100000 & 8.9e+05 & 5.0e+05 & 7.2e+05 & 3.3e+05 & 1.4e+05 & 2.3e+05 & 1.2e+06 & 2.2e+05 & 6.7e+05\\\\\n\t5\\_156.966\\_0.03 &   740000 &  2400000 &  1900000 &   810000 &   680000 &   770000 &  3300000 &   780000 &  3100000 &   760000 & ⋯ &  3600000 & 3.2e+06 & 2.5e+06 & 2.5e+06 & 7.5e+05 & 7.5e+05 & 7.7e+05 & 2.1e+06 & 7.6e+05 & 3.6e+06\\\\\n\t6\\_130.967\\_0.03 &  1700000 &  3600000 &  6900000 &  7600000 &  3300000 &  1800000 &  6800000 &  5300000 &  3900000 &  8700000 & ⋯ &  8400000 & 7.7e+06 & 7.7e+06 & 7.6e+06 & 1.7e+06 & 1.8e+06 & 9.3e+06 & 5.5e+06 & 8.6e+06 & 8.5e+06\\\\\n\\end{tabular}\n",
            "text/plain": [
              "               S01_B14_H2O_POS.mzML area S02_B14_H2O_POS.mzML area\n",
              "1_303.883_0.03   850000                   1800000                 \n",
              "2_186.956_0.03  3300000                  11000000                 \n",
              "3_158.962_0.03 12000000                  39000000                 \n",
              "4_275.889_0.03   350000                    890000                 \n",
              "5_156.966_0.03   740000                   2400000                 \n",
              "6_130.967_0.03  1700000                   3600000                 \n",
              "               S03_D14_H2O_POS.mzML area S04_D14_H2O_POS.mzML area\n",
              "1_303.883_0.03  1600000                   1200000                 \n",
              "2_186.956_0.03  9800000                  16000000                 \n",
              "3_158.962_0.03 39000000                  13000000                 \n",
              "4_275.889_0.03   540000                    720000                 \n",
              "5_156.966_0.03  1900000                    810000                 \n",
              "6_130.967_0.03  6900000                   7600000                 \n",
              "               S20_B28_H2O_POS.mzML area S21_B28_H2O_POS.mzML area\n",
              "1_303.883_0.03  2100000                    660000                 \n",
              "2_186.956_0.03  2900000                   3400000                 \n",
              "3_158.962_0.03 11000000                  13000000                 \n",
              "4_275.889_0.03   810000                    140000                 \n",
              "5_156.966_0.03   680000                    770000                 \n",
              "6_130.967_0.03  3300000                   1800000                 \n",
              "               S22_B28_H2O_POS.mzML area S23_D28_H2O_POS.mzML area\n",
              "1_303.883_0.03   980000                   1400000                 \n",
              "2_186.956_0.03  2900000                   3200000                 \n",
              "3_158.962_0.03 11000000                  12000000                 \n",
              "4_275.889_0.03   610000                    250000                 \n",
              "5_156.966_0.03  3300000                    780000                 \n",
              "6_130.967_0.03  6800000                   5300000                 \n",
              "               S24_D28_H2O_POS.mzML area S25_D28_H2O_POS.mzML area ⋯\n",
              "1_303.883_0.03  3000000                    990000                  ⋯\n",
              "2_186.956_0.03 12000000                   3300000                  ⋯\n",
              "3_158.962_0.03 42000000                  12000000                  ⋯\n",
              "4_275.889_0.03  1500000                    540000                  ⋯\n",
              "5_156.966_0.03  3100000                    760000                  ⋯\n",
              "6_130.967_0.03  3900000                   8700000                  ⋯\n",
              "               S11_D14_JN2_POS.mzML area S12_D14_JN2_POS.mzML area\n",
              "1_303.883_0.03  2800000                  2.3e+06                  \n",
              "2_186.956_0.03 15000000                  2.9e+06                  \n",
              "3_158.962_0.03 57000000                  5.1e+07                  \n",
              "4_275.889_0.03  1100000                  8.9e+05                  \n",
              "5_156.966_0.03  3600000                  3.2e+06                  \n",
              "6_130.967_0.03  8400000                  7.7e+06                  \n",
              "               S26_B28_JN2_POS.mzML area S27_B28_JN2_POS.mzML area\n",
              "1_303.883_0.03 1.2e+06                   1.7e+06                  \n",
              "2_186.956_0.03 1.3e+07                   1.1e+07                  \n",
              "3_158.962_0.03 5.1e+07                   6.1e+07                  \n",
              "4_275.889_0.03 5.0e+05                   7.2e+05                  \n",
              "5_156.966_0.03 2.5e+06                   2.5e+06                  \n",
              "6_130.967_0.03 7.7e+06                   7.6e+06                  \n",
              "               S28_B28_JN2_POS.mzML area S29_D28_JN2_POS.mzML area\n",
              "1_303.883_0.03 9.1e+05                   4.8e+05                  \n",
              "2_186.956_0.03 3.3e+06                   3.3e+06                  \n",
              "3_158.962_0.03 1.2e+07                   1.2e+07                  \n",
              "4_275.889_0.03 3.3e+05                   1.4e+05                  \n",
              "5_156.966_0.03 7.5e+05                   7.5e+05                  \n",
              "6_130.967_0.03 1.7e+06                   1.8e+06                  \n",
              "               S30_D28_JN2_POS.mzML area S31_D28_JN2_POS.mzML area\n",
              "1_303.883_0.03 6.8e+05                   2.4e+06                  \n",
              "2_186.956_0.03 3.3e+06                   9.7e+06                  \n",
              "3_158.962_0.03 1.2e+07                   1.1e+07                  \n",
              "4_275.889_0.03 2.3e+05                   1.2e+06                  \n",
              "5_156.966_0.03 7.7e+05                   2.1e+06                  \n",
              "6_130.967_0.03 9.3e+06                   5.5e+06                  \n",
              "               S05_Dn14_H2O_POS.mzML area S06_Dn14_H2O_POS.mzML area\n",
              "1_303.883_0.03 7.2e+05                    1.4e+06                   \n",
              "2_186.956_0.03 3.3e+06                    1.5e+07                   \n",
              "3_158.962_0.03 1.2e+07                    5.6e+07                   \n",
              "4_275.889_0.03 2.2e+05                    6.7e+05                   \n",
              "5_156.966_0.03 7.6e+05                    3.6e+06                   \n",
              "6_130.967_0.03 8.6e+06                    8.5e+06                   "
            ]
          },
          "metadata": {}
        },
        {
          "output_type": "display_data",
          "data": {
            "text/html": [
              "<style>\n",
              ".list-inline {list-style: none; margin:0; padding: 0}\n",
              ".list-inline>li {display: inline-block}\n",
              ".list-inline>li:not(:last-child)::after {content: \"\\00b7\"; padding: 0 .5ex}\n",
              "</style>\n",
              "<ol class=list-inline><li>7209</li><li>24</li></ol>\n"
            ],
            "text/markdown": "1. 7209\n2. 24\n\n\n",
            "text/latex": "\\begin{enumerate*}\n\\item 7209\n\\item 24\n\\end{enumerate*}\n",
            "text/plain": [
              "[1] 7209   24"
            ]
          },
          "metadata": {}
        }
      ],
      "source": [
        "head(Samples)\n",
        "dim(Samples)"
      ]
    },
    {
      "cell_type": "markdown",
      "id": "96275453",
      "metadata": {
        "id": "96275453"
      },
      "source": [
        "## Creating a function named FrequencyPlot:  \n",
        "The below function takes in the two input datatables: for example, gapfilled and non-gapfilled, calculates the frequency distribution of the data in the order of 10 and produces a grouped barplot showing the distribution as output. The frequency plot shows where the features are present in higher number."
      ]
    },
    {
      "cell_type": "code",
      "execution_count": 18,
      "id": "e6d2b3b4",
      "metadata": {
        "id": "e6d2b3b4"
      },
      "outputs": [],
      "source": [
        "#'Global' settings for plot size in the output cell\n",
        "options(repr.plot.width=10, repr.plot.height=8,res=600) #For google collab\n",
        "#options(repr.plot.width=5, repr.plot.height=3) #For Jupyter Notebook"
      ]
    },
    {
      "cell_type": "code",
      "execution_count": 19,
      "id": "4755a764",
      "metadata": {
        "id": "4755a764"
      },
      "outputs": [],
      "source": [
        "FrequencyPlot <- function(x1,x2){\n",
        "  \n",
        "   #creating bins from -1 to 10^10 using sequence function seq()\n",
        "    bins <- c(-1,0,(1 * 10^(seq(0,10,1)))) \n",
        "    \n",
        "    #cut function cuts the give table into its appropriate bins\n",
        "    scores_x1 <- cut(as.matrix(x1),bins,labels = c('0','1','10','1E2','1E3','1E4','1E5','1E6','1E7','1E8','1E9','1E10')) \n",
        "    \n",
        "    #transform function convert the tables into a column format: easy for visualization \n",
        "    Table_x1<-transform(table(scores_x1)) #contains 2 columns: \"scores_x1\", \"Freq\"\n",
        "    \n",
        "    #Repeating the same steps for x2\n",
        "    scores_x2 <- cut(as.matrix(x2),bins,labels = c('0','1','10','1E2','1E3','1E4','1E5','1E6','1E7','1E8','1E9','1E10'))\n",
        "    Table_x2<-transform(table(scores_x2))\n",
        "  \n",
        "    #Getting the names of x1 and x2\n",
        "    arg1 <- deparse(substitute(x1))\n",
        "    arg2 <-deparse(substitute(x2))\n",
        "    \n",
        "    #Creating a data frame for plotting\n",
        "    data_plot <- as.data.frame(c(Table_x1$Freq,Table_x2$Freq)) #Concatenating the frequency info of both tables rowwise\n",
        "    colnames(data_plot) <- \"Freq\" #naming the 1st column as 'Freq'\n",
        "    data_plot$Condition <- c(rep(arg1,12),rep(arg2,12)) #adding a 2nd column 'Condition', which just repeats the name of x1 and x2 accordingly\n",
        "    data_plot$Range_bins <- rep(Table_x1$scores_x1,2) #Adding 3rd column 'Range Bins'\n",
        "    data_plot$Log_Freq <- log(data_plot$Freq+1) #Log scaling the frequency values\n",
        "    \n",
        "    ## GGPLOT2\n",
        "    BarPlot <- ggplot(data_plot, aes(Range_bins, Log_Freq, fill = Condition)) + \n",
        "    geom_bar(stat=\"identity\", position = \"dodge\", width=0.4) + \n",
        "    scale_fill_brewer(palette = \"Set1\") +\n",
        "    ggtitle(label=\"Frequency plot\") +\n",
        "    xlab(\"Range\") + ylab(\"(Log)Frequency\") + labs(fill = \"Data Type\") + \n",
        "    theme(axis.text.x = element_text(angle = 90, vjust = 0.5, hjust=1)) +   # setting the angle for the x label\n",
        "    theme(axis.text.y = element_text(angle = 45, vjust = 0.5, hjust=1)) +   # setting the angle for the y label\n",
        "    theme(plot.title = element_text(hjust = 0.5)) # centering the plot title\n",
        "  \n",
        "    print(BarPlot)\n",
        "}  "
      ]
    },
    {
      "cell_type": "code",
      "source": [
        "Freq = FrequencyPlot(Samples, Ctrl )\n",
        "ggsave(Freq,filename=\"220725_disturb_POS_FrequencyPlot.png\", width = 10, height = 8)"
      ],
      "metadata": {
        "colab": {
          "base_uri": "https://localhost:8080/",
          "height": 497
        },
        "id": "j5saIdpkiSMt",
        "outputId": "e1da2f12-5cae-4455-8e9f-c0ab1ea83b17"
      },
      "id": "j5saIdpkiSMt",
      "execution_count": 20,
      "outputs": [
        {
          "output_type": "display_data",
          "data": {
            "text/plain": [
              "plot without title"
            ],
            "image/png": "[encoded data removed]"
          },
          "metadata": {
            "image/png": {
              "width": 600,
              "height": 480
            }
          }
        }
      ]
    },
    {
      "cell_type": "markdown",
      "id": "43099574",
      "metadata": {
        "id": "43099574"
      },
      "source": [
        "## Blank Removal:\n",
        "\n",
        "(Note: In LC-MS/MS, we use solvents also called as Blanks which are usually injected time-to-time to prevent carryover of the sample) </br>\n",
        "\n",
        "For the Blank removal step, we need to split the data as control blanks and samples. </br>\n",
        "\n",
        "**The blanks we are referring to here, is the control blanks in the experiment and not the LC-MS/MS blanks.**\n",
        "- The control blanks here is the sample without treatment. \n",
        "- Samples are biological replicates with treatment and we have two sets of data: B.sub and E.coli. </br>\n",
        "\n",
        "In general, having multiple control blanks helps us to compare any variation in the data. Comparing control to the sample helps us to identify the background features that contribute to any technical variation. A common filtering method is to use a cutoff to remove features that are not present sufficient enough in our biological samples.\n",
        "\n",
        "1. We find an average for all the feature intensities in your control set and sample set.\n",
        "Therefore, for n no.of features in a control or sample set, we get n no.of averaged features.\n",
        "2. Next, we get a ratio of this average_control vs average_sample. This ratio Control/sample tells us how much of that particular feature of a sample gets its contribution from control. If it is more than 30% (or Cutoff as 0.3), we consider the feature as noise.\n",
        "3. The resultant information (if ratio > Cutoff or not) is stored in a bin such as **1 == Noise or background signal, 0 == Feature Signal**\n",
        "4. We count the no.of features in the bin that satisfies the condition ratio > cutoff, and consider those features as 'noise or background features' and remove them.\n",
        "\n",
        "For a dataset containing several batches, the filtering steps are performed batch-wise."
      ]
    },
    {
      "cell_type": "code",
      "execution_count": 21,
      "id": "af1aa72f",
      "metadata": {
        "colab": {
          "base_uri": "https://localhost:8080/"
        },
        "id": "af1aa72f",
        "outputId": "b4578a22-94fc-496d-d61a-b4aefaf3f8b0"
      },
      "outputs": [
        {
          "output_type": "stream",
          "name": "stdout",
          "text": [
            "Do you want to perform Blank Removal- Y/N:Y\n",
            "Enter Cutoff value between 0.1 & 1:0.3\n",
            "[1] \"No of NA values in the following columns:\"\n",
            "         Avg_ctrl       Avg_samples Ratio_Ctrl_Sample            Bg_bin \n",
            "                0                 0                 0                 0 \n",
            "[1] \"No.of Background or noise features: 806\"\n",
            "[1] \"No.of features after excluding noise: 6403\"\n"
          ]
        }
      ],
      "source": [
        "if(readline('Do you want to perform Blank Removal- Y/N:')=='Y'){\n",
        "    \n",
        "    #When cutoff is low, more noise (or background) detected; With higher cutoff, less background detected, thus more features observed\n",
        "    Cutoff <- as.numeric(readline('Enter Cutoff value between 0.1 & 1:')) # (i.e. 10% - 100%). Ideal cutoff range: 0.1-0.3\n",
        "    \n",
        "    #Getting mean for every feature in Ctrl and Samples\n",
        "    Avg_ctrl <- rowMeans(Ctrl, na.rm= FALSE, dims = 1) # set na.rm = FALSE to check if there are NA values. When set as TRUE, NA values are changed to 0\n",
        "    Avg_samples <- rowMeans(Samples, na.rm= FALSE, dims = 1)\n",
        "    \n",
        "    #Getting the ratio of Ctrl vs Sample\n",
        "    Ratio_Ctrl_Sample <- (Avg_ctrl+1)/(Avg_samples+1)\n",
        "    \n",
        "    # Creating a bin with 1s when the ratio>Cutoff, else put 0s\n",
        "    Bg_bin <- ifelse(Ratio_Ctrl_Sample > Cutoff, 1, 0 )\n",
        "    Blank_removal <- cbind(Samples,Bg_bin)\n",
        "\n",
        "    # Checking if there are any NA values present. Having NA values in the 4 variables will affect the final dataset to be created\n",
        "    temp_NA_Count <-cbind(Avg_ctrl ,Avg_samples,Ratio_Ctrl_Sample,Bg_bin)\n",
        "    \n",
        "    print('No of NA values in the following columns:')\n",
        "    print(colSums(is.na(temp_NA_Count)))\n",
        "\n",
        "     #Calculating the number of background features and features present\n",
        "    print(paste(\"No.of Background or noise features:\",sum(Bg_bin ==1,na.rm = TRUE)))\n",
        "    print(paste(\"No.of features after excluding noise:\",(nrow(Samples) - sum(Bg_bin ==1,na.rm = TRUE)))) \n",
        "\n",
        "    Blank_removal <- Blank_removal %>% filter(Bg_bin == 0) # Taking only the feature signals\n",
        "    Blank_removal <- as.matrix(Blank_removal[,-ncol(Blank_removal)]) # removing the last column Bg_bin \n",
        "}"
      ]
    },
    {
      "cell_type": "code",
      "execution_count": 22,
      "id": "eh8Gd6QD_Dt3",
      "metadata": {
        "id": "eh8Gd6QD_Dt3",
        "colab": {
          "base_uri": "https://localhost:8080/",
          "height": 34
        },
        "outputId": "d551d02d-c2ce-4d40-a3d4-ae2b03a3a6c9"
      },
      "outputs": [
        {
          "output_type": "display_data",
          "data": {
            "text/html": [
              "<style>\n",
              ".list-inline {list-style: none; margin:0; padding: 0}\n",
              ".list-inline>li {display: inline-block}\n",
              ".list-inline>li:not(:last-child)::after {content: \"\\00b7\"; padding: 0 .5ex}\n",
              "</style>\n",
              "<ol class=list-inline><li>6403</li><li>24</li></ol>\n"
            ],
            "text/markdown": "1. 6403\n2. 24\n\n\n",
            "text/latex": "\\begin{enumerate*}\n\\item 6403\n\\item 24\n\\end{enumerate*}\n",
            "text/plain": [
              "[1] 6403   24"
            ]
          },
          "metadata": {}
        }
      ],
      "source": [
        "dim(Blank_removal)"
      ]
    },
    {
      "cell_type": "markdown",
      "id": "b4210007",
      "metadata": {
        "id": "b4210007"
      },
      "source": [
        "## Imputation: \n",
        "\n",
        "For several reasons, real world datasets might have some missing values in it, in the form of NA, NANs or 0s. Eventhough the gapfilling step of MZmine fills the missing values, we still end up with some missing values or 0s in our feature table. This could be problematic for statistical analysis. \n",
        "In order to have a better dataset, we cannot simply discard those rows or columns with missing values as we will lose a chunk of our valuable data.\n",
        "Instead we can try imputing those missing values. Imputation involves replacing the missing values in the data with a meaningful, reasonable guess. There are several methods, such as:  \n",
        "1) Mean imputation (replacing the missing values in a column with the mean or average of the column)  \n",
        "2) Replacing it with the most frequent value  \n",
        "3) Several other machine learning imputation methods such as k-nearest neighbors algorithm(k-NN), Hidden Markov Model(HMM)\n",
        "\n",
        "One such method, we are going to use is: **to replace the zeros from the gapfilled quant table with the non-gap filled table** we get from MZmine. In order to do that, we can visualize our data distribution using the frequenct plot"
      ]
    },
    {
      "cell_type": "code",
      "execution_count": 23,
      "id": "9d83ae53",
      "metadata": {
        "id": "9d83ae53"
      },
      "outputs": [],
      "source": [
        "GapFilled <-Blank_removal\n",
        "NotGapFilled <- nft"
      ]
    },
    {
      "cell_type": "code",
      "execution_count": 24,
      "id": "e527abdb",
      "metadata": {
        "colab": {
          "base_uri": "https://localhost:8080/",
          "height": 554
        },
        "id": "e527abdb",
        "outputId": "712b72c3-aeb0-4115-dbed-4e0785b49b8a"
      },
      "outputs": [
        {
          "output_type": "stream",
          "name": "stdout",
          "text": [
            "Do you want to perform Imputation with minimum value of NonGapFilled table? - Y/N:Y\n",
            "[1] \"The minimum value greater than 0 for GapFilled:370\"\n",
            "[1] \"The minimum value greater than 0 for NotGapFilled:48000\"\n"
          ]
        },
        {
          "output_type": "display_data",
          "data": {
            "text/plain": [
              "plot without title"
            ],
            "image/png": "[encoded data removed]"
          },
          "metadata": {
            "image/png": {
              "width": 600,
              "height": 480
            }
          }
        }
      ],
      "source": [
        "if(readline('Do you want to perform Imputation with minimum value of NonGapFilled table? - Y/N:')=='Y'){\n",
        "    \n",
        "    plot<- FrequencyPlot(GapFilled,NotGapFilled)\n",
        "    \n",
        "    Arg1 = plot$data$Condition[1]\n",
        "    Arg2 = plot$data$Condition[13]\n",
        "    \n",
        "    # accessing the datatable of plot and subsetting with the condition: Eliminating the Range (or bin) 0 and Ranges with zero frequencies \n",
        "    plotData_New <- subset(plot$data,plot$data$Freq!=0 & plot$data$Range_bins !=0) \n",
        "    \n",
        "    #getting the first appearing value of this new plot datatable\n",
        "    First_val_temp <- aggregate(plotData_New$Freq, by=list(plotData_New$Condition), FUN=first) \n",
        "    \n",
        "    # Subsetting the rows in the plotData_New that has the first appearing values\n",
        "    First_val <- plotData_New[plotData_New$Freq %in% c(First_val_temp$x[1],First_val_temp$x[2]),]\n",
        "  \n",
        "    # getting the 2nd minimum value of non-gap filled data. (The first minimum value in the data table is usually zero)\n",
        "    RawLOD <- round(min(NotGapFilled[NotGapFilled!=min(NotGapFilled)]))\n",
        "    print(paste0(\"The minimum value greater than 0 for \",Arg1,\":\", round(min(GapFilled[GapFilled!=min(GapFilled)]))))\n",
        "    print(paste0(\"The minimum value greater than 0 for \",Arg2,\":\", RawLOD))\n",
        "    \n",
        "    Imputed <- GapFilled\n",
        "    Imputed[Imputed<RawLOD] <- RawLOD # Replacing values<RawLOD with RawLOD\n",
        "} else return(GapFilled)\n",
        "\n",
        "ggsave(plot,filename=\"220725_disturb_POS_FrequencyPlot_GapFilled.png\", width = 10, height = 8)"
      ]
    },
    {
      "cell_type": "code",
      "source": [
        "getwd()"
      ],
      "metadata": {
        "colab": {
          "base_uri": "https://localhost:8080/",
          "height": 34
        },
        "id": "5vBBybDnkdNf",
        "outputId": "02dbf197-4c1b-4642-d816-c52d70b67191"
      },
      "id": "5vBBybDnkdNf",
      "execution_count": 25,
      "outputs": [
        {
          "output_type": "display_data",
          "data": {
            "text/html": [
              "'/content/data_results'"
            ],
            "text/markdown": "'/content/data_results'",
            "text/latex": "'/content/data\\_results'",
            "text/plain": [
              "[1] \"/content/data_results\""
            ]
          },
          "metadata": {}
        }
      ]
    },
    {
      "cell_type": "code",
      "execution_count": 26,
      "id": "2698000e",
      "metadata": {
        "id": "2698000e"
      },
      "outputs": [],
      "source": [
        "write.csv(Imputed, file='220725_disturb_POS_Quant_Table_filled_with_MinValue.csv', row.names =TRUE) "
      ]
    },
    {
      "cell_type": "code",
      "execution_count": 27,
      "id": "a25d5a9c",
      "metadata": {
        "id": "a25d5a9c",
        "colab": {
          "base_uri": "https://localhost:8080/",
          "height": 310
        },
        "outputId": "65777c54-e3ec-4a31-f0c1-34902bfd8ceb"
      },
      "outputs": [
        {
          "output_type": "display_data",
          "data": {
            "text/html": [
              "<table class=\"dataframe\">\n",
              "<caption>A matrix: 6 × 24 of type dbl</caption>\n",
              "<thead>\n",
              "\t<tr><th></th><th scope=col>S01_B14_H2O_POS.mzML area</th><th scope=col>S02_B14_H2O_POS.mzML area</th><th scope=col>S03_D14_H2O_POS.mzML area</th><th scope=col>S04_D14_H2O_POS.mzML area</th><th scope=col>S20_B28_H2O_POS.mzML area</th><th scope=col>S21_B28_H2O_POS.mzML area</th><th scope=col>S22_B28_H2O_POS.mzML area</th><th scope=col>S23_D28_H2O_POS.mzML area</th><th scope=col>S24_D28_H2O_POS.mzML area</th><th scope=col>S25_D28_H2O_POS.mzML area</th><th scope=col>⋯</th><th scope=col>S11_D14_JN2_POS.mzML area</th><th scope=col>S12_D14_JN2_POS.mzML area</th><th scope=col>S26_B28_JN2_POS.mzML area</th><th scope=col>S27_B28_JN2_POS.mzML area</th><th scope=col>S28_B28_JN2_POS.mzML area</th><th scope=col>S29_D28_JN2_POS.mzML area</th><th scope=col>S30_D28_JN2_POS.mzML area</th><th scope=col>S31_D28_JN2_POS.mzML area</th><th scope=col>S05_Dn14_H2O_POS.mzML area</th><th scope=col>S06_Dn14_H2O_POS.mzML area</th></tr>\n",
              "</thead>\n",
              "<tbody>\n",
              "\t<tr><th scope=row>52_235.639_0.59</th><td>  48000</td><td>  48000</td><td>  48000</td><td>  48000</td><td> 280000</td><td> 81000</td><td>48000</td><td>48000</td><td> 48000</td><td>48000</td><td>⋯</td><td> 48000</td><td> 48000</td><td> 48000</td><td>48000</td><td> 48000</td><td> 48000</td><td>48000</td><td>48000</td><td>  48000</td><td>  48000</td></tr>\n",
              "\t<tr><th scope=row>53_145.607_0.59</th><td> 600000</td><td> 590000</td><td> 500000</td><td>1300000</td><td> 910000</td><td>620000</td><td>48000</td><td>48000</td><td>110000</td><td>48000</td><td>⋯</td><td>220000</td><td>240000</td><td> 48000</td><td>48000</td><td>140000</td><td> 48000</td><td>48000</td><td>48000</td><td>  48000</td><td> 740000</td></tr>\n",
              "\t<tr><th scope=row>54_226.634_0.59</th><td>  48000</td><td>  48000</td><td>  48000</td><td>  48000</td><td> 410000</td><td> 68000</td><td>48000</td><td>48000</td><td> 48000</td><td>48000</td><td>⋯</td><td> 48000</td><td> 48000</td><td> 48000</td><td>48000</td><td> 48000</td><td> 48000</td><td>48000</td><td>48000</td><td>  48000</td><td>  48000</td></tr>\n",
              "\t<tr><th scope=row>57_129.139_0.61</th><td>2400000</td><td>3300000</td><td>1800000</td><td>1300000</td><td> 230000</td><td>300000</td><td>48000</td><td>48000</td><td> 48000</td><td>48000</td><td>⋯</td><td>760000</td><td>260000</td><td>120000</td><td>48000</td><td>260000</td><td>160000</td><td>48000</td><td>48000</td><td>2000000</td><td>3400000</td></tr>\n",
              "\t<tr><th scope=row>59_308.217_0.61</th><td>1200000</td><td>2500000</td><td>1500000</td><td>2700000</td><td>2300000</td><td>250000</td><td>48000</td><td>48000</td><td> 48000</td><td>48000</td><td>⋯</td><td> 69000</td><td> 48000</td><td> 48000</td><td>48000</td><td> 48000</td><td> 48000</td><td>48000</td><td>48000</td><td> 430000</td><td>1900000</td></tr>\n",
              "\t<tr><th scope=row>61_112.113_0.61</th><td> 850000</td><td> 730000</td><td> 650000</td><td> 430000</td><td>  48000</td><td> 57000</td><td>48000</td><td>48000</td><td> 48000</td><td>48000</td><td>⋯</td><td>200000</td><td>100000</td><td> 48000</td><td>48000</td><td> 49000</td><td> 48000</td><td>48000</td><td>48000</td><td> 390000</td><td>1200000</td></tr>\n",
              "</tbody>\n",
              "</table>\n"
            ],
            "text/markdown": "\nA matrix: 6 × 24 of type dbl\n\n| <!--/--> | S01_B14_H2O_POS.mzML area | S02_B14_H2O_POS.mzML area | S03_D14_H2O_POS.mzML area | S04_D14_H2O_POS.mzML area | S20_B28_H2O_POS.mzML area | S21_B28_H2O_POS.mzML area | S22_B28_H2O_POS.mzML area | S23_D28_H2O_POS.mzML area | S24_D28_H2O_POS.mzML area | S25_D28_H2O_POS.mzML area | ⋯ | S11_D14_JN2_POS.mzML area | S12_D14_JN2_POS.mzML area | S26_B28_JN2_POS.mzML area | S27_B28_JN2_POS.mzML area | S28_B28_JN2_POS.mzML area | S29_D28_JN2_POS.mzML area | S30_D28_JN2_POS.mzML area | S31_D28_JN2_POS.mzML area | S05_Dn14_H2O_POS.mzML area | S06_Dn14_H2O_POS.mzML area |\n|---|---|---|---|---|---|---|---|---|---|---|---|---|---|---|---|---|---|---|---|---|---|\n| 52_235.639_0.59 |   48000 |   48000 |   48000 |   48000 |  280000 |  81000 | 48000 | 48000 |  48000 | 48000 | ⋯ |  48000 |  48000 |  48000 | 48000 |  48000 |  48000 | 48000 | 48000 |   48000 |   48000 |\n| 53_145.607_0.59 |  600000 |  590000 |  500000 | 1300000 |  910000 | 620000 | 48000 | 48000 | 110000 | 48000 | ⋯ | 220000 | 240000 |  48000 | 48000 | 140000 |  48000 | 48000 | 48000 |   48000 |  740000 |\n| 54_226.634_0.59 |   48000 |   48000 |   48000 |   48000 |  410000 |  68000 | 48000 | 48000 |  48000 | 48000 | ⋯ |  48000 |  48000 |  48000 | 48000 |  48000 |  48000 | 48000 | 48000 |   48000 |   48000 |\n| 57_129.139_0.61 | 2400000 | 3300000 | 1800000 | 1300000 |  230000 | 300000 | 48000 | 48000 |  48000 | 48000 | ⋯ | 760000 | 260000 | 120000 | 48000 | 260000 | 160000 | 48000 | 48000 | 2000000 | 3400000 |\n| 59_308.217_0.61 | 1200000 | 2500000 | 1500000 | 2700000 | 2300000 | 250000 | 48000 | 48000 |  48000 | 48000 | ⋯ |  69000 |  48000 |  48000 | 48000 |  48000 |  48000 | 48000 | 48000 |  430000 | 1900000 |\n| 61_112.113_0.61 |  850000 |  730000 |  650000 |  430000 |   48000 |  57000 | 48000 | 48000 |  48000 | 48000 | ⋯ | 200000 | 100000 |  48000 | 48000 |  49000 |  48000 | 48000 | 48000 |  390000 | 1200000 |\n\n",
            "text/latex": "A matrix: 6 × 24 of type dbl\n\\begin{tabular}{r|lllllllllllllllllllll}\n  & S01\\_B14\\_H2O\\_POS.mzML area & S02\\_B14\\_H2O\\_POS.mzML area & S03\\_D14\\_H2O\\_POS.mzML area & S04\\_D14\\_H2O\\_POS.mzML area & S20\\_B28\\_H2O\\_POS.mzML area & S21\\_B28\\_H2O\\_POS.mzML area & S22\\_B28\\_H2O\\_POS.mzML area & S23\\_D28\\_H2O\\_POS.mzML area & S24\\_D28\\_H2O\\_POS.mzML area & S25\\_D28\\_H2O\\_POS.mzML area & ⋯ & S11\\_D14\\_JN2\\_POS.mzML area & S12\\_D14\\_JN2\\_POS.mzML area & S26\\_B28\\_JN2\\_POS.mzML area & S27\\_B28\\_JN2\\_POS.mzML area & S28\\_B28\\_JN2\\_POS.mzML area & S29\\_D28\\_JN2\\_POS.mzML area & S30\\_D28\\_JN2\\_POS.mzML area & S31\\_D28\\_JN2\\_POS.mzML area & S05\\_Dn14\\_H2O\\_POS.mzML area & S06\\_Dn14\\_H2O\\_POS.mzML area\\\\\n\\hline\n\t52\\_235.639\\_0.59 &   48000 &   48000 &   48000 &   48000 &  280000 &  81000 & 48000 & 48000 &  48000 & 48000 & ⋯ &  48000 &  48000 &  48000 & 48000 &  48000 &  48000 & 48000 & 48000 &   48000 &   48000\\\\\n\t53\\_145.607\\_0.59 &  600000 &  590000 &  500000 & 1300000 &  910000 & 620000 & 48000 & 48000 & 110000 & 48000 & ⋯ & 220000 & 240000 &  48000 & 48000 & 140000 &  48000 & 48000 & 48000 &   48000 &  740000\\\\\n\t54\\_226.634\\_0.59 &   48000 &   48000 &   48000 &   48000 &  410000 &  68000 & 48000 & 48000 &  48000 & 48000 & ⋯ &  48000 &  48000 &  48000 & 48000 &  48000 &  48000 & 48000 & 48000 &   48000 &   48000\\\\\n\t57\\_129.139\\_0.61 & 2400000 & 3300000 & 1800000 & 1300000 &  230000 & 300000 & 48000 & 48000 &  48000 & 48000 & ⋯ & 760000 & 260000 & 120000 & 48000 & 260000 & 160000 & 48000 & 48000 & 2000000 & 3400000\\\\\n\t59\\_308.217\\_0.61 & 1200000 & 2500000 & 1500000 & 2700000 & 2300000 & 250000 & 48000 & 48000 &  48000 & 48000 & ⋯ &  69000 &  48000 &  48000 & 48000 &  48000 &  48000 & 48000 & 48000 &  430000 & 1900000\\\\\n\t61\\_112.113\\_0.61 &  850000 &  730000 &  650000 &  430000 &   48000 &  57000 & 48000 & 48000 &  48000 & 48000 & ⋯ & 200000 & 100000 &  48000 & 48000 &  49000 &  48000 & 48000 & 48000 &  390000 & 1200000\\\\\n\\end{tabular}\n",
            "text/plain": [
              "                S01_B14_H2O_POS.mzML area S02_B14_H2O_POS.mzML area\n",
              "52_235.639_0.59   48000                     48000                  \n",
              "53_145.607_0.59  600000                    590000                  \n",
              "54_226.634_0.59   48000                     48000                  \n",
              "57_129.139_0.61 2400000                   3300000                  \n",
              "59_308.217_0.61 1200000                   2500000                  \n",
              "61_112.113_0.61  850000                    730000                  \n",
              "                S03_D14_H2O_POS.mzML area S04_D14_H2O_POS.mzML area\n",
              "52_235.639_0.59   48000                     48000                  \n",
              "53_145.607_0.59  500000                   1300000                  \n",
              "54_226.634_0.59   48000                     48000                  \n",
              "57_129.139_0.61 1800000                   1300000                  \n",
              "59_308.217_0.61 1500000                   2700000                  \n",
              "61_112.113_0.61  650000                    430000                  \n",
              "                S20_B28_H2O_POS.mzML area S21_B28_H2O_POS.mzML area\n",
              "52_235.639_0.59  280000                    81000                   \n",
              "53_145.607_0.59  910000                   620000                   \n",
              "54_226.634_0.59  410000                    68000                   \n",
              "57_129.139_0.61  230000                   300000                   \n",
              "59_308.217_0.61 2300000                   250000                   \n",
              "61_112.113_0.61   48000                    57000                   \n",
              "                S22_B28_H2O_POS.mzML area S23_D28_H2O_POS.mzML area\n",
              "52_235.639_0.59 48000                     48000                    \n",
              "53_145.607_0.59 48000                     48000                    \n",
              "54_226.634_0.59 48000                     48000                    \n",
              "57_129.139_0.61 48000                     48000                    \n",
              "59_308.217_0.61 48000                     48000                    \n",
              "61_112.113_0.61 48000                     48000                    \n",
              "                S24_D28_H2O_POS.mzML area S25_D28_H2O_POS.mzML area ⋯\n",
              "52_235.639_0.59  48000                    48000                     ⋯\n",
              "53_145.607_0.59 110000                    48000                     ⋯\n",
              "54_226.634_0.59  48000                    48000                     ⋯\n",
              "57_129.139_0.61  48000                    48000                     ⋯\n",
              "59_308.217_0.61  48000                    48000                     ⋯\n",
              "61_112.113_0.61  48000                    48000                     ⋯\n",
              "                S11_D14_JN2_POS.mzML area S12_D14_JN2_POS.mzML area\n",
              "52_235.639_0.59  48000                     48000                   \n",
              "53_145.607_0.59 220000                    240000                   \n",
              "54_226.634_0.59  48000                     48000                   \n",
              "57_129.139_0.61 760000                    260000                   \n",
              "59_308.217_0.61  69000                     48000                   \n",
              "61_112.113_0.61 200000                    100000                   \n",
              "                S26_B28_JN2_POS.mzML area S27_B28_JN2_POS.mzML area\n",
              "52_235.639_0.59  48000                    48000                    \n",
              "53_145.607_0.59  48000                    48000                    \n",
              "54_226.634_0.59  48000                    48000                    \n",
              "57_129.139_0.61 120000                    48000                    \n",
              "59_308.217_0.61  48000                    48000                    \n",
              "61_112.113_0.61  48000                    48000                    \n",
              "                S28_B28_JN2_POS.mzML area S29_D28_JN2_POS.mzML area\n",
              "52_235.639_0.59  48000                     48000                   \n",
              "53_145.607_0.59 140000                     48000                   \n",
              "54_226.634_0.59  48000                     48000                   \n",
              "57_129.139_0.61 260000                    160000                   \n",
              "59_308.217_0.61  48000                     48000                   \n",
              "61_112.113_0.61  49000                     48000                   \n",
              "                S30_D28_JN2_POS.mzML area S31_D28_JN2_POS.mzML area\n",
              "52_235.639_0.59 48000                     48000                    \n",
              "53_145.607_0.59 48000                     48000                    \n",
              "54_226.634_0.59 48000                     48000                    \n",
              "57_129.139_0.61 48000                     48000                    \n",
              "59_308.217_0.61 48000                     48000                    \n",
              "61_112.113_0.61 48000                     48000                    \n",
              "                S05_Dn14_H2O_POS.mzML area S06_Dn14_H2O_POS.mzML area\n",
              "52_235.639_0.59   48000                      48000                   \n",
              "53_145.607_0.59   48000                     740000                   \n",
              "54_226.634_0.59   48000                      48000                   \n",
              "57_129.139_0.61 2000000                    3400000                   \n",
              "59_308.217_0.61  430000                    1900000                   \n",
              "61_112.113_0.61  390000                    1200000                   "
            ]
          },
          "metadata": {}
        },
        {
          "output_type": "display_data",
          "data": {
            "text/html": [
              "<style>\n",
              ".list-inline {list-style: none; margin:0; padding: 0}\n",
              ".list-inline>li {display: inline-block}\n",
              ".list-inline>li:not(:last-child)::after {content: \"\\00b7\"; padding: 0 .5ex}\n",
              "</style>\n",
              "<ol class=list-inline><li>6403</li><li>24</li></ol>\n"
            ],
            "text/markdown": "1. 6403\n2. 24\n\n\n",
            "text/latex": "\\begin{enumerate*}\n\\item 6403\n\\item 24\n\\end{enumerate*}\n",
            "text/plain": [
              "[1] 6403   24"
            ]
          },
          "metadata": {}
        }
      ],
      "source": [
        "head(Imputed)\n",
        "dim(Imputed)"
      ]
    },
    {
      "cell_type": "markdown",
      "id": "f06a2dd7",
      "metadata": {
        "id": "f06a2dd7"
      },
      "source": [
        "## Normalization:\n",
        "The following code performs sample-centric (column-wise) normalisation:"
      ]
    },
    {
      "cell_type": "code",
      "execution_count": 28,
      "id": "3a008a7a",
      "metadata": {
        "id": "3a008a7a",
        "colab": {
          "base_uri": "https://localhost:8080/"
        },
        "outputId": "d65767d3-d2ab-4a2f-b765-64cb2e4329e7"
      },
      "outputs": [
        {
          "output_type": "stream",
          "name": "stdout",
          "text": [
            "Do you want to perform Normalization: Y/N:Y\n",
            "[1] \"No.of NA values in Normalized data: 0\"\n"
          ]
        }
      ],
      "source": [
        "if (readline(\"Do you want to perform Normalization: Y/N:\") == 'Y'){\n",
        "    \n",
        "    #Getting column-wise sums of the input-data\n",
        "    sample_sum <- colSums(Imputed, na.rm= TRUE, dims = 1)\n",
        "    \n",
        "    #Dividing each element of a particular column with its column sum\n",
        "    Normalized_data <- c()\n",
        "    for (i in 1:ncol(Imputed)){\n",
        "        x <- Imputed[,i] / sample_sum[i]\n",
        "        Normalized_data <- cbind(Normalized_data, x)\n",
        "    }\n",
        "    colnames(Normalized_data) <- names(sample_sum)\n",
        "    \n",
        "} else return(Imputed)\n",
        "  \n",
        "print(paste('No.of NA values in Normalized data:',sum(is.na(Normalized_data)== TRUE)))"
      ]
    },
    {
      "cell_type": "code",
      "execution_count": 29,
      "id": "58fc407e",
      "metadata": {
        "id": "58fc407e"
      },
      "outputs": [],
      "source": [
        "write.csv(Normalized_data,file='220725_disturb_Normalised_Quant_table.csv',row.names =TRUE) "
      ]
    },
    {
      "cell_type": "markdown",
      "id": "3ceee464",
      "metadata": {
        "id": "3ceee464"
      },
      "source": [
        "In the following cell, we are checking once again if the rownames of our metadata is the same as the column names of our feature table. It should return **TRUE** and we are also checking the data sparsity before proceeding into any statistical tests. Data sparsity tells the amount of zeros we have in our normalized dataframe."
      ]
    },
    {
      "cell_type": "code",
      "execution_count": 30,
      "id": "f39728f3",
      "metadata": {
        "id": "f39728f3",
        "colab": {
          "base_uri": "https://localhost:8080/",
          "height": 52
        },
        "outputId": "3ad8be21-13f8-4d36-b4ee-88b3aa53bbbf"
      },
      "outputs": [
        {
          "output_type": "display_data",
          "data": {
            "text/html": [
              "TRUE"
            ],
            "text/markdown": "TRUE",
            "text/latex": "TRUE",
            "text/plain": [
              "[1] TRUE"
            ]
          },
          "metadata": {}
        },
        {
          "output_type": "display_data",
          "data": {
            "text/html": [
              "0"
            ],
            "text/markdown": "0",
            "text/latex": "0",
            "text/plain": [
              "[1] 0"
            ]
          },
          "metadata": {}
        }
      ],
      "source": [
        "#Making sure the metadata rownames are identical to that of filenames in our featuretable in order to perform multivariate statistics\n",
        "md_Stats <- md[which(rownames(md)%in%colnames(Normalized_data)),]\n",
        "md_Stats <- md_Stats[match(colnames(Normalized_data),rownames(md_Stats)),]\n",
        "identical(colnames(Normalized_data),rownames(md_Stats))\n",
        "\n",
        "#Checking the data sparsity (amount of zeros in our data matrix):\n",
        "sum(Normalized_data == 0)/(dim(Normalized_data)[1]*dim(Normalized_data)[2])"
      ]
    },
    {
      "cell_type": "markdown",
      "id": "c0bf6359",
      "metadata": {
        "id": "c0bf6359"
      },
      "source": [
        "In our case, there are no zeros as we have already imputed them all !! Let's do some statistics."
      ]
    },
    {
      "cell_type": "markdown",
      "id": "0d1d4bbc",
      "metadata": {
        "id": "0d1d4bbc"
      },
      "source": [
        "## Principal Coordinate analysis:"
      ]
    },
    {
      "cell_type": "markdown",
      "id": "hpRW_hXmiPjs",
      "metadata": {
        "id": "hpRW_hXmiPjs"
      },
      "source": [
        "Principal coordinates analysis (PCoA) is a metric multidimensional scaling (MDS) method that attempts to represent sample dissimilarities in a low-dimensional space. It converts a distance matrix consisting of pair-wise distances (dissimilarities) across samples into a 2- or 3-D graph ([Gower, 2005](https://doi.org/10.1002/0470011815.b2a13070)). Different distance metrics can be used to calculate dissimilarities among samples (e.g. Euclidean, Canberra, Minkowski). Performing a principal coordinates analysis using the Euclidean distance metric is the same as performing a principal components analysis (PCA). Selecting the best distance metric for a given dataset is part of the 'art' of data science.\n",
        "\n",
        "Within the metabolomics field the Euclidean, Bray-Curtis, Jaccard or Canberra distances are most commonly used. The Jaccard distance is an unweighted metric (presence/absence) whereas Euclidean, Bray-Curtis and Canberra distances take into account relative abundances (weighted). "
      ]
    },
    {
      "cell_type": "markdown",
      "id": "affc3d5e",
      "metadata": {
        "id": "affc3d5e"
      },
      "source": [
        "Calculating the pairwise distances across all samples using the Bray-Curtis distance metric:"
      ]
    },
    {
      "cell_type": "code",
      "execution_count": 31,
      "id": "a695c379",
      "metadata": {
        "id": "a695c379"
      },
      "outputs": [],
      "source": [
        "md_Stats <- md[which(rownames(md)%in%colnames(Normalized_data)),]\n",
        "md_Stats <- md_Stats[match(colnames(Normalized_data),rownames(md_Stats)),]\n",
        "\n",
        "dist_matrix <- bcdist(t(Normalized_data)) # transposed in order to compute the distance between the columns of a data matrix\n",
        "pcoa<- cmdscale(dist_matrix, eig = TRUE, x.ret=TRUE)\n",
        "pcoa.var.per <-round(pcoa$eig/sum(pcoa$eig)*100,1)\n",
        "pcoa.values <- pcoa$points"
      ]
    },
    {
      "cell_type": "markdown",
      "id": "9a20e6da",
      "metadata": {
        "id": "9a20e6da"
      },
      "source": [
        "Now that we have calculated our distance matrix, we can plot our PCoA analysis for any of the attributes in our metadata. Lets say, we choose the 2nd attribute \"sample type\" in the next cell, we can visualise the difference between the samples treated with and without antibiotics. "
      ]
    },
    {
      "cell_type": "code",
      "execution_count": 32,
      "id": "4ff07a5c",
      "metadata": {
        "id": "4ff07a5c",
        "colab": {
          "base_uri": "https://localhost:8080/"
        },
        "outputId": "3236d46c-09f9-4c33-b92a-d9971c78f0ac"
      },
      "outputs": [
        {
          "name": "stdout",
          "output_type": "stream",
          "text": [
            "      [,1]                  \n",
            " [1,] \"ATTRIBUTE_species\"   \n",
            " [2,] \"ATTRIBUTE_SampleType\"\n",
            " [3,] \"ATTRIBUTE_timepoint\" \n",
            " [4,] \"ATTRIBUTE_replicates\"\n",
            " [5,] \"Accessions\"          \n",
            " [6,] \"Treatments\"          \n",
            " [7,] \"Kinetics\"            \n",
            " [8,] \"Samples_code\"        \n",
            " [9,] \"Conditions_code\"     \n",
            "[10,] \"B14_H2O_JN2\"         \n",
            "[11,] \"D14_H2O_JN2\"         \n",
            "[12,] \"B28_H2O_JN2\"         \n",
            "[13,] \"D28_H2O_JN2\"         \n",
            "[14,] \"B14_28_H2O_JN2\"      \n",
            "[15,] \"D14_28_H2O_JN2\"      \n",
            "[16,] \"B14_B28_D14_D28_H2O\" \n",
            "[17,] \"B14_D14_H2O\"         \n",
            "[18,] \"B28_D28_H2O\"         \n",
            "[19,] \"B14_D14_JN2\"         \n",
            "[20,] \"B28_D28_JN2\"         \n",
            "[21,] \"B14_B28_D14_D28_JN2\" \n",
            "[22,] \"BJN2_14\"             \n",
            "[23,] \"DJN2_14\"             \n",
            "[24,] \"BJN2_28\"             \n",
            "[25,] \"DJN2_28\"             \n",
            "Enter the index of your interested attribute for PCoA visualisation:2\n"
          ]
        }
      ],
      "source": [
        "print(matrix(data=colnames(md_Stats),nrow=length(colnames(md_Stats))))\n",
        "at_int <- as.double(readline('Enter the index of your interested attribute for PCoA visualisation:'))\n",
        "\n",
        "flush.console()  \n",
        "Sys.sleep(0.2)\n",
        "\n",
        "#PCoA plot visualisation:\n",
        "pcoa.data <- data.frame(md_Stats[,at_int],\n",
        "                        X=pcoa.values[,1],\n",
        "                        Y=pcoa.values[,2])\n",
        "\n",
        "PCoA_plot <- ggplot(pcoa.data, aes(x=X, y=Y, col= as.factor(md_Stats[,at_int]))) + \n",
        "  geom_point(size=4,alpha=0.8)  +\n",
        "  ggtitle(label=\"MDS plot using Bray-Cutis Distance\") +\n",
        "  xlab(paste0(\"MDS1 : \",pcoa.var.per[1],\"%\",sep=\"\")) + \n",
        "  ylab(paste0(\"MDS2 : \",pcoa.var.per[2],\"%\",sep=\"\")) + \n",
        "  labs(color = colnames(md_Stats)[at_int]) + \n",
        "  theme(plot.title = element_text(hjust = 0.5)) \n",
        "\n",
        "pcoa = PCoA_plot\n",
        "ggsave(pcoa,filename=\"220725_disturb_POS PCoA-MDS Plot of timepoint_data Imputed and Normalized.png\", width = 10, height = 8)"
      ]
    },
    {
      "cell_type": "markdown",
      "id": "c86f4772",
      "metadata": {
        "id": "c86f4772"
      },
      "source": [
        "You can re-run the above cell with other attributes. But, when you try to visualise with attributes such as \"Timepoint\" or \"hours\", you cannot infer any trend. In such cases, we can subset our data and look at a particular condition.<br> Let us look at only the treated samples!!"
      ]
    },
    {
      "cell_type": "code",
      "execution_count": 33,
      "id": "d0e4828b",
      "metadata": {
        "id": "d0e4828b",
        "colab": {
          "base_uri": "https://localhost:8080/"
        },
        "outputId": "b08854bd-a7d9-4827-f911-3c91d83696a3"
      },
      "outputs": [
        {
          "name": "stdout",
          "output_type": "stream",
          "text": [
            "      [,1]                  \n",
            " [1,] \"ATTRIBUTE_species\"   \n",
            " [2,] \"ATTRIBUTE_SampleType\"\n",
            " [3,] \"ATTRIBUTE_timepoint\" \n",
            " [4,] \"ATTRIBUTE_replicates\"\n",
            " [5,] \"Accessions\"          \n",
            " [6,] \"Treatments\"          \n",
            " [7,] \"Kinetics\"            \n",
            " [8,] \"Samples_code\"        \n",
            " [9,] \"Conditions_code\"     \n",
            "[10,] \"B14_H2O_JN2\"         \n",
            "[11,] \"D14_H2O_JN2\"         \n",
            "[12,] \"B28_H2O_JN2\"         \n",
            "[13,] \"D28_H2O_JN2\"         \n",
            "[14,] \"B14_28_H2O_JN2\"      \n",
            "[15,] \"D14_28_H2O_JN2\"      \n",
            "[16,] \"B14_B28_D14_D28_H2O\" \n",
            "[17,] \"B14_D14_H2O\"         \n",
            "[18,] \"B28_D28_H2O\"         \n",
            "[19,] \"B14_D14_JN2\"         \n",
            "[20,] \"B28_D28_JN2\"         \n",
            "[21,] \"B14_B28_D14_D28_JN2\" \n",
            "[22,] \"BJN2_14\"             \n",
            "[23,] \"DJN2_14\"             \n",
            "[24,] \"BJN2_28\"             \n",
            "[25,] \"DJN2_28\"             \n",
            "Enter the IDs of interested attributes separated by commas:2\n",
            "     [,1]               \n",
            "[1,] \"With_Treatment\"   \n",
            "[2,] \"Without_Treatment\"\n",
            "Enter the IDs of condition(s) you want to KEEP (separated by commas):1,2\n"
          ]
        }
      ],
      "source": [
        "md_Stats <- md[which(rownames(md)%in%colnames(Normalized_data)),]\n",
        "md_Stats <- md_Stats[match(colnames(Normalized_data),rownames(md_Stats)),]\n",
        "\n",
        "#Metadata subsetting based on condition:\n",
        "print(matrix(data=colnames(md_Stats),nrow=length(colnames(md_Stats))))\n",
        "Condition <- as.double(unlist(strsplit(readline(\"Enter the IDs of interested attributes separated by commas:\"),split=\",\")))\n",
        "for(i in 1:length(Condition)){\n",
        "  #Shows the different levels within each selected condition:\n",
        "  Levels_Cdtn <- levels(as.factor(md_Stats[,Condition[i]]))\n",
        "  print(matrix(Levels_Cdtn,length(Levels_Cdtn)))\n",
        "  \n",
        "  #These lines are not needed in R console, but in Jupyter Notebook to get the previous print statement working\n",
        "  flush.console()  \n",
        "  Sys.sleep(0.2)\n",
        "  \n",
        "  #Among the shown levels of an attribute, select the ones to keep\n",
        "  Cdtn <- as.double(unlist(strsplit(readline(\"Enter the IDs of condition(s) you want to KEEP (separated by commas):\"), split=',')))\n",
        "  Levels_Cdtn[Cdtn]\n",
        "  \n",
        "  #Selecting only rows in meta_filtered that match the condition\n",
        "  md_Stats <- md_Stats[(md_Stats[,Condition[i]] == Levels_Cdtn[Cdtn]),]\n",
        "}"
      ]
    },
    {
      "cell_type": "code",
      "execution_count": 34,
      "id": "0c3bce6e",
      "metadata": {
        "id": "0c3bce6e"
      },
      "outputs": [],
      "source": [
        "#PCoA calculation for the subset data\n",
        "md_data <- Normalized_data[,which(colnames(Normalized_data)%in%rownames(md_Stats))] # the corresponding column files for the filtered metadata is picked from the normalized data\n",
        "\n",
        "dist_matrix <- as.matrix(bcdist(t(md_data))) # transposed in order to compute the distance between the columns of a data matrix\n",
        "pcoa<- cmdscale(dist_matrix, eig = TRUE, x.ret=TRUE)\n",
        "pcoa.var.per <-round(pcoa$eig/sum(pcoa$eig)*100,1)\n",
        "pcoa.values <- pcoa$points"
      ]
    },
    {
      "cell_type": "markdown",
      "id": "794ba89e",
      "metadata": {
        "id": "794ba89e"
      },
      "source": [
        "Now you can try to visualise the plot for different attributes and see if you can infer something from the plot. (Spoiler alert: You do observe a trend with attributes: Timepoint, hours and mins)"
      ]
    },
    {
      "cell_type": "code",
      "execution_count": 35,
      "id": "fbb2b56f",
      "metadata": {
        "id": "fbb2b56f",
        "colab": {
          "base_uri": "https://localhost:8080/",
          "height": 1000
        },
        "outputId": "15506aae-8a9d-4465-d79e-bcb4931143fd"
      },
      "outputs": [
        {
          "name": "stdout",
          "output_type": "stream",
          "text": [
            "      [,1]                  \n",
            " [1,] \"ATTRIBUTE_species\"   \n",
            " [2,] \"ATTRIBUTE_SampleType\"\n",
            " [3,] \"ATTRIBUTE_timepoint\" \n",
            " [4,] \"ATTRIBUTE_replicates\"\n",
            " [5,] \"Accessions\"          \n",
            " [6,] \"Treatments\"          \n",
            " [7,] \"Kinetics\"            \n",
            " [8,] \"Samples_code\"        \n",
            " [9,] \"Conditions_code\"     \n",
            "[10,] \"B14_H2O_JN2\"         \n",
            "[11,] \"D14_H2O_JN2\"         \n",
            "[12,] \"B28_H2O_JN2\"         \n",
            "[13,] \"D28_H2O_JN2\"         \n",
            "[14,] \"B14_28_H2O_JN2\"      \n",
            "[15,] \"D14_28_H2O_JN2\"      \n",
            "[16,] \"B14_B28_D14_D28_H2O\" \n",
            "[17,] \"B14_D14_H2O\"         \n",
            "[18,] \"B28_D28_H2O\"         \n",
            "[19,] \"B14_D14_JN2\"         \n",
            "[20,] \"B28_D28_JN2\"         \n",
            "[21,] \"B14_B28_D14_D28_JN2\" \n",
            "[22,] \"BJN2_14\"             \n",
            "[23,] \"DJN2_14\"             \n",
            "[24,] \"BJN2_28\"             \n",
            "[25,] \"DJN2_28\"             \n",
            "Enter the index of your interested attribute for PCoA visualisation:3\n"
          ]
        },
        {
          "output_type": "display_data",
          "data": {
            "text/plain": [
              "plot without title"
            ],
            "image/png": "[encoded data removed]"
          },
          "metadata": {
            "image/png": {
              "width": 600,
              "height": 480
            }
          }
        }
      ],
      "source": [
        "print(matrix(data=colnames(md_Stats),nrow=length(colnames(md_Stats))))\n",
        "at_int <- as.double(readline('Enter the index of your interested attribute for PCoA visualisation:'))\n",
        "\n",
        "flush.console()  \n",
        "Sys.sleep(0.2)\n",
        "\n",
        "#PCoA plot:\n",
        "pcoa.data <- data.frame(md_Stats[,at_int],\n",
        "                        X=pcoa.values[,1],\n",
        "                        Y=pcoa.values[,2])\n",
        "\n",
        "PCoA_plot <- ggplot(pcoa.data, aes(x=X, y=Y, col= as.factor(md_Stats[,at_int]))) + \n",
        "  geom_point(size=4,alpha=0.8)  +\n",
        "  ggtitle(label=\"MDS plot using Bray-Cutis Distance\") +\n",
        "  xlab(paste0(\"MDS1 : \",pcoa.var.per[1],\"%\",sep=\"\")) + \n",
        "  ylab(paste0(\"MDS2 : \",pcoa.var.per[2],\"%\",sep=\"\")) + \n",
        "  labs(color = 'Timepoint') + \n",
        "  theme(plot.title = element_text(hjust = 0.5)) \n",
        "\n",
        "ggsave(PCoA_plot,filename=\"220725_disturb_POS_PCoA-MDS Plot of timepoint_data Imputed and Normalized.png\", width = 10, height = 8)\n",
        "PCoA_plot"
      ]
    },
    {
      "cell_type": "markdown",
      "id": "9557a7c1",
      "metadata": {
        "id": "9557a7c1"
      },
      "source": [
        "## Permutational multivariate analysis of variance (PERMANOVA):"
      ]
    },
    {
      "cell_type": "markdown",
      "id": "mzJvolcGj-6l",
      "metadata": {
        "id": "mzJvolcGj-6l"
      },
      "source": [
        "PERMANOVA is a non-parametric method for multivariate analysis of variance, where P-values are obtained using permutations. The metric was originally developed within the field of ecology ([Anderson, 2008](https://onlinelibrary.wiley.com/doi/10.1111/j.1442-9993.2001.01070.pp.x)) but is today widely used in other fields, including the microbiome and metabolomics field. PERMANOVA is used to compare groups of samples and tests whether the centroid and/or the spread of the samples is different between the groups. "
      ]
    },
    {
      "cell_type": "markdown",
      "id": "mjaTwY3Tkde9",
      "metadata": {
        "id": "mjaTwY3Tkde9"
      },
      "source": [
        "The adonis2() function in the vegan package can be used to perform a PERMANOVA. The input is any dissimilarity matrix and the test-statistic retrieved is a multivariate analogue to Fisher's F-ratio as well as an R2 value (Adonis R2). Here, we have used the same distance matrix we calculated for our PCoA."
      ]
    },
    {
      "cell_type": "code",
      "execution_count": 36,
      "id": "b3f215de",
      "metadata": {
        "id": "b3f215de",
        "colab": {
          "base_uri": "https://localhost:8080/",
          "height": 192
        },
        "outputId": "7022f23e-05e5-4de0-8bd6-eabb9a01a98d"
      },
      "outputs": [
        {
          "output_type": "display_data",
          "data": {
            "text/html": [
              "<table class=\"dataframe\">\n",
              "<caption>A anova.cca: 3 × 5</caption>\n",
              "<thead>\n",
              "\t<tr><th></th><th scope=col>Df</th><th scope=col>SumOfSqs</th><th scope=col>R2</th><th scope=col>F</th><th scope=col>Pr(&gt;F)</th></tr>\n",
              "\t<tr><th></th><th scope=col>&lt;dbl&gt;</th><th scope=col>&lt;dbl&gt;</th><th scope=col>&lt;dbl&gt;</th><th scope=col>&lt;dbl&gt;</th><th scope=col>&lt;dbl&gt;</th></tr>\n",
              "</thead>\n",
              "<tbody>\n",
              "\t<tr><th scope=row>ATTRIBUTE_timepoint</th><td> 1</td><td>0.2019147</td><td>0.2144472</td><td>2.729888</td><td>0.042</td></tr>\n",
              "\t<tr><th scope=row>Residual</th><td>10</td><td>0.7396445</td><td>0.7855528</td><td>      NA</td><td>   NA</td></tr>\n",
              "\t<tr><th scope=row>Total</th><td>11</td><td>0.9415591</td><td>1.0000000</td><td>      NA</td><td>   NA</td></tr>\n",
              "</tbody>\n",
              "</table>\n"
            ],
            "text/markdown": "\nA anova.cca: 3 × 5\n\n| <!--/--> | Df &lt;dbl&gt; | SumOfSqs &lt;dbl&gt; | R2 &lt;dbl&gt; | F &lt;dbl&gt; | Pr(&gt;F) &lt;dbl&gt; |\n|---|---|---|---|---|---|\n| ATTRIBUTE_timepoint |  1 | 0.2019147 | 0.2144472 | 2.729888 | 0.042 |\n| Residual | 10 | 0.7396445 | 0.7855528 |       NA |    NA |\n| Total | 11 | 0.9415591 | 1.0000000 |       NA |    NA |\n\n",
            "text/latex": "A anova.cca: 3 × 5\n\\begin{tabular}{r|lllll}\n  & Df & SumOfSqs & R2 & F & Pr(>F)\\\\\n  & <dbl> & <dbl> & <dbl> & <dbl> & <dbl>\\\\\n\\hline\n\tATTRIBUTE\\_timepoint &  1 & 0.2019147 & 0.2144472 & 2.729888 & 0.042\\\\\n\tResidual & 10 & 0.7396445 & 0.7855528 &       NA &    NA\\\\\n\tTotal & 11 & 0.9415591 & 1.0000000 &       NA &    NA\\\\\n\\end{tabular}\n",
            "text/plain": [
              "                    Df SumOfSqs  R2        F        Pr(>F)\n",
              "ATTRIBUTE_timepoint  1 0.2019147 0.2144472 2.729888 0.042 \n",
              "Residual            10 0.7396445 0.7855528       NA    NA \n",
              "Total               11 0.9415591 1.0000000       NA    NA "
            ]
          },
          "metadata": {}
        }
      ],
      "source": [
        "adonres <- adonis2(dist_matrix  ~ md_Stats[,at_int],permutations = 999, distance='bray')\n",
        "rownames(adonres)[1] <- colnames(md_Stats)[at_int]\n",
        "adonres"
      ]
    },
    {
      "cell_type": "markdown",
      "id": "dtA0FEaRkyuA",
      "metadata": {
        "id": "dtA0FEaRkyuA"
      },
      "source": [
        "The PERMANOVA test result tells us that, for P < 0.05, there is a significant difference amng the different conditions within the given attribute (significant variation expressed as the percentage of  Adonis R2)."
      ]
    },
    {
      "cell_type": "code",
      "execution_count": 37,
      "id": "4f52d72d",
      "metadata": {
        "id": "4f52d72d",
        "colab": {
          "base_uri": "https://localhost:8080/",
          "height": 497
        },
        "outputId": "b432cc76-2f1a-4d49-e29d-c7fb17a75c81"
      },
      "outputs": [
        {
          "output_type": "display_data",
          "data": {
            "text/plain": [
              "plot without title"
            ],
            "image/png": "[encoded data removed]"
          },
          "metadata": {
            "image/png": {
              "width": 600,
              "height": 480
            }
          }
        }
      ],
      "source": [
        "PCoA_plot + labs(subtitle = paste0(\"p=\",round(adonres$'Pr(>F)'[1],4),', ' ,\"adonis-R2=\",round(adonres$'R2'[1],4)))"
      ]
    },
    {
      "cell_type": "code",
      "execution_count": 38,
      "id": "4de93365",
      "metadata": {
        "id": "4de93365"
      },
      "outputs": [],
      "source": [
        "ggsave(PCoA_plot,filename=\"220725_disturb_POS PCoA-MDS Plot of PERMANOVA.svg\", width = 10, height = 8)"
      ]
    }
  ],
  "metadata": {
    "colab": {
      "collapsed_sections": [],
      "name": "Metabolic_Features_Filtering_disturb-project.ipynb",
      "provenance": [],
      "include_colab_link": true
    },
    "kernelspec": {
      "display_name": "R",
      "language": "R",
      "name": "ir"
    },
    "language_info": {
      "codemirror_mode": "r",
      "file_extension": ".r",
      "mimetype": "text/x-r-source",
      "name": "R",
      "pygments_lexer": "r",
      "version": "3.6.1"
    },
    "gpuClass": "standard"
  },
  "nbformat": 4,
  "nbformat_minor": 5
}