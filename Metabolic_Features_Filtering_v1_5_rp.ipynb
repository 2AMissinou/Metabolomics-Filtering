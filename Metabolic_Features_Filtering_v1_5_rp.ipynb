{
  "cells": [
    {
      "cell_type": "markdown",
      "metadata": {
        "id": "view-in-github",
        "colab_type": "text"
      },
      "source": [
        "<a href=\"https://colab.research.google.com/github/2AMissinou/Metabolomics-Filtering/blob/main/Metabolic_Features_Filtering_v1_5_rp.ipynb\" target=\"_parent\"><img src=\"https://colab.research.google.com/assets/colab-badge.svg\" alt=\"Open In Colab\"/></a>"
      ]
    },
    {
      "cell_type": "markdown",
      "id": "55766981",
      "metadata": {
        "id": "55766981"
      },
      "source": [
        "# **<font color='\tdodgerblue'> Metabolic features Clean up and Multivariate analysis **<font>\n",
        "\n",
        "---\n",
        "\n",
        "Authors: Anani Amegan Missinou (anani.a.missinou@gmail.com) <br>\n",
        "Input file format: .csv files or .txt files <br>\n",
        "Outputs: .csv files  <br>\n",
        "Dependencies: ggplot2, dplyr, ecodist, vegan, svglite\\"
      ]
    },
    {
      "cell_type": "markdown",
      "source": [
        "## Use R and Python code Run rmagic by executing this command %load_ext rpy2. ipython.\n",
        "\n",
        "\n",
        "1.   Start rmagic by executing this in a cell: %load_ext rpy2. ipython. \n",
        "2.   Use %%R to execute cell magic. After that, every time you want to use R, add %%R in the beginning of each cell before code running."
      ],
      "metadata": {
        "id": "bDGe7xtpF8eU"
      },
      "id": "bDGe7xtpF8eU"
    },
    {
      "cell_type": "code",
      "execution_count": null,
      "id": "BvfG-ihq2PZP",
      "metadata": {
        "id": "BvfG-ihq2PZP"
      },
      "outputs": [],
      "source": [
        "#installing and calling the necessary packages:\n",
        "install.packages(\"ggplot2\")\n",
        "install.packages(\"dplyr\")\n",
        "install.packages(\"ecodist\") #for PCoA using Bray Curtis distance\n",
        "install.packages(\"vegan\") #for PermANOVA\n",
        "install.packages(\"svglite\") # for saving ggplots as svg files"
      ]
    },
    {
      "cell_type": "code",
      "execution_count": 6,
      "id": "-Rym0mXNMZ7B",
      "metadata": {
        "id": "-Rym0mXNMZ7B"
      },
      "outputs": [],
      "source": [
        "require(\"ggplot2\")\n",
        "require(\"dplyr\")\n",
        "require(\"ecodist\")\n",
        "require(\"vegan\")\n",
        "require(\"svglite\")"
      ]
    },
    {
      "cell_type": "markdown",
      "id": "863a44d4",
      "metadata": {
        "id": "863a44d4"
      },
      "source": [
        "## Setting a local working directory and creating an automatic result directory:\n",
        "Works well with Jupyter Notebook. If you are working with Jupyter Notebook, you can simply copy the folder path from your local computer to the next cell output line. It will be set as your working directory <br> \n",
        "For ex: D:\\User\\Project\\Test_Data <br>\n",
        "<br>\n",
        "For Google Collab, we can upload the necessary files into a new folder using the 'Files' icon on the left and set the folder as working directory. And all the ouput files will be saved here as well and you need to download them finally into your local computer"
      ]
    },
    {
      "cell_type": "code",
      "execution_count": 7,
      "id": "4734f4b6",
      "metadata": {
        "id": "4734f4b6",
        "outputId": "00cef3a7-3e55-401d-942c-42b1e815998d",
        "colab": {
          "base_uri": "https://localhost:8080/"
        }
      },
      "outputs": [
        {
          "name": "stdout",
          "output_type": "stream",
          "text": [
            "Enter the path of the folder with input files: .\n"
          ]
        }
      ],
      "source": [
        "# setting the current directory as the working directory\n",
        "Directory <- normalizePath(readline(\"Enter the path of the folder with input files: \"),\"/\",mustWork=FALSE)\n",
        "setwd(Directory)"
      ]
    },
    {
      "cell_type": "code",
      "execution_count": 8,
      "id": "og4ryyATcSju",
      "metadata": {
        "id": "og4ryyATcSju",
        "colab": {
          "base_uri": "https://localhost:8080/",
          "height": 34
        },
        "outputId": "43a61f94-c0bb-41be-c190-747df1db240b"
      },
      "outputs": [
        {
          "output_type": "display_data",
          "data": {
            "text/html": [
              "'/content'"
            ],
            "text/markdown": "'/content'",
            "text/latex": "'/content'",
            "text/plain": [
              "[1] \"/content\""
            ]
          },
          "metadata": {}
        }
      ],
      "source": [
        "getwd()"
      ]
    },
    {
      "cell_type": "code",
      "execution_count": null,
      "id": "dd010938",
      "metadata": {
        "id": "dd010938",
        "colab": {
          "base_uri": "https://localhost:8080/"
        },
        "outputId": "7ee88db5-b8da-497b-bf5f-82fb2d81dfb9"
      },
      "outputs": [
        {
          "output_type": "stream",
          "name": "stdout",
          "text": [
            "[1] \"anscombe.json\"                \"california_housing_test.csv\" \n",
            "[3] \"california_housing_train.csv\" \"mnist_test.csv\"              \n",
            "[5] \"mnist_train_small.csv\"        \"README.md\"                   \n"
          ]
        }
      ],
      "source": [
        "# Getting all the files in the folder\n",
        "dirs <- dir(path=paste(getwd(), sep=\"\"), full.names=TRUE, recursive=TRUE)\n",
        "folders <- unique(dirname(dirs))\n",
        "files <- list.files(folders, full.names=TRUE)\n",
        "files_1 <- basename((files))\n",
        "files_2 <- dirname((files))\n",
        "# Creating a Result folder\n",
        "dir.create(path=paste(files_2[[1]], \"_Results\", sep=\"\"), showWarnings = TRUE)\n",
        "fName <-paste(files_2[[1]], \"_Results\", sep=\"\")\n",
        "\n",
        "print(files_1)"
      ]
    },
    {
      "cell_type": "markdown",
      "id": "55ab1133",
      "metadata": {
        "id": "55ab1133"
      },
      "source": [
        "**<font color='red'> In the following line, enter the required file ID numbers separated by commas. For example as: 1,2,3 </font>**"
      ]
    },
    {
      "cell_type": "code",
      "execution_count": null,
      "id": "45d07e82",
      "metadata": {
        "id": "45d07e82"
      },
      "outputs": [],
      "source": [
        "input <- as.double(unlist(strsplit(readline(\"Specify the file index of gapfilled & non-gapfilled feature-file, metadata:\"), split=\",\")))\n",
        "\n",
        "#Gets the extension of each file. Ex:csv\n",
        "pattern <- c()\n",
        "for (i in files_1){\n",
        "  sep_file <- substr(i, nchar(i)-2,nchar(i))\n",
        "  pattern <- rbind(pattern,sep_file)\n",
        "}\n",
        "#pattern\n",
        "\n",
        "ft <- read.csv(files_1[input[1]],sep = ifelse(pattern[input[1]]!=\"csv\",\"\\t\",\",\"), header=TRUE,check.names = FALSE) # By applying 'row.names = 1', the 1st column 'ID' becomes the row names\n",
        "nft<- read.csv(files_1[input[2]],sep=ifelse(pattern[input[2]]!=\"csv\",\"\\t\",\",\"), header = TRUE,check.names = FALSE)\n",
        "md <-read.csv(files_1[input[3]], sep = ifelse(pattern[input[3]]!=\"csv\",\"\\t\",\",\"), header=TRUE,check.names = FALSE)"
      ]
    },
    {
      "cell_type": "markdown",
      "id": "3a31eafc",
      "metadata": {
        "id": "3a31eafc"
      },
      "source": [
        "## Reading the input data using URL (from Github):\n",
        "Alternatively, we can also directly pull the data files from our Functional Metabolomics Github page:"
      ]
    },
    {
      "cell_type": "code",
      "execution_count": 9,
      "id": "7988ffd6",
      "metadata": {
        "id": "7988ffd6"
      },
      "outputs": [],
      "source": [
        "## Non-gap filled\n",
        "nft_url <- 'https://raw.githubusercontent.com/Functional-Metabolomics-Lab/CMFI_Seminar_Multivariate_Statistics/main/Test_Data/20220716_Xenobiotic_metabolism_non_gapfilled_quant_Bsub_quant.csv'\n",
        "## Gap filled\n",
        "ft_url <- 'https://raw.githubusercontent.com/Functional-Metabolomics-Lab/CMFI_Seminar_Multivariate_Statistics/main/Test_Data/20220716_Xenobiotic_metabolism_gapfilled_quant_Bsub.csv'\n",
        "md_url <- 'https://raw.githubusercontent.com/Functional-Metabolomics-Lab/CMFI_Seminar_Multivariate_Statistics/main/Test_Data/20220716_Xenobiotic_Metabolism_metadata_Bsub.txt'"
      ]
    },
    {
      "cell_type": "code",
      "execution_count": 10,
      "id": "3ad9e910",
      "metadata": {
        "id": "3ad9e910"
      },
      "outputs": [],
      "source": [
        "nft <- read.csv(nft_url, header = T, check.names = F)\n",
        "ft <- read.csv(ft_url, header = T, check.names = F)\n",
        "md <- read.csv(md_url, header = T, check.names = F, sep = '\\t')"
      ]
    },
    {
      "cell_type": "markdown",
      "id": "4f12e24c",
      "metadata": {
        "id": "4f12e24c"
      },
      "source": [
        "Lets check if the data has been read correclty!!"
      ]
    },
    {
      "cell_type": "code",
      "execution_count": 11,
      "id": "429ff705",
      "metadata": {
        "id": "429ff705",
        "outputId": "af842712-7c1e-43ec-c507-547c1214e7f1",
        "colab": {
          "base_uri": "https://localhost:8080/",
          "height": 358
        }
      },
      "outputs": [
        {
          "output_type": "display_data",
          "data": {
            "text/html": [
              "<table class=\"dataframe\">\n",
              "<caption>A data.frame: 6 × 56</caption>\n",
              "<thead>\n",
              "\t<tr><th></th><th scope=col>row ID</th><th scope=col>row m/z</th><th scope=col>row retention time</th><th scope=col>row ion mobility</th><th scope=col>row ion mobility unit</th><th scope=col>row CCS</th><th scope=col>correlation group ID</th><th scope=col>annotation network number</th><th scope=col>best ion</th><th scope=col>auto MS2 verify</th><th scope=col>⋯</th><th scope=col>t6_BS_2.mzML Peak area</th><th scope=col>t5_BS_1.mzML Peak area</th><th scope=col>t6_BS_3.mzML Peak area</th><th scope=col>t0_BS_1.mzML Peak area</th><th scope=col>t9_BS_1.mzML Peak area</th><th scope=col>t5_BS_2.mzML Peak area</th><th scope=col>t8_BS_3.mzML Peak area</th><th scope=col>t9_BS_3.mzML Peak area</th><th scope=col>t9_BS_2.mzML Peak area</th><th scope=col></th></tr>\n",
              "\t<tr><th></th><th scope=col>&lt;int&gt;</th><th scope=col>&lt;dbl&gt;</th><th scope=col>&lt;dbl&gt;</th><th scope=col>&lt;lgl&gt;</th><th scope=col>&lt;lgl&gt;</th><th scope=col>&lt;lgl&gt;</th><th scope=col>&lt;lgl&gt;</th><th scope=col>&lt;lgl&gt;</th><th scope=col>&lt;lgl&gt;</th><th scope=col>&lt;lgl&gt;</th><th scope=col>⋯</th><th scope=col>&lt;dbl&gt;</th><th scope=col>&lt;dbl&gt;</th><th scope=col>&lt;dbl&gt;</th><th scope=col>&lt;dbl&gt;</th><th scope=col>&lt;dbl&gt;</th><th scope=col>&lt;dbl&gt;</th><th scope=col>&lt;dbl&gt;</th><th scope=col>&lt;dbl&gt;</th><th scope=col>&lt;dbl&gt;</th><th scope=col>&lt;lgl&gt;</th></tr>\n",
              "</thead>\n",
              "<tbody>\n",
              "\t<tr><th scope=row>1</th><td> 2</td><td>284.0490</td><td>0.06921104</td><td>NA</td><td>NA</td><td>NA</td><td>NA</td><td>NA</td><td>NA</td><td>NA</td><td>⋯</td><td>  23021.77</td><td>  18208.166</td><td>  19423.74</td><td>  17433.18</td><td>  25643.275</td><td>  19439.27</td><td>  28515.10</td><td>  27789.33</td><td>  24276.26</td><td>NA</td></tr>\n",
              "\t<tr><th scope=row>2</th><td> 8</td><td>281.0509</td><td>0.10351847</td><td>NA</td><td>NA</td><td>NA</td><td>NA</td><td>NA</td><td>NA</td><td>NA</td><td>⋯</td><td>1725159.00</td><td>1687922.400</td><td>1711116.90</td><td>1525560.80</td><td>1988580.500</td><td>1680300.80</td><td>2050065.20</td><td>1969012.20</td><td>1937270.80</td><td>NA</td></tr>\n",
              "\t<tr><th scope=row>3</th><td>10</td><td>267.0352</td><td>0.12503392</td><td>NA</td><td>NA</td><td>NA</td><td>NA</td><td>NA</td><td>NA</td><td>NA</td><td>⋯</td><td> 127510.91</td><td>   8224.141</td><td> 123302.27</td><td>  83531.95</td><td> 166977.810</td><td> 117669.37</td><td> 155001.64</td><td> 159289.83</td><td> 155360.70</td><td>NA</td></tr>\n",
              "\t<tr><th scope=row>4</th><td>13</td><td>227.0220</td><td>0.03547234</td><td>NA</td><td>NA</td><td>NA</td><td>NA</td><td>NA</td><td>NA</td><td>NA</td><td>⋯</td><td>  43124.89</td><td>  21728.576</td><td>  28306.74</td><td>  21987.09</td><td>  77407.750</td><td>  52930.57</td><td>  41270.76</td><td>  74911.14</td><td>  40599.87</td><td>NA</td></tr>\n",
              "\t<tr><th scope=row>5</th><td>14</td><td>239.0947</td><td>0.03455123</td><td>NA</td><td>NA</td><td>NA</td><td>NA</td><td>NA</td><td>NA</td><td>NA</td><td>⋯</td><td>  89629.49</td><td>  89971.610</td><td>  69065.44</td><td>  92206.42</td><td>   8322.643</td><td>  89443.13</td><td>  85359.16</td><td>  53224.13</td><td>  98724.91</td><td>NA</td></tr>\n",
              "\t<tr><th scope=row>6</th><td>16</td><td>302.0587</td><td>0.04110153</td><td>NA</td><td>NA</td><td>NA</td><td>NA</td><td>NA</td><td>NA</td><td>NA</td><td>⋯</td><td>  38676.01</td><td>  79390.100</td><td>  34950.79</td><td>  66040.79</td><td>  65106.055</td><td>  23823.50</td><td>  50425.25</td><td>  37610.27</td><td>  85097.12</td><td>NA</td></tr>\n",
              "</tbody>\n",
              "</table>\n"
            ],
            "text/markdown": "\nA data.frame: 6 × 56\n\n| <!--/--> | row ID &lt;int&gt; | row m/z &lt;dbl&gt; | row retention time &lt;dbl&gt; | row ion mobility &lt;lgl&gt; | row ion mobility unit &lt;lgl&gt; | row CCS &lt;lgl&gt; | correlation group ID &lt;lgl&gt; | annotation network number &lt;lgl&gt; | best ion &lt;lgl&gt; | auto MS2 verify &lt;lgl&gt; | ⋯ ⋯ | t6_BS_2.mzML Peak area &lt;dbl&gt; | t5_BS_1.mzML Peak area &lt;dbl&gt; | t6_BS_3.mzML Peak area &lt;dbl&gt; | t0_BS_1.mzML Peak area &lt;dbl&gt; | t9_BS_1.mzML Peak area &lt;dbl&gt; | t5_BS_2.mzML Peak area &lt;dbl&gt; | t8_BS_3.mzML Peak area &lt;dbl&gt; | t9_BS_3.mzML Peak area &lt;dbl&gt; | t9_BS_2.mzML Peak area &lt;dbl&gt; | <!----> &lt;lgl&gt; |\n|---|---|---|---|---|---|---|---|---|---|---|---|---|---|---|---|---|---|---|---|---|---|\n| 1 |  2 | 284.0490 | 0.06921104 | NA | NA | NA | NA | NA | NA | NA | ⋯ |   23021.77 |   18208.166 |   19423.74 |   17433.18 |   25643.275 |   19439.27 |   28515.10 |   27789.33 |   24276.26 | NA |\n| 2 |  8 | 281.0509 | 0.10351847 | NA | NA | NA | NA | NA | NA | NA | ⋯ | 1725159.00 | 1687922.400 | 1711116.90 | 1525560.80 | 1988580.500 | 1680300.80 | 2050065.20 | 1969012.20 | 1937270.80 | NA |\n| 3 | 10 | 267.0352 | 0.12503392 | NA | NA | NA | NA | NA | NA | NA | ⋯ |  127510.91 |    8224.141 |  123302.27 |   83531.95 |  166977.810 |  117669.37 |  155001.64 |  159289.83 |  155360.70 | NA |\n| 4 | 13 | 227.0220 | 0.03547234 | NA | NA | NA | NA | NA | NA | NA | ⋯ |   43124.89 |   21728.576 |   28306.74 |   21987.09 |   77407.750 |   52930.57 |   41270.76 |   74911.14 |   40599.87 | NA |\n| 5 | 14 | 239.0947 | 0.03455123 | NA | NA | NA | NA | NA | NA | NA | ⋯ |   89629.49 |   89971.610 |   69065.44 |   92206.42 |    8322.643 |   89443.13 |   85359.16 |   53224.13 |   98724.91 | NA |\n| 6 | 16 | 302.0587 | 0.04110153 | NA | NA | NA | NA | NA | NA | NA | ⋯ |   38676.01 |   79390.100 |   34950.79 |   66040.79 |   65106.055 |   23823.50 |   50425.25 |   37610.27 |   85097.12 | NA |\n\n",
            "text/latex": "A data.frame: 6 × 56\n\\begin{tabular}{r|lllllllllllllllllllll}\n  & row ID & row m/z & row retention time & row ion mobility & row ion mobility unit & row CCS & correlation group ID & annotation network number & best ion & auto MS2 verify & ⋯ & t6\\_BS\\_2.mzML Peak area & t5\\_BS\\_1.mzML Peak area & t6\\_BS\\_3.mzML Peak area & t0\\_BS\\_1.mzML Peak area & t9\\_BS\\_1.mzML Peak area & t5\\_BS\\_2.mzML Peak area & t8\\_BS\\_3.mzML Peak area & t9\\_BS\\_3.mzML Peak area & t9\\_BS\\_2.mzML Peak area & \\\\\n  & <int> & <dbl> & <dbl> & <lgl> & <lgl> & <lgl> & <lgl> & <lgl> & <lgl> & <lgl> & ⋯ & <dbl> & <dbl> & <dbl> & <dbl> & <dbl> & <dbl> & <dbl> & <dbl> & <dbl> & <lgl>\\\\\n\\hline\n\t1 &  2 & 284.0490 & 0.06921104 & NA & NA & NA & NA & NA & NA & NA & ⋯ &   23021.77 &   18208.166 &   19423.74 &   17433.18 &   25643.275 &   19439.27 &   28515.10 &   27789.33 &   24276.26 & NA\\\\\n\t2 &  8 & 281.0509 & 0.10351847 & NA & NA & NA & NA & NA & NA & NA & ⋯ & 1725159.00 & 1687922.400 & 1711116.90 & 1525560.80 & 1988580.500 & 1680300.80 & 2050065.20 & 1969012.20 & 1937270.80 & NA\\\\\n\t3 & 10 & 267.0352 & 0.12503392 & NA & NA & NA & NA & NA & NA & NA & ⋯ &  127510.91 &    8224.141 &  123302.27 &   83531.95 &  166977.810 &  117669.37 &  155001.64 &  159289.83 &  155360.70 & NA\\\\\n\t4 & 13 & 227.0220 & 0.03547234 & NA & NA & NA & NA & NA & NA & NA & ⋯ &   43124.89 &   21728.576 &   28306.74 &   21987.09 &   77407.750 &   52930.57 &   41270.76 &   74911.14 &   40599.87 & NA\\\\\n\t5 & 14 & 239.0947 & 0.03455123 & NA & NA & NA & NA & NA & NA & NA & ⋯ &   89629.49 &   89971.610 &   69065.44 &   92206.42 &    8322.643 &   89443.13 &   85359.16 &   53224.13 &   98724.91 & NA\\\\\n\t6 & 16 & 302.0587 & 0.04110153 & NA & NA & NA & NA & NA & NA & NA & ⋯ &   38676.01 &   79390.100 &   34950.79 &   66040.79 &   65106.055 &   23823.50 &   50425.25 &   37610.27 &   85097.12 & NA\\\\\n\\end{tabular}\n",
            "text/plain": [
              "  row ID row m/z  row retention time row ion mobility row ion mobility unit\n",
              "1  2     284.0490 0.06921104         NA               NA                   \n",
              "2  8     281.0509 0.10351847         NA               NA                   \n",
              "3 10     267.0352 0.12503392         NA               NA                   \n",
              "4 13     227.0220 0.03547234         NA               NA                   \n",
              "5 14     239.0947 0.03455123         NA               NA                   \n",
              "6 16     302.0587 0.04110153         NA               NA                   \n",
              "  row CCS correlation group ID annotation network number best ion\n",
              "1 NA      NA                   NA                        NA      \n",
              "2 NA      NA                   NA                        NA      \n",
              "3 NA      NA                   NA                        NA      \n",
              "4 NA      NA                   NA                        NA      \n",
              "5 NA      NA                   NA                        NA      \n",
              "6 NA      NA                   NA                        NA      \n",
              "  auto MS2 verify ⋯ t6_BS_2.mzML Peak area t5_BS_1.mzML Peak area\n",
              "1 NA              ⋯   23021.77               18208.166           \n",
              "2 NA              ⋯ 1725159.00             1687922.400           \n",
              "3 NA              ⋯  127510.91                8224.141           \n",
              "4 NA              ⋯   43124.89               21728.576           \n",
              "5 NA              ⋯   89629.49               89971.610           \n",
              "6 NA              ⋯   38676.01               79390.100           \n",
              "  t6_BS_3.mzML Peak area t0_BS_1.mzML Peak area t9_BS_1.mzML Peak area\n",
              "1   19423.74               17433.18               25643.275           \n",
              "2 1711116.90             1525560.80             1988580.500           \n",
              "3  123302.27               83531.95              166977.810           \n",
              "4   28306.74               21987.09               77407.750           \n",
              "5   69065.44               92206.42                8322.643           \n",
              "6   34950.79               66040.79               65106.055           \n",
              "  t5_BS_2.mzML Peak area t8_BS_3.mzML Peak area t9_BS_3.mzML Peak area\n",
              "1   19439.27               28515.10               27789.33            \n",
              "2 1680300.80             2050065.20             1969012.20            \n",
              "3  117669.37              155001.64              159289.83            \n",
              "4   52930.57               41270.76               74911.14            \n",
              "5   89443.13               85359.16               53224.13            \n",
              "6   23823.50               50425.25               37610.27            \n",
              "  t9_BS_2.mzML Peak area   \n",
              "1   24276.26             NA\n",
              "2 1937270.80             NA\n",
              "3  155360.70             NA\n",
              "4   40599.87             NA\n",
              "5   98724.91             NA\n",
              "6   85097.12             NA"
            ]
          },
          "metadata": {}
        },
        {
          "output_type": "display_data",
          "data": {
            "text/html": [
              "<style>\n",
              ".list-inline {list-style: none; margin:0; padding: 0}\n",
              ".list-inline>li {display: inline-block}\n",
              ".list-inline>li:not(:last-child)::after {content: \"\\00b7\"; padding: 0 .5ex}\n",
              "</style>\n",
              "<ol class=list-inline><li>5807</li><li>56</li></ol>\n"
            ],
            "text/markdown": "1. 5807\n2. 56\n\n\n",
            "text/latex": "\\begin{enumerate*}\n\\item 5807\n\\item 56\n\\end{enumerate*}\n",
            "text/plain": [
              "[1] 5807   56"
            ]
          },
          "metadata": {}
        }
      ],
      "source": [
        "head(ft)\n",
        "dim(ft)"
      ]
    },
    {
      "cell_type": "code",
      "execution_count": 12,
      "id": "864b7231",
      "metadata": {
        "id": "864b7231",
        "outputId": "25947103-a06b-44d1-97eb-03dae0ad99c6",
        "colab": {
          "base_uri": "https://localhost:8080/",
          "height": 358
        }
      },
      "outputs": [
        {
          "output_type": "display_data",
          "data": {
            "text/html": [
              "<table class=\"dataframe\">\n",
              "<caption>A data.frame: 6 × 56</caption>\n",
              "<thead>\n",
              "\t<tr><th></th><th scope=col>row ID</th><th scope=col>row m/z</th><th scope=col>row retention time</th><th scope=col>row ion mobility</th><th scope=col>row ion mobility unit</th><th scope=col>row CCS</th><th scope=col>correlation group ID</th><th scope=col>annotation network number</th><th scope=col>best ion</th><th scope=col>auto MS2 verify</th><th scope=col>⋯</th><th scope=col>t6_BS_2.mzML Peak area</th><th scope=col>t5_BS_1.mzML Peak area</th><th scope=col>t6_BS_3.mzML Peak area</th><th scope=col>t0_BS_1.mzML Peak area</th><th scope=col>t9_BS_1.mzML Peak area</th><th scope=col>t5_BS_2.mzML Peak area</th><th scope=col>t8_BS_3.mzML Peak area</th><th scope=col>t9_BS_3.mzML Peak area</th><th scope=col>t9_BS_2.mzML Peak area</th><th scope=col></th></tr>\n",
              "\t<tr><th></th><th scope=col>&lt;int&gt;</th><th scope=col>&lt;dbl&gt;</th><th scope=col>&lt;dbl&gt;</th><th scope=col>&lt;lgl&gt;</th><th scope=col>&lt;lgl&gt;</th><th scope=col>&lt;lgl&gt;</th><th scope=col>&lt;lgl&gt;</th><th scope=col>&lt;lgl&gt;</th><th scope=col>&lt;lgl&gt;</th><th scope=col>&lt;lgl&gt;</th><th scope=col>⋯</th><th scope=col>&lt;dbl&gt;</th><th scope=col>&lt;dbl&gt;</th><th scope=col>&lt;dbl&gt;</th><th scope=col>&lt;dbl&gt;</th><th scope=col>&lt;dbl&gt;</th><th scope=col>&lt;dbl&gt;</th><th scope=col>&lt;dbl&gt;</th><th scope=col>&lt;dbl&gt;</th><th scope=col>&lt;dbl&gt;</th><th scope=col>&lt;lgl&gt;</th></tr>\n",
              "</thead>\n",
              "<tbody>\n",
              "\t<tr><th scope=row>1</th><td> 2</td><td>284.0490</td><td>0.00635683</td><td>NA</td><td>NA</td><td>NA</td><td>NA</td><td>NA</td><td>NA</td><td>NA</td><td>⋯</td><td>0</td><td>0</td><td>0</td><td>0</td><td>0</td><td>0</td><td>0</td><td>0</td><td>0</td><td>NA</td></tr>\n",
              "\t<tr><th scope=row>2</th><td> 8</td><td>281.0508</td><td>0.06924535</td><td>NA</td><td>NA</td><td>NA</td><td>NA</td><td>NA</td><td>NA</td><td>NA</td><td>⋯</td><td>0</td><td>0</td><td>0</td><td>0</td><td>0</td><td>0</td><td>0</td><td>0</td><td>0</td><td>NA</td></tr>\n",
              "\t<tr><th scope=row>3</th><td>10</td><td>267.0351</td><td>0.09624655</td><td>NA</td><td>NA</td><td>NA</td><td>NA</td><td>NA</td><td>NA</td><td>NA</td><td>⋯</td><td>0</td><td>0</td><td>0</td><td>0</td><td>0</td><td>0</td><td>0</td><td>0</td><td>0</td><td>NA</td></tr>\n",
              "\t<tr><th scope=row>4</th><td>13</td><td>227.0220</td><td>0.11498167</td><td>NA</td><td>NA</td><td>NA</td><td>NA</td><td>NA</td><td>NA</td><td>NA</td><td>⋯</td><td>0</td><td>0</td><td>0</td><td>0</td><td>0</td><td>0</td><td>0</td><td>0</td><td>0</td><td>NA</td></tr>\n",
              "\t<tr><th scope=row>5</th><td>14</td><td>239.0947</td><td>0.11623713</td><td>NA</td><td>NA</td><td>NA</td><td>NA</td><td>NA</td><td>NA</td><td>NA</td><td>⋯</td><td>0</td><td>0</td><td>0</td><td>0</td><td>0</td><td>0</td><td>0</td><td>0</td><td>0</td><td>NA</td></tr>\n",
              "\t<tr><th scope=row>6</th><td>16</td><td>302.0586</td><td>0.12748633</td><td>NA</td><td>NA</td><td>NA</td><td>NA</td><td>NA</td><td>NA</td><td>NA</td><td>⋯</td><td>0</td><td>0</td><td>0</td><td>0</td><td>0</td><td>0</td><td>0</td><td>0</td><td>0</td><td>NA</td></tr>\n",
              "</tbody>\n",
              "</table>\n"
            ],
            "text/markdown": "\nA data.frame: 6 × 56\n\n| <!--/--> | row ID &lt;int&gt; | row m/z &lt;dbl&gt; | row retention time &lt;dbl&gt; | row ion mobility &lt;lgl&gt; | row ion mobility unit &lt;lgl&gt; | row CCS &lt;lgl&gt; | correlation group ID &lt;lgl&gt; | annotation network number &lt;lgl&gt; | best ion &lt;lgl&gt; | auto MS2 verify &lt;lgl&gt; | ⋯ ⋯ | t6_BS_2.mzML Peak area &lt;dbl&gt; | t5_BS_1.mzML Peak area &lt;dbl&gt; | t6_BS_3.mzML Peak area &lt;dbl&gt; | t0_BS_1.mzML Peak area &lt;dbl&gt; | t9_BS_1.mzML Peak area &lt;dbl&gt; | t5_BS_2.mzML Peak area &lt;dbl&gt; | t8_BS_3.mzML Peak area &lt;dbl&gt; | t9_BS_3.mzML Peak area &lt;dbl&gt; | t9_BS_2.mzML Peak area &lt;dbl&gt; | <!----> &lt;lgl&gt; |\n|---|---|---|---|---|---|---|---|---|---|---|---|---|---|---|---|---|---|---|---|---|---|\n| 1 |  2 | 284.0490 | 0.00635683 | NA | NA | NA | NA | NA | NA | NA | ⋯ | 0 | 0 | 0 | 0 | 0 | 0 | 0 | 0 | 0 | NA |\n| 2 |  8 | 281.0508 | 0.06924535 | NA | NA | NA | NA | NA | NA | NA | ⋯ | 0 | 0 | 0 | 0 | 0 | 0 | 0 | 0 | 0 | NA |\n| 3 | 10 | 267.0351 | 0.09624655 | NA | NA | NA | NA | NA | NA | NA | ⋯ | 0 | 0 | 0 | 0 | 0 | 0 | 0 | 0 | 0 | NA |\n| 4 | 13 | 227.0220 | 0.11498167 | NA | NA | NA | NA | NA | NA | NA | ⋯ | 0 | 0 | 0 | 0 | 0 | 0 | 0 | 0 | 0 | NA |\n| 5 | 14 | 239.0947 | 0.11623713 | NA | NA | NA | NA | NA | NA | NA | ⋯ | 0 | 0 | 0 | 0 | 0 | 0 | 0 | 0 | 0 | NA |\n| 6 | 16 | 302.0586 | 0.12748633 | NA | NA | NA | NA | NA | NA | NA | ⋯ | 0 | 0 | 0 | 0 | 0 | 0 | 0 | 0 | 0 | NA |\n\n",
            "text/latex": "A data.frame: 6 × 56\n\\begin{tabular}{r|lllllllllllllllllllll}\n  & row ID & row m/z & row retention time & row ion mobility & row ion mobility unit & row CCS & correlation group ID & annotation network number & best ion & auto MS2 verify & ⋯ & t6\\_BS\\_2.mzML Peak area & t5\\_BS\\_1.mzML Peak area & t6\\_BS\\_3.mzML Peak area & t0\\_BS\\_1.mzML Peak area & t9\\_BS\\_1.mzML Peak area & t5\\_BS\\_2.mzML Peak area & t8\\_BS\\_3.mzML Peak area & t9\\_BS\\_3.mzML Peak area & t9\\_BS\\_2.mzML Peak area & \\\\\n  & <int> & <dbl> & <dbl> & <lgl> & <lgl> & <lgl> & <lgl> & <lgl> & <lgl> & <lgl> & ⋯ & <dbl> & <dbl> & <dbl> & <dbl> & <dbl> & <dbl> & <dbl> & <dbl> & <dbl> & <lgl>\\\\\n\\hline\n\t1 &  2 & 284.0490 & 0.00635683 & NA & NA & NA & NA & NA & NA & NA & ⋯ & 0 & 0 & 0 & 0 & 0 & 0 & 0 & 0 & 0 & NA\\\\\n\t2 &  8 & 281.0508 & 0.06924535 & NA & NA & NA & NA & NA & NA & NA & ⋯ & 0 & 0 & 0 & 0 & 0 & 0 & 0 & 0 & 0 & NA\\\\\n\t3 & 10 & 267.0351 & 0.09624655 & NA & NA & NA & NA & NA & NA & NA & ⋯ & 0 & 0 & 0 & 0 & 0 & 0 & 0 & 0 & 0 & NA\\\\\n\t4 & 13 & 227.0220 & 0.11498167 & NA & NA & NA & NA & NA & NA & NA & ⋯ & 0 & 0 & 0 & 0 & 0 & 0 & 0 & 0 & 0 & NA\\\\\n\t5 & 14 & 239.0947 & 0.11623713 & NA & NA & NA & NA & NA & NA & NA & ⋯ & 0 & 0 & 0 & 0 & 0 & 0 & 0 & 0 & 0 & NA\\\\\n\t6 & 16 & 302.0586 & 0.12748633 & NA & NA & NA & NA & NA & NA & NA & ⋯ & 0 & 0 & 0 & 0 & 0 & 0 & 0 & 0 & 0 & NA\\\\\n\\end{tabular}\n",
            "text/plain": [
              "  row ID row m/z  row retention time row ion mobility row ion mobility unit\n",
              "1  2     284.0490 0.00635683         NA               NA                   \n",
              "2  8     281.0508 0.06924535         NA               NA                   \n",
              "3 10     267.0351 0.09624655         NA               NA                   \n",
              "4 13     227.0220 0.11498167         NA               NA                   \n",
              "5 14     239.0947 0.11623713         NA               NA                   \n",
              "6 16     302.0586 0.12748633         NA               NA                   \n",
              "  row CCS correlation group ID annotation network number best ion\n",
              "1 NA      NA                   NA                        NA      \n",
              "2 NA      NA                   NA                        NA      \n",
              "3 NA      NA                   NA                        NA      \n",
              "4 NA      NA                   NA                        NA      \n",
              "5 NA      NA                   NA                        NA      \n",
              "6 NA      NA                   NA                        NA      \n",
              "  auto MS2 verify ⋯ t6_BS_2.mzML Peak area t5_BS_1.mzML Peak area\n",
              "1 NA              ⋯ 0                      0                     \n",
              "2 NA              ⋯ 0                      0                     \n",
              "3 NA              ⋯ 0                      0                     \n",
              "4 NA              ⋯ 0                      0                     \n",
              "5 NA              ⋯ 0                      0                     \n",
              "6 NA              ⋯ 0                      0                     \n",
              "  t6_BS_3.mzML Peak area t0_BS_1.mzML Peak area t9_BS_1.mzML Peak area\n",
              "1 0                      0                      0                     \n",
              "2 0                      0                      0                     \n",
              "3 0                      0                      0                     \n",
              "4 0                      0                      0                     \n",
              "5 0                      0                      0                     \n",
              "6 0                      0                      0                     \n",
              "  t5_BS_2.mzML Peak area t8_BS_3.mzML Peak area t9_BS_3.mzML Peak area\n",
              "1 0                      0                      0                     \n",
              "2 0                      0                      0                     \n",
              "3 0                      0                      0                     \n",
              "4 0                      0                      0                     \n",
              "5 0                      0                      0                     \n",
              "6 0                      0                      0                     \n",
              "  t9_BS_2.mzML Peak area   \n",
              "1 0                      NA\n",
              "2 0                      NA\n",
              "3 0                      NA\n",
              "4 0                      NA\n",
              "5 0                      NA\n",
              "6 0                      NA"
            ]
          },
          "metadata": {}
        },
        {
          "output_type": "display_data",
          "data": {
            "text/html": [
              "<style>\n",
              ".list-inline {list-style: none; margin:0; padding: 0}\n",
              ".list-inline>li {display: inline-block}\n",
              ".list-inline>li:not(:last-child)::after {content: \"\\00b7\"; padding: 0 .5ex}\n",
              "</style>\n",
              "<ol class=list-inline><li>5807</li><li>56</li></ol>\n"
            ],
            "text/markdown": "1. 5807\n2. 56\n\n\n",
            "text/latex": "\\begin{enumerate*}\n\\item 5807\n\\item 56\n\\end{enumerate*}\n",
            "text/plain": [
              "[1] 5807   56"
            ]
          },
          "metadata": {}
        }
      ],
      "source": [
        "head(nft)\n",
        "dim(nft)"
      ]
    },
    {
      "cell_type": "code",
      "execution_count": 13,
      "id": "a7bf0865",
      "metadata": {
        "colab": {
          "base_uri": "https://localhost:8080/",
          "height": 428
        },
        "id": "a7bf0865",
        "outputId": "f0174e7a-5168-4f50-920b-079e9b4b861c"
      },
      "outputs": [
        {
          "output_type": "display_data",
          "data": {
            "text/html": [
              "<table class=\"dataframe\">\n",
              "<caption>A data.frame: 6 × 7</caption>\n",
              "<thead>\n",
              "\t<tr><th></th><th scope=col>filename</th><th scope=col>ATTRIBUTE_species</th><th scope=col>ATTRIBUTE_SampleType</th><th scope=col>ATTRIBUTE_timepoint</th><th scope=col>ATTRIBUTE_hours</th><th scope=col>ATTRIBUTE_mins</th><th scope=col>ATTRIBUTE_replicates</th></tr>\n",
              "\t<tr><th></th><th scope=col>&lt;chr&gt;</th><th scope=col>&lt;chr&gt;</th><th scope=col>&lt;chr&gt;</th><th scope=col>&lt;int&gt;</th><th scope=col>&lt;dbl&gt;</th><th scope=col>&lt;int&gt;</th><th scope=col>&lt;int&gt;</th></tr>\n",
              "</thead>\n",
              "<tbody>\n",
              "\t<tr><th scope=row>1</th><td>t0_BS_C.mzML Peak area</td><td>B.subtilis</td><td>Without_Treatment</td><td>0</td><td>-0.1666667</td><td>-10</td><td>0</td></tr>\n",
              "\t<tr><th scope=row>2</th><td>t0_BS_1.mzML Peak area</td><td>B.subtilis</td><td>Without_Treatment</td><td>0</td><td>-0.1666667</td><td>-10</td><td>1</td></tr>\n",
              "\t<tr><th scope=row>3</th><td>t0_BS_2.mzML Peak area</td><td>B.subtilis</td><td>Without_Treatment</td><td>0</td><td>-0.1666667</td><td>-10</td><td>2</td></tr>\n",
              "\t<tr><th scope=row>4</th><td>t0_BS_3.mzML Peak area</td><td>B.subtilis</td><td>Without_Treatment</td><td>0</td><td>-0.1666667</td><td>-10</td><td>3</td></tr>\n",
              "\t<tr><th scope=row>5</th><td>t1_BS_C.mzML Peak area</td><td>B.subtilis</td><td>Without_Treatment</td><td>1</td><td> 0.0000000</td><td>  0</td><td>0</td></tr>\n",
              "\t<tr><th scope=row>6</th><td>t1_BS_1.mzML Peak area</td><td>B.subtilis</td><td>With_Treatment   </td><td>1</td><td> 0.0000000</td><td>  0</td><td>1</td></tr>\n",
              "</tbody>\n",
              "</table>\n"
            ],
            "text/markdown": "\nA data.frame: 6 × 7\n\n| <!--/--> | filename &lt;chr&gt; | ATTRIBUTE_species &lt;chr&gt; | ATTRIBUTE_SampleType &lt;chr&gt; | ATTRIBUTE_timepoint &lt;int&gt; | ATTRIBUTE_hours &lt;dbl&gt; | ATTRIBUTE_mins &lt;int&gt; | ATTRIBUTE_replicates &lt;int&gt; |\n|---|---|---|---|---|---|---|---|\n| 1 | t0_BS_C.mzML Peak area | B.subtilis | Without_Treatment | 0 | -0.1666667 | -10 | 0 |\n| 2 | t0_BS_1.mzML Peak area | B.subtilis | Without_Treatment | 0 | -0.1666667 | -10 | 1 |\n| 3 | t0_BS_2.mzML Peak area | B.subtilis | Without_Treatment | 0 | -0.1666667 | -10 | 2 |\n| 4 | t0_BS_3.mzML Peak area | B.subtilis | Without_Treatment | 0 | -0.1666667 | -10 | 3 |\n| 5 | t1_BS_C.mzML Peak area | B.subtilis | Without_Treatment | 1 |  0.0000000 |   0 | 0 |\n| 6 | t1_BS_1.mzML Peak area | B.subtilis | With_Treatment    | 1 |  0.0000000 |   0 | 1 |\n\n",
            "text/latex": "A data.frame: 6 × 7\n\\begin{tabular}{r|lllllll}\n  & filename & ATTRIBUTE\\_species & ATTRIBUTE\\_SampleType & ATTRIBUTE\\_timepoint & ATTRIBUTE\\_hours & ATTRIBUTE\\_mins & ATTRIBUTE\\_replicates\\\\\n  & <chr> & <chr> & <chr> & <int> & <dbl> & <int> & <int>\\\\\n\\hline\n\t1 & t0\\_BS\\_C.mzML Peak area & B.subtilis & Without\\_Treatment & 0 & -0.1666667 & -10 & 0\\\\\n\t2 & t0\\_BS\\_1.mzML Peak area & B.subtilis & Without\\_Treatment & 0 & -0.1666667 & -10 & 1\\\\\n\t3 & t0\\_BS\\_2.mzML Peak area & B.subtilis & Without\\_Treatment & 0 & -0.1666667 & -10 & 2\\\\\n\t4 & t0\\_BS\\_3.mzML Peak area & B.subtilis & Without\\_Treatment & 0 & -0.1666667 & -10 & 3\\\\\n\t5 & t1\\_BS\\_C.mzML Peak area & B.subtilis & Without\\_Treatment & 1 &  0.0000000 &   0 & 0\\\\\n\t6 & t1\\_BS\\_1.mzML Peak area & B.subtilis & With\\_Treatment    & 1 &  0.0000000 &   0 & 1\\\\\n\\end{tabular}\n",
            "text/plain": [
              "  filename               ATTRIBUTE_species ATTRIBUTE_SampleType\n",
              "1 t0_BS_C.mzML Peak area B.subtilis        Without_Treatment   \n",
              "2 t0_BS_1.mzML Peak area B.subtilis        Without_Treatment   \n",
              "3 t0_BS_2.mzML Peak area B.subtilis        Without_Treatment   \n",
              "4 t0_BS_3.mzML Peak area B.subtilis        Without_Treatment   \n",
              "5 t1_BS_C.mzML Peak area B.subtilis        Without_Treatment   \n",
              "6 t1_BS_1.mzML Peak area B.subtilis        With_Treatment      \n",
              "  ATTRIBUTE_timepoint ATTRIBUTE_hours ATTRIBUTE_mins ATTRIBUTE_replicates\n",
              "1 0                   -0.1666667      -10            0                   \n",
              "2 0                   -0.1666667      -10            1                   \n",
              "3 0                   -0.1666667      -10            2                   \n",
              "4 0                   -0.1666667      -10            3                   \n",
              "5 1                    0.0000000        0            0                   \n",
              "6 1                    0.0000000        0            1                   "
            ]
          },
          "metadata": {}
        },
        {
          "output_type": "display_data",
          "data": {
            "text/html": [
              "<style>\n",
              ".list-inline {list-style: none; margin:0; padding: 0}\n",
              ".list-inline>li {display: inline-block}\n",
              ".list-inline>li:not(:last-child)::after {content: \"\\00b7\"; padding: 0 .5ex}\n",
              "</style>\n",
              "<ol class=list-inline><li>42</li><li>7</li></ol>\n"
            ],
            "text/markdown": "1. 42\n2. 7\n\n\n",
            "text/latex": "\\begin{enumerate*}\n\\item 42\n\\item 7\n\\end{enumerate*}\n",
            "text/plain": [
              "[1] 42  7"
            ]
          },
          "metadata": {}
        }
      ],
      "source": [
        "head(md)\n",
        "dim(md)"
      ]
    },
    {
      "cell_type": "markdown",
      "id": "f19073e0",
      "metadata": {
        "id": "f19073e0"
      },
      "source": [
        "Trying to bring the feature table and metadata in the correct format such as the rownames of metadata and column names of feature table are the same. They both are the file names and they need to be same as from now on, we will call the columns in our feature table based on our metadata information. Thus, using the metadata, the user can filter their data easily. You can also directly deal with your feature table without metadata by getting your hands dirty with some coding!! But having a metadata improves the user-experience greatly."
      ]
    },
    {
      "cell_type": "code",
      "execution_count": 14,
      "id": "25ffd93c",
      "metadata": {
        "id": "25ffd93c"
      },
      "outputs": [],
      "source": [
        "#Removing Peak area extensions\n",
        "colnames(ft) <- gsub(' Peak area','',colnames(ft))\n",
        "colnames(nft) <- gsub(' Peak area','',colnames(nft))\n",
        "md$filename<- gsub(' Peak area','',md$filename)\n",
        "\n",
        "#Removing if any NA columns present in the md file\n",
        "ft <- ft[,colSums(is.na(ft))<nrow(ft)]\n",
        "nft <- nft[,colSums(is.na(nft))<nrow(nft)]\n",
        "md <- md[,colSums(is.na(md))<nrow(md)]\n",
        "\n",
        "#Changing the row names of the files\n",
        "rownames(md) <- md$filename\n",
        "md <- md[,-1]\n",
        "rownames(ft) <- paste(ft$'row ID',round(ft$'row m/z',digits = 3),round(ft$'row retention time',digits = 3), sep = '_')\n",
        "rownames(nft) <- paste(nft$'row ID',round(nft$'row m/z',digits = 3),round(nft$'row retention time',digits = 3), sep = '_')\n",
        "\n",
        "#Picking only the files with column names containing 'mzML'\n",
        "ft <- ft[,grep('mzML',colnames(ft))]\n",
        "nft <- nft[,grep('mzML',colnames(nft))]\n",
        "\n",
        "# Converting replicate attributes into factors (categorical data)\n",
        "md$ATTRIBUTE_replicates <- as.factor(md$ATTRIBUTE_replicates)"
      ]
    },
    {
      "cell_type": "markdown",
      "id": "e927cf45",
      "metadata": {
        "id": "e927cf45"
      },
      "source": [
        "Lets check the files once again!!"
      ]
    },
    {
      "cell_type": "code",
      "execution_count": 15,
      "id": "e76fb0e3",
      "metadata": {
        "colab": {
          "base_uri": "https://localhost:8080/",
          "height": 324
        },
        "id": "e76fb0e3",
        "outputId": "eaf40d01-0747-43c7-e10f-9b1bd557582b"
      },
      "outputs": [
        {
          "output_type": "display_data",
          "data": {
            "text/html": [
              "<table class=\"dataframe\">\n",
              "<caption>A data.frame: 6 × 42</caption>\n",
              "<thead>\n",
              "\t<tr><th></th><th scope=col>Blank_B.mzML</th><th scope=col>t2_BS_C.mzML</th><th scope=col>t0_BS_C.mzML</th><th scope=col>Blank_A.mzML</th><th scope=col>t1_BS_C.mzML</th><th scope=col>t5_BS_C.mzML</th><th scope=col>t3_BS_3.mzML</th><th scope=col>t2_BS_2.mzML</th><th scope=col>t3_BS_C.mzML</th><th scope=col>t2_BS_1.mzML</th><th scope=col>⋯</th><th scope=col>t5_BS_3.mzML</th><th scope=col>t6_BS_2.mzML</th><th scope=col>t5_BS_1.mzML</th><th scope=col>t6_BS_3.mzML</th><th scope=col>t0_BS_1.mzML</th><th scope=col>t9_BS_1.mzML</th><th scope=col>t5_BS_2.mzML</th><th scope=col>t8_BS_3.mzML</th><th scope=col>t9_BS_3.mzML</th><th scope=col>t9_BS_2.mzML</th></tr>\n",
              "\t<tr><th></th><th scope=col>&lt;dbl&gt;</th><th scope=col>&lt;dbl&gt;</th><th scope=col>&lt;dbl&gt;</th><th scope=col>&lt;dbl&gt;</th><th scope=col>&lt;dbl&gt;</th><th scope=col>&lt;dbl&gt;</th><th scope=col>&lt;dbl&gt;</th><th scope=col>&lt;dbl&gt;</th><th scope=col>&lt;dbl&gt;</th><th scope=col>&lt;dbl&gt;</th><th scope=col>⋯</th><th scope=col>&lt;dbl&gt;</th><th scope=col>&lt;dbl&gt;</th><th scope=col>&lt;dbl&gt;</th><th scope=col>&lt;dbl&gt;</th><th scope=col>&lt;dbl&gt;</th><th scope=col>&lt;dbl&gt;</th><th scope=col>&lt;dbl&gt;</th><th scope=col>&lt;dbl&gt;</th><th scope=col>&lt;dbl&gt;</th><th scope=col>&lt;dbl&gt;</th></tr>\n",
              "</thead>\n",
              "<tbody>\n",
              "\t<tr><th scope=row>2_284.049_0.006</th><td>0</td><td>0</td><td>0</td><td>  24335.37</td><td>0</td><td>0</td><td>65528.32</td><td>0</td><td>0</td><td>      0</td><td>⋯</td><td>0</td><td>0</td><td>0</td><td>0</td><td>0</td><td>0</td><td>0</td><td>0</td><td>0</td><td>0</td></tr>\n",
              "\t<tr><th scope=row>8_281.051_0.069</th><td>0</td><td>0</td><td>0</td><td>1604372.00</td><td>0</td><td>0</td><td>    0.00</td><td>0</td><td>0</td><td>3636798</td><td>⋯</td><td>0</td><td>0</td><td>0</td><td>0</td><td>0</td><td>0</td><td>0</td><td>0</td><td>0</td><td>0</td></tr>\n",
              "\t<tr><th scope=row>10_267.035_0.096</th><td>0</td><td>0</td><td>0</td><td>  90303.77</td><td>0</td><td>0</td><td>    0.00</td><td>0</td><td>0</td><td>      0</td><td>⋯</td><td>0</td><td>0</td><td>0</td><td>0</td><td>0</td><td>0</td><td>0</td><td>0</td><td>0</td><td>0</td></tr>\n",
              "\t<tr><th scope=row>13_227.022_0.115</th><td>0</td><td>0</td><td>0</td><td>  37453.91</td><td>0</td><td>0</td><td>    0.00</td><td>0</td><td>0</td><td>      0</td><td>⋯</td><td>0</td><td>0</td><td>0</td><td>0</td><td>0</td><td>0</td><td>0</td><td>0</td><td>0</td><td>0</td></tr>\n",
              "\t<tr><th scope=row>14_239.095_0.116</th><td>0</td><td>0</td><td>0</td><td>  72088.13</td><td>0</td><td>0</td><td>    0.00</td><td>0</td><td>0</td><td>      0</td><td>⋯</td><td>0</td><td>0</td><td>0</td><td>0</td><td>0</td><td>0</td><td>0</td><td>0</td><td>0</td><td>0</td></tr>\n",
              "\t<tr><th scope=row>16_302.059_0.127</th><td>0</td><td>0</td><td>0</td><td>  45895.42</td><td>0</td><td>0</td><td>    0.00</td><td>0</td><td>0</td><td>      0</td><td>⋯</td><td>0</td><td>0</td><td>0</td><td>0</td><td>0</td><td>0</td><td>0</td><td>0</td><td>0</td><td>0</td></tr>\n",
              "</tbody>\n",
              "</table>\n"
            ],
            "text/markdown": "\nA data.frame: 6 × 42\n\n| <!--/--> | Blank_B.mzML &lt;dbl&gt; | t2_BS_C.mzML &lt;dbl&gt; | t0_BS_C.mzML &lt;dbl&gt; | Blank_A.mzML &lt;dbl&gt; | t1_BS_C.mzML &lt;dbl&gt; | t5_BS_C.mzML &lt;dbl&gt; | t3_BS_3.mzML &lt;dbl&gt; | t2_BS_2.mzML &lt;dbl&gt; | t3_BS_C.mzML &lt;dbl&gt; | t2_BS_1.mzML &lt;dbl&gt; | ⋯ ⋯ | t5_BS_3.mzML &lt;dbl&gt; | t6_BS_2.mzML &lt;dbl&gt; | t5_BS_1.mzML &lt;dbl&gt; | t6_BS_3.mzML &lt;dbl&gt; | t0_BS_1.mzML &lt;dbl&gt; | t9_BS_1.mzML &lt;dbl&gt; | t5_BS_2.mzML &lt;dbl&gt; | t8_BS_3.mzML &lt;dbl&gt; | t9_BS_3.mzML &lt;dbl&gt; | t9_BS_2.mzML &lt;dbl&gt; |\n|---|---|---|---|---|---|---|---|---|---|---|---|---|---|---|---|---|---|---|---|---|---|\n| 2_284.049_0.006 | 0 | 0 | 0 |   24335.37 | 0 | 0 | 65528.32 | 0 | 0 |       0 | ⋯ | 0 | 0 | 0 | 0 | 0 | 0 | 0 | 0 | 0 | 0 |\n| 8_281.051_0.069 | 0 | 0 | 0 | 1604372.00 | 0 | 0 |     0.00 | 0 | 0 | 3636798 | ⋯ | 0 | 0 | 0 | 0 | 0 | 0 | 0 | 0 | 0 | 0 |\n| 10_267.035_0.096 | 0 | 0 | 0 |   90303.77 | 0 | 0 |     0.00 | 0 | 0 |       0 | ⋯ | 0 | 0 | 0 | 0 | 0 | 0 | 0 | 0 | 0 | 0 |\n| 13_227.022_0.115 | 0 | 0 | 0 |   37453.91 | 0 | 0 |     0.00 | 0 | 0 |       0 | ⋯ | 0 | 0 | 0 | 0 | 0 | 0 | 0 | 0 | 0 | 0 |\n| 14_239.095_0.116 | 0 | 0 | 0 |   72088.13 | 0 | 0 |     0.00 | 0 | 0 |       0 | ⋯ | 0 | 0 | 0 | 0 | 0 | 0 | 0 | 0 | 0 | 0 |\n| 16_302.059_0.127 | 0 | 0 | 0 |   45895.42 | 0 | 0 |     0.00 | 0 | 0 |       0 | ⋯ | 0 | 0 | 0 | 0 | 0 | 0 | 0 | 0 | 0 | 0 |\n\n",
            "text/latex": "A data.frame: 6 × 42\n\\begin{tabular}{r|lllllllllllllllllllll}\n  & Blank\\_B.mzML & t2\\_BS\\_C.mzML & t0\\_BS\\_C.mzML & Blank\\_A.mzML & t1\\_BS\\_C.mzML & t5\\_BS\\_C.mzML & t3\\_BS\\_3.mzML & t2\\_BS\\_2.mzML & t3\\_BS\\_C.mzML & t2\\_BS\\_1.mzML & ⋯ & t5\\_BS\\_3.mzML & t6\\_BS\\_2.mzML & t5\\_BS\\_1.mzML & t6\\_BS\\_3.mzML & t0\\_BS\\_1.mzML & t9\\_BS\\_1.mzML & t5\\_BS\\_2.mzML & t8\\_BS\\_3.mzML & t9\\_BS\\_3.mzML & t9\\_BS\\_2.mzML\\\\\n  & <dbl> & <dbl> & <dbl> & <dbl> & <dbl> & <dbl> & <dbl> & <dbl> & <dbl> & <dbl> & ⋯ & <dbl> & <dbl> & <dbl> & <dbl> & <dbl> & <dbl> & <dbl> & <dbl> & <dbl> & <dbl>\\\\\n\\hline\n\t2\\_284.049\\_0.006 & 0 & 0 & 0 &   24335.37 & 0 & 0 & 65528.32 & 0 & 0 &       0 & ⋯ & 0 & 0 & 0 & 0 & 0 & 0 & 0 & 0 & 0 & 0\\\\\n\t8\\_281.051\\_0.069 & 0 & 0 & 0 & 1604372.00 & 0 & 0 &     0.00 & 0 & 0 & 3636798 & ⋯ & 0 & 0 & 0 & 0 & 0 & 0 & 0 & 0 & 0 & 0\\\\\n\t10\\_267.035\\_0.096 & 0 & 0 & 0 &   90303.77 & 0 & 0 &     0.00 & 0 & 0 &       0 & ⋯ & 0 & 0 & 0 & 0 & 0 & 0 & 0 & 0 & 0 & 0\\\\\n\t13\\_227.022\\_0.115 & 0 & 0 & 0 &   37453.91 & 0 & 0 &     0.00 & 0 & 0 &       0 & ⋯ & 0 & 0 & 0 & 0 & 0 & 0 & 0 & 0 & 0 & 0\\\\\n\t14\\_239.095\\_0.116 & 0 & 0 & 0 &   72088.13 & 0 & 0 &     0.00 & 0 & 0 &       0 & ⋯ & 0 & 0 & 0 & 0 & 0 & 0 & 0 & 0 & 0 & 0\\\\\n\t16\\_302.059\\_0.127 & 0 & 0 & 0 &   45895.42 & 0 & 0 &     0.00 & 0 & 0 &       0 & ⋯ & 0 & 0 & 0 & 0 & 0 & 0 & 0 & 0 & 0 & 0\\\\\n\\end{tabular}\n",
            "text/plain": [
              "                 Blank_B.mzML t2_BS_C.mzML t0_BS_C.mzML Blank_A.mzML\n",
              "2_284.049_0.006  0            0            0              24335.37  \n",
              "8_281.051_0.069  0            0            0            1604372.00  \n",
              "10_267.035_0.096 0            0            0              90303.77  \n",
              "13_227.022_0.115 0            0            0              37453.91  \n",
              "14_239.095_0.116 0            0            0              72088.13  \n",
              "16_302.059_0.127 0            0            0              45895.42  \n",
              "                 t1_BS_C.mzML t5_BS_C.mzML t3_BS_3.mzML t2_BS_2.mzML\n",
              "2_284.049_0.006  0            0            65528.32     0           \n",
              "8_281.051_0.069  0            0                0.00     0           \n",
              "10_267.035_0.096 0            0                0.00     0           \n",
              "13_227.022_0.115 0            0                0.00     0           \n",
              "14_239.095_0.116 0            0                0.00     0           \n",
              "16_302.059_0.127 0            0                0.00     0           \n",
              "                 t3_BS_C.mzML t2_BS_1.mzML ⋯ t5_BS_3.mzML t6_BS_2.mzML\n",
              "2_284.049_0.006  0                  0      ⋯ 0            0           \n",
              "8_281.051_0.069  0            3636798      ⋯ 0            0           \n",
              "10_267.035_0.096 0                  0      ⋯ 0            0           \n",
              "13_227.022_0.115 0                  0      ⋯ 0            0           \n",
              "14_239.095_0.116 0                  0      ⋯ 0            0           \n",
              "16_302.059_0.127 0                  0      ⋯ 0            0           \n",
              "                 t5_BS_1.mzML t6_BS_3.mzML t0_BS_1.mzML t9_BS_1.mzML\n",
              "2_284.049_0.006  0            0            0            0           \n",
              "8_281.051_0.069  0            0            0            0           \n",
              "10_267.035_0.096 0            0            0            0           \n",
              "13_227.022_0.115 0            0            0            0           \n",
              "14_239.095_0.116 0            0            0            0           \n",
              "16_302.059_0.127 0            0            0            0           \n",
              "                 t5_BS_2.mzML t8_BS_3.mzML t9_BS_3.mzML t9_BS_2.mzML\n",
              "2_284.049_0.006  0            0            0            0           \n",
              "8_281.051_0.069  0            0            0            0           \n",
              "10_267.035_0.096 0            0            0            0           \n",
              "13_227.022_0.115 0            0            0            0           \n",
              "14_239.095_0.116 0            0            0            0           \n",
              "16_302.059_0.127 0            0            0            0           "
            ]
          },
          "metadata": {}
        },
        {
          "output_type": "display_data",
          "data": {
            "text/html": [
              "<style>\n",
              ".list-inline {list-style: none; margin:0; padding: 0}\n",
              ".list-inline>li {display: inline-block}\n",
              ".list-inline>li:not(:last-child)::after {content: \"\\00b7\"; padding: 0 .5ex}\n",
              "</style>\n",
              "<ol class=list-inline><li>5807</li><li>42</li></ol>\n"
            ],
            "text/markdown": "1. 5807\n2. 42\n\n\n",
            "text/latex": "\\begin{enumerate*}\n\\item 5807\n\\item 42\n\\end{enumerate*}\n",
            "text/plain": [
              "[1] 5807   42"
            ]
          },
          "metadata": {}
        }
      ],
      "source": [
        "head(nft)\n",
        "dim(nft)"
      ]
    },
    {
      "cell_type": "code",
      "execution_count": 16,
      "id": "499d8a48",
      "metadata": {
        "colab": {
          "base_uri": "https://localhost:8080/",
          "height": 324
        },
        "id": "499d8a48",
        "outputId": "0b38899a-600a-4167-b63b-a6a326872aea"
      },
      "outputs": [
        {
          "output_type": "display_data",
          "data": {
            "text/html": [
              "<table class=\"dataframe\">\n",
              "<caption>A data.frame: 6 × 42</caption>\n",
              "<thead>\n",
              "\t<tr><th></th><th scope=col>Blank_B.mzML</th><th scope=col>t2_BS_C.mzML</th><th scope=col>t0_BS_C.mzML</th><th scope=col>Blank_A.mzML</th><th scope=col>t1_BS_C.mzML</th><th scope=col>t5_BS_C.mzML</th><th scope=col>t3_BS_3.mzML</th><th scope=col>t2_BS_2.mzML</th><th scope=col>t3_BS_C.mzML</th><th scope=col>t2_BS_1.mzML</th><th scope=col>⋯</th><th scope=col>t5_BS_3.mzML</th><th scope=col>t6_BS_2.mzML</th><th scope=col>t5_BS_1.mzML</th><th scope=col>t6_BS_3.mzML</th><th scope=col>t0_BS_1.mzML</th><th scope=col>t9_BS_1.mzML</th><th scope=col>t5_BS_2.mzML</th><th scope=col>t8_BS_3.mzML</th><th scope=col>t9_BS_3.mzML</th><th scope=col>t9_BS_2.mzML</th></tr>\n",
              "\t<tr><th></th><th scope=col>&lt;dbl&gt;</th><th scope=col>&lt;dbl&gt;</th><th scope=col>&lt;dbl&gt;</th><th scope=col>&lt;dbl&gt;</th><th scope=col>&lt;dbl&gt;</th><th scope=col>&lt;dbl&gt;</th><th scope=col>&lt;dbl&gt;</th><th scope=col>&lt;dbl&gt;</th><th scope=col>&lt;dbl&gt;</th><th scope=col>&lt;dbl&gt;</th><th scope=col>⋯</th><th scope=col>&lt;dbl&gt;</th><th scope=col>&lt;dbl&gt;</th><th scope=col>&lt;dbl&gt;</th><th scope=col>&lt;dbl&gt;</th><th scope=col>&lt;dbl&gt;</th><th scope=col>&lt;dbl&gt;</th><th scope=col>&lt;dbl&gt;</th><th scope=col>&lt;dbl&gt;</th><th scope=col>&lt;dbl&gt;</th><th scope=col>&lt;dbl&gt;</th></tr>\n",
              "</thead>\n",
              "<tbody>\n",
              "\t<tr><th scope=row>2_284.049_0.069</th><td>  18021.57</td><td>  16982.87</td><td> 20755.18</td><td>  24335.37</td><td>  19328.70</td><td> 23160.66</td><td> 65528.32</td><td>  4663.611</td><td>  22136.30</td><td>   4262.391</td><td>⋯</td><td>  21375.27</td><td>  23021.77</td><td>  18208.166</td><td>  19423.74</td><td>  17433.18</td><td>  25643.275</td><td>  19439.27</td><td>  28515.10</td><td>  27789.33</td><td>  24276.26</td></tr>\n",
              "\t<tr><th scope=row>8_281.051_0.104</th><td>1402257.60</td><td>1537228.20</td><td>228957.92</td><td>1604372.00</td><td>1559159.10</td><td>263653.38</td><td>266014.78</td><td>238900.690</td><td>1652363.80</td><td>3636798.200</td><td>⋯</td><td>1716907.50</td><td>1725159.00</td><td>1687922.400</td><td>1711116.90</td><td>1525560.80</td><td>1988580.500</td><td>1680300.80</td><td>2050065.20</td><td>1969012.20</td><td>1937270.80</td></tr>\n",
              "\t<tr><th scope=row>10_267.035_0.125</th><td>  83519.48</td><td>  96762.88</td><td> 84678.31</td><td>  90303.77</td><td>  81488.60</td><td>115550.96</td><td>107415.57</td><td> 82006.620</td><td>  12551.38</td><td>  96853.070</td><td>⋯</td><td> 122031.09</td><td> 127510.91</td><td>   8224.141</td><td> 123302.27</td><td>  83531.95</td><td> 166977.810</td><td> 117669.37</td><td> 155001.64</td><td> 159289.83</td><td> 155360.70</td></tr>\n",
              "\t<tr><th scope=row>13_227.022_0.035</th><td>  21758.15</td><td>  26107.27</td><td> 29125.81</td><td>  37453.91</td><td>  20693.07</td><td> 64607.33</td><td> 34512.42</td><td> 27379.434</td><td>  62945.52</td><td>  32709.602</td><td>⋯</td><td>  63844.68</td><td>  43124.89</td><td>  21728.576</td><td>  28306.74</td><td>  21987.09</td><td>  77407.750</td><td>  52930.57</td><td>  41270.76</td><td>  74911.14</td><td>  40599.87</td></tr>\n",
              "\t<tr><th scope=row>14_239.095_0.035</th><td>  94997.12</td><td>  53176.10</td><td>100849.48</td><td>  72088.13</td><td>  95871.80</td><td> 90154.41</td><td> 91077.77</td><td> 41458.566</td><td>  89611.88</td><td>  89120.625</td><td>⋯</td><td>  90778.20</td><td>  89629.49</td><td>  89971.610</td><td>  69065.44</td><td>  92206.42</td><td>   8322.643</td><td>  89443.13</td><td>  85359.16</td><td>  53224.13</td><td>  98724.91</td></tr>\n",
              "\t<tr><th scope=row>16_302.059_0.041</th><td>  27851.37</td><td>  48689.27</td><td> 51742.97</td><td>  45895.42</td><td>  32060.05</td><td> 59807.74</td><td> 29840.88</td><td> 69905.130</td><td>  75531.13</td><td>  35575.457</td><td>⋯</td><td>  72733.80</td><td>  38676.01</td><td>  79390.100</td><td>  34950.79</td><td>  66040.79</td><td>  65106.055</td><td>  23823.50</td><td>  50425.25</td><td>  37610.27</td><td>  85097.12</td></tr>\n",
              "</tbody>\n",
              "</table>\n"
            ],
            "text/markdown": "\nA data.frame: 6 × 42\n\n| <!--/--> | Blank_B.mzML &lt;dbl&gt; | t2_BS_C.mzML &lt;dbl&gt; | t0_BS_C.mzML &lt;dbl&gt; | Blank_A.mzML &lt;dbl&gt; | t1_BS_C.mzML &lt;dbl&gt; | t5_BS_C.mzML &lt;dbl&gt; | t3_BS_3.mzML &lt;dbl&gt; | t2_BS_2.mzML &lt;dbl&gt; | t3_BS_C.mzML &lt;dbl&gt; | t2_BS_1.mzML &lt;dbl&gt; | ⋯ ⋯ | t5_BS_3.mzML &lt;dbl&gt; | t6_BS_2.mzML &lt;dbl&gt; | t5_BS_1.mzML &lt;dbl&gt; | t6_BS_3.mzML &lt;dbl&gt; | t0_BS_1.mzML &lt;dbl&gt; | t9_BS_1.mzML &lt;dbl&gt; | t5_BS_2.mzML &lt;dbl&gt; | t8_BS_3.mzML &lt;dbl&gt; | t9_BS_3.mzML &lt;dbl&gt; | t9_BS_2.mzML &lt;dbl&gt; |\n|---|---|---|---|---|---|---|---|---|---|---|---|---|---|---|---|---|---|---|---|---|---|\n| 2_284.049_0.069 |   18021.57 |   16982.87 |  20755.18 |   24335.37 |   19328.70 |  23160.66 |  65528.32 |   4663.611 |   22136.30 |    4262.391 | ⋯ |   21375.27 |   23021.77 |   18208.166 |   19423.74 |   17433.18 |   25643.275 |   19439.27 |   28515.10 |   27789.33 |   24276.26 |\n| 8_281.051_0.104 | 1402257.60 | 1537228.20 | 228957.92 | 1604372.00 | 1559159.10 | 263653.38 | 266014.78 | 238900.690 | 1652363.80 | 3636798.200 | ⋯ | 1716907.50 | 1725159.00 | 1687922.400 | 1711116.90 | 1525560.80 | 1988580.500 | 1680300.80 | 2050065.20 | 1969012.20 | 1937270.80 |\n| 10_267.035_0.125 |   83519.48 |   96762.88 |  84678.31 |   90303.77 |   81488.60 | 115550.96 | 107415.57 |  82006.620 |   12551.38 |   96853.070 | ⋯ |  122031.09 |  127510.91 |    8224.141 |  123302.27 |   83531.95 |  166977.810 |  117669.37 |  155001.64 |  159289.83 |  155360.70 |\n| 13_227.022_0.035 |   21758.15 |   26107.27 |  29125.81 |   37453.91 |   20693.07 |  64607.33 |  34512.42 |  27379.434 |   62945.52 |   32709.602 | ⋯ |   63844.68 |   43124.89 |   21728.576 |   28306.74 |   21987.09 |   77407.750 |   52930.57 |   41270.76 |   74911.14 |   40599.87 |\n| 14_239.095_0.035 |   94997.12 |   53176.10 | 100849.48 |   72088.13 |   95871.80 |  90154.41 |  91077.77 |  41458.566 |   89611.88 |   89120.625 | ⋯ |   90778.20 |   89629.49 |   89971.610 |   69065.44 |   92206.42 |    8322.643 |   89443.13 |   85359.16 |   53224.13 |   98724.91 |\n| 16_302.059_0.041 |   27851.37 |   48689.27 |  51742.97 |   45895.42 |   32060.05 |  59807.74 |  29840.88 |  69905.130 |   75531.13 |   35575.457 | ⋯ |   72733.80 |   38676.01 |   79390.100 |   34950.79 |   66040.79 |   65106.055 |   23823.50 |   50425.25 |   37610.27 |   85097.12 |\n\n",
            "text/latex": "A data.frame: 6 × 42\n\\begin{tabular}{r|lllllllllllllllllllll}\n  & Blank\\_B.mzML & t2\\_BS\\_C.mzML & t0\\_BS\\_C.mzML & Blank\\_A.mzML & t1\\_BS\\_C.mzML & t5\\_BS\\_C.mzML & t3\\_BS\\_3.mzML & t2\\_BS\\_2.mzML & t3\\_BS\\_C.mzML & t2\\_BS\\_1.mzML & ⋯ & t5\\_BS\\_3.mzML & t6\\_BS\\_2.mzML & t5\\_BS\\_1.mzML & t6\\_BS\\_3.mzML & t0\\_BS\\_1.mzML & t9\\_BS\\_1.mzML & t5\\_BS\\_2.mzML & t8\\_BS\\_3.mzML & t9\\_BS\\_3.mzML & t9\\_BS\\_2.mzML\\\\\n  & <dbl> & <dbl> & <dbl> & <dbl> & <dbl> & <dbl> & <dbl> & <dbl> & <dbl> & <dbl> & ⋯ & <dbl> & <dbl> & <dbl> & <dbl> & <dbl> & <dbl> & <dbl> & <dbl> & <dbl> & <dbl>\\\\\n\\hline\n\t2\\_284.049\\_0.069 &   18021.57 &   16982.87 &  20755.18 &   24335.37 &   19328.70 &  23160.66 &  65528.32 &   4663.611 &   22136.30 &    4262.391 & ⋯ &   21375.27 &   23021.77 &   18208.166 &   19423.74 &   17433.18 &   25643.275 &   19439.27 &   28515.10 &   27789.33 &   24276.26\\\\\n\t8\\_281.051\\_0.104 & 1402257.60 & 1537228.20 & 228957.92 & 1604372.00 & 1559159.10 & 263653.38 & 266014.78 & 238900.690 & 1652363.80 & 3636798.200 & ⋯ & 1716907.50 & 1725159.00 & 1687922.400 & 1711116.90 & 1525560.80 & 1988580.500 & 1680300.80 & 2050065.20 & 1969012.20 & 1937270.80\\\\\n\t10\\_267.035\\_0.125 &   83519.48 &   96762.88 &  84678.31 &   90303.77 &   81488.60 & 115550.96 & 107415.57 &  82006.620 &   12551.38 &   96853.070 & ⋯ &  122031.09 &  127510.91 &    8224.141 &  123302.27 &   83531.95 &  166977.810 &  117669.37 &  155001.64 &  159289.83 &  155360.70\\\\\n\t13\\_227.022\\_0.035 &   21758.15 &   26107.27 &  29125.81 &   37453.91 &   20693.07 &  64607.33 &  34512.42 &  27379.434 &   62945.52 &   32709.602 & ⋯ &   63844.68 &   43124.89 &   21728.576 &   28306.74 &   21987.09 &   77407.750 &   52930.57 &   41270.76 &   74911.14 &   40599.87\\\\\n\t14\\_239.095\\_0.035 &   94997.12 &   53176.10 & 100849.48 &   72088.13 &   95871.80 &  90154.41 &  91077.77 &  41458.566 &   89611.88 &   89120.625 & ⋯ &   90778.20 &   89629.49 &   89971.610 &   69065.44 &   92206.42 &    8322.643 &   89443.13 &   85359.16 &   53224.13 &   98724.91\\\\\n\t16\\_302.059\\_0.041 &   27851.37 &   48689.27 &  51742.97 &   45895.42 &   32060.05 &  59807.74 &  29840.88 &  69905.130 &   75531.13 &   35575.457 & ⋯ &   72733.80 &   38676.01 &   79390.100 &   34950.79 &   66040.79 &   65106.055 &   23823.50 &   50425.25 &   37610.27 &   85097.12\\\\\n\\end{tabular}\n",
            "text/plain": [
              "                 Blank_B.mzML t2_BS_C.mzML t0_BS_C.mzML Blank_A.mzML\n",
              "2_284.049_0.069    18021.57     16982.87    20755.18      24335.37  \n",
              "8_281.051_0.104  1402257.60   1537228.20   228957.92    1604372.00  \n",
              "10_267.035_0.125   83519.48     96762.88    84678.31      90303.77  \n",
              "13_227.022_0.035   21758.15     26107.27    29125.81      37453.91  \n",
              "14_239.095_0.035   94997.12     53176.10   100849.48      72088.13  \n",
              "16_302.059_0.041   27851.37     48689.27    51742.97      45895.42  \n",
              "                 t1_BS_C.mzML t5_BS_C.mzML t3_BS_3.mzML t2_BS_2.mzML\n",
              "2_284.049_0.069    19328.70    23160.66     65528.32      4663.611  \n",
              "8_281.051_0.104  1559159.10   263653.38    266014.78    238900.690  \n",
              "10_267.035_0.125   81488.60   115550.96    107415.57     82006.620  \n",
              "13_227.022_0.035   20693.07    64607.33     34512.42     27379.434  \n",
              "14_239.095_0.035   95871.80    90154.41     91077.77     41458.566  \n",
              "16_302.059_0.041   32060.05    59807.74     29840.88     69905.130  \n",
              "                 t3_BS_C.mzML t2_BS_1.mzML ⋯ t5_BS_3.mzML t6_BS_2.mzML\n",
              "2_284.049_0.069    22136.30      4262.391  ⋯   21375.27     23021.77  \n",
              "8_281.051_0.104  1652363.80   3636798.200  ⋯ 1716907.50   1725159.00  \n",
              "10_267.035_0.125   12551.38     96853.070  ⋯  122031.09    127510.91  \n",
              "13_227.022_0.035   62945.52     32709.602  ⋯   63844.68     43124.89  \n",
              "14_239.095_0.035   89611.88     89120.625  ⋯   90778.20     89629.49  \n",
              "16_302.059_0.041   75531.13     35575.457  ⋯   72733.80     38676.01  \n",
              "                 t5_BS_1.mzML t6_BS_3.mzML t0_BS_1.mzML t9_BS_1.mzML\n",
              "2_284.049_0.069    18208.166    19423.74     17433.18     25643.275 \n",
              "8_281.051_0.104  1687922.400  1711116.90   1525560.80   1988580.500 \n",
              "10_267.035_0.125    8224.141   123302.27     83531.95    166977.810 \n",
              "13_227.022_0.035   21728.576    28306.74     21987.09     77407.750 \n",
              "14_239.095_0.035   89971.610    69065.44     92206.42      8322.643 \n",
              "16_302.059_0.041   79390.100    34950.79     66040.79     65106.055 \n",
              "                 t5_BS_2.mzML t8_BS_3.mzML t9_BS_3.mzML t9_BS_2.mzML\n",
              "2_284.049_0.069    19439.27     28515.10     27789.33     24276.26  \n",
              "8_281.051_0.104  1680300.80   2050065.20   1969012.20   1937270.80  \n",
              "10_267.035_0.125  117669.37    155001.64    159289.83    155360.70  \n",
              "13_227.022_0.035   52930.57     41270.76     74911.14     40599.87  \n",
              "14_239.095_0.035   89443.13     85359.16     53224.13     98724.91  \n",
              "16_302.059_0.041   23823.50     50425.25     37610.27     85097.12  "
            ]
          },
          "metadata": {}
        },
        {
          "output_type": "display_data",
          "data": {
            "text/html": [
              "<style>\n",
              ".list-inline {list-style: none; margin:0; padding: 0}\n",
              ".list-inline>li {display: inline-block}\n",
              ".list-inline>li:not(:last-child)::after {content: \"\\00b7\"; padding: 0 .5ex}\n",
              "</style>\n",
              "<ol class=list-inline><li>5807</li><li>42</li></ol>\n"
            ],
            "text/markdown": "1. 5807\n2. 42\n\n\n",
            "text/latex": "\\begin{enumerate*}\n\\item 5807\n\\item 42\n\\end{enumerate*}\n",
            "text/plain": [
              "[1] 5807   42"
            ]
          },
          "metadata": {}
        }
      ],
      "source": [
        "head(ft)\n",
        "dim(ft)"
      ]
    },
    {
      "cell_type": "code",
      "execution_count": 17,
      "id": "55093982",
      "metadata": {
        "id": "55093982",
        "colab": {
          "base_uri": "https://localhost:8080/",
          "height": 304
        },
        "outputId": "7e8a8ca5-8a42-4b1f-83a5-08c07168c935"
      },
      "outputs": [
        {
          "output_type": "display_data",
          "data": {
            "text/html": [
              "<table class=\"dataframe\">\n",
              "<caption>A data.frame: 6 × 6</caption>\n",
              "<thead>\n",
              "\t<tr><th></th><th scope=col>ATTRIBUTE_species</th><th scope=col>ATTRIBUTE_SampleType</th><th scope=col>ATTRIBUTE_timepoint</th><th scope=col>ATTRIBUTE_hours</th><th scope=col>ATTRIBUTE_mins</th><th scope=col>ATTRIBUTE_replicates</th></tr>\n",
              "\t<tr><th></th><th scope=col>&lt;chr&gt;</th><th scope=col>&lt;chr&gt;</th><th scope=col>&lt;int&gt;</th><th scope=col>&lt;dbl&gt;</th><th scope=col>&lt;int&gt;</th><th scope=col>&lt;fct&gt;</th></tr>\n",
              "</thead>\n",
              "<tbody>\n",
              "\t<tr><th scope=row>t0_BS_C.mzML</th><td>B.subtilis</td><td>Without_Treatment</td><td>0</td><td>-0.1666667</td><td>-10</td><td>0</td></tr>\n",
              "\t<tr><th scope=row>t0_BS_1.mzML</th><td>B.subtilis</td><td>Without_Treatment</td><td>0</td><td>-0.1666667</td><td>-10</td><td>1</td></tr>\n",
              "\t<tr><th scope=row>t0_BS_2.mzML</th><td>B.subtilis</td><td>Without_Treatment</td><td>0</td><td>-0.1666667</td><td>-10</td><td>2</td></tr>\n",
              "\t<tr><th scope=row>t0_BS_3.mzML</th><td>B.subtilis</td><td>Without_Treatment</td><td>0</td><td>-0.1666667</td><td>-10</td><td>3</td></tr>\n",
              "\t<tr><th scope=row>t1_BS_C.mzML</th><td>B.subtilis</td><td>Without_Treatment</td><td>1</td><td> 0.0000000</td><td>  0</td><td>0</td></tr>\n",
              "\t<tr><th scope=row>t1_BS_1.mzML</th><td>B.subtilis</td><td>With_Treatment   </td><td>1</td><td> 0.0000000</td><td>  0</td><td>1</td></tr>\n",
              "</tbody>\n",
              "</table>\n"
            ],
            "text/markdown": "\nA data.frame: 6 × 6\n\n| <!--/--> | ATTRIBUTE_species &lt;chr&gt; | ATTRIBUTE_SampleType &lt;chr&gt; | ATTRIBUTE_timepoint &lt;int&gt; | ATTRIBUTE_hours &lt;dbl&gt; | ATTRIBUTE_mins &lt;int&gt; | ATTRIBUTE_replicates &lt;fct&gt; |\n|---|---|---|---|---|---|---|\n| t0_BS_C.mzML | B.subtilis | Without_Treatment | 0 | -0.1666667 | -10 | 0 |\n| t0_BS_1.mzML | B.subtilis | Without_Treatment | 0 | -0.1666667 | -10 | 1 |\n| t0_BS_2.mzML | B.subtilis | Without_Treatment | 0 | -0.1666667 | -10 | 2 |\n| t0_BS_3.mzML | B.subtilis | Without_Treatment | 0 | -0.1666667 | -10 | 3 |\n| t1_BS_C.mzML | B.subtilis | Without_Treatment | 1 |  0.0000000 |   0 | 0 |\n| t1_BS_1.mzML | B.subtilis | With_Treatment    | 1 |  0.0000000 |   0 | 1 |\n\n",
            "text/latex": "A data.frame: 6 × 6\n\\begin{tabular}{r|llllll}\n  & ATTRIBUTE\\_species & ATTRIBUTE\\_SampleType & ATTRIBUTE\\_timepoint & ATTRIBUTE\\_hours & ATTRIBUTE\\_mins & ATTRIBUTE\\_replicates\\\\\n  & <chr> & <chr> & <int> & <dbl> & <int> & <fct>\\\\\n\\hline\n\tt0\\_BS\\_C.mzML & B.subtilis & Without\\_Treatment & 0 & -0.1666667 & -10 & 0\\\\\n\tt0\\_BS\\_1.mzML & B.subtilis & Without\\_Treatment & 0 & -0.1666667 & -10 & 1\\\\\n\tt0\\_BS\\_2.mzML & B.subtilis & Without\\_Treatment & 0 & -0.1666667 & -10 & 2\\\\\n\tt0\\_BS\\_3.mzML & B.subtilis & Without\\_Treatment & 0 & -0.1666667 & -10 & 3\\\\\n\tt1\\_BS\\_C.mzML & B.subtilis & Without\\_Treatment & 1 &  0.0000000 &   0 & 0\\\\\n\tt1\\_BS\\_1.mzML & B.subtilis & With\\_Treatment    & 1 &  0.0000000 &   0 & 1\\\\\n\\end{tabular}\n",
            "text/plain": [
              "             ATTRIBUTE_species ATTRIBUTE_SampleType ATTRIBUTE_timepoint\n",
              "t0_BS_C.mzML B.subtilis        Without_Treatment    0                  \n",
              "t0_BS_1.mzML B.subtilis        Without_Treatment    0                  \n",
              "t0_BS_2.mzML B.subtilis        Without_Treatment    0                  \n",
              "t0_BS_3.mzML B.subtilis        Without_Treatment    0                  \n",
              "t1_BS_C.mzML B.subtilis        Without_Treatment    1                  \n",
              "t1_BS_1.mzML B.subtilis        With_Treatment       1                  \n",
              "             ATTRIBUTE_hours ATTRIBUTE_mins ATTRIBUTE_replicates\n",
              "t0_BS_C.mzML -0.1666667      -10            0                   \n",
              "t0_BS_1.mzML -0.1666667      -10            1                   \n",
              "t0_BS_2.mzML -0.1666667      -10            2                   \n",
              "t0_BS_3.mzML -0.1666667      -10            3                   \n",
              "t1_BS_C.mzML  0.0000000        0            0                   \n",
              "t1_BS_1.mzML  0.0000000        0            1                   "
            ]
          },
          "metadata": {}
        },
        {
          "output_type": "display_data",
          "data": {
            "text/html": [
              "<style>\n",
              ".list-inline {list-style: none; margin:0; padding: 0}\n",
              ".list-inline>li {display: inline-block}\n",
              ".list-inline>li:not(:last-child)::after {content: \"\\00b7\"; padding: 0 .5ex}\n",
              "</style>\n",
              "<ol class=list-inline><li>42</li><li>6</li></ol>\n"
            ],
            "text/markdown": "1. 42\n2. 6\n\n\n",
            "text/latex": "\\begin{enumerate*}\n\\item 42\n\\item 6\n\\end{enumerate*}\n",
            "text/plain": [
              "[1] 42  6"
            ]
          },
          "metadata": {}
        }
      ],
      "source": [
        "head(md)\n",
        "dim(md)"
      ]
    },
    {
      "cell_type": "markdown",
      "id": "ea08fc3d",
      "metadata": {
        "id": "ea08fc3d"
      },
      "source": [
        "**About the experiment:**\n",
        "- Bacteria (B.subtilis) was treated with a pool of antibiotics (Sulfamethoxazole, sulfadimethoxine, cyproconazole) including a herbicide Asulam, taken at a concentration lower than their MIC (minimum inhibitory concentration).\n",
        "- The samples were collected at different timepoints, the compounds were extracted (with 50% EtOAc) and measured using LC-MS/MS.\n",
        "- The goal of the experiment was to look for any potential biotransformation. eg: Drug or xenobiotic metabolism"
      ]
    },
    {
      "cell_type": "markdown",
      "id": "fa549984",
      "metadata": {
        "id": "fa549984"
      },
      "source": [
        "## Splitting the data into Control and Samples using Metadata:"
      ]
    },
    {
      "cell_type": "code",
      "execution_count": 18,
      "id": "F7LHJ3dOf1EO",
      "metadata": {
        "id": "F7LHJ3dOf1EO"
      },
      "outputs": [],
      "source": [
        "input_data <- ft"
      ]
    },
    {
      "cell_type": "code",
      "execution_count": 19,
      "id": "f2dc8ca3",
      "metadata": {
        "colab": {
          "base_uri": "https://localhost:8080/",
          "height": 549
        },
        "id": "f2dc8ca3",
        "outputId": "ec0bb032-ee5e-4127-a9a0-2f3c95687cea"
      },
      "outputs": [
        {
          "output_type": "display_data",
          "data": {
            "text/html": [
              "<table class=\"dataframe\">\n",
              "<caption>A data.frame: 6 × 6</caption>\n",
              "<thead>\n",
              "\t<tr><th></th><th scope=col>ATTRIBUTE_species</th><th scope=col>ATTRIBUTE_SampleType</th><th scope=col>ATTRIBUTE_timepoint</th><th scope=col>ATTRIBUTE_hours</th><th scope=col>ATTRIBUTE_mins</th><th scope=col>ATTRIBUTE_replicates</th></tr>\n",
              "\t<tr><th></th><th scope=col>&lt;chr&gt;</th><th scope=col>&lt;chr&gt;</th><th scope=col>&lt;int&gt;</th><th scope=col>&lt;dbl&gt;</th><th scope=col>&lt;int&gt;</th><th scope=col>&lt;fct&gt;</th></tr>\n",
              "</thead>\n",
              "<tbody>\n",
              "\t<tr><th scope=row>t0_BS_C.mzML</th><td>B.subtilis</td><td>Without_Treatment</td><td>0</td><td>-0.1666667</td><td>-10</td><td>0</td></tr>\n",
              "\t<tr><th scope=row>t0_BS_1.mzML</th><td>B.subtilis</td><td>Without_Treatment</td><td>0</td><td>-0.1666667</td><td>-10</td><td>1</td></tr>\n",
              "\t<tr><th scope=row>t0_BS_2.mzML</th><td>B.subtilis</td><td>Without_Treatment</td><td>0</td><td>-0.1666667</td><td>-10</td><td>2</td></tr>\n",
              "\t<tr><th scope=row>t0_BS_3.mzML</th><td>B.subtilis</td><td>Without_Treatment</td><td>0</td><td>-0.1666667</td><td>-10</td><td>3</td></tr>\n",
              "\t<tr><th scope=row>t1_BS_C.mzML</th><td>B.subtilis</td><td>Without_Treatment</td><td>1</td><td> 0.0000000</td><td>  0</td><td>0</td></tr>\n",
              "\t<tr><th scope=row>t1_BS_1.mzML</th><td>B.subtilis</td><td>With_Treatment   </td><td>1</td><td> 0.0000000</td><td>  0</td><td>1</td></tr>\n",
              "</tbody>\n",
              "</table>\n"
            ],
            "text/markdown": "\nA data.frame: 6 × 6\n\n| <!--/--> | ATTRIBUTE_species &lt;chr&gt; | ATTRIBUTE_SampleType &lt;chr&gt; | ATTRIBUTE_timepoint &lt;int&gt; | ATTRIBUTE_hours &lt;dbl&gt; | ATTRIBUTE_mins &lt;int&gt; | ATTRIBUTE_replicates &lt;fct&gt; |\n|---|---|---|---|---|---|---|\n| t0_BS_C.mzML | B.subtilis | Without_Treatment | 0 | -0.1666667 | -10 | 0 |\n| t0_BS_1.mzML | B.subtilis | Without_Treatment | 0 | -0.1666667 | -10 | 1 |\n| t0_BS_2.mzML | B.subtilis | Without_Treatment | 0 | -0.1666667 | -10 | 2 |\n| t0_BS_3.mzML | B.subtilis | Without_Treatment | 0 | -0.1666667 | -10 | 3 |\n| t1_BS_C.mzML | B.subtilis | Without_Treatment | 1 |  0.0000000 |   0 | 0 |\n| t1_BS_1.mzML | B.subtilis | With_Treatment    | 1 |  0.0000000 |   0 | 1 |\n\n",
            "text/latex": "A data.frame: 6 × 6\n\\begin{tabular}{r|llllll}\n  & ATTRIBUTE\\_species & ATTRIBUTE\\_SampleType & ATTRIBUTE\\_timepoint & ATTRIBUTE\\_hours & ATTRIBUTE\\_mins & ATTRIBUTE\\_replicates\\\\\n  & <chr> & <chr> & <int> & <dbl> & <int> & <fct>\\\\\n\\hline\n\tt0\\_BS\\_C.mzML & B.subtilis & Without\\_Treatment & 0 & -0.1666667 & -10 & 0\\\\\n\tt0\\_BS\\_1.mzML & B.subtilis & Without\\_Treatment & 0 & -0.1666667 & -10 & 1\\\\\n\tt0\\_BS\\_2.mzML & B.subtilis & Without\\_Treatment & 0 & -0.1666667 & -10 & 2\\\\\n\tt0\\_BS\\_3.mzML & B.subtilis & Without\\_Treatment & 0 & -0.1666667 & -10 & 3\\\\\n\tt1\\_BS\\_C.mzML & B.subtilis & Without\\_Treatment & 1 &  0.0000000 &   0 & 0\\\\\n\tt1\\_BS\\_1.mzML & B.subtilis & With\\_Treatment    & 1 &  0.0000000 &   0 & 1\\\\\n\\end{tabular}\n",
            "text/plain": [
              "             ATTRIBUTE_species ATTRIBUTE_SampleType ATTRIBUTE_timepoint\n",
              "t0_BS_C.mzML B.subtilis        Without_Treatment    0                  \n",
              "t0_BS_1.mzML B.subtilis        Without_Treatment    0                  \n",
              "t0_BS_2.mzML B.subtilis        Without_Treatment    0                  \n",
              "t0_BS_3.mzML B.subtilis        Without_Treatment    0                  \n",
              "t1_BS_C.mzML B.subtilis        Without_Treatment    1                  \n",
              "t1_BS_1.mzML B.subtilis        With_Treatment       1                  \n",
              "             ATTRIBUTE_hours ATTRIBUTE_mins ATTRIBUTE_replicates\n",
              "t0_BS_C.mzML -0.1666667      -10            0                   \n",
              "t0_BS_1.mzML -0.1666667      -10            1                   \n",
              "t0_BS_2.mzML -0.1666667      -10            2                   \n",
              "t0_BS_3.mzML -0.1666667      -10            3                   \n",
              "t1_BS_C.mzML  0.0000000        0            0                   \n",
              "t1_BS_1.mzML  0.0000000        0            1                   "
            ]
          },
          "metadata": {}
        },
        {
          "name": "stdout",
          "output_type": "stream",
          "text": [
            "     [,1]                  \n",
            "[1,] \"ATTRIBUTE_species\"   \n",
            "[2,] \"ATTRIBUTE_SampleType\"\n",
            "[3,] \"ATTRIBUTE_timepoint\" \n",
            "[4,] \"ATTRIBUTE_hours\"     \n",
            "[5,] \"ATTRIBUTE_mins\"      \n",
            "[6,] \"ATTRIBUTE_replicates\"\n",
            "Enter the index of the attribute to split sample and control:2\n",
            "     [,1]               \n",
            "[1,] \"Blank\"            \n",
            "[2,] \"With_Treatment\"   \n",
            "[3,] \"Without_Treatment\"\n",
            "Enter the index of your BLANK:1\n"
          ]
        },
        {
          "output_type": "display_data",
          "data": {
            "text/html": [
              "'You chosen blank is:Blank'"
            ],
            "text/markdown": "'You chosen blank is:Blank'",
            "text/latex": "'You chosen blank is:Blank'",
            "text/plain": [
              "[1] \"You chosen blank is:Blank\""
            ]
          },
          "metadata": {}
        }
      ],
      "source": [
        "head(md)\n",
        "print(matrix(data=colnames(md),nrow=length(colnames(md))))\n",
        "\n",
        "#These lines are not needed in R console, but in Jupyter Notebook to get the previous print statement working\n",
        "flush.console()  \n",
        "Sys.sleep(0.2)\n",
        "\n",
        "Condition <- as.double(unlist(readline(\"Enter the index of the attribute to split sample and control:\")))\n",
        "\n",
        "flush.console()  \n",
        "Sys.sleep(0.2)\n",
        "\n",
        "Levels_Cdtn <- levels(as.factor(md[,Condition[1]]))\n",
        "print(matrix(Levels_Cdtn,length(Levels_Cdtn)))\n",
        "\n",
        "flush.console()  \n",
        "Sys.sleep(0.2)\n",
        "    \n",
        "#Among the shown levels of an attribute, select the ones to keep\n",
        "Ctrl_id <- as.double(unlist(readline(\"Enter the index of your BLANK:\")))\n",
        "paste0('You chosen blank is:',Levels_Cdtn[Ctrl_id])\n",
        "\n",
        "#Splitting the data into control and samples based on the metadata\n",
        "md_Ctrl <- md[(md[,Condition] == Levels_Cdtn[Ctrl_id]),]\n",
        "Ctrl <- input_data[,which(colnames(input_data)%in%rownames(md_Ctrl))] \n",
        "md_Samples <- md[(md[,Condition] != Levels_Cdtn[Ctrl_id]),]\n",
        "Samples <- input_data[,which(colnames(input_data)%in%rownames(md_Samples))] "
      ]
    },
    {
      "cell_type": "code",
      "execution_count": 20,
      "id": "3c2c31f4",
      "metadata": {
        "colab": {
          "base_uri": "https://localhost:8080/",
          "height": 304
        },
        "id": "3c2c31f4",
        "outputId": "1cbe4631-689a-45f9-b8b0-c5fd4ac0c3d1"
      },
      "outputs": [
        {
          "output_type": "display_data",
          "data": {
            "text/html": [
              "<table class=\"dataframe\">\n",
              "<caption>A data.frame: 6 × 2</caption>\n",
              "<thead>\n",
              "\t<tr><th></th><th scope=col>Blank_B.mzML</th><th scope=col>Blank_A.mzML</th></tr>\n",
              "\t<tr><th></th><th scope=col>&lt;dbl&gt;</th><th scope=col>&lt;dbl&gt;</th></tr>\n",
              "</thead>\n",
              "<tbody>\n",
              "\t<tr><th scope=row>2_284.049_0.069</th><td>  18021.57</td><td>  24335.37</td></tr>\n",
              "\t<tr><th scope=row>8_281.051_0.104</th><td>1402257.60</td><td>1604372.00</td></tr>\n",
              "\t<tr><th scope=row>10_267.035_0.125</th><td>  83519.48</td><td>  90303.77</td></tr>\n",
              "\t<tr><th scope=row>13_227.022_0.035</th><td>  21758.15</td><td>  37453.91</td></tr>\n",
              "\t<tr><th scope=row>14_239.095_0.035</th><td>  94997.12</td><td>  72088.13</td></tr>\n",
              "\t<tr><th scope=row>16_302.059_0.041</th><td>  27851.37</td><td>  45895.42</td></tr>\n",
              "</tbody>\n",
              "</table>\n"
            ],
            "text/markdown": "\nA data.frame: 6 × 2\n\n| <!--/--> | Blank_B.mzML &lt;dbl&gt; | Blank_A.mzML &lt;dbl&gt; |\n|---|---|---|\n| 2_284.049_0.069 |   18021.57 |   24335.37 |\n| 8_281.051_0.104 | 1402257.60 | 1604372.00 |\n| 10_267.035_0.125 |   83519.48 |   90303.77 |\n| 13_227.022_0.035 |   21758.15 |   37453.91 |\n| 14_239.095_0.035 |   94997.12 |   72088.13 |\n| 16_302.059_0.041 |   27851.37 |   45895.42 |\n\n",
            "text/latex": "A data.frame: 6 × 2\n\\begin{tabular}{r|ll}\n  & Blank\\_B.mzML & Blank\\_A.mzML\\\\\n  & <dbl> & <dbl>\\\\\n\\hline\n\t2\\_284.049\\_0.069 &   18021.57 &   24335.37\\\\\n\t8\\_281.051\\_0.104 & 1402257.60 & 1604372.00\\\\\n\t10\\_267.035\\_0.125 &   83519.48 &   90303.77\\\\\n\t13\\_227.022\\_0.035 &   21758.15 &   37453.91\\\\\n\t14\\_239.095\\_0.035 &   94997.12 &   72088.13\\\\\n\t16\\_302.059\\_0.041 &   27851.37 &   45895.42\\\\\n\\end{tabular}\n",
            "text/plain": [
              "                 Blank_B.mzML Blank_A.mzML\n",
              "2_284.049_0.069    18021.57     24335.37  \n",
              "8_281.051_0.104  1402257.60   1604372.00  \n",
              "10_267.035_0.125   83519.48     90303.77  \n",
              "13_227.022_0.035   21758.15     37453.91  \n",
              "14_239.095_0.035   94997.12     72088.13  \n",
              "16_302.059_0.041   27851.37     45895.42  "
            ]
          },
          "metadata": {}
        },
        {
          "output_type": "display_data",
          "data": {
            "text/html": [
              "<style>\n",
              ".list-inline {list-style: none; margin:0; padding: 0}\n",
              ".list-inline>li {display: inline-block}\n",
              ".list-inline>li:not(:last-child)::after {content: \"\\00b7\"; padding: 0 .5ex}\n",
              "</style>\n",
              "<ol class=list-inline><li>5807</li><li>2</li></ol>\n"
            ],
            "text/markdown": "1. 5807\n2. 2\n\n\n",
            "text/latex": "\\begin{enumerate*}\n\\item 5807\n\\item 2\n\\end{enumerate*}\n",
            "text/plain": [
              "[1] 5807    2"
            ]
          },
          "metadata": {}
        }
      ],
      "source": [
        "head(Ctrl)\n",
        "dim(Ctrl)"
      ]
    },
    {
      "cell_type": "code",
      "execution_count": 24,
      "id": "85457a6b",
      "metadata": {
        "colab": {
          "base_uri": "https://localhost:8080/",
          "height": 324
        },
        "id": "85457a6b",
        "outputId": "b4b40df7-146c-4641-bb8d-ba5ba9bb9247"
      },
      "outputs": [
        {
          "output_type": "display_data",
          "data": {
            "text/html": [
              "<table class=\"dataframe\">\n",
              "<caption>A data.frame: 6 × 40</caption>\n",
              "<thead>\n",
              "\t<tr><th></th><th scope=col>t2_BS_C.mzML</th><th scope=col>t0_BS_C.mzML</th><th scope=col>t1_BS_C.mzML</th><th scope=col>t5_BS_C.mzML</th><th scope=col>t3_BS_3.mzML</th><th scope=col>t2_BS_2.mzML</th><th scope=col>t3_BS_C.mzML</th><th scope=col>t2_BS_1.mzML</th><th scope=col>t3_BS_2.mzML</th><th scope=col>t1_BS_1.mzML</th><th scope=col>⋯</th><th scope=col>t5_BS_3.mzML</th><th scope=col>t6_BS_2.mzML</th><th scope=col>t5_BS_1.mzML</th><th scope=col>t6_BS_3.mzML</th><th scope=col>t0_BS_1.mzML</th><th scope=col>t9_BS_1.mzML</th><th scope=col>t5_BS_2.mzML</th><th scope=col>t8_BS_3.mzML</th><th scope=col>t9_BS_3.mzML</th><th scope=col>t9_BS_2.mzML</th></tr>\n",
              "\t<tr><th></th><th scope=col>&lt;dbl&gt;</th><th scope=col>&lt;dbl&gt;</th><th scope=col>&lt;dbl&gt;</th><th scope=col>&lt;dbl&gt;</th><th scope=col>&lt;dbl&gt;</th><th scope=col>&lt;dbl&gt;</th><th scope=col>&lt;dbl&gt;</th><th scope=col>&lt;dbl&gt;</th><th scope=col>&lt;dbl&gt;</th><th scope=col>&lt;dbl&gt;</th><th scope=col>⋯</th><th scope=col>&lt;dbl&gt;</th><th scope=col>&lt;dbl&gt;</th><th scope=col>&lt;dbl&gt;</th><th scope=col>&lt;dbl&gt;</th><th scope=col>&lt;dbl&gt;</th><th scope=col>&lt;dbl&gt;</th><th scope=col>&lt;dbl&gt;</th><th scope=col>&lt;dbl&gt;</th><th scope=col>&lt;dbl&gt;</th><th scope=col>&lt;dbl&gt;</th></tr>\n",
              "</thead>\n",
              "<tbody>\n",
              "\t<tr><th scope=row>2_284.049_0.069</th><td>  16982.87</td><td> 20755.18</td><td>  19328.70</td><td> 23160.66</td><td> 65528.32</td><td>  4663.611</td><td>  22136.30</td><td>   4262.391</td><td>   4854.831</td><td>  20930.33</td><td>⋯</td><td>  21375.27</td><td>  23021.77</td><td>  18208.166</td><td>  19423.74</td><td>  17433.18</td><td>  25643.275</td><td>  19439.27</td><td>  28515.10</td><td>  27789.33</td><td>  24276.26</td></tr>\n",
              "\t<tr><th scope=row>8_281.051_0.104</th><td>1537228.20</td><td>228957.92</td><td>1559159.10</td><td>263653.38</td><td>266014.78</td><td>238900.690</td><td>1652363.80</td><td>3636798.200</td><td>1617942.000</td><td>1455835.20</td><td>⋯</td><td>1716907.50</td><td>1725159.00</td><td>1687922.400</td><td>1711116.90</td><td>1525560.80</td><td>1988580.500</td><td>1680300.80</td><td>2050065.20</td><td>1969012.20</td><td>1937270.80</td></tr>\n",
              "\t<tr><th scope=row>10_267.035_0.125</th><td>  96762.88</td><td> 84678.31</td><td>  81488.60</td><td>115550.96</td><td>107415.57</td><td> 82006.620</td><td>  12551.38</td><td>  96853.070</td><td> 103621.760</td><td>  86706.23</td><td>⋯</td><td> 122031.09</td><td> 127510.91</td><td>   8224.141</td><td> 123302.27</td><td>  83531.95</td><td> 166977.810</td><td> 117669.37</td><td> 155001.64</td><td> 159289.83</td><td> 155360.70</td></tr>\n",
              "\t<tr><th scope=row>13_227.022_0.035</th><td>  26107.27</td><td> 29125.81</td><td>  20693.07</td><td> 64607.33</td><td> 34512.42</td><td> 27379.434</td><td>  62945.52</td><td>  32709.602</td><td>  20306.172</td><td>  18615.79</td><td>⋯</td><td>  63844.68</td><td>  43124.89</td><td>  21728.576</td><td>  28306.74</td><td>  21987.09</td><td>  77407.750</td><td>  52930.57</td><td>  41270.76</td><td>  74911.14</td><td>  40599.87</td></tr>\n",
              "\t<tr><th scope=row>14_239.095_0.035</th><td>  53176.10</td><td>100849.48</td><td>  95871.80</td><td> 90154.41</td><td> 91077.77</td><td> 41458.566</td><td>  89611.88</td><td>  89120.625</td><td>  90527.450</td><td>  43122.74</td><td>⋯</td><td>  90778.20</td><td>  89629.49</td><td>  89971.610</td><td>  69065.44</td><td>  92206.42</td><td>   8322.643</td><td>  89443.13</td><td>  85359.16</td><td>  53224.13</td><td>  98724.91</td></tr>\n",
              "\t<tr><th scope=row>16_302.059_0.041</th><td>  48689.27</td><td> 51742.97</td><td>  32060.05</td><td> 59807.74</td><td> 29840.88</td><td> 69905.130</td><td>  75531.13</td><td>  35575.457</td><td>  75338.790</td><td>  60733.66</td><td>⋯</td><td>  72733.80</td><td>  38676.01</td><td>  79390.100</td><td>  34950.79</td><td>  66040.79</td><td>  65106.055</td><td>  23823.50</td><td>  50425.25</td><td>  37610.27</td><td>  85097.12</td></tr>\n",
              "</tbody>\n",
              "</table>\n"
            ],
            "text/markdown": "\nA data.frame: 6 × 40\n\n| <!--/--> | t2_BS_C.mzML &lt;dbl&gt; | t0_BS_C.mzML &lt;dbl&gt; | t1_BS_C.mzML &lt;dbl&gt; | t5_BS_C.mzML &lt;dbl&gt; | t3_BS_3.mzML &lt;dbl&gt; | t2_BS_2.mzML &lt;dbl&gt; | t3_BS_C.mzML &lt;dbl&gt; | t2_BS_1.mzML &lt;dbl&gt; | t3_BS_2.mzML &lt;dbl&gt; | t1_BS_1.mzML &lt;dbl&gt; | ⋯ ⋯ | t5_BS_3.mzML &lt;dbl&gt; | t6_BS_2.mzML &lt;dbl&gt; | t5_BS_1.mzML &lt;dbl&gt; | t6_BS_3.mzML &lt;dbl&gt; | t0_BS_1.mzML &lt;dbl&gt; | t9_BS_1.mzML &lt;dbl&gt; | t5_BS_2.mzML &lt;dbl&gt; | t8_BS_3.mzML &lt;dbl&gt; | t9_BS_3.mzML &lt;dbl&gt; | t9_BS_2.mzML &lt;dbl&gt; |\n|---|---|---|---|---|---|---|---|---|---|---|---|---|---|---|---|---|---|---|---|---|---|\n| 2_284.049_0.069 |   16982.87 |  20755.18 |   19328.70 |  23160.66 |  65528.32 |   4663.611 |   22136.30 |    4262.391 |    4854.831 |   20930.33 | ⋯ |   21375.27 |   23021.77 |   18208.166 |   19423.74 |   17433.18 |   25643.275 |   19439.27 |   28515.10 |   27789.33 |   24276.26 |\n| 8_281.051_0.104 | 1537228.20 | 228957.92 | 1559159.10 | 263653.38 | 266014.78 | 238900.690 | 1652363.80 | 3636798.200 | 1617942.000 | 1455835.20 | ⋯ | 1716907.50 | 1725159.00 | 1687922.400 | 1711116.90 | 1525560.80 | 1988580.500 | 1680300.80 | 2050065.20 | 1969012.20 | 1937270.80 |\n| 10_267.035_0.125 |   96762.88 |  84678.31 |   81488.60 | 115550.96 | 107415.57 |  82006.620 |   12551.38 |   96853.070 |  103621.760 |   86706.23 | ⋯ |  122031.09 |  127510.91 |    8224.141 |  123302.27 |   83531.95 |  166977.810 |  117669.37 |  155001.64 |  159289.83 |  155360.70 |\n| 13_227.022_0.035 |   26107.27 |  29125.81 |   20693.07 |  64607.33 |  34512.42 |  27379.434 |   62945.52 |   32709.602 |   20306.172 |   18615.79 | ⋯ |   63844.68 |   43124.89 |   21728.576 |   28306.74 |   21987.09 |   77407.750 |   52930.57 |   41270.76 |   74911.14 |   40599.87 |\n| 14_239.095_0.035 |   53176.10 | 100849.48 |   95871.80 |  90154.41 |  91077.77 |  41458.566 |   89611.88 |   89120.625 |   90527.450 |   43122.74 | ⋯ |   90778.20 |   89629.49 |   89971.610 |   69065.44 |   92206.42 |    8322.643 |   89443.13 |   85359.16 |   53224.13 |   98724.91 |\n| 16_302.059_0.041 |   48689.27 |  51742.97 |   32060.05 |  59807.74 |  29840.88 |  69905.130 |   75531.13 |   35575.457 |   75338.790 |   60733.66 | ⋯ |   72733.80 |   38676.01 |   79390.100 |   34950.79 |   66040.79 |   65106.055 |   23823.50 |   50425.25 |   37610.27 |   85097.12 |\n\n",
            "text/latex": "A data.frame: 6 × 40\n\\begin{tabular}{r|lllllllllllllllllllll}\n  & t2\\_BS\\_C.mzML & t0\\_BS\\_C.mzML & t1\\_BS\\_C.mzML & t5\\_BS\\_C.mzML & t3\\_BS\\_3.mzML & t2\\_BS\\_2.mzML & t3\\_BS\\_C.mzML & t2\\_BS\\_1.mzML & t3\\_BS\\_2.mzML & t1\\_BS\\_1.mzML & ⋯ & t5\\_BS\\_3.mzML & t6\\_BS\\_2.mzML & t5\\_BS\\_1.mzML & t6\\_BS\\_3.mzML & t0\\_BS\\_1.mzML & t9\\_BS\\_1.mzML & t5\\_BS\\_2.mzML & t8\\_BS\\_3.mzML & t9\\_BS\\_3.mzML & t9\\_BS\\_2.mzML\\\\\n  & <dbl> & <dbl> & <dbl> & <dbl> & <dbl> & <dbl> & <dbl> & <dbl> & <dbl> & <dbl> & ⋯ & <dbl> & <dbl> & <dbl> & <dbl> & <dbl> & <dbl> & <dbl> & <dbl> & <dbl> & <dbl>\\\\\n\\hline\n\t2\\_284.049\\_0.069 &   16982.87 &  20755.18 &   19328.70 &  23160.66 &  65528.32 &   4663.611 &   22136.30 &    4262.391 &    4854.831 &   20930.33 & ⋯ &   21375.27 &   23021.77 &   18208.166 &   19423.74 &   17433.18 &   25643.275 &   19439.27 &   28515.10 &   27789.33 &   24276.26\\\\\n\t8\\_281.051\\_0.104 & 1537228.20 & 228957.92 & 1559159.10 & 263653.38 & 266014.78 & 238900.690 & 1652363.80 & 3636798.200 & 1617942.000 & 1455835.20 & ⋯ & 1716907.50 & 1725159.00 & 1687922.400 & 1711116.90 & 1525560.80 & 1988580.500 & 1680300.80 & 2050065.20 & 1969012.20 & 1937270.80\\\\\n\t10\\_267.035\\_0.125 &   96762.88 &  84678.31 &   81488.60 & 115550.96 & 107415.57 &  82006.620 &   12551.38 &   96853.070 &  103621.760 &   86706.23 & ⋯ &  122031.09 &  127510.91 &    8224.141 &  123302.27 &   83531.95 &  166977.810 &  117669.37 &  155001.64 &  159289.83 &  155360.70\\\\\n\t13\\_227.022\\_0.035 &   26107.27 &  29125.81 &   20693.07 &  64607.33 &  34512.42 &  27379.434 &   62945.52 &   32709.602 &   20306.172 &   18615.79 & ⋯ &   63844.68 &   43124.89 &   21728.576 &   28306.74 &   21987.09 &   77407.750 &   52930.57 &   41270.76 &   74911.14 &   40599.87\\\\\n\t14\\_239.095\\_0.035 &   53176.10 & 100849.48 &   95871.80 &  90154.41 &  91077.77 &  41458.566 &   89611.88 &   89120.625 &   90527.450 &   43122.74 & ⋯ &   90778.20 &   89629.49 &   89971.610 &   69065.44 &   92206.42 &    8322.643 &   89443.13 &   85359.16 &   53224.13 &   98724.91\\\\\n\t16\\_302.059\\_0.041 &   48689.27 &  51742.97 &   32060.05 &  59807.74 &  29840.88 &  69905.130 &   75531.13 &   35575.457 &   75338.790 &   60733.66 & ⋯ &   72733.80 &   38676.01 &   79390.100 &   34950.79 &   66040.79 &   65106.055 &   23823.50 &   50425.25 &   37610.27 &   85097.12\\\\\n\\end{tabular}\n",
            "text/plain": [
              "                 t2_BS_C.mzML t0_BS_C.mzML t1_BS_C.mzML t5_BS_C.mzML\n",
              "2_284.049_0.069    16982.87    20755.18      19328.70    23160.66   \n",
              "8_281.051_0.104  1537228.20   228957.92    1559159.10   263653.38   \n",
              "10_267.035_0.125   96762.88    84678.31      81488.60   115550.96   \n",
              "13_227.022_0.035   26107.27    29125.81      20693.07    64607.33   \n",
              "14_239.095_0.035   53176.10   100849.48      95871.80    90154.41   \n",
              "16_302.059_0.041   48689.27    51742.97      32060.05    59807.74   \n",
              "                 t3_BS_3.mzML t2_BS_2.mzML t3_BS_C.mzML t2_BS_1.mzML\n",
              "2_284.049_0.069   65528.32      4663.611     22136.30      4262.391 \n",
              "8_281.051_0.104  266014.78    238900.690   1652363.80   3636798.200 \n",
              "10_267.035_0.125 107415.57     82006.620     12551.38     96853.070 \n",
              "13_227.022_0.035  34512.42     27379.434     62945.52     32709.602 \n",
              "14_239.095_0.035  91077.77     41458.566     89611.88     89120.625 \n",
              "16_302.059_0.041  29840.88     69905.130     75531.13     35575.457 \n",
              "                 t3_BS_2.mzML t1_BS_1.mzML ⋯ t5_BS_3.mzML t6_BS_2.mzML\n",
              "2_284.049_0.069     4854.831    20930.33   ⋯   21375.27     23021.77  \n",
              "8_281.051_0.104  1617942.000  1455835.20   ⋯ 1716907.50   1725159.00  \n",
              "10_267.035_0.125  103621.760    86706.23   ⋯  122031.09    127510.91  \n",
              "13_227.022_0.035   20306.172    18615.79   ⋯   63844.68     43124.89  \n",
              "14_239.095_0.035   90527.450    43122.74   ⋯   90778.20     89629.49  \n",
              "16_302.059_0.041   75338.790    60733.66   ⋯   72733.80     38676.01  \n",
              "                 t5_BS_1.mzML t6_BS_3.mzML t0_BS_1.mzML t9_BS_1.mzML\n",
              "2_284.049_0.069    18208.166    19423.74     17433.18     25643.275 \n",
              "8_281.051_0.104  1687922.400  1711116.90   1525560.80   1988580.500 \n",
              "10_267.035_0.125    8224.141   123302.27     83531.95    166977.810 \n",
              "13_227.022_0.035   21728.576    28306.74     21987.09     77407.750 \n",
              "14_239.095_0.035   89971.610    69065.44     92206.42      8322.643 \n",
              "16_302.059_0.041   79390.100    34950.79     66040.79     65106.055 \n",
              "                 t5_BS_2.mzML t8_BS_3.mzML t9_BS_3.mzML t9_BS_2.mzML\n",
              "2_284.049_0.069    19439.27     28515.10     27789.33     24276.26  \n",
              "8_281.051_0.104  1680300.80   2050065.20   1969012.20   1937270.80  \n",
              "10_267.035_0.125  117669.37    155001.64    159289.83    155360.70  \n",
              "13_227.022_0.035   52930.57     41270.76     74911.14     40599.87  \n",
              "14_239.095_0.035   89443.13     85359.16     53224.13     98724.91  \n",
              "16_302.059_0.041   23823.50     50425.25     37610.27     85097.12  "
            ]
          },
          "metadata": {}
        },
        {
          "output_type": "display_data",
          "data": {
            "text/html": [
              "<style>\n",
              ".list-inline {list-style: none; margin:0; padding: 0}\n",
              ".list-inline>li {display: inline-block}\n",
              ".list-inline>li:not(:last-child)::after {content: \"\\00b7\"; padding: 0 .5ex}\n",
              "</style>\n",
              "<ol class=list-inline><li>5807</li><li>40</li></ol>\n"
            ],
            "text/markdown": "1. 5807\n2. 40\n\n\n",
            "text/latex": "\\begin{enumerate*}\n\\item 5807\n\\item 40\n\\end{enumerate*}\n",
            "text/plain": [
              "[1] 5807   40"
            ]
          },
          "metadata": {}
        }
      ],
      "source": [
        "head(Samples)\n",
        "dim(Samples)"
      ]
    },
    {
      "cell_type": "markdown",
      "id": "96275453",
      "metadata": {
        "id": "96275453"
      },
      "source": [
        "### Creating a function named FrequencyPlot:  \n",
        "The below function takes in the two input datatables: for example, gapfilled and non-gapfilled, calculates the frequency distribution of the data in the order of 10 and produces a grouped barplot showing the distribution as output. The frequency plot shows where the features are present in higher number."
      ]
    },
    {
      "cell_type": "code",
      "execution_count": 26,
      "id": "e6d2b3b4",
      "metadata": {
        "id": "e6d2b3b4"
      },
      "outputs": [],
      "source": [
        "#'Global' settings for plot size in the output cell\n",
        "options(repr.plot.width=10, repr.plot.height=8,res=600) #For google collab\n",
        "#options(repr.plot.width=5, repr.plot.height=3) #For Jupyter Notebook"
      ]
    },
    {
      "cell_type": "code",
      "execution_count": 27,
      "id": "4755a764",
      "metadata": {
        "id": "4755a764"
      },
      "outputs": [],
      "source": [
        "FrequencyPlot <- function(x1,x2){\n",
        "  \n",
        "   #creating bins from -1 to 10^10 using sequence function seq()\n",
        "    bins <- c(-1,0,(1 * 10^(seq(0,10,1)))) \n",
        "    \n",
        "    #cut function cuts the give table into its appropriate bins\n",
        "    scores_x1 <- cut(as.matrix(x1),bins,labels = c('0','1','10','1E2','1E3','1E4','1E5','1E6','1E7','1E8','1E9','1E10')) \n",
        "    \n",
        "    #transform function convert the tables into a column format: easy for visualization \n",
        "    Table_x1<-transform(table(scores_x1)) #contains 2 columns: \"scores_x1\", \"Freq\"\n",
        "    \n",
        "    #Repeating the same steps for x2\n",
        "    scores_x2 <- cut(as.matrix(x2),bins,labels = c('0','1','10','1E2','1E3','1E4','1E5','1E6','1E7','1E8','1E9','1E10'))\n",
        "    Table_x2<-transform(table(scores_x2))\n",
        "  \n",
        "    #Getting the names of x1 and x2\n",
        "    arg1 <- deparse(substitute(x1))\n",
        "    arg2 <-deparse(substitute(x2))\n",
        "    \n",
        "    #Creating a data frame for plotting\n",
        "    data_plot <- as.data.frame(c(Table_x1$Freq,Table_x2$Freq)) #Concatenating the frequency info of both tables rowwise\n",
        "    colnames(data_plot) <- \"Freq\" #naming the 1st column as 'Freq'\n",
        "    data_plot$Condition <- c(rep(arg1,12),rep(arg2,12)) #adding a 2nd column 'Condition', which just repeats the name of x1 and x2 accordingly\n",
        "    data_plot$Range_bins <- rep(Table_x1$scores_x1,2) #Adding 3rd column 'Range Bins'\n",
        "    data_plot$Log_Freq <- log(data_plot$Freq+1) #Log scaling the frequency values\n",
        "    \n",
        "    ## GGPLOT2\n",
        "    BarPlot <- ggplot(data_plot, aes(Range_bins, Log_Freq, fill = Condition)) + \n",
        "    geom_bar(stat=\"identity\", position = \"dodge\", width=0.4) + \n",
        "    scale_fill_brewer(palette = \"Set1\") +\n",
        "    ggtitle(label=\"Frequency plot\") +\n",
        "    xlab(\"Range\") + ylab(\"(Log)Frequency\") + labs(fill = \"Data Type\") + \n",
        "    theme(axis.text.x = element_text(angle = 90, vjust = 0.5, hjust=1)) +   # setting the angle for the x label\n",
        "    theme(axis.text.y = element_text(angle = 45, vjust = 0.5, hjust=1)) +   # setting the angle for the y label\n",
        "    theme(plot.title = element_text(hjust = 0.5)) # centering the plot title\n",
        "  \n",
        "    print(BarPlot)\n",
        "}  "
      ]
    },
    {
      "cell_type": "code",
      "source": [
        "FrequencyPlot(Samples, Ctrl )"
      ],
      "metadata": {
        "id": "j5saIdpkiSMt",
        "outputId": "6b1ef2c3-fcd0-40e6-c4ac-9ebb17e17e71",
        "colab": {
          "base_uri": "https://localhost:8080/",
          "height": 497
        }
      },
      "id": "j5saIdpkiSMt",
      "execution_count": 28,
      "outputs": [
        {
          "output_type": "display_data",
          "data": {
            "text/plain": [
              "plot without title"
            ],
            "image/png": "[encoded data removed]"
          },
          "metadata": {
            "image/png": {
              "width": 600,
              "height": 480
            }
          }
        }
      ]
    },
    {
      "cell_type": "markdown",
      "id": "43099574",
      "metadata": {
        "id": "43099574"
      },
      "source": [
        "## Blank Removal:\n",
        "\n",
        "(Note: In LC-MS/MS, we use solvents also called as Blanks which are usually injected time-to-time to prevent carryover of the sample) </br>\n",
        "\n",
        "For the Blank removal step, we need to split the data as control blanks and samples. </br>\n",
        "\n",
        "**The blanks we are referring to here, is the control blanks in the experiment and not the LC-MS/MS blanks.**\n",
        "- The control blanks here is the sample without treatment. \n",
        "- Samples are biological replicates with treatment and we have two sets of data: B.sub and E.coli. </br>\n",
        "\n",
        "In general, having multiple control blanks helps us to compare any variation in the data. Comparing control to the sample helps us to identify the background features that contribute to any technical variation. A common filtering method is to use a cutoff to remove features that are not present sufficient enough in our biological samples.\n",
        "\n",
        "1. We find an average for all the feature intensities in your control set and sample set.\n",
        "Therefore, for n no.of features in a control or sample set, we get n no.of averaged features.\n",
        "2. Next, we get a ratio of this average_control vs average_sample. This ratio Control/sample tells us how much of that particular feature of a sample gets its contribution from control. If it is more than 30% (or Cutoff as 0.3), we consider the feature as noise.\n",
        "3. The resultant information (if ratio > Cutoff or not) is stored in a bin such as **1 == Noise or background signal, 0 == Feature Signal**\n",
        "4. We count the no.of features in the bin that satisfies the condition ratio > cutoff, and consider those features as 'noise or background features' and remove them.\n",
        "\n",
        "For a dataset containing several batches, the filtering steps are performed batch-wise."
      ]
    },
    {
      "cell_type": "code",
      "execution_count": 29,
      "id": "af1aa72f",
      "metadata": {
        "colab": {
          "base_uri": "https://localhost:8080/"
        },
        "id": "af1aa72f",
        "outputId": "5aec96b9-cee1-46a7-e77d-c14d1c45c0a9"
      },
      "outputs": [
        {
          "output_type": "stream",
          "name": "stdout",
          "text": [
            "Do you want to perform Blank Removal- Y/N:Y\n",
            "Enter Cutoff value between 0.1 & 1:0.3\n",
            "[1] \"No of NA values in the following columns:\"\n",
            "         Avg_ctrl       Avg_samples Ratio_Ctrl_Sample            Bg_bin \n",
            "                0                 0                 0                 0 \n",
            "[1] \"No.of Background or noise features: 1311\"\n",
            "[1] \"No.of features after excluding noise: 4496\"\n"
          ]
        }
      ],
      "source": [
        "if(readline('Do you want to perform Blank Removal- Y/N:')=='Y'){\n",
        "    \n",
        "    #When cutoff is low, more noise (or background) detected; With higher cutoff, less background detected, thus more features observed\n",
        "    Cutoff <- as.numeric(readline('Enter Cutoff value between 0.1 & 1:')) # (i.e. 10% - 100%). Ideal cutoff range: 0.1-0.3\n",
        "    \n",
        "    #Getting mean for every feature in Ctrl and Samples\n",
        "    Avg_ctrl <- rowMeans(Ctrl, na.rm= FALSE, dims = 1) # set na.rm = FALSE to check if there are NA values. When set as TRUE, NA values are changed to 0\n",
        "    Avg_samples <- rowMeans(Samples, na.rm= FALSE, dims = 1)\n",
        "    \n",
        "    #Getting the ratio of Ctrl vs Sample\n",
        "    Ratio_Ctrl_Sample <- (Avg_ctrl+1)/(Avg_samples+1)\n",
        "    \n",
        "    # Creating a bin with 1s when the ratio>Cutoff, else put 0s\n",
        "    Bg_bin <- ifelse(Ratio_Ctrl_Sample > Cutoff, 1, 0 )\n",
        "    Blank_removal <- cbind(Samples,Bg_bin)\n",
        "\n",
        "    # Checking if there are any NA values present. Having NA values in the 4 variables will affect the final dataset to be created\n",
        "    temp_NA_Count <-cbind(Avg_ctrl ,Avg_samples,Ratio_Ctrl_Sample,Bg_bin)\n",
        "    \n",
        "    print('No of NA values in the following columns:')\n",
        "    print(colSums(is.na(temp_NA_Count)))\n",
        "\n",
        "     #Calculating the number of background features and features present\n",
        "    print(paste(\"No.of Background or noise features:\",sum(Bg_bin ==1,na.rm = TRUE)))\n",
        "    print(paste(\"No.of features after excluding noise:\",(nrow(Samples) - sum(Bg_bin ==1,na.rm = TRUE)))) \n",
        "\n",
        "    Blank_removal <- Blank_removal %>% filter(Bg_bin == 0) # Taking only the feature signals\n",
        "    Blank_removal <- as.matrix(Blank_removal[,-ncol(Blank_removal)]) # removing the last column Bg_bin \n",
        "}"
      ]
    },
    {
      "cell_type": "code",
      "execution_count": 30,
      "id": "eh8Gd6QD_Dt3",
      "metadata": {
        "id": "eh8Gd6QD_Dt3",
        "colab": {
          "base_uri": "https://localhost:8080/",
          "height": 34
        },
        "outputId": "3970dc4d-7c38-49ed-e839-3edd1b21f733"
      },
      "outputs": [
        {
          "output_type": "display_data",
          "data": {
            "text/html": [
              "<style>\n",
              ".list-inline {list-style: none; margin:0; padding: 0}\n",
              ".list-inline>li {display: inline-block}\n",
              ".list-inline>li:not(:last-child)::after {content: \"\\00b7\"; padding: 0 .5ex}\n",
              "</style>\n",
              "<ol class=list-inline><li>4496</li><li>40</li></ol>\n"
            ],
            "text/markdown": "1. 4496\n2. 40\n\n\n",
            "text/latex": "\\begin{enumerate*}\n\\item 4496\n\\item 40\n\\end{enumerate*}\n",
            "text/plain": [
              "[1] 4496   40"
            ]
          },
          "metadata": {}
        }
      ],
      "source": [
        "dim(Blank_removal)"
      ]
    },
    {
      "cell_type": "markdown",
      "id": "b4210007",
      "metadata": {
        "id": "b4210007"
      },
      "source": [
        "## Imputation: \n",
        "\n",
        "For several reasons, real world datasets might have some missing values in it, in the form of NA, NANs or 0s. Eventhough the gapfilling step of MZmine fills the missing values, we still end up with some missing values or 0s in our feature table. This could be problematic for statistical analysis. \n",
        "In order to have a better dataset, we cannot simply discard those rows or columns with missing values as we will lose a chunk of our valuable data.\n",
        "Instead we can try imputing those missing values. Imputation involves replacing the missing values in the data with a meaningful, reasonable guess. There are several methods, such as:  \n",
        "1) Mean imputation (replacing the missing values in a column with the mean or average of the column)  \n",
        "2) Replacing it with the most frequent value  \n",
        "3) Several other machine learning imputation methods such as k-nearest neighbors algorithm(k-NN), Hidden Markov Model(HMM)\n",
        "\n",
        "One such method, we are going to use is: **to replace the zeros from the gapfilled quant table with the non-gap filled table** we get from MZmine. In order to do that, we can visualize our data distribution using the frequenct plot"
      ]
    },
    {
      "cell_type": "code",
      "execution_count": 31,
      "id": "9d83ae53",
      "metadata": {
        "id": "9d83ae53"
      },
      "outputs": [],
      "source": [
        "GapFilled <-Blank_removal\n",
        "NotGapFilled <- nft"
      ]
    },
    {
      "cell_type": "code",
      "execution_count": 58,
      "id": "e527abdb",
      "metadata": {
        "colab": {
          "base_uri": "https://localhost:8080/",
          "height": 554
        },
        "id": "e527abdb",
        "outputId": "bc3d52d4-58f9-42cc-ef9d-9e6aedce1a34"
      },
      "outputs": [
        {
          "output_type": "stream",
          "name": "stdout",
          "text": [
            "Do you want to perform Imputation with minimum value of NonGapFilled table? - Y/N:Y\n",
            "[1] \"The minimum value greater than 0 for GapFilled:123\"\n",
            "[1] \"The minimum value greater than 0 for NotGapFilled:3766\"\n"
          ]
        },
        {
          "output_type": "display_data",
          "data": {
            "text/plain": [
              "plot without title"
            ],
            "image/png": "[encoded data removed]"
          },
          "metadata": {
            "image/png": {
              "width": 600,
              "height": 480
            }
          }
        }
      ],
      "source": [
        "if(readline('Do you want to perform Imputation with minimum value of NonGapFilled table? - Y/N:')=='Y'){\n",
        "    \n",
        "    plot<- FrequencyPlot(GapFilled,NotGapFilled)\n",
        "    \n",
        "    Arg1 = plot$data$Condition[1]\n",
        "    Arg2 = plot$data$Condition[13]\n",
        "    \n",
        "    # accessing the datatable of plot and subsetting with the condition: Eliminating the Range (or bin) 0 and Ranges with zero frequencies \n",
        "    plotData_New <- subset(plot$data,plot$data$Freq!=0 & plot$data$Range_bins !=0) \n",
        "    \n",
        "    #getting the first appearing value of this new plot datatable\n",
        "    First_val_temp <- aggregate(plotData_New$Freq, by=list(plotData_New$Condition), FUN=first) \n",
        "    \n",
        "    # Subsetting the rows in the plotData_New that has the first appearing values\n",
        "    First_val <- plotData_New[plotData_New$Freq %in% c(First_val_temp$x[1],First_val_temp$x[2]),]\n",
        "  \n",
        "    # getting the 2nd minimum value of non-gap filled data. (The first minimum value in the data table is usually zero)\n",
        "    RawLOD <- round(min(NotGapFilled[NotGapFilled!=min(NotGapFilled)]))\n",
        "    print(paste0(\"The minimum value greater than 0 for \",Arg1,\":\", round(min(GapFilled[GapFilled!=min(GapFilled)]))))\n",
        "    print(paste0(\"The minimum value greater than 0 for \",Arg2,\":\", RawLOD))\n",
        "    \n",
        "    Imputed <- GapFilled\n",
        "    Imputed[Imputed<RawLOD] <- RawLOD # Replacing values<RawLOD with RawLOD\n",
        "} else return(GapFilled)"
      ]
    },
    {
      "cell_type": "code",
      "source": [
        "getwd()"
      ],
      "metadata": {
        "id": "5vBBybDnkdNf",
        "outputId": "e4bcfa3f-b77d-4be4-c59a-8efa53b59efd",
        "colab": {
          "base_uri": "https://localhost:8080/",
          "height": 34
        }
      },
      "id": "5vBBybDnkdNf",
      "execution_count": 59,
      "outputs": [
        {
          "output_type": "display_data",
          "data": {
            "text/html": [
              "'/content'"
            ],
            "text/markdown": "'/content'",
            "text/latex": "'/content'",
            "text/plain": [
              "[1] \"/content\""
            ]
          },
          "metadata": {}
        }
      ]
    },
    {
      "cell_type": "code",
      "execution_count": 61,
      "id": "2698000e",
      "metadata": {
        "id": "2698000e"
      },
      "outputs": [],
      "source": [
        "write.csv(Imputed, file='data_results/Quant_Table_filled_with_MinValue.csv', row.names =TRUE) "
      ]
    },
    {
      "cell_type": "code",
      "execution_count": 47,
      "id": "a25d5a9c",
      "metadata": {
        "id": "a25d5a9c",
        "colab": {
          "base_uri": "https://localhost:8080/",
          "height": 292
        },
        "outputId": "1923c663-4d72-42f3-e102-c0e19cade61d"
      },
      "outputs": [
        {
          "output_type": "display_data",
          "data": {
            "text/html": [
              "<table class=\"dataframe\">\n",
              "<caption>A matrix: 6 × 40 of type dbl</caption>\n",
              "<thead>\n",
              "\t<tr><th></th><th scope=col>t2_BS_C.mzML</th><th scope=col>t0_BS_C.mzML</th><th scope=col>t1_BS_C.mzML</th><th scope=col>t5_BS_C.mzML</th><th scope=col>t3_BS_3.mzML</th><th scope=col>t2_BS_2.mzML</th><th scope=col>t3_BS_C.mzML</th><th scope=col>t2_BS_1.mzML</th><th scope=col>t3_BS_2.mzML</th><th scope=col>t1_BS_1.mzML</th><th scope=col>⋯</th><th scope=col>t5_BS_3.mzML</th><th scope=col>t6_BS_2.mzML</th><th scope=col>t5_BS_1.mzML</th><th scope=col>t6_BS_3.mzML</th><th scope=col>t0_BS_1.mzML</th><th scope=col>t9_BS_1.mzML</th><th scope=col>t5_BS_2.mzML</th><th scope=col>t8_BS_3.mzML</th><th scope=col>t9_BS_3.mzML</th><th scope=col>t9_BS_2.mzML</th></tr>\n",
              "</thead>\n",
              "<tbody>\n",
              "\t<tr><th scope=row>46_284.049_0.292</th><td>28967.65</td><td>6016.644</td><td>19891.79</td><td>137709.25</td><td> 38654.650</td><td>123643.766</td><td> 48592.70</td><td> 87621.97</td><td> 15638.634</td><td> 43170.520</td><td>⋯</td><td>140709.11</td><td> 57526.60</td><td> 30458.35</td><td>  3766.00</td><td> 35278.086</td><td> 69360.08</td><td> 46725.547</td><td> 69138.67</td><td>  41619.816</td><td> 158943.36</td></tr>\n",
              "\t<tr><th scope=row>95_245.095_0.52</th><td> 3766.00</td><td>3766.000</td><td> 3766.00</td><td> 43263.97</td><td> 68092.710</td><td> 54846.290</td><td> 51597.93</td><td> 40212.03</td><td> 68410.980</td><td> 74559.234</td><td>⋯</td><td> 19731.48</td><td> 63450.43</td><td> 15515.95</td><td> 73982.30</td><td>173294.600</td><td> 34425.60</td><td> 45211.176</td><td> 30443.56</td><td>  34075.530</td><td>  51332.15</td></tr>\n",
              "\t<tr><th scope=row>99_157.097_0.52</th><td> 3766.00</td><td>3766.000</td><td> 3766.00</td><td>  4953.36</td><td>  8625.011</td><td>  4815.979</td><td>  4152.35</td><td>  3766.00</td><td>  7641.581</td><td>  6916.565</td><td>⋯</td><td>  3766.00</td><td> 14335.19</td><td>  3766.00</td><td> 16845.83</td><td>  8836.821</td><td> 15117.90</td><td>  6946.169</td><td> 10768.89</td><td>  14589.145</td><td>  31121.90</td></tr>\n",
              "\t<tr><th scope=row>106_166.103_0.532</th><td> 3766.00</td><td>3766.000</td><td> 3766.00</td><td>  3766.00</td><td>  3766.000</td><td>  3766.000</td><td>  3766.00</td><td>  3766.00</td><td>  3766.000</td><td>  3766.000</td><td>⋯</td><td>  3766.00</td><td>  3766.00</td><td>  3766.00</td><td>  3766.00</td><td>  3766.000</td><td>  3766.00</td><td>  3766.000</td><td>  3766.00</td><td>   7789.463</td><td>  11774.10</td></tr>\n",
              "\t<tr><th scope=row>107_160.076_0.522</th><td> 3766.00</td><td>3766.000</td><td> 3766.00</td><td>354050.30</td><td>427649.620</td><td>312332.620</td><td>313545.00</td><td>209269.45</td><td>593663.900</td><td>401620.970</td><td>⋯</td><td>242058.36</td><td>954094.75</td><td>213120.95</td><td>814353.56</td><td>404429.660</td><td>931383.94</td><td>427234.220</td><td>666837.30</td><td>1050392.200</td><td>1309049.90</td></tr>\n",
              "\t<tr><th scope=row>111_169.097_0.525</th><td> 3766.00</td><td>4054.369</td><td> 3766.00</td><td>637458.60</td><td>706535.700</td><td>609720.940</td><td>615655.20</td><td>468750.70</td><td>706034.300</td><td>665166.500</td><td>⋯</td><td>436133.40</td><td>893395.44</td><td>378563.44</td><td>886614.50</td><td>800889.440</td><td>890976.94</td><td>687120.800</td><td>804205.44</td><td> 986138.440</td><td>1347099.20</td></tr>\n",
              "</tbody>\n",
              "</table>\n"
            ],
            "text/markdown": "\nA matrix: 6 × 40 of type dbl\n\n| <!--/--> | t2_BS_C.mzML | t0_BS_C.mzML | t1_BS_C.mzML | t5_BS_C.mzML | t3_BS_3.mzML | t2_BS_2.mzML | t3_BS_C.mzML | t2_BS_1.mzML | t3_BS_2.mzML | t1_BS_1.mzML | ⋯ | t5_BS_3.mzML | t6_BS_2.mzML | t5_BS_1.mzML | t6_BS_3.mzML | t0_BS_1.mzML | t9_BS_1.mzML | t5_BS_2.mzML | t8_BS_3.mzML | t9_BS_3.mzML | t9_BS_2.mzML |\n|---|---|---|---|---|---|---|---|---|---|---|---|---|---|---|---|---|---|---|---|---|---|\n| 46_284.049_0.292 | 28967.65 | 6016.644 | 19891.79 | 137709.25 |  38654.650 | 123643.766 |  48592.70 |  87621.97 |  15638.634 |  43170.520 | ⋯ | 140709.11 |  57526.60 |  30458.35 |   3766.00 |  35278.086 |  69360.08 |  46725.547 |  69138.67 |   41619.816 |  158943.36 |\n| 95_245.095_0.52 |  3766.00 | 3766.000 |  3766.00 |  43263.97 |  68092.710 |  54846.290 |  51597.93 |  40212.03 |  68410.980 |  74559.234 | ⋯ |  19731.48 |  63450.43 |  15515.95 |  73982.30 | 173294.600 |  34425.60 |  45211.176 |  30443.56 |   34075.530 |   51332.15 |\n| 99_157.097_0.52 |  3766.00 | 3766.000 |  3766.00 |   4953.36 |   8625.011 |   4815.979 |   4152.35 |   3766.00 |   7641.581 |   6916.565 | ⋯ |   3766.00 |  14335.19 |   3766.00 |  16845.83 |   8836.821 |  15117.90 |   6946.169 |  10768.89 |   14589.145 |   31121.90 |\n| 106_166.103_0.532 |  3766.00 | 3766.000 |  3766.00 |   3766.00 |   3766.000 |   3766.000 |   3766.00 |   3766.00 |   3766.000 |   3766.000 | ⋯ |   3766.00 |   3766.00 |   3766.00 |   3766.00 |   3766.000 |   3766.00 |   3766.000 |   3766.00 |    7789.463 |   11774.10 |\n| 107_160.076_0.522 |  3766.00 | 3766.000 |  3766.00 | 354050.30 | 427649.620 | 312332.620 | 313545.00 | 209269.45 | 593663.900 | 401620.970 | ⋯ | 242058.36 | 954094.75 | 213120.95 | 814353.56 | 404429.660 | 931383.94 | 427234.220 | 666837.30 | 1050392.200 | 1309049.90 |\n| 111_169.097_0.525 |  3766.00 | 4054.369 |  3766.00 | 637458.60 | 706535.700 | 609720.940 | 615655.20 | 468750.70 | 706034.300 | 665166.500 | ⋯ | 436133.40 | 893395.44 | 378563.44 | 886614.50 | 800889.440 | 890976.94 | 687120.800 | 804205.44 |  986138.440 | 1347099.20 |\n\n",
            "text/latex": "A matrix: 6 × 40 of type dbl\n\\begin{tabular}{r|lllllllllllllllllllll}\n  & t2\\_BS\\_C.mzML & t0\\_BS\\_C.mzML & t1\\_BS\\_C.mzML & t5\\_BS\\_C.mzML & t3\\_BS\\_3.mzML & t2\\_BS\\_2.mzML & t3\\_BS\\_C.mzML & t2\\_BS\\_1.mzML & t3\\_BS\\_2.mzML & t1\\_BS\\_1.mzML & ⋯ & t5\\_BS\\_3.mzML & t6\\_BS\\_2.mzML & t5\\_BS\\_1.mzML & t6\\_BS\\_3.mzML & t0\\_BS\\_1.mzML & t9\\_BS\\_1.mzML & t5\\_BS\\_2.mzML & t8\\_BS\\_3.mzML & t9\\_BS\\_3.mzML & t9\\_BS\\_2.mzML\\\\\n\\hline\n\t46\\_284.049\\_0.292 & 28967.65 & 6016.644 & 19891.79 & 137709.25 &  38654.650 & 123643.766 &  48592.70 &  87621.97 &  15638.634 &  43170.520 & ⋯ & 140709.11 &  57526.60 &  30458.35 &   3766.00 &  35278.086 &  69360.08 &  46725.547 &  69138.67 &   41619.816 &  158943.36\\\\\n\t95\\_245.095\\_0.52 &  3766.00 & 3766.000 &  3766.00 &  43263.97 &  68092.710 &  54846.290 &  51597.93 &  40212.03 &  68410.980 &  74559.234 & ⋯ &  19731.48 &  63450.43 &  15515.95 &  73982.30 & 173294.600 &  34425.60 &  45211.176 &  30443.56 &   34075.530 &   51332.15\\\\\n\t99\\_157.097\\_0.52 &  3766.00 & 3766.000 &  3766.00 &   4953.36 &   8625.011 &   4815.979 &   4152.35 &   3766.00 &   7641.581 &   6916.565 & ⋯ &   3766.00 &  14335.19 &   3766.00 &  16845.83 &   8836.821 &  15117.90 &   6946.169 &  10768.89 &   14589.145 &   31121.90\\\\\n\t106\\_166.103\\_0.532 &  3766.00 & 3766.000 &  3766.00 &   3766.00 &   3766.000 &   3766.000 &   3766.00 &   3766.00 &   3766.000 &   3766.000 & ⋯ &   3766.00 &   3766.00 &   3766.00 &   3766.00 &   3766.000 &   3766.00 &   3766.000 &   3766.00 &    7789.463 &   11774.10\\\\\n\t107\\_160.076\\_0.522 &  3766.00 & 3766.000 &  3766.00 & 354050.30 & 427649.620 & 312332.620 & 313545.00 & 209269.45 & 593663.900 & 401620.970 & ⋯ & 242058.36 & 954094.75 & 213120.95 & 814353.56 & 404429.660 & 931383.94 & 427234.220 & 666837.30 & 1050392.200 & 1309049.90\\\\\n\t111\\_169.097\\_0.525 &  3766.00 & 4054.369 &  3766.00 & 637458.60 & 706535.700 & 609720.940 & 615655.20 & 468750.70 & 706034.300 & 665166.500 & ⋯ & 436133.40 & 893395.44 & 378563.44 & 886614.50 & 800889.440 & 890976.94 & 687120.800 & 804205.44 &  986138.440 & 1347099.20\\\\\n\\end{tabular}\n",
            "text/plain": [
              "                  t2_BS_C.mzML t0_BS_C.mzML t1_BS_C.mzML t5_BS_C.mzML\n",
              "46_284.049_0.292  28967.65     6016.644     19891.79     137709.25   \n",
              "95_245.095_0.52    3766.00     3766.000      3766.00      43263.97   \n",
              "99_157.097_0.52    3766.00     3766.000      3766.00       4953.36   \n",
              "106_166.103_0.532  3766.00     3766.000      3766.00       3766.00   \n",
              "107_160.076_0.522  3766.00     3766.000      3766.00     354050.30   \n",
              "111_169.097_0.525  3766.00     4054.369      3766.00     637458.60   \n",
              "                  t3_BS_3.mzML t2_BS_2.mzML t3_BS_C.mzML t2_BS_1.mzML\n",
              "46_284.049_0.292   38654.650   123643.766    48592.70     87621.97   \n",
              "95_245.095_0.52    68092.710    54846.290    51597.93     40212.03   \n",
              "99_157.097_0.52     8625.011     4815.979     4152.35      3766.00   \n",
              "106_166.103_0.532   3766.000     3766.000     3766.00      3766.00   \n",
              "107_160.076_0.522 427649.620   312332.620   313545.00    209269.45   \n",
              "111_169.097_0.525 706535.700   609720.940   615655.20    468750.70   \n",
              "                  t3_BS_2.mzML t1_BS_1.mzML ⋯ t5_BS_3.mzML t6_BS_2.mzML\n",
              "46_284.049_0.292   15638.634    43170.520   ⋯ 140709.11     57526.60   \n",
              "95_245.095_0.52    68410.980    74559.234   ⋯  19731.48     63450.43   \n",
              "99_157.097_0.52     7641.581     6916.565   ⋯   3766.00     14335.19   \n",
              "106_166.103_0.532   3766.000     3766.000   ⋯   3766.00      3766.00   \n",
              "107_160.076_0.522 593663.900   401620.970   ⋯ 242058.36    954094.75   \n",
              "111_169.097_0.525 706034.300   665166.500   ⋯ 436133.40    893395.44   \n",
              "                  t5_BS_1.mzML t6_BS_3.mzML t0_BS_1.mzML t9_BS_1.mzML\n",
              "46_284.049_0.292   30458.35      3766.00     35278.086    69360.08   \n",
              "95_245.095_0.52    15515.95     73982.30    173294.600    34425.60   \n",
              "99_157.097_0.52     3766.00     16845.83      8836.821    15117.90   \n",
              "106_166.103_0.532   3766.00      3766.00      3766.000     3766.00   \n",
              "107_160.076_0.522 213120.95    814353.56    404429.660   931383.94   \n",
              "111_169.097_0.525 378563.44    886614.50    800889.440   890976.94   \n",
              "                  t5_BS_2.mzML t8_BS_3.mzML t9_BS_3.mzML t9_BS_2.mzML\n",
              "46_284.049_0.292   46725.547    69138.67      41619.816   158943.36  \n",
              "95_245.095_0.52    45211.176    30443.56      34075.530    51332.15  \n",
              "99_157.097_0.52     6946.169    10768.89      14589.145    31121.90  \n",
              "106_166.103_0.532   3766.000     3766.00       7789.463    11774.10  \n",
              "107_160.076_0.522 427234.220   666837.30    1050392.200  1309049.90  \n",
              "111_169.097_0.525 687120.800   804205.44     986138.440  1347099.20  "
            ]
          },
          "metadata": {}
        },
        {
          "output_type": "display_data",
          "data": {
            "text/html": [
              "<style>\n",
              ".list-inline {list-style: none; margin:0; padding: 0}\n",
              ".list-inline>li {display: inline-block}\n",
              ".list-inline>li:not(:last-child)::after {content: \"\\00b7\"; padding: 0 .5ex}\n",
              "</style>\n",
              "<ol class=list-inline><li>4496</li><li>40</li></ol>\n"
            ],
            "text/markdown": "1. 4496\n2. 40\n\n\n",
            "text/latex": "\\begin{enumerate*}\n\\item 4496\n\\item 40\n\\end{enumerate*}\n",
            "text/plain": [
              "[1] 4496   40"
            ]
          },
          "metadata": {}
        }
      ],
      "source": [
        "head(Imputed)\n",
        "dim(Imputed)"
      ]
    },
    {
      "cell_type": "markdown",
      "id": "f06a2dd7",
      "metadata": {
        "id": "f06a2dd7"
      },
      "source": [
        "## Normalization:\n",
        "The following code performs sample-centric (column-wise) normalisation:"
      ]
    },
    {
      "cell_type": "code",
      "execution_count": 96,
      "id": "3a008a7a",
      "metadata": {
        "id": "3a008a7a",
        "outputId": "c00f0880-0bfe-4457-c657-cfe24209ba36",
        "colab": {
          "base_uri": "https://localhost:8080/"
        }
      },
      "outputs": [
        {
          "output_type": "stream",
          "name": "stdout",
          "text": [
            "Do you want to perform Normalization: Y/N:Y\n",
            "[1] \"No.of NA values in Normalized data: 0\"\n"
          ]
        }
      ],
      "source": [
        "if (readline(\"Do you want to perform Normalization: Y/N:\") == 'Y'){\n",
        "    \n",
        "    #Getting column-wise sums of the input-data\n",
        "    sample_sum <- colSums(Imputed, na.rm= TRUE, dims = 1)\n",
        "    \n",
        "    #Dividing each element of a particular column with its column sum\n",
        "    Normalized_data <- c()\n",
        "    for (i in 1:ncol(Imputed)){\n",
        "        x <- Imputed[,i] / sample_sum[i]\n",
        "        Normalized_data <- cbind(Normalized_data, x)\n",
        "    }\n",
        "    colnames(Normalized_data) <- names(sample_sum)\n",
        "    \n",
        "} else return(Imputed)\n",
        "  \n",
        "print(paste('No.of NA values in Normalized data:',sum(is.na(Normalized_data)== TRUE)))"
      ]
    },
    {
      "cell_type": "code",
      "execution_count": 99,
      "id": "58fc407e",
      "metadata": {
        "id": "58fc407e"
      },
      "outputs": [],
      "source": [
        "write.csv(Normalized_data,file='data_results/Normalised_Quant_table.csv',row.names =TRUE) "
      ]
    },
    {
      "cell_type": "markdown",
      "id": "3ceee464",
      "metadata": {
        "id": "3ceee464"
      },
      "source": [
        "In the following cell, we are checking once again if the rownames of our metadata is the same as the column names of our feature table. It should return **TRUE** and we are also checking the data sparsity before proceeding into any statistical tests. Data sparsity tells the amount of zeros we have in our normalized dataframe."
      ]
    },
    {
      "cell_type": "code",
      "execution_count": 100,
      "id": "f39728f3",
      "metadata": {
        "id": "f39728f3",
        "outputId": "04b54508-4f25-4f29-c6f5-eef76241c799",
        "colab": {
          "base_uri": "https://localhost:8080/",
          "height": 52
        }
      },
      "outputs": [
        {
          "output_type": "display_data",
          "data": {
            "text/html": [
              "TRUE"
            ],
            "text/markdown": "TRUE",
            "text/latex": "TRUE",
            "text/plain": [
              "[1] TRUE"
            ]
          },
          "metadata": {}
        },
        {
          "output_type": "display_data",
          "data": {
            "text/html": [
              "0"
            ],
            "text/markdown": "0",
            "text/latex": "0",
            "text/plain": [
              "[1] 0"
            ]
          },
          "metadata": {}
        }
      ],
      "source": [
        "#Making sure the metadata rownames are identical to that of filenames in our featuretable in order to perform multivariate statistics\n",
        "md_Stats <- md[which(rownames(md)%in%colnames(Normalized_data)),]\n",
        "md_Stats <- md_Stats[match(colnames(Normalized_data),rownames(md_Stats)),]\n",
        "identical(colnames(Normalized_data),rownames(md_Stats))\n",
        "\n",
        "#Checking the data sparsity (amount of zeros in our data matrix):\n",
        "sum(Normalized_data == 0)/(dim(Normalized_data)[1]*dim(Normalized_data)[2])"
      ]
    },
    {
      "cell_type": "markdown",
      "id": "c0bf6359",
      "metadata": {
        "id": "c0bf6359"
      },
      "source": [
        "In our case, there are no zeros as we have already imputed them all !! Let's do some statistics."
      ]
    },
    {
      "cell_type": "markdown",
      "id": "0d1d4bbc",
      "metadata": {
        "id": "0d1d4bbc"
      },
      "source": [
        "## Principal Coordinate analysis:"
      ]
    },
    {
      "cell_type": "markdown",
      "id": "hpRW_hXmiPjs",
      "metadata": {
        "id": "hpRW_hXmiPjs"
      },
      "source": [
        "Principal coordinates analysis (PCoA) is a metric multidimensional scaling (MDS) method that attempts to represent sample dissimilarities in a low-dimensional space. It converts a distance matrix consisting of pair-wise distances (dissimilarities) across samples into a 2- or 3-D graph ([Gower, 2005](https://doi.org/10.1002/0470011815.b2a13070)). Different distance metrics can be used to calculate dissimilarities among samples (e.g. Euclidean, Canberra, Minkowski). Performing a principal coordinates analysis using the Euclidean distance metric is the same as performing a principal components analysis (PCA). Selecting the best distance metric for a given dataset is part of the 'art' of data science.\n",
        "\n",
        "Within the metabolomics field the Euclidean, Bray-Curtis, Jaccard or Canberra distances are most commonly used. The Jaccard distance is an unweighted metric (presence/absence) whereas Euclidean, Bray-Curtis and Canberra distances take into account relative abundances (weighted). "
      ]
    },
    {
      "cell_type": "markdown",
      "id": "affc3d5e",
      "metadata": {
        "id": "affc3d5e"
      },
      "source": [
        "Calculating the pairwise distances across all samples using the Bray-Curtis distance metric:"
      ]
    },
    {
      "cell_type": "code",
      "execution_count": 102,
      "id": "a695c379",
      "metadata": {
        "id": "a695c379"
      },
      "outputs": [],
      "source": [
        "md_Stats <- md[which(rownames(md)%in%colnames(Normalized_data)),]\n",
        "md_Stats <- md_Stats[match(colnames(Normalized_data),rownames(md_Stats)),]\n",
        "\n",
        "dist_matrix <- bcdist(t(Normalized_data)) # transposed in order to compute the distance between the columns of a data matrix\n",
        "pcoa<- cmdscale(dist_matrix, eig = TRUE, x.ret=TRUE)\n",
        "pcoa.var.per <-round(pcoa$eig/sum(pcoa$eig)*100,1)\n",
        "pcoa.values <- pcoa$points"
      ]
    },
    {
      "cell_type": "markdown",
      "id": "9a20e6da",
      "metadata": {
        "id": "9a20e6da"
      },
      "source": [
        "Now that we have calculated our distance matrix, we can plot our PCoA analysis for any of the attributes in our metadata. Lets say, we choose the 2nd attribute \"sample type\" in the next cell, we can visualise the difference between the samples treated with and without antibiotics. "
      ]
    },
    {
      "cell_type": "code",
      "execution_count": 103,
      "id": "4ff07a5c",
      "metadata": {
        "id": "4ff07a5c",
        "outputId": "bfb5c4c0-6f2e-472f-9c4c-26362835c6af",
        "colab": {
          "base_uri": "https://localhost:8080/",
          "height": 648
        }
      },
      "outputs": [
        {
          "name": "stdout",
          "output_type": "stream",
          "text": [
            "     [,1]                  \n",
            "[1,] \"ATTRIBUTE_species\"   \n",
            "[2,] \"ATTRIBUTE_SampleType\"\n",
            "[3,] \"ATTRIBUTE_timepoint\" \n",
            "[4,] \"ATTRIBUTE_hours\"     \n",
            "[5,] \"ATTRIBUTE_mins\"      \n",
            "[6,] \"ATTRIBUTE_replicates\"\n",
            "Enter the index of your interested attribute for PCoA visualisation:2\n"
          ]
        },
        {
          "output_type": "display_data",
          "data": {
            "text/plain": [
              "plot without title"
            ],
            "image/png": "[encoded data removed]"
          },
          "metadata": {
            "image/png": {
              "width": 600,
              "height": 480
            }
          }
        }
      ],
      "source": [
        "print(matrix(data=colnames(md_Stats),nrow=length(colnames(md_Stats))))\n",
        "at_int <- as.double(readline('Enter the index of your interested attribute for PCoA visualisation:'))\n",
        "\n",
        "flush.console()  \n",
        "Sys.sleep(0.2)\n",
        "\n",
        "#PCoA plot visualisation:\n",
        "pcoa.data <- data.frame(md_Stats[,at_int],\n",
        "                        X=pcoa.values[,1],\n",
        "                        Y=pcoa.values[,2])\n",
        "\n",
        "PCoA_plot <- ggplot(pcoa.data, aes(x=X, y=Y, col= as.factor(md_Stats[,at_int]))) + \n",
        "  geom_point(size=4,alpha=0.8)  +\n",
        "  ggtitle(label=\"MDS plot using Bray-Cutis Distance\") +\n",
        "  xlab(paste0(\"MDS1 : \",pcoa.var.per[1],\"%\",sep=\"\")) + \n",
        "  ylab(paste0(\"MDS2 : \",pcoa.var.per[2],\"%\",sep=\"\")) + \n",
        "  labs(color = colnames(md_Stats)[at_int]) + \n",
        "  theme(plot.title = element_text(hjust = 0.5)) \n",
        "\n",
        "PCoA_plot"
      ]
    },
    {
      "cell_type": "markdown",
      "id": "c86f4772",
      "metadata": {
        "id": "c86f4772"
      },
      "source": [
        "You can re-run the above cell with other attributes. But, when you try to visualise with attributes such as \"Timepoint\" or \"hours\", you cannot infer any trend. In such cases, we can subset our data and look at a particular condition.<br> Let us look at only the treated samples!!"
      ]
    },
    {
      "cell_type": "code",
      "execution_count": 105,
      "id": "d0e4828b",
      "metadata": {
        "id": "d0e4828b",
        "outputId": "9c5477a5-ce0b-46b2-a476-2df41aca02d0",
        "colab": {
          "base_uri": "https://localhost:8080/"
        }
      },
      "outputs": [
        {
          "name": "stdout",
          "output_type": "stream",
          "text": [
            "     [,1]                  \n",
            "[1,] \"ATTRIBUTE_species\"   \n",
            "[2,] \"ATTRIBUTE_SampleType\"\n",
            "[3,] \"ATTRIBUTE_timepoint\" \n",
            "[4,] \"ATTRIBUTE_hours\"     \n",
            "[5,] \"ATTRIBUTE_mins\"      \n",
            "[6,] \"ATTRIBUTE_replicates\"\n",
            "Enter the IDs of interested attributes separated by commas:2\n",
            "     [,1]               \n",
            "[1,] \"With_Treatment\"   \n",
            "[2,] \"Without_Treatment\"\n",
            "Enter the IDs of condition(s) you want to KEEP (separated by commas):1,2\n"
          ]
        }
      ],
      "source": [
        "md_Stats <- md[which(rownames(md)%in%colnames(Normalized_data)),]\n",
        "md_Stats <- md_Stats[match(colnames(Normalized_data),rownames(md_Stats)),]\n",
        "\n",
        "#Metadata subsetting based on condition:\n",
        "print(matrix(data=colnames(md_Stats),nrow=length(colnames(md_Stats))))\n",
        "Condition <- as.double(unlist(strsplit(readline(\"Enter the IDs of interested attributes separated by commas:\"),split=\",\")))\n",
        "for(i in 1:length(Condition)){\n",
        "  #Shows the different levels within each selected condition:\n",
        "  Levels_Cdtn <- levels(as.factor(md_Stats[,Condition[i]]))\n",
        "  print(matrix(Levels_Cdtn,length(Levels_Cdtn)))\n",
        "  \n",
        "  #These lines are not needed in R console, but in Jupyter Notebook to get the previous print statement working\n",
        "  flush.console()  \n",
        "  Sys.sleep(0.2)\n",
        "  \n",
        "  #Among the shown levels of an attribute, select the ones to keep\n",
        "  Cdtn <- as.double(unlist(strsplit(readline(\"Enter the IDs of condition(s) you want to KEEP (separated by commas):\"), split=',')))\n",
        "  Levels_Cdtn[Cdtn]\n",
        "  \n",
        "  #Selecting only rows in meta_filtered that match the condition\n",
        "  md_Stats <- md_Stats[(md_Stats[,Condition[i]] == Levels_Cdtn[Cdtn]),]\n",
        "}"
      ]
    },
    {
      "cell_type": "code",
      "execution_count": 108,
      "id": "0c3bce6e",
      "metadata": {
        "id": "0c3bce6e"
      },
      "outputs": [],
      "source": [
        "#PCoA calculation for the subset data\n",
        "md_data <- Normalized_data[,which(colnames(Normalized_data)%in%rownames(md_Stats))] # the corresponding column files for the filtered metadata is picked from the normalized data\n",
        "\n",
        "dist_matrix <- as.matrix(bcdist(t(md_data))) # transposed in order to compute the distance between the columns of a data matrix\n",
        "pcoa<- cmdscale(dist_matrix, eig = TRUE, x.ret=TRUE)\n",
        "pcoa.var.per <-round(pcoa$eig/sum(pcoa$eig)*100,1)\n",
        "pcoa.values <- pcoa$points"
      ]
    },
    {
      "cell_type": "markdown",
      "id": "794ba89e",
      "metadata": {
        "id": "794ba89e"
      },
      "source": [
        "Now you can try to visualise the plot for different attributes and see if you can infer something from the plot. (Spoiler alert: You do observe a trend with attributes: Timepoint, hours and mins)"
      ]
    },
    {
      "cell_type": "code",
      "execution_count": 118,
      "id": "fbb2b56f",
      "metadata": {
        "id": "fbb2b56f",
        "outputId": "292c6953-47fd-467a-a49f-b1da6c43ed1a",
        "colab": {
          "base_uri": "https://localhost:8080/",
          "height": 648
        }
      },
      "outputs": [
        {
          "name": "stdout",
          "output_type": "stream",
          "text": [
            "     [,1]                  \n",
            "[1,] \"ATTRIBUTE_species\"   \n",
            "[2,] \"ATTRIBUTE_SampleType\"\n",
            "[3,] \"ATTRIBUTE_timepoint\" \n",
            "[4,] \"ATTRIBUTE_hours\"     \n",
            "[5,] \"ATTRIBUTE_mins\"      \n",
            "[6,] \"ATTRIBUTE_replicates\"\n",
            "Enter the index of your interested attribute for PCoA visualisation:3\n"
          ]
        },
        {
          "output_type": "display_data",
          "data": {
            "text/plain": [
              "plot without title"
            ],
            "image/png": "[encoded data removed]"
          },
          "metadata": {
            "image/png": {
              "width": 600,
              "height": 480
            }
          }
        }
      ],
      "source": [
        "print(matrix(data=colnames(md_Stats),nrow=length(colnames(md_Stats))))\n",
        "at_int <- as.double(readline('Enter the index of your interested attribute for PCoA visualisation:'))\n",
        "\n",
        "flush.console()  \n",
        "Sys.sleep(0.2)\n",
        "\n",
        "#PCoA plot:\n",
        "pcoa.data <- data.frame(md_Stats[,at_int],\n",
        "                        X=pcoa.values[,1],\n",
        "                        Y=pcoa.values[,2])\n",
        "\n",
        "PCoA_plot <- ggplot(pcoa.data, aes(x=X, y=Y, col= as.factor(md_Stats[,at_int]))) + \n",
        "  geom_point(size=4,alpha=0.8)  +\n",
        "  ggtitle(label=\"MDS plot using Bray-Cutis Distance\") +\n",
        "  xlab(paste0(\"MDS1 : \",pcoa.var.per[1],\"%\",sep=\"\")) + \n",
        "  ylab(paste0(\"MDS2 : \",pcoa.var.per[2],\"%\",sep=\"\")) + \n",
        "  labs(color = 'Timepoint') + \n",
        "  theme(plot.title = element_text(hjust = 0.5)) \n",
        "\n",
        "PCoA_plot"
      ]
    },
    {
      "cell_type": "markdown",
      "id": "9557a7c1",
      "metadata": {
        "id": "9557a7c1"
      },
      "source": [
        "## Permutational multivariate analysis of variance (PERMANOVA):"
      ]
    },
    {
      "cell_type": "markdown",
      "id": "mzJvolcGj-6l",
      "metadata": {
        "id": "mzJvolcGj-6l"
      },
      "source": [
        "PERMANOVA is a non-parametric method for multivariate analysis of variance, where P-values are obtained using permutations. The metric was originally developed within the field of ecology ([Anderson, 2008](https://onlinelibrary.wiley.com/doi/10.1111/j.1442-9993.2001.01070.pp.x)) but is today widely used in other fields, including the microbiome and metabolomics field. PERMANOVA is used to compare groups of samples and tests whether the centroid and/or the spread of the samples is different between the groups. "
      ]
    },
    {
      "cell_type": "markdown",
      "id": "mjaTwY3Tkde9",
      "metadata": {
        "id": "mjaTwY3Tkde9"
      },
      "source": [
        "The adonis2() function in the vegan package can be used to perform a PERMANOVA. The input is any dissimilarity matrix and the test-statistic retrieved is a multivariate analogue to Fisher's F-ratio as well as an R2 value (Adonis R2). Here, we have used the same distance matrix we calculated for our PCoA."
      ]
    },
    {
      "cell_type": "code",
      "execution_count": 116,
      "id": "b3f215de",
      "metadata": {
        "id": "b3f215de",
        "outputId": "78c18f56-5d30-40e1-bd2e-7e82d1fd5a45",
        "colab": {
          "base_uri": "https://localhost:8080/",
          "height": 192
        }
      },
      "outputs": [
        {
          "output_type": "display_data",
          "data": {
            "text/html": [
              "<table class=\"dataframe\">\n",
              "<caption>A anova.cca: 3 × 5</caption>\n",
              "<thead>\n",
              "\t<tr><th></th><th scope=col>Df</th><th scope=col>SumOfSqs</th><th scope=col>R2</th><th scope=col>F</th><th scope=col>Pr(&gt;F)</th></tr>\n",
              "\t<tr><th></th><th scope=col>&lt;dbl&gt;</th><th scope=col>&lt;dbl&gt;</th><th scope=col>&lt;dbl&gt;</th><th scope=col>&lt;dbl&gt;</th><th scope=col>&lt;dbl&gt;</th></tr>\n",
              "</thead>\n",
              "<tbody>\n",
              "\t<tr><th scope=row>ATTRIBUTE_SampleType</th><td> 1</td><td>0.5121123</td><td>0.4439617</td><td>11.97656</td><td>0.001</td></tr>\n",
              "\t<tr><th scope=row>Residual</th><td>15</td><td>0.6413934</td><td>0.5560383</td><td>      NA</td><td>   NA</td></tr>\n",
              "\t<tr><th scope=row>Total</th><td>16</td><td>1.1535057</td><td>1.0000000</td><td>      NA</td><td>   NA</td></tr>\n",
              "</tbody>\n",
              "</table>\n"
            ],
            "text/markdown": "\nA anova.cca: 3 × 5\n\n| <!--/--> | Df &lt;dbl&gt; | SumOfSqs &lt;dbl&gt; | R2 &lt;dbl&gt; | F &lt;dbl&gt; | Pr(&gt;F) &lt;dbl&gt; |\n|---|---|---|---|---|---|\n| ATTRIBUTE_SampleType |  1 | 0.5121123 | 0.4439617 | 11.97656 | 0.001 |\n| Residual | 15 | 0.6413934 | 0.5560383 |       NA |    NA |\n| Total | 16 | 1.1535057 | 1.0000000 |       NA |    NA |\n\n",
            "text/latex": "A anova.cca: 3 × 5\n\\begin{tabular}{r|lllll}\n  & Df & SumOfSqs & R2 & F & Pr(>F)\\\\\n  & <dbl> & <dbl> & <dbl> & <dbl> & <dbl>\\\\\n\\hline\n\tATTRIBUTE\\_SampleType &  1 & 0.5121123 & 0.4439617 & 11.97656 & 0.001\\\\\n\tResidual & 15 & 0.6413934 & 0.5560383 &       NA &    NA\\\\\n\tTotal & 16 & 1.1535057 & 1.0000000 &       NA &    NA\\\\\n\\end{tabular}\n",
            "text/plain": [
              "                     Df SumOfSqs  R2        F        Pr(>F)\n",
              "ATTRIBUTE_SampleType  1 0.5121123 0.4439617 11.97656 0.001 \n",
              "Residual             15 0.6413934 0.5560383       NA    NA \n",
              "Total                16 1.1535057 1.0000000       NA    NA "
            ]
          },
          "metadata": {}
        }
      ],
      "source": [
        "adonres <- adonis2(dist_matrix  ~ md_Stats[,at_int],permutations = 999, distance='bray')\n",
        "rownames(adonres)[1] <- colnames(md_Stats)[at_int]\n",
        "adonres"
      ]
    },
    {
      "cell_type": "markdown",
      "id": "dtA0FEaRkyuA",
      "metadata": {
        "id": "dtA0FEaRkyuA"
      },
      "source": [
        "The PERMANOVA test result tells us that, for P < 0.05, there is a significant difference amng the different conditions within the given attribute (significant variation expressed as the percentage of  Adonis R2)."
      ]
    },
    {
      "cell_type": "code",
      "execution_count": 117,
      "id": "4f52d72d",
      "metadata": {
        "id": "4f52d72d",
        "outputId": "82996e8a-5f58-4161-bae4-b0e3728cd15b",
        "colab": {
          "base_uri": "https://localhost:8080/",
          "height": 497
        }
      },
      "outputs": [
        {
          "output_type": "display_data",
          "data": {
            "text/plain": [
              "plot without title"
            ],
            "image/png": "[encoded data removed]"
          },
          "metadata": {
            "image/png": {
              "width": 600,
              "height": 480
            }
          }
        }
      ],
      "source": [
        "PCoA_plot + labs(subtitle = paste0(\"p=\",round(adonres$'Pr(>F)'[1],4),', ' ,\"adonis-R2=\",round(adonres$'R2'[1],4)))"
      ]
    },
    {
      "cell_type": "code",
      "execution_count": 114,
      "id": "4de93365",
      "metadata": {
        "id": "4de93365"
      },
      "outputs": [],
      "source": [
        "ggsave(PCoA_plot,filename=\"MDS_plot.svg\", width = 10, height = 8)"
      ]
    }
  ],
  "metadata": {
    "colab": {
      "collapsed_sections": [],
      "name": "Metabolic_Features_Filtering_v1.5.rp.ipynb",
      "provenance": [],
      "include_colab_link": true
    },
    "kernelspec": {
      "display_name": "R",
      "language": "R",
      "name": "ir"
    },
    "language_info": {
      "codemirror_mode": "r",
      "file_extension": ".r",
      "mimetype": "text/x-r-source",
      "name": "R",
      "pygments_lexer": "r",
      "version": "3.6.1"
    }
  },
  "nbformat": 4,
  "nbformat_minor": 5
}