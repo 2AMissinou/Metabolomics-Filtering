{
  "cells": [
    {
      "cell_type": "markdown",
      "metadata": {
        "id": "view-in-github",
        "colab_type": "text"
      },
      "source": [
        "<a href=\"https://colab.research.google.com/github/2AMissinou/Metabolomics-Filtering/blob/main/Metabolic_Features_Filtering_BRASSIMET-project.ipynb\" target=\"_parent\"><img src=\"https://colab.research.google.com/assets/colab-badge.svg\" alt=\"Open In Colab\"/></a>"
      ]
    },
    {
      "cell_type": "markdown",
      "id": "55766981",
      "metadata": {
        "id": "55766981"
      },
      "source": [
        "# **<font color='\tdodgerblue'> Metabolic features Clean up **<font>\n",
        "\n",
        "---\n",
        "\n",
        "Authors: Anani Amegan Missinou (anani.a.missinou@gmail.com) <br>\n",
        "Input file format: .csv files or .txt files <br>\n",
        "Outputs: .csv files  <br>\n",
        "Dependencies: ggplot2, dplyr, ecodist, vegan, svglite\\"
      ]
    },
    {
      "cell_type": "markdown",
      "source": [
        "## Use R and Python code Run rmagic by executing this command %load_ext rpy2. ipython.\n",
        "\n",
        "\n",
        "1.   Start rmagic by executing this in a cell: %load_ext rpy2. ipython. \n",
        "2.   Use %%R to execute cell magic. After that, every time you want to use R, add %%R in the beginning of each cell before code running."
      ],
      "metadata": {
        "id": "bDGe7xtpF8eU"
      },
      "id": "bDGe7xtpF8eU"
    },
    {
      "cell_type": "code",
      "source": [
        "R.version.string\n",
        "#print(installed.packages())"
      ],
      "metadata": {
        "colab": {
          "base_uri": "https://localhost:8080/",
          "height": 34
        },
        "id": "-b4paHqHy0ki",
        "outputId": "60181a98-ecd1-46d2-c15e-7da3197750ef"
      },
      "id": "-b4paHqHy0ki",
      "execution_count": 1,
      "outputs": [
        {
          "output_type": "display_data",
          "data": {
            "text/html": [
              "'R version 4.2.0 (2022-04-22)'"
            ],
            "text/markdown": "'R version 4.2.0 (2022-04-22)'",
            "text/latex": "'R version 4.2.0 (2022-04-22)'",
            "text/plain": [
              "[1] \"R version 4.2.0 (2022-04-22)\""
            ]
          },
          "metadata": {}
        }
      ]
    },
    {
      "cell_type": "code",
      "execution_count": null,
      "id": "BvfG-ihq2PZP",
      "metadata": {
        "id": "BvfG-ihq2PZP"
      },
      "outputs": [],
      "source": [
        "#installing and calling the necessary packages:\n",
        "install.packages(\"ggplot2\")\n",
        "install.packages(\"dplyr\")\n",
        "install.packages(\"ecodist\") #for PCoA using Bray Curtis distance\n",
        "install.packages(\"vegan\") #for PermANOVA\n",
        "install.packages(\"svglite\") # for saving ggplots as svg files"
      ]
    },
    {
      "cell_type": "code",
      "execution_count": null,
      "id": "-Rym0mXNMZ7B",
      "metadata": {
        "id": "-Rym0mXNMZ7B"
      },
      "outputs": [],
      "source": [
        "require(\"ggplot2\")\n",
        "require(\"dplyr\")\n",
        "require(\"ecodist\")\n",
        "require(\"vegan\")\n",
        "require(\"svglite\")"
      ]
    },
    {
      "cell_type": "code",
      "execution_count": 3,
      "id": "3ad9e910",
      "metadata": {
        "id": "3ad9e910"
      },
      "outputs": [],
      "source": [
        "#nft <- read.csv(\"220725_disturb_MZmine_POS_MS1-2_NonBlanked_NonGapFilled_4R.csv\", header = T, check.names = F)\n",
        "ft <- read.csv(\"Brassinet_Roots_Quant_Dec 2021.csv\", header = T, check.names = F)\n",
        "md <- read.csv(\"Brassinet_Roots_metadata_Dec 2021.csv\", header = T, check.names = F)"
      ]
    },
    {
      "cell_type": "markdown",
      "id": "863a44d4",
      "metadata": {
        "id": "863a44d4"
      },
      "source": [
        "## Setting a local working directory and creating an automatic result directory:\n",
        "Works well with Jupyter Notebook. If you are working with Jupyter Notebook, you can simply copy the folder path from your local computer to the next cell output line. It will be set as your working directory <br> \n",
        "For ex: D:\\User\\Project\\Test_Data <br>\n",
        "<br>\n",
        "For Google Collab, we can upload the necessary files into a new folder using the 'Files' icon on the left and set the folder as working directory. And all the ouput files will be saved here as well and you need to download them finally into your local computer"
      ]
    },
    {
      "cell_type": "code",
      "execution_count": 9,
      "id": "4734f4b6",
      "metadata": {
        "id": "4734f4b6"
      },
      "outputs": [],
      "source": [
        "# Working dierctorycreation and setting of the output\n",
        "mkdirs <- function(fp) {\n",
        "    if(!file.exists(fp)) {\n",
        "        mkdirs(dirname(fp))\n",
        "        dir.create(fp)\n",
        "    }\n",
        "} \n",
        "\n",
        "mkdirs(\"E:/IGEPP-UMR 1349 INRAE/BRASSIMET-project/output_data\")\n",
        "setwd(\"E:/IGEPP-UMR 1349 INRAE/BRASSIMET-project/output_data\")"
      ]
    },
    {
      "cell_type": "code",
      "execution_count": 10,
      "id": "og4ryyATcSju",
      "metadata": {
        "id": "og4ryyATcSju",
        "colab": {
          "base_uri": "https://localhost:8080/",
          "height": 34
        },
        "outputId": "e8167222-4ef9-47d5-b3a4-0f9f32fd9443"
      },
      "outputs": [
        {
          "output_type": "display_data",
          "data": {
            "text/html": [
              "'/content/E:/IGEPP-UMR 1349 INRAE/BRASSIMET-project/output_data'"
            ],
            "text/markdown": "'/content/E:/IGEPP-UMR 1349 INRAE/BRASSIMET-project/output_data'",
            "text/latex": "'/content/E:/IGEPP-UMR 1349 INRAE/BRASSIMET-project/output\\_data'",
            "text/plain": [
              "[1] \"/content/E:/IGEPP-UMR 1349 INRAE/BRASSIMET-project/output_data\""
            ]
          },
          "metadata": {}
        }
      ],
      "source": [
        "getwd()"
      ]
    },
    {
      "cell_type": "markdown",
      "id": "55ab1133",
      "metadata": {
        "id": "55ab1133"
      },
      "source": [
        "**<font color='red'> In the following line, enter the required file ID numbers separated by commas. For example as: 1,2,3 </font>**"
      ]
    },
    {
      "cell_type": "markdown",
      "id": "4f12e24c",
      "metadata": {
        "id": "4f12e24c"
      },
      "source": [
        "Lets check if the data has been read correclty!!"
      ]
    },
    {
      "cell_type": "code",
      "execution_count": 5,
      "id": "429ff705",
      "metadata": {
        "id": "429ff705",
        "colab": {
          "base_uri": "https://localhost:8080/",
          "height": 358
        },
        "outputId": "3965a781-e0d5-4339-f895-becf1705570b"
      },
      "outputs": [
        {
          "output_type": "display_data",
          "data": {
            "text/html": [
              "<table class=\"dataframe\">\n",
              "<caption>A data.frame: 6 × 141</caption>\n",
              "<thead>\n",
              "\t<tr><th></th><th scope=col>row ID</th><th scope=col>row m/z</th><th scope=col>row retention time</th><th scope=col>Aviso_232_CuCl2_Block2.mzXML Sample</th><th scope=col>Aviso_233_CuCl2_Block2.mzXML Sample</th><th scope=col>Aviso_280_CuCl2_Block3.mzXML Sample</th><th scope=col>Chifu_187_CuCl2_Block1.mzXML Sample</th><th scope=col>Chifu_231_CuCl2_Block2.mzXML Sample</th><th scope=col>Chifu_279_CuCl2_Block3.mzXML Sample</th><th scope=col>HDEM_186_CuCl2_Block1.mzXML Sample</th><th scope=col>⋯</th><th scope=col>PBD17_250_Control _Block3.mzXML Sample</th><th scope=col>PBD18_160_Control _Block1.mzXML Sample</th><th scope=col>PBD18_206_Control _Block2.mzXML Sample</th><th scope=col>PBD18_251_Control _Block3.mzXML Sample</th><th scope=col>PBD19_207_Control _Block2.mzXML Sample</th><th scope=col>PBD19_252_Control _Block3.mzXML Sample</th><th scope=col>PBD19_207_252_Control _Block3.mzXML Sample</th><th scope=col>PBD20_253_Control _Block3.1.mzXML Sample</th><th scope=col>PBD20_253_Control _Block3.2.mzXML Sample</th><th scope=col>PBD20_253_Control _Block3.3.mzXML Sample</th></tr>\n",
              "\t<tr><th></th><th scope=col>&lt;chr&gt;</th><th scope=col>&lt;dbl&gt;</th><th scope=col>&lt;dbl&gt;</th><th scope=col>&lt;dbl&gt;</th><th scope=col>&lt;dbl&gt;</th><th scope=col>&lt;dbl&gt;</th><th scope=col>&lt;dbl&gt;</th><th scope=col>&lt;dbl&gt;</th><th scope=col>&lt;dbl&gt;</th><th scope=col>&lt;dbl&gt;</th><th scope=col>⋯</th><th scope=col>&lt;dbl&gt;</th><th scope=col>&lt;dbl&gt;</th><th scope=col>&lt;dbl&gt;</th><th scope=col>&lt;dbl&gt;</th><th scope=col>&lt;dbl&gt;</th><th scope=col>&lt;dbl&gt;</th><th scope=col>&lt;dbl&gt;</th><th scope=col>&lt;dbl&gt;</th><th scope=col>&lt;dbl&gt;</th><th scope=col>&lt;dbl&gt;</th></tr>\n",
              "</thead>\n",
              "<tbody>\n",
              "\t<tr><th scope=row>1</th><td>2_Neg </td><td>477.065</td><td>4.52</td><td>0.3120</td><td>0.2700</td><td>0.2590</td><td>0.4220</td><td>0.3940</td><td>0.3760</td><td>0.45900</td><td>⋯</td><td>0.8030</td><td>0.12100</td><td>0.3700</td><td>0.5680</td><td>0.3290</td><td>0.6610</td><td>0.4950</td><td>0.7630</td><td>0.7630</td><td>0.7630</td></tr>\n",
              "\t<tr><th scope=row>2</th><td>3_Neg </td><td>112.986</td><td>0.74</td><td>0.1770</td><td>0.1580</td><td>0.1920</td><td>0.2660</td><td>0.1770</td><td>0.2110</td><td>0.31900</td><td>⋯</td><td>0.3660</td><td>0.08090</td><td>0.2110</td><td>0.3040</td><td>0.1950</td><td>0.3490</td><td>0.2720</td><td>0.3670</td><td>0.3670</td><td>0.3670</td></tr>\n",
              "\t<tr><th scope=row>3</th><td>4_Neg </td><td>133.014</td><td>0.71</td><td>0.1050</td><td>0.1100</td><td>0.1190</td><td>0.1020</td><td>0.1380</td><td>0.1600</td><td>0.13500</td><td>⋯</td><td>0.3300</td><td>0.05040</td><td>0.1470</td><td>0.1770</td><td>0.0846</td><td>0.2290</td><td>0.1570</td><td>0.1760</td><td>0.1760</td><td>0.1760</td></tr>\n",
              "\t<tr><th scope=row>4</th><td>8_Neg </td><td>420.046</td><td>2.93</td><td>0.1250</td><td>0.1430</td><td>0.1670</td><td>0.0121</td><td>0.0483</td><td>0.0561</td><td>0.09240</td><td>⋯</td><td>0.3320</td><td>0.13900</td><td>0.4140</td><td>0.3140</td><td>0.1170</td><td>0.0954</td><td>0.1060</td><td>0.4330</td><td>0.4330</td><td>0.4330</td></tr>\n",
              "\t<tr><th scope=row>5</th><td>9_Neg </td><td>439.085</td><td>0.68</td><td>0.0111</td><td>0.0165</td><td>0.0227</td><td>0.0149</td><td>0.0250</td><td>0.0201</td><td>0.00984</td><td>⋯</td><td>0.1110</td><td>0.00695</td><td>0.0230</td><td>0.0280</td><td>0.0266</td><td>0.0562</td><td>0.0414</td><td>0.0491</td><td>0.0491</td><td>0.0491</td></tr>\n",
              "\t<tr><th scope=row>6</th><td>11_Neg</td><td>174.956</td><td>0.56</td><td>0.0369</td><td>0.0382</td><td>0.0311</td><td>0.0531</td><td>0.0423</td><td>0.0436</td><td>0.05550</td><td>⋯</td><td>0.0704</td><td>0.01590</td><td>0.0425</td><td>0.0536</td><td>0.0290</td><td>0.0612</td><td>0.0451</td><td>0.0888</td><td>0.0888</td><td>0.0888</td></tr>\n",
              "</tbody>\n",
              "</table>\n"
            ],
            "text/markdown": "\nA data.frame: 6 × 141\n\n| <!--/--> | row ID &lt;chr&gt; | row m/z &lt;dbl&gt; | row retention time &lt;dbl&gt; | Aviso_232_CuCl2_Block2.mzXML Sample &lt;dbl&gt; | Aviso_233_CuCl2_Block2.mzXML Sample &lt;dbl&gt; | Aviso_280_CuCl2_Block3.mzXML Sample &lt;dbl&gt; | Chifu_187_CuCl2_Block1.mzXML Sample &lt;dbl&gt; | Chifu_231_CuCl2_Block2.mzXML Sample &lt;dbl&gt; | Chifu_279_CuCl2_Block3.mzXML Sample &lt;dbl&gt; | HDEM_186_CuCl2_Block1.mzXML Sample &lt;dbl&gt; | ⋯ ⋯ | PBD17_250_Control _Block3.mzXML Sample &lt;dbl&gt; | PBD18_160_Control _Block1.mzXML Sample &lt;dbl&gt; | PBD18_206_Control _Block2.mzXML Sample &lt;dbl&gt; | PBD18_251_Control _Block3.mzXML Sample &lt;dbl&gt; | PBD19_207_Control _Block2.mzXML Sample &lt;dbl&gt; | PBD19_252_Control _Block3.mzXML Sample &lt;dbl&gt; | PBD19_207_252_Control _Block3.mzXML Sample &lt;dbl&gt; | PBD20_253_Control _Block3.1.mzXML Sample &lt;dbl&gt; | PBD20_253_Control _Block3.2.mzXML Sample &lt;dbl&gt; | PBD20_253_Control _Block3.3.mzXML Sample &lt;dbl&gt; |\n|---|---|---|---|---|---|---|---|---|---|---|---|---|---|---|---|---|---|---|---|---|---|\n| 1 | 2_Neg  | 477.065 | 4.52 | 0.3120 | 0.2700 | 0.2590 | 0.4220 | 0.3940 | 0.3760 | 0.45900 | ⋯ | 0.8030 | 0.12100 | 0.3700 | 0.5680 | 0.3290 | 0.6610 | 0.4950 | 0.7630 | 0.7630 | 0.7630 |\n| 2 | 3_Neg  | 112.986 | 0.74 | 0.1770 | 0.1580 | 0.1920 | 0.2660 | 0.1770 | 0.2110 | 0.31900 | ⋯ | 0.3660 | 0.08090 | 0.2110 | 0.3040 | 0.1950 | 0.3490 | 0.2720 | 0.3670 | 0.3670 | 0.3670 |\n| 3 | 4_Neg  | 133.014 | 0.71 | 0.1050 | 0.1100 | 0.1190 | 0.1020 | 0.1380 | 0.1600 | 0.13500 | ⋯ | 0.3300 | 0.05040 | 0.1470 | 0.1770 | 0.0846 | 0.2290 | 0.1570 | 0.1760 | 0.1760 | 0.1760 |\n| 4 | 8_Neg  | 420.046 | 2.93 | 0.1250 | 0.1430 | 0.1670 | 0.0121 | 0.0483 | 0.0561 | 0.09240 | ⋯ | 0.3320 | 0.13900 | 0.4140 | 0.3140 | 0.1170 | 0.0954 | 0.1060 | 0.4330 | 0.4330 | 0.4330 |\n| 5 | 9_Neg  | 439.085 | 0.68 | 0.0111 | 0.0165 | 0.0227 | 0.0149 | 0.0250 | 0.0201 | 0.00984 | ⋯ | 0.1110 | 0.00695 | 0.0230 | 0.0280 | 0.0266 | 0.0562 | 0.0414 | 0.0491 | 0.0491 | 0.0491 |\n| 6 | 11_Neg | 174.956 | 0.56 | 0.0369 | 0.0382 | 0.0311 | 0.0531 | 0.0423 | 0.0436 | 0.05550 | ⋯ | 0.0704 | 0.01590 | 0.0425 | 0.0536 | 0.0290 | 0.0612 | 0.0451 | 0.0888 | 0.0888 | 0.0888 |\n\n",
            "text/latex": "A data.frame: 6 × 141\n\\begin{tabular}{r|lllllllllllllllllllll}\n  & row ID & row m/z & row retention time & Aviso\\_232\\_CuCl2\\_Block2.mzXML Sample & Aviso\\_233\\_CuCl2\\_Block2.mzXML Sample & Aviso\\_280\\_CuCl2\\_Block3.mzXML Sample & Chifu\\_187\\_CuCl2\\_Block1.mzXML Sample & Chifu\\_231\\_CuCl2\\_Block2.mzXML Sample & Chifu\\_279\\_CuCl2\\_Block3.mzXML Sample & HDEM\\_186\\_CuCl2\\_Block1.mzXML Sample & ⋯ & PBD17\\_250\\_Control \\_Block3.mzXML Sample & PBD18\\_160\\_Control \\_Block1.mzXML Sample & PBD18\\_206\\_Control \\_Block2.mzXML Sample & PBD18\\_251\\_Control \\_Block3.mzXML Sample & PBD19\\_207\\_Control \\_Block2.mzXML Sample & PBD19\\_252\\_Control \\_Block3.mzXML Sample & PBD19\\_207\\_252\\_Control \\_Block3.mzXML Sample & PBD20\\_253\\_Control \\_Block3.1.mzXML Sample & PBD20\\_253\\_Control \\_Block3.2.mzXML Sample & PBD20\\_253\\_Control \\_Block3.3.mzXML Sample\\\\\n  & <chr> & <dbl> & <dbl> & <dbl> & <dbl> & <dbl> & <dbl> & <dbl> & <dbl> & <dbl> & ⋯ & <dbl> & <dbl> & <dbl> & <dbl> & <dbl> & <dbl> & <dbl> & <dbl> & <dbl> & <dbl>\\\\\n\\hline\n\t1 & 2\\_Neg  & 477.065 & 4.52 & 0.3120 & 0.2700 & 0.2590 & 0.4220 & 0.3940 & 0.3760 & 0.45900 & ⋯ & 0.8030 & 0.12100 & 0.3700 & 0.5680 & 0.3290 & 0.6610 & 0.4950 & 0.7630 & 0.7630 & 0.7630\\\\\n\t2 & 3\\_Neg  & 112.986 & 0.74 & 0.1770 & 0.1580 & 0.1920 & 0.2660 & 0.1770 & 0.2110 & 0.31900 & ⋯ & 0.3660 & 0.08090 & 0.2110 & 0.3040 & 0.1950 & 0.3490 & 0.2720 & 0.3670 & 0.3670 & 0.3670\\\\\n\t3 & 4\\_Neg  & 133.014 & 0.71 & 0.1050 & 0.1100 & 0.1190 & 0.1020 & 0.1380 & 0.1600 & 0.13500 & ⋯ & 0.3300 & 0.05040 & 0.1470 & 0.1770 & 0.0846 & 0.2290 & 0.1570 & 0.1760 & 0.1760 & 0.1760\\\\\n\t4 & 8\\_Neg  & 420.046 & 2.93 & 0.1250 & 0.1430 & 0.1670 & 0.0121 & 0.0483 & 0.0561 & 0.09240 & ⋯ & 0.3320 & 0.13900 & 0.4140 & 0.3140 & 0.1170 & 0.0954 & 0.1060 & 0.4330 & 0.4330 & 0.4330\\\\\n\t5 & 9\\_Neg  & 439.085 & 0.68 & 0.0111 & 0.0165 & 0.0227 & 0.0149 & 0.0250 & 0.0201 & 0.00984 & ⋯ & 0.1110 & 0.00695 & 0.0230 & 0.0280 & 0.0266 & 0.0562 & 0.0414 & 0.0491 & 0.0491 & 0.0491\\\\\n\t6 & 11\\_Neg & 174.956 & 0.56 & 0.0369 & 0.0382 & 0.0311 & 0.0531 & 0.0423 & 0.0436 & 0.05550 & ⋯ & 0.0704 & 0.01590 & 0.0425 & 0.0536 & 0.0290 & 0.0612 & 0.0451 & 0.0888 & 0.0888 & 0.0888\\\\\n\\end{tabular}\n",
            "text/plain": [
              "  row ID row m/z row retention time Aviso_232_CuCl2_Block2.mzXML Sample\n",
              "1 2_Neg  477.065 4.52               0.3120                             \n",
              "2 3_Neg  112.986 0.74               0.1770                             \n",
              "3 4_Neg  133.014 0.71               0.1050                             \n",
              "4 8_Neg  420.046 2.93               0.1250                             \n",
              "5 9_Neg  439.085 0.68               0.0111                             \n",
              "6 11_Neg 174.956 0.56               0.0369                             \n",
              "  Aviso_233_CuCl2_Block2.mzXML Sample Aviso_280_CuCl2_Block3.mzXML Sample\n",
              "1 0.2700                              0.2590                             \n",
              "2 0.1580                              0.1920                             \n",
              "3 0.1100                              0.1190                             \n",
              "4 0.1430                              0.1670                             \n",
              "5 0.0165                              0.0227                             \n",
              "6 0.0382                              0.0311                             \n",
              "  Chifu_187_CuCl2_Block1.mzXML Sample Chifu_231_CuCl2_Block2.mzXML Sample\n",
              "1 0.4220                              0.3940                             \n",
              "2 0.2660                              0.1770                             \n",
              "3 0.1020                              0.1380                             \n",
              "4 0.0121                              0.0483                             \n",
              "5 0.0149                              0.0250                             \n",
              "6 0.0531                              0.0423                             \n",
              "  Chifu_279_CuCl2_Block3.mzXML Sample HDEM_186_CuCl2_Block1.mzXML Sample ⋯\n",
              "1 0.3760                              0.45900                            ⋯\n",
              "2 0.2110                              0.31900                            ⋯\n",
              "3 0.1600                              0.13500                            ⋯\n",
              "4 0.0561                              0.09240                            ⋯\n",
              "5 0.0201                              0.00984                            ⋯\n",
              "6 0.0436                              0.05550                            ⋯\n",
              "  PBD17_250_Control _Block3.mzXML Sample PBD18_160_Control _Block1.mzXML Sample\n",
              "1 0.8030                                 0.12100                               \n",
              "2 0.3660                                 0.08090                               \n",
              "3 0.3300                                 0.05040                               \n",
              "4 0.3320                                 0.13900                               \n",
              "5 0.1110                                 0.00695                               \n",
              "6 0.0704                                 0.01590                               \n",
              "  PBD18_206_Control _Block2.mzXML Sample PBD18_251_Control _Block3.mzXML Sample\n",
              "1 0.3700                                 0.5680                                \n",
              "2 0.2110                                 0.3040                                \n",
              "3 0.1470                                 0.1770                                \n",
              "4 0.4140                                 0.3140                                \n",
              "5 0.0230                                 0.0280                                \n",
              "6 0.0425                                 0.0536                                \n",
              "  PBD19_207_Control _Block2.mzXML Sample PBD19_252_Control _Block3.mzXML Sample\n",
              "1 0.3290                                 0.6610                                \n",
              "2 0.1950                                 0.3490                                \n",
              "3 0.0846                                 0.2290                                \n",
              "4 0.1170                                 0.0954                                \n",
              "5 0.0266                                 0.0562                                \n",
              "6 0.0290                                 0.0612                                \n",
              "  PBD19_207_252_Control _Block3.mzXML Sample\n",
              "1 0.4950                                    \n",
              "2 0.2720                                    \n",
              "3 0.1570                                    \n",
              "4 0.1060                                    \n",
              "5 0.0414                                    \n",
              "6 0.0451                                    \n",
              "  PBD20_253_Control _Block3.1.mzXML Sample\n",
              "1 0.7630                                  \n",
              "2 0.3670                                  \n",
              "3 0.1760                                  \n",
              "4 0.4330                                  \n",
              "5 0.0491                                  \n",
              "6 0.0888                                  \n",
              "  PBD20_253_Control _Block3.2.mzXML Sample\n",
              "1 0.7630                                  \n",
              "2 0.3670                                  \n",
              "3 0.1760                                  \n",
              "4 0.4330                                  \n",
              "5 0.0491                                  \n",
              "6 0.0888                                  \n",
              "  PBD20_253_Control _Block3.3.mzXML Sample\n",
              "1 0.7630                                  \n",
              "2 0.3670                                  \n",
              "3 0.1760                                  \n",
              "4 0.4330                                  \n",
              "5 0.0491                                  \n",
              "6 0.0888                                  "
            ]
          },
          "metadata": {}
        },
        {
          "output_type": "display_data",
          "data": {
            "text/html": [
              "<style>\n",
              ".list-inline {list-style: none; margin:0; padding: 0}\n",
              ".list-inline>li {display: inline-block}\n",
              ".list-inline>li:not(:last-child)::after {content: \"\\00b7\"; padding: 0 .5ex}\n",
              "</style>\n",
              "<ol class=list-inline><li>3086</li><li>141</li></ol>\n"
            ],
            "text/markdown": "1. 3086\n2. 141\n\n\n",
            "text/latex": "\\begin{enumerate*}\n\\item 3086\n\\item 141\n\\end{enumerate*}\n",
            "text/plain": [
              "[1] 3086  141"
            ]
          },
          "metadata": {}
        }
      ],
      "source": [
        "head(ft)\n",
        "dim(ft)"
      ]
    },
    {
      "cell_type": "code",
      "execution_count": 7,
      "id": "a7bf0865",
      "metadata": {
        "colab": {
          "base_uri": "https://localhost:8080/",
          "height": 445
        },
        "id": "a7bf0865",
        "outputId": "17872895-d538-4011-ec96-7e22123027ee"
      },
      "outputs": [
        {
          "output_type": "display_data",
          "data": {
            "text/html": [
              "<table class=\"dataframe\">\n",
              "<caption>A data.frame: 6 × 55</caption>\n",
              "<thead>\n",
              "\t<tr><th></th><th scope=col>filename</th><th scope=col>ATTRIBUTE_accession</th><th scope=col>ATTRIBUTE_SampleType</th><th scope=col>ATTRIBUTE_sampleNumber</th><th scope=col>ATTRIBUTE_treatment</th><th scope=col>ATTRIBUTE_replicates</th><th scope=col>ATTRIBUTE_Condition</th><th scope=col>Accessions</th><th scope=col>Treatment</th><th scope=col>Sample_code</th><th scope=col>⋯</th><th scope=col>Aviso-PBD16_CuCl2</th><th scope=col>Aviso-PBD16_H2O</th><th scope=col>Aviso-PBD17_CuCl2</th><th scope=col>Aviso-PBD17_H2O</th><th scope=col>Aviso-PBD18_CuCl2</th><th scope=col>Aviso-PBD18_H2O</th><th scope=col>Aviso-PBD19_CuCl2</th><th scope=col>Aviso-PBD19_H2O</th><th scope=col>Aviso-PBD20_CuCl2</th><th scope=col>Aviso-PBD20_H2O</th></tr>\n",
              "\t<tr><th></th><th scope=col>&lt;chr&gt;</th><th scope=col>&lt;chr&gt;</th><th scope=col>&lt;chr&gt;</th><th scope=col>&lt;chr&gt;</th><th scope=col>&lt;chr&gt;</th><th scope=col>&lt;int&gt;</th><th scope=col>&lt;chr&gt;</th><th scope=col>&lt;chr&gt;</th><th scope=col>&lt;chr&gt;</th><th scope=col>&lt;chr&gt;</th><th scope=col>⋯</th><th scope=col>&lt;chr&gt;</th><th scope=col>&lt;chr&gt;</th><th scope=col>&lt;chr&gt;</th><th scope=col>&lt;chr&gt;</th><th scope=col>&lt;chr&gt;</th><th scope=col>&lt;chr&gt;</th><th scope=col>&lt;chr&gt;</th><th scope=col>&lt;chr&gt;</th><th scope=col>&lt;chr&gt;</th><th scope=col>&lt;chr&gt;</th></tr>\n",
              "</thead>\n",
              "<tbody>\n",
              "\t<tr><th scope=row>1</th><td>Aviso_232_CuCl2_Block2.mzXML Sample</td><td>Aviso</td><td>With_Treatment</td><td>232</td><td>CuCl2</td><td>2</td><td>CuCl2-induced stress</td><td>Aviso</td><td>CuCl2</td><td>Aviso_232_CuCl2_B2</td><td>⋯</td><td>Aviso_CuCl2</td><td></td><td>Aviso_CuCl2</td><td></td><td>Aviso_CuCl2</td><td></td><td>Aviso_CuCl2</td><td></td><td>Aviso_CuCl2</td><td></td></tr>\n",
              "\t<tr><th scope=row>2</th><td>Aviso_233_CuCl2_Block2.mzXML Sample</td><td>Aviso</td><td>With_Treatment</td><td>233</td><td>CuCl2</td><td>2</td><td>CuCl2-induced stress</td><td>Aviso</td><td>CuCl2</td><td>Aviso_233_CuCl2_B2</td><td>⋯</td><td>Aviso_CuCl2</td><td></td><td>Aviso_CuCl2</td><td></td><td>Aviso_CuCl2</td><td></td><td>Aviso_CuCl2</td><td></td><td>Aviso_CuCl2</td><td></td></tr>\n",
              "\t<tr><th scope=row>3</th><td>Aviso_280_CuCl2_Block3.mzXML Sample</td><td>Aviso</td><td>With_Treatment</td><td>280</td><td>CuCl2</td><td>3</td><td>CuCl2-induced stress</td><td>Aviso</td><td>CuCl2</td><td>Aviso_280_CuCl2_B3</td><td>⋯</td><td>Aviso_CuCl2</td><td></td><td>Aviso_CuCl2</td><td></td><td>Aviso_CuCl2</td><td></td><td>Aviso_CuCl2</td><td></td><td>Aviso_CuCl2</td><td></td></tr>\n",
              "\t<tr><th scope=row>4</th><td>Chifu_187_CuCl2_Block1.mzXML Sample</td><td>Chifu</td><td>With_Treatment</td><td>187</td><td>CuCl2</td><td>1</td><td>CuCl2-induced stress</td><td>Chifu</td><td>CuCl2</td><td>Chifu_187_CuCl2_B1</td><td>⋯</td><td>           </td><td></td><td>           </td><td></td><td>           </td><td></td><td>           </td><td></td><td>           </td><td></td></tr>\n",
              "\t<tr><th scope=row>5</th><td>Chifu_231_CuCl2_Block2.mzXML Sample</td><td>Chifu</td><td>With_Treatment</td><td>231</td><td>CuCl2</td><td>2</td><td>CuCl2-induced stress</td><td>Chifu</td><td>CuCl2</td><td>Chifu_231_CuCl2_B2</td><td>⋯</td><td>           </td><td></td><td>           </td><td></td><td>           </td><td></td><td>           </td><td></td><td>           </td><td></td></tr>\n",
              "\t<tr><th scope=row>6</th><td>Chifu_279_CuCl2_Block3.mzXML Sample</td><td>Chifu</td><td>With_Treatment</td><td>279</td><td>CuCl2</td><td>3</td><td>CuCl2-induced stress</td><td>Chifu</td><td>CuCl2</td><td>Chifu_279_CuCl2_B3</td><td>⋯</td><td>           </td><td></td><td>           </td><td></td><td>           </td><td></td><td>           </td><td></td><td>           </td><td></td></tr>\n",
              "</tbody>\n",
              "</table>\n"
            ],
            "text/markdown": "\nA data.frame: 6 × 55\n\n| <!--/--> | filename &lt;chr&gt; | ATTRIBUTE_accession &lt;chr&gt; | ATTRIBUTE_SampleType &lt;chr&gt; | ATTRIBUTE_sampleNumber &lt;chr&gt; | ATTRIBUTE_treatment &lt;chr&gt; | ATTRIBUTE_replicates &lt;int&gt; | ATTRIBUTE_Condition &lt;chr&gt; | Accessions &lt;chr&gt; | Treatment &lt;chr&gt; | Sample_code &lt;chr&gt; | ⋯ ⋯ | Aviso-PBD16_CuCl2 &lt;chr&gt; | Aviso-PBD16_H2O &lt;chr&gt; | Aviso-PBD17_CuCl2 &lt;chr&gt; | Aviso-PBD17_H2O &lt;chr&gt; | Aviso-PBD18_CuCl2 &lt;chr&gt; | Aviso-PBD18_H2O &lt;chr&gt; | Aviso-PBD19_CuCl2 &lt;chr&gt; | Aviso-PBD19_H2O &lt;chr&gt; | Aviso-PBD20_CuCl2 &lt;chr&gt; | Aviso-PBD20_H2O &lt;chr&gt; |\n|---|---|---|---|---|---|---|---|---|---|---|---|---|---|---|---|---|---|---|---|---|---|\n| 1 | Aviso_232_CuCl2_Block2.mzXML Sample | Aviso | With_Treatment | 232 | CuCl2 | 2 | CuCl2-induced stress | Aviso | CuCl2 | Aviso_232_CuCl2_B2 | ⋯ | Aviso_CuCl2 | <!----> | Aviso_CuCl2 | <!----> | Aviso_CuCl2 | <!----> | Aviso_CuCl2 | <!----> | Aviso_CuCl2 | <!----> |\n| 2 | Aviso_233_CuCl2_Block2.mzXML Sample | Aviso | With_Treatment | 233 | CuCl2 | 2 | CuCl2-induced stress | Aviso | CuCl2 | Aviso_233_CuCl2_B2 | ⋯ | Aviso_CuCl2 | <!----> | Aviso_CuCl2 | <!----> | Aviso_CuCl2 | <!----> | Aviso_CuCl2 | <!----> | Aviso_CuCl2 | <!----> |\n| 3 | Aviso_280_CuCl2_Block3.mzXML Sample | Aviso | With_Treatment | 280 | CuCl2 | 3 | CuCl2-induced stress | Aviso | CuCl2 | Aviso_280_CuCl2_B3 | ⋯ | Aviso_CuCl2 | <!----> | Aviso_CuCl2 | <!----> | Aviso_CuCl2 | <!----> | Aviso_CuCl2 | <!----> | Aviso_CuCl2 | <!----> |\n| 4 | Chifu_187_CuCl2_Block1.mzXML Sample | Chifu | With_Treatment | 187 | CuCl2 | 1 | CuCl2-induced stress | Chifu | CuCl2 | Chifu_187_CuCl2_B1 | ⋯ | <!----> | <!----> | <!----> | <!----> | <!----> | <!----> | <!----> | <!----> | <!----> | <!----> |\n| 5 | Chifu_231_CuCl2_Block2.mzXML Sample | Chifu | With_Treatment | 231 | CuCl2 | 2 | CuCl2-induced stress | Chifu | CuCl2 | Chifu_231_CuCl2_B2 | ⋯ | <!----> | <!----> | <!----> | <!----> | <!----> | <!----> | <!----> | <!----> | <!----> | <!----> |\n| 6 | Chifu_279_CuCl2_Block3.mzXML Sample | Chifu | With_Treatment | 279 | CuCl2 | 3 | CuCl2-induced stress | Chifu | CuCl2 | Chifu_279_CuCl2_B3 | ⋯ | <!----> | <!----> | <!----> | <!----> | <!----> | <!----> | <!----> | <!----> | <!----> | <!----> |\n\n",
            "text/latex": "A data.frame: 6 × 55\n\\begin{tabular}{r|lllllllllllllllllllll}\n  & filename & ATTRIBUTE\\_accession & ATTRIBUTE\\_SampleType & ATTRIBUTE\\_sampleNumber & ATTRIBUTE\\_treatment & ATTRIBUTE\\_replicates & ATTRIBUTE\\_Condition & Accessions & Treatment & Sample\\_code & ⋯ & Aviso-PBD16\\_CuCl2 & Aviso-PBD16\\_H2O & Aviso-PBD17\\_CuCl2 & Aviso-PBD17\\_H2O & Aviso-PBD18\\_CuCl2 & Aviso-PBD18\\_H2O & Aviso-PBD19\\_CuCl2 & Aviso-PBD19\\_H2O & Aviso-PBD20\\_CuCl2 & Aviso-PBD20\\_H2O\\\\\n  & <chr> & <chr> & <chr> & <chr> & <chr> & <int> & <chr> & <chr> & <chr> & <chr> & ⋯ & <chr> & <chr> & <chr> & <chr> & <chr> & <chr> & <chr> & <chr> & <chr> & <chr>\\\\\n\\hline\n\t1 & Aviso\\_232\\_CuCl2\\_Block2.mzXML Sample & Aviso & With\\_Treatment & 232 & CuCl2 & 2 & CuCl2-induced stress & Aviso & CuCl2 & Aviso\\_232\\_CuCl2\\_B2 & ⋯ & Aviso\\_CuCl2 &  & Aviso\\_CuCl2 &  & Aviso\\_CuCl2 &  & Aviso\\_CuCl2 &  & Aviso\\_CuCl2 & \\\\\n\t2 & Aviso\\_233\\_CuCl2\\_Block2.mzXML Sample & Aviso & With\\_Treatment & 233 & CuCl2 & 2 & CuCl2-induced stress & Aviso & CuCl2 & Aviso\\_233\\_CuCl2\\_B2 & ⋯ & Aviso\\_CuCl2 &  & Aviso\\_CuCl2 &  & Aviso\\_CuCl2 &  & Aviso\\_CuCl2 &  & Aviso\\_CuCl2 & \\\\\n\t3 & Aviso\\_280\\_CuCl2\\_Block3.mzXML Sample & Aviso & With\\_Treatment & 280 & CuCl2 & 3 & CuCl2-induced stress & Aviso & CuCl2 & Aviso\\_280\\_CuCl2\\_B3 & ⋯ & Aviso\\_CuCl2 &  & Aviso\\_CuCl2 &  & Aviso\\_CuCl2 &  & Aviso\\_CuCl2 &  & Aviso\\_CuCl2 & \\\\\n\t4 & Chifu\\_187\\_CuCl2\\_Block1.mzXML Sample & Chifu & With\\_Treatment & 187 & CuCl2 & 1 & CuCl2-induced stress & Chifu & CuCl2 & Chifu\\_187\\_CuCl2\\_B1 & ⋯ &             &  &             &  &             &  &             &  &             & \\\\\n\t5 & Chifu\\_231\\_CuCl2\\_Block2.mzXML Sample & Chifu & With\\_Treatment & 231 & CuCl2 & 2 & CuCl2-induced stress & Chifu & CuCl2 & Chifu\\_231\\_CuCl2\\_B2 & ⋯ &             &  &             &  &             &  &             &  &             & \\\\\n\t6 & Chifu\\_279\\_CuCl2\\_Block3.mzXML Sample & Chifu & With\\_Treatment & 279 & CuCl2 & 3 & CuCl2-induced stress & Chifu & CuCl2 & Chifu\\_279\\_CuCl2\\_B3 & ⋯ &             &  &             &  &             &  &             &  &             & \\\\\n\\end{tabular}\n",
            "text/plain": [
              "  filename                            ATTRIBUTE_accession ATTRIBUTE_SampleType\n",
              "1 Aviso_232_CuCl2_Block2.mzXML Sample Aviso               With_Treatment      \n",
              "2 Aviso_233_CuCl2_Block2.mzXML Sample Aviso               With_Treatment      \n",
              "3 Aviso_280_CuCl2_Block3.mzXML Sample Aviso               With_Treatment      \n",
              "4 Chifu_187_CuCl2_Block1.mzXML Sample Chifu               With_Treatment      \n",
              "5 Chifu_231_CuCl2_Block2.mzXML Sample Chifu               With_Treatment      \n",
              "6 Chifu_279_CuCl2_Block3.mzXML Sample Chifu               With_Treatment      \n",
              "  ATTRIBUTE_sampleNumber ATTRIBUTE_treatment ATTRIBUTE_replicates\n",
              "1 232                    CuCl2               2                   \n",
              "2 233                    CuCl2               2                   \n",
              "3 280                    CuCl2               3                   \n",
              "4 187                    CuCl2               1                   \n",
              "5 231                    CuCl2               2                   \n",
              "6 279                    CuCl2               3                   \n",
              "  ATTRIBUTE_Condition  Accessions Treatment Sample_code        ⋯\n",
              "1 CuCl2-induced stress Aviso      CuCl2     Aviso_232_CuCl2_B2 ⋯\n",
              "2 CuCl2-induced stress Aviso      CuCl2     Aviso_233_CuCl2_B2 ⋯\n",
              "3 CuCl2-induced stress Aviso      CuCl2     Aviso_280_CuCl2_B3 ⋯\n",
              "4 CuCl2-induced stress Chifu      CuCl2     Chifu_187_CuCl2_B1 ⋯\n",
              "5 CuCl2-induced stress Chifu      CuCl2     Chifu_231_CuCl2_B2 ⋯\n",
              "6 CuCl2-induced stress Chifu      CuCl2     Chifu_279_CuCl2_B3 ⋯\n",
              "  Aviso-PBD16_CuCl2 Aviso-PBD16_H2O Aviso-PBD17_CuCl2 Aviso-PBD17_H2O\n",
              "1 Aviso_CuCl2                       Aviso_CuCl2                      \n",
              "2 Aviso_CuCl2                       Aviso_CuCl2                      \n",
              "3 Aviso_CuCl2                       Aviso_CuCl2                      \n",
              "4                                                                    \n",
              "5                                                                    \n",
              "6                                                                    \n",
              "  Aviso-PBD18_CuCl2 Aviso-PBD18_H2O Aviso-PBD19_CuCl2 Aviso-PBD19_H2O\n",
              "1 Aviso_CuCl2                       Aviso_CuCl2                      \n",
              "2 Aviso_CuCl2                       Aviso_CuCl2                      \n",
              "3 Aviso_CuCl2                       Aviso_CuCl2                      \n",
              "4                                                                    \n",
              "5                                                                    \n",
              "6                                                                    \n",
              "  Aviso-PBD20_CuCl2 Aviso-PBD20_H2O\n",
              "1 Aviso_CuCl2                      \n",
              "2 Aviso_CuCl2                      \n",
              "3 Aviso_CuCl2                      \n",
              "4                                  \n",
              "5                                  \n",
              "6                                  "
            ]
          },
          "metadata": {}
        },
        {
          "output_type": "display_data",
          "data": {
            "text/html": [
              "<style>\n",
              ".list-inline {list-style: none; margin:0; padding: 0}\n",
              ".list-inline>li {display: inline-block}\n",
              ".list-inline>li:not(:last-child)::after {content: \"\\00b7\"; padding: 0 .5ex}\n",
              "</style>\n",
              "<ol class=list-inline><li>138</li><li>55</li></ol>\n"
            ],
            "text/markdown": "1. 138\n2. 55\n\n\n",
            "text/latex": "\\begin{enumerate*}\n\\item 138\n\\item 55\n\\end{enumerate*}\n",
            "text/plain": [
              "[1] 138  55"
            ]
          },
          "metadata": {}
        }
      ],
      "source": [
        "head(md)\n",
        "dim(md)"
      ]
    },
    {
      "cell_type": "markdown",
      "id": "f19073e0",
      "metadata": {
        "id": "f19073e0"
      },
      "source": [
        "Trying to bring the feature table and metadata in the correct format such as the rownames of metadata and column names of feature table are the same. They both are the file names and they need to be same as from now on, we will call the columns in our feature table based on our metadata information. Thus, using the metadata, the user can filter their data easily. You can also directly deal with your feature table without metadata by getting your hands dirty with some coding!! But having a metadata improves the user-experience greatly."
      ]
    },
    {
      "cell_type": "code",
      "execution_count": 8,
      "id": "25ffd93c",
      "metadata": {
        "id": "25ffd93c"
      },
      "outputs": [],
      "source": [
        "#Removing Peak area extensions\n",
        "colnames(ft) <- gsub(' Sample','',colnames(ft))\n",
        "#colnames(nft) <- gsub(' Sample','',colnames(nft))\n",
        "md$filename<- gsub(' Sample','',md$filename)\n",
        "\n",
        "#Removing if any NA columns present in the md file\n",
        "ft <- ft[,colSums(is.na(ft))<nrow(ft)]\n",
        "#nft <- nft[,colSums(is.na(nft))<nrow(nft)]\n",
        "md <- md[,colSums(is.na(md))<nrow(md)]\n",
        "\n",
        "#Changing the row names of the files\n",
        "rownames(md) <- md$filename\n",
        "md <- md[,-1]\n",
        "rownames(ft) <- paste(ft$'row ID',round(ft$'row m/z',digits = 3),round(ft$'row retention time',digits = 3), sep = '_')\n",
        "#rownames(nft) <- paste(nft$'row ID',round(nft$'row m/z',digits = 3),round(nft$'row retention time',digits = 3), sep = '_')\n",
        "\n",
        "#Picking only the files with column names containing 'mzML'\n",
        "ft <- ft[,grep('mzXML',colnames(ft))]\n",
        "#nft <- nft[,grep('mzML',colnames(nft))]\n",
        "\n",
        "# Converting replicate attributes into factors (categorical data)\n",
        "md$ATTRIBUTE_replicates <- as.factor(md$ATTRIBUTE_replicates)"
      ]
    },
    {
      "cell_type": "markdown",
      "id": "e927cf45",
      "metadata": {
        "id": "e927cf45"
      },
      "source": [
        "Lets check the files once again!!"
      ]
    },
    {
      "cell_type": "code",
      "execution_count": 9,
      "id": "499d8a48",
      "metadata": {
        "colab": {
          "base_uri": "https://localhost:8080/",
          "height": 341
        },
        "id": "499d8a48",
        "outputId": "a4602399-1d04-44ed-8631-cb2d80688654"
      },
      "outputs": [
        {
          "output_type": "display_data",
          "data": {
            "text/html": [
              "<table class=\"dataframe\">\n",
              "<caption>A data.frame: 6 × 138</caption>\n",
              "<thead>\n",
              "\t<tr><th></th><th scope=col>Aviso_232_CuCl2_Block2.mzXML</th><th scope=col>Aviso_233_CuCl2_Block2.mzXML</th><th scope=col>Aviso_280_CuCl2_Block3.mzXML</th><th scope=col>Chifu_187_CuCl2_Block1.mzXML</th><th scope=col>Chifu_231_CuCl2_Block2.mzXML</th><th scope=col>Chifu_279_CuCl2_Block3.mzXML</th><th scope=col>HDEM_186_CuCl2_Block1.mzXML</th><th scope=col>HDEM_230_CuCl2_Block2.mzXML</th><th scope=col>HDEM_278_CuCl2_Block3.mzXML</th><th scope=col>PBD01_167_CuCl2_Block1.mzXML</th><th scope=col>⋯</th><th scope=col>PBD17_250_Control _Block3.mzXML</th><th scope=col>PBD18_160_Control _Block1.mzXML</th><th scope=col>PBD18_206_Control _Block2.mzXML</th><th scope=col>PBD18_251_Control _Block3.mzXML</th><th scope=col>PBD19_207_Control _Block2.mzXML</th><th scope=col>PBD19_252_Control _Block3.mzXML</th><th scope=col>PBD19_207_252_Control _Block3.mzXML</th><th scope=col>PBD20_253_Control _Block3.1.mzXML</th><th scope=col>PBD20_253_Control _Block3.2.mzXML</th><th scope=col>PBD20_253_Control _Block3.3.mzXML</th></tr>\n",
              "\t<tr><th></th><th scope=col>&lt;dbl&gt;</th><th scope=col>&lt;dbl&gt;</th><th scope=col>&lt;dbl&gt;</th><th scope=col>&lt;dbl&gt;</th><th scope=col>&lt;dbl&gt;</th><th scope=col>&lt;dbl&gt;</th><th scope=col>&lt;dbl&gt;</th><th scope=col>&lt;dbl&gt;</th><th scope=col>&lt;dbl&gt;</th><th scope=col>&lt;dbl&gt;</th><th scope=col>⋯</th><th scope=col>&lt;dbl&gt;</th><th scope=col>&lt;dbl&gt;</th><th scope=col>&lt;dbl&gt;</th><th scope=col>&lt;dbl&gt;</th><th scope=col>&lt;dbl&gt;</th><th scope=col>&lt;dbl&gt;</th><th scope=col>&lt;dbl&gt;</th><th scope=col>&lt;dbl&gt;</th><th scope=col>&lt;dbl&gt;</th><th scope=col>&lt;dbl&gt;</th></tr>\n",
              "</thead>\n",
              "<tbody>\n",
              "\t<tr><th scope=row>2_Neg_477.065_4.52</th><td>0.3120</td><td>0.2700</td><td>0.2590</td><td>0.4220</td><td>0.3940</td><td>0.3760</td><td>0.45900</td><td>0.36800</td><td>0.3360</td><td>0.6140</td><td>⋯</td><td>0.8030</td><td>0.12100</td><td>0.3700</td><td>0.5680</td><td>0.3290</td><td>0.6610</td><td>0.4950</td><td>0.7630</td><td>0.7630</td><td>0.7630</td></tr>\n",
              "\t<tr><th scope=row>3_Neg_112.986_0.74</th><td>0.1770</td><td>0.1580</td><td>0.1920</td><td>0.2660</td><td>0.1770</td><td>0.2110</td><td>0.31900</td><td>0.25400</td><td>0.1810</td><td>0.3640</td><td>⋯</td><td>0.3660</td><td>0.08090</td><td>0.2110</td><td>0.3040</td><td>0.1950</td><td>0.3490</td><td>0.2720</td><td>0.3670</td><td>0.3670</td><td>0.3670</td></tr>\n",
              "\t<tr><th scope=row>4_Neg_133.014_0.71</th><td>0.1050</td><td>0.1100</td><td>0.1190</td><td>0.1020</td><td>0.1380</td><td>0.1600</td><td>0.13500</td><td>0.09830</td><td>0.1060</td><td>0.1030</td><td>⋯</td><td>0.3300</td><td>0.05040</td><td>0.1470</td><td>0.1770</td><td>0.0846</td><td>0.2290</td><td>0.1570</td><td>0.1760</td><td>0.1760</td><td>0.1760</td></tr>\n",
              "\t<tr><th scope=row>8_Neg_420.046_2.93</th><td>0.1250</td><td>0.1430</td><td>0.1670</td><td>0.0121</td><td>0.0483</td><td>0.0561</td><td>0.09240</td><td>0.09550</td><td>0.1320</td><td>0.0365</td><td>⋯</td><td>0.3320</td><td>0.13900</td><td>0.4140</td><td>0.3140</td><td>0.1170</td><td>0.0954</td><td>0.1060</td><td>0.4330</td><td>0.4330</td><td>0.4330</td></tr>\n",
              "\t<tr><th scope=row>9_Neg_439.085_0.68</th><td>0.0111</td><td>0.0165</td><td>0.0227</td><td>0.0149</td><td>0.0250</td><td>0.0201</td><td>0.00984</td><td>0.00719</td><td>0.0146</td><td>0.0264</td><td>⋯</td><td>0.1110</td><td>0.00695</td><td>0.0230</td><td>0.0280</td><td>0.0266</td><td>0.0562</td><td>0.0414</td><td>0.0491</td><td>0.0491</td><td>0.0491</td></tr>\n",
              "\t<tr><th scope=row>11_Neg_174.956_0.56</th><td>0.0369</td><td>0.0382</td><td>0.0311</td><td>0.0531</td><td>0.0423</td><td>0.0436</td><td>0.05550</td><td>0.03960</td><td>0.0356</td><td>0.0776</td><td>⋯</td><td>0.0704</td><td>0.01590</td><td>0.0425</td><td>0.0536</td><td>0.0290</td><td>0.0612</td><td>0.0451</td><td>0.0888</td><td>0.0888</td><td>0.0888</td></tr>\n",
              "</tbody>\n",
              "</table>\n"
            ],
            "text/markdown": "\nA data.frame: 6 × 138\n\n| <!--/--> | Aviso_232_CuCl2_Block2.mzXML &lt;dbl&gt; | Aviso_233_CuCl2_Block2.mzXML &lt;dbl&gt; | Aviso_280_CuCl2_Block3.mzXML &lt;dbl&gt; | Chifu_187_CuCl2_Block1.mzXML &lt;dbl&gt; | Chifu_231_CuCl2_Block2.mzXML &lt;dbl&gt; | Chifu_279_CuCl2_Block3.mzXML &lt;dbl&gt; | HDEM_186_CuCl2_Block1.mzXML &lt;dbl&gt; | HDEM_230_CuCl2_Block2.mzXML &lt;dbl&gt; | HDEM_278_CuCl2_Block3.mzXML &lt;dbl&gt; | PBD01_167_CuCl2_Block1.mzXML &lt;dbl&gt; | ⋯ ⋯ | PBD17_250_Control _Block3.mzXML &lt;dbl&gt; | PBD18_160_Control _Block1.mzXML &lt;dbl&gt; | PBD18_206_Control _Block2.mzXML &lt;dbl&gt; | PBD18_251_Control _Block3.mzXML &lt;dbl&gt; | PBD19_207_Control _Block2.mzXML &lt;dbl&gt; | PBD19_252_Control _Block3.mzXML &lt;dbl&gt; | PBD19_207_252_Control _Block3.mzXML &lt;dbl&gt; | PBD20_253_Control _Block3.1.mzXML &lt;dbl&gt; | PBD20_253_Control _Block3.2.mzXML &lt;dbl&gt; | PBD20_253_Control _Block3.3.mzXML &lt;dbl&gt; |\n|---|---|---|---|---|---|---|---|---|---|---|---|---|---|---|---|---|---|---|---|---|---|\n| 2_Neg_477.065_4.52 | 0.3120 | 0.2700 | 0.2590 | 0.4220 | 0.3940 | 0.3760 | 0.45900 | 0.36800 | 0.3360 | 0.6140 | ⋯ | 0.8030 | 0.12100 | 0.3700 | 0.5680 | 0.3290 | 0.6610 | 0.4950 | 0.7630 | 0.7630 | 0.7630 |\n| 3_Neg_112.986_0.74 | 0.1770 | 0.1580 | 0.1920 | 0.2660 | 0.1770 | 0.2110 | 0.31900 | 0.25400 | 0.1810 | 0.3640 | ⋯ | 0.3660 | 0.08090 | 0.2110 | 0.3040 | 0.1950 | 0.3490 | 0.2720 | 0.3670 | 0.3670 | 0.3670 |\n| 4_Neg_133.014_0.71 | 0.1050 | 0.1100 | 0.1190 | 0.1020 | 0.1380 | 0.1600 | 0.13500 | 0.09830 | 0.1060 | 0.1030 | ⋯ | 0.3300 | 0.05040 | 0.1470 | 0.1770 | 0.0846 | 0.2290 | 0.1570 | 0.1760 | 0.1760 | 0.1760 |\n| 8_Neg_420.046_2.93 | 0.1250 | 0.1430 | 0.1670 | 0.0121 | 0.0483 | 0.0561 | 0.09240 | 0.09550 | 0.1320 | 0.0365 | ⋯ | 0.3320 | 0.13900 | 0.4140 | 0.3140 | 0.1170 | 0.0954 | 0.1060 | 0.4330 | 0.4330 | 0.4330 |\n| 9_Neg_439.085_0.68 | 0.0111 | 0.0165 | 0.0227 | 0.0149 | 0.0250 | 0.0201 | 0.00984 | 0.00719 | 0.0146 | 0.0264 | ⋯ | 0.1110 | 0.00695 | 0.0230 | 0.0280 | 0.0266 | 0.0562 | 0.0414 | 0.0491 | 0.0491 | 0.0491 |\n| 11_Neg_174.956_0.56 | 0.0369 | 0.0382 | 0.0311 | 0.0531 | 0.0423 | 0.0436 | 0.05550 | 0.03960 | 0.0356 | 0.0776 | ⋯ | 0.0704 | 0.01590 | 0.0425 | 0.0536 | 0.0290 | 0.0612 | 0.0451 | 0.0888 | 0.0888 | 0.0888 |\n\n",
            "text/latex": "A data.frame: 6 × 138\n\\begin{tabular}{r|lllllllllllllllllllll}\n  & Aviso\\_232\\_CuCl2\\_Block2.mzXML & Aviso\\_233\\_CuCl2\\_Block2.mzXML & Aviso\\_280\\_CuCl2\\_Block3.mzXML & Chifu\\_187\\_CuCl2\\_Block1.mzXML & Chifu\\_231\\_CuCl2\\_Block2.mzXML & Chifu\\_279\\_CuCl2\\_Block3.mzXML & HDEM\\_186\\_CuCl2\\_Block1.mzXML & HDEM\\_230\\_CuCl2\\_Block2.mzXML & HDEM\\_278\\_CuCl2\\_Block3.mzXML & PBD01\\_167\\_CuCl2\\_Block1.mzXML & ⋯ & PBD17\\_250\\_Control \\_Block3.mzXML & PBD18\\_160\\_Control \\_Block1.mzXML & PBD18\\_206\\_Control \\_Block2.mzXML & PBD18\\_251\\_Control \\_Block3.mzXML & PBD19\\_207\\_Control \\_Block2.mzXML & PBD19\\_252\\_Control \\_Block3.mzXML & PBD19\\_207\\_252\\_Control \\_Block3.mzXML & PBD20\\_253\\_Control \\_Block3.1.mzXML & PBD20\\_253\\_Control \\_Block3.2.mzXML & PBD20\\_253\\_Control \\_Block3.3.mzXML\\\\\n  & <dbl> & <dbl> & <dbl> & <dbl> & <dbl> & <dbl> & <dbl> & <dbl> & <dbl> & <dbl> & ⋯ & <dbl> & <dbl> & <dbl> & <dbl> & <dbl> & <dbl> & <dbl> & <dbl> & <dbl> & <dbl>\\\\\n\\hline\n\t2\\_Neg\\_477.065\\_4.52 & 0.3120 & 0.2700 & 0.2590 & 0.4220 & 0.3940 & 0.3760 & 0.45900 & 0.36800 & 0.3360 & 0.6140 & ⋯ & 0.8030 & 0.12100 & 0.3700 & 0.5680 & 0.3290 & 0.6610 & 0.4950 & 0.7630 & 0.7630 & 0.7630\\\\\n\t3\\_Neg\\_112.986\\_0.74 & 0.1770 & 0.1580 & 0.1920 & 0.2660 & 0.1770 & 0.2110 & 0.31900 & 0.25400 & 0.1810 & 0.3640 & ⋯ & 0.3660 & 0.08090 & 0.2110 & 0.3040 & 0.1950 & 0.3490 & 0.2720 & 0.3670 & 0.3670 & 0.3670\\\\\n\t4\\_Neg\\_133.014\\_0.71 & 0.1050 & 0.1100 & 0.1190 & 0.1020 & 0.1380 & 0.1600 & 0.13500 & 0.09830 & 0.1060 & 0.1030 & ⋯ & 0.3300 & 0.05040 & 0.1470 & 0.1770 & 0.0846 & 0.2290 & 0.1570 & 0.1760 & 0.1760 & 0.1760\\\\\n\t8\\_Neg\\_420.046\\_2.93 & 0.1250 & 0.1430 & 0.1670 & 0.0121 & 0.0483 & 0.0561 & 0.09240 & 0.09550 & 0.1320 & 0.0365 & ⋯ & 0.3320 & 0.13900 & 0.4140 & 0.3140 & 0.1170 & 0.0954 & 0.1060 & 0.4330 & 0.4330 & 0.4330\\\\\n\t9\\_Neg\\_439.085\\_0.68 & 0.0111 & 0.0165 & 0.0227 & 0.0149 & 0.0250 & 0.0201 & 0.00984 & 0.00719 & 0.0146 & 0.0264 & ⋯ & 0.1110 & 0.00695 & 0.0230 & 0.0280 & 0.0266 & 0.0562 & 0.0414 & 0.0491 & 0.0491 & 0.0491\\\\\n\t11\\_Neg\\_174.956\\_0.56 & 0.0369 & 0.0382 & 0.0311 & 0.0531 & 0.0423 & 0.0436 & 0.05550 & 0.03960 & 0.0356 & 0.0776 & ⋯ & 0.0704 & 0.01590 & 0.0425 & 0.0536 & 0.0290 & 0.0612 & 0.0451 & 0.0888 & 0.0888 & 0.0888\\\\\n\\end{tabular}\n",
            "text/plain": [
              "                    Aviso_232_CuCl2_Block2.mzXML Aviso_233_CuCl2_Block2.mzXML\n",
              "2_Neg_477.065_4.52  0.3120                       0.2700                      \n",
              "3_Neg_112.986_0.74  0.1770                       0.1580                      \n",
              "4_Neg_133.014_0.71  0.1050                       0.1100                      \n",
              "8_Neg_420.046_2.93  0.1250                       0.1430                      \n",
              "9_Neg_439.085_0.68  0.0111                       0.0165                      \n",
              "11_Neg_174.956_0.56 0.0369                       0.0382                      \n",
              "                    Aviso_280_CuCl2_Block3.mzXML Chifu_187_CuCl2_Block1.mzXML\n",
              "2_Neg_477.065_4.52  0.2590                       0.4220                      \n",
              "3_Neg_112.986_0.74  0.1920                       0.2660                      \n",
              "4_Neg_133.014_0.71  0.1190                       0.1020                      \n",
              "8_Neg_420.046_2.93  0.1670                       0.0121                      \n",
              "9_Neg_439.085_0.68  0.0227                       0.0149                      \n",
              "11_Neg_174.956_0.56 0.0311                       0.0531                      \n",
              "                    Chifu_231_CuCl2_Block2.mzXML Chifu_279_CuCl2_Block3.mzXML\n",
              "2_Neg_477.065_4.52  0.3940                       0.3760                      \n",
              "3_Neg_112.986_0.74  0.1770                       0.2110                      \n",
              "4_Neg_133.014_0.71  0.1380                       0.1600                      \n",
              "8_Neg_420.046_2.93  0.0483                       0.0561                      \n",
              "9_Neg_439.085_0.68  0.0250                       0.0201                      \n",
              "11_Neg_174.956_0.56 0.0423                       0.0436                      \n",
              "                    HDEM_186_CuCl2_Block1.mzXML HDEM_230_CuCl2_Block2.mzXML\n",
              "2_Neg_477.065_4.52  0.45900                     0.36800                    \n",
              "3_Neg_112.986_0.74  0.31900                     0.25400                    \n",
              "4_Neg_133.014_0.71  0.13500                     0.09830                    \n",
              "8_Neg_420.046_2.93  0.09240                     0.09550                    \n",
              "9_Neg_439.085_0.68  0.00984                     0.00719                    \n",
              "11_Neg_174.956_0.56 0.05550                     0.03960                    \n",
              "                    HDEM_278_CuCl2_Block3.mzXML PBD01_167_CuCl2_Block1.mzXML ⋯\n",
              "2_Neg_477.065_4.52  0.3360                      0.6140                       ⋯\n",
              "3_Neg_112.986_0.74  0.1810                      0.3640                       ⋯\n",
              "4_Neg_133.014_0.71  0.1060                      0.1030                       ⋯\n",
              "8_Neg_420.046_2.93  0.1320                      0.0365                       ⋯\n",
              "9_Neg_439.085_0.68  0.0146                      0.0264                       ⋯\n",
              "11_Neg_174.956_0.56 0.0356                      0.0776                       ⋯\n",
              "                    PBD17_250_Control _Block3.mzXML\n",
              "2_Neg_477.065_4.52  0.8030                         \n",
              "3_Neg_112.986_0.74  0.3660                         \n",
              "4_Neg_133.014_0.71  0.3300                         \n",
              "8_Neg_420.046_2.93  0.3320                         \n",
              "9_Neg_439.085_0.68  0.1110                         \n",
              "11_Neg_174.956_0.56 0.0704                         \n",
              "                    PBD18_160_Control _Block1.mzXML\n",
              "2_Neg_477.065_4.52  0.12100                        \n",
              "3_Neg_112.986_0.74  0.08090                        \n",
              "4_Neg_133.014_0.71  0.05040                        \n",
              "8_Neg_420.046_2.93  0.13900                        \n",
              "9_Neg_439.085_0.68  0.00695                        \n",
              "11_Neg_174.956_0.56 0.01590                        \n",
              "                    PBD18_206_Control _Block2.mzXML\n",
              "2_Neg_477.065_4.52  0.3700                         \n",
              "3_Neg_112.986_0.74  0.2110                         \n",
              "4_Neg_133.014_0.71  0.1470                         \n",
              "8_Neg_420.046_2.93  0.4140                         \n",
              "9_Neg_439.085_0.68  0.0230                         \n",
              "11_Neg_174.956_0.56 0.0425                         \n",
              "                    PBD18_251_Control _Block3.mzXML\n",
              "2_Neg_477.065_4.52  0.5680                         \n",
              "3_Neg_112.986_0.74  0.3040                         \n",
              "4_Neg_133.014_0.71  0.1770                         \n",
              "8_Neg_420.046_2.93  0.3140                         \n",
              "9_Neg_439.085_0.68  0.0280                         \n",
              "11_Neg_174.956_0.56 0.0536                         \n",
              "                    PBD19_207_Control _Block2.mzXML\n",
              "2_Neg_477.065_4.52  0.3290                         \n",
              "3_Neg_112.986_0.74  0.1950                         \n",
              "4_Neg_133.014_0.71  0.0846                         \n",
              "8_Neg_420.046_2.93  0.1170                         \n",
              "9_Neg_439.085_0.68  0.0266                         \n",
              "11_Neg_174.956_0.56 0.0290                         \n",
              "                    PBD19_252_Control _Block3.mzXML\n",
              "2_Neg_477.065_4.52  0.6610                         \n",
              "3_Neg_112.986_0.74  0.3490                         \n",
              "4_Neg_133.014_0.71  0.2290                         \n",
              "8_Neg_420.046_2.93  0.0954                         \n",
              "9_Neg_439.085_0.68  0.0562                         \n",
              "11_Neg_174.956_0.56 0.0612                         \n",
              "                    PBD19_207_252_Control _Block3.mzXML\n",
              "2_Neg_477.065_4.52  0.4950                             \n",
              "3_Neg_112.986_0.74  0.2720                             \n",
              "4_Neg_133.014_0.71  0.1570                             \n",
              "8_Neg_420.046_2.93  0.1060                             \n",
              "9_Neg_439.085_0.68  0.0414                             \n",
              "11_Neg_174.956_0.56 0.0451                             \n",
              "                    PBD20_253_Control _Block3.1.mzXML\n",
              "2_Neg_477.065_4.52  0.7630                           \n",
              "3_Neg_112.986_0.74  0.3670                           \n",
              "4_Neg_133.014_0.71  0.1760                           \n",
              "8_Neg_420.046_2.93  0.4330                           \n",
              "9_Neg_439.085_0.68  0.0491                           \n",
              "11_Neg_174.956_0.56 0.0888                           \n",
              "                    PBD20_253_Control _Block3.2.mzXML\n",
              "2_Neg_477.065_4.52  0.7630                           \n",
              "3_Neg_112.986_0.74  0.3670                           \n",
              "4_Neg_133.014_0.71  0.1760                           \n",
              "8_Neg_420.046_2.93  0.4330                           \n",
              "9_Neg_439.085_0.68  0.0491                           \n",
              "11_Neg_174.956_0.56 0.0888                           \n",
              "                    PBD20_253_Control _Block3.3.mzXML\n",
              "2_Neg_477.065_4.52  0.7630                           \n",
              "3_Neg_112.986_0.74  0.3670                           \n",
              "4_Neg_133.014_0.71  0.1760                           \n",
              "8_Neg_420.046_2.93  0.4330                           \n",
              "9_Neg_439.085_0.68  0.0491                           \n",
              "11_Neg_174.956_0.56 0.0888                           "
            ]
          },
          "metadata": {}
        },
        {
          "output_type": "display_data",
          "data": {
            "text/html": [
              "<style>\n",
              ".list-inline {list-style: none; margin:0; padding: 0}\n",
              ".list-inline>li {display: inline-block}\n",
              ".list-inline>li:not(:last-child)::after {content: \"\\00b7\"; padding: 0 .5ex}\n",
              "</style>\n",
              "<ol class=list-inline><li>3086</li><li>138</li></ol>\n"
            ],
            "text/markdown": "1. 3086\n2. 138\n\n\n",
            "text/latex": "\\begin{enumerate*}\n\\item 3086\n\\item 138\n\\end{enumerate*}\n",
            "text/plain": [
              "[1] 3086  138"
            ]
          },
          "metadata": {}
        }
      ],
      "source": [
        "head(ft)\n",
        "dim(ft)"
      ]
    },
    {
      "cell_type": "code",
      "execution_count": 10,
      "id": "55093982",
      "metadata": {
        "id": "55093982",
        "colab": {
          "base_uri": "https://localhost:8080/",
          "height": 341
        },
        "outputId": "77adc9d1-94fb-409c-e40c-e72e839849fc"
      },
      "outputs": [
        {
          "output_type": "display_data",
          "data": {
            "text/html": [
              "<table class=\"dataframe\">\n",
              "<caption>A data.frame: 6 × 54</caption>\n",
              "<thead>\n",
              "\t<tr><th></th><th scope=col>ATTRIBUTE_accession</th><th scope=col>ATTRIBUTE_SampleType</th><th scope=col>ATTRIBUTE_sampleNumber</th><th scope=col>ATTRIBUTE_treatment</th><th scope=col>ATTRIBUTE_replicates</th><th scope=col>ATTRIBUTE_Condition</th><th scope=col>Accessions</th><th scope=col>Treatment</th><th scope=col>Sample_code</th><th scope=col>Aviso-H2O_CuCl2</th><th scope=col>⋯</th><th scope=col>Aviso-PBD16_CuCl2</th><th scope=col>Aviso-PBD16_H2O</th><th scope=col>Aviso-PBD17_CuCl2</th><th scope=col>Aviso-PBD17_H2O</th><th scope=col>Aviso-PBD18_CuCl2</th><th scope=col>Aviso-PBD18_H2O</th><th scope=col>Aviso-PBD19_CuCl2</th><th scope=col>Aviso-PBD19_H2O</th><th scope=col>Aviso-PBD20_CuCl2</th><th scope=col>Aviso-PBD20_H2O</th></tr>\n",
              "\t<tr><th></th><th scope=col>&lt;chr&gt;</th><th scope=col>&lt;chr&gt;</th><th scope=col>&lt;chr&gt;</th><th scope=col>&lt;chr&gt;</th><th scope=col>&lt;fct&gt;</th><th scope=col>&lt;chr&gt;</th><th scope=col>&lt;chr&gt;</th><th scope=col>&lt;chr&gt;</th><th scope=col>&lt;chr&gt;</th><th scope=col>&lt;chr&gt;</th><th scope=col>⋯</th><th scope=col>&lt;chr&gt;</th><th scope=col>&lt;chr&gt;</th><th scope=col>&lt;chr&gt;</th><th scope=col>&lt;chr&gt;</th><th scope=col>&lt;chr&gt;</th><th scope=col>&lt;chr&gt;</th><th scope=col>&lt;chr&gt;</th><th scope=col>&lt;chr&gt;</th><th scope=col>&lt;chr&gt;</th><th scope=col>&lt;chr&gt;</th></tr>\n",
              "</thead>\n",
              "<tbody>\n",
              "\t<tr><th scope=row>Aviso_232_CuCl2_Block2.mzXML</th><td>Aviso</td><td>With_Treatment</td><td>232</td><td>CuCl2</td><td>2</td><td>CuCl2-induced stress</td><td>Aviso</td><td>CuCl2</td><td>Aviso_232_CuCl2_B2</td><td>Aviso_CuCl2</td><td>⋯</td><td>Aviso_CuCl2</td><td></td><td>Aviso_CuCl2</td><td></td><td>Aviso_CuCl2</td><td></td><td>Aviso_CuCl2</td><td></td><td>Aviso_CuCl2</td><td></td></tr>\n",
              "\t<tr><th scope=row>Aviso_233_CuCl2_Block2.mzXML</th><td>Aviso</td><td>With_Treatment</td><td>233</td><td>CuCl2</td><td>2</td><td>CuCl2-induced stress</td><td>Aviso</td><td>CuCl2</td><td>Aviso_233_CuCl2_B2</td><td>Aviso_CuCl2</td><td>⋯</td><td>Aviso_CuCl2</td><td></td><td>Aviso_CuCl2</td><td></td><td>Aviso_CuCl2</td><td></td><td>Aviso_CuCl2</td><td></td><td>Aviso_CuCl2</td><td></td></tr>\n",
              "\t<tr><th scope=row>Aviso_280_CuCl2_Block3.mzXML</th><td>Aviso</td><td>With_Treatment</td><td>280</td><td>CuCl2</td><td>3</td><td>CuCl2-induced stress</td><td>Aviso</td><td>CuCl2</td><td>Aviso_280_CuCl2_B3</td><td>Aviso_CuCl2</td><td>⋯</td><td>Aviso_CuCl2</td><td></td><td>Aviso_CuCl2</td><td></td><td>Aviso_CuCl2</td><td></td><td>Aviso_CuCl2</td><td></td><td>Aviso_CuCl2</td><td></td></tr>\n",
              "\t<tr><th scope=row>Chifu_187_CuCl2_Block1.mzXML</th><td>Chifu</td><td>With_Treatment</td><td>187</td><td>CuCl2</td><td>1</td><td>CuCl2-induced stress</td><td>Chifu</td><td>CuCl2</td><td>Chifu_187_CuCl2_B1</td><td>           </td><td>⋯</td><td>           </td><td></td><td>           </td><td></td><td>           </td><td></td><td>           </td><td></td><td>           </td><td></td></tr>\n",
              "\t<tr><th scope=row>Chifu_231_CuCl2_Block2.mzXML</th><td>Chifu</td><td>With_Treatment</td><td>231</td><td>CuCl2</td><td>2</td><td>CuCl2-induced stress</td><td>Chifu</td><td>CuCl2</td><td>Chifu_231_CuCl2_B2</td><td>           </td><td>⋯</td><td>           </td><td></td><td>           </td><td></td><td>           </td><td></td><td>           </td><td></td><td>           </td><td></td></tr>\n",
              "\t<tr><th scope=row>Chifu_279_CuCl2_Block3.mzXML</th><td>Chifu</td><td>With_Treatment</td><td>279</td><td>CuCl2</td><td>3</td><td>CuCl2-induced stress</td><td>Chifu</td><td>CuCl2</td><td>Chifu_279_CuCl2_B3</td><td>           </td><td>⋯</td><td>           </td><td></td><td>           </td><td></td><td>           </td><td></td><td>           </td><td></td><td>           </td><td></td></tr>\n",
              "</tbody>\n",
              "</table>\n"
            ],
            "text/markdown": "\nA data.frame: 6 × 54\n\n| <!--/--> | ATTRIBUTE_accession &lt;chr&gt; | ATTRIBUTE_SampleType &lt;chr&gt; | ATTRIBUTE_sampleNumber &lt;chr&gt; | ATTRIBUTE_treatment &lt;chr&gt; | ATTRIBUTE_replicates &lt;fct&gt; | ATTRIBUTE_Condition &lt;chr&gt; | Accessions &lt;chr&gt; | Treatment &lt;chr&gt; | Sample_code &lt;chr&gt; | Aviso-H2O_CuCl2 &lt;chr&gt; | ⋯ ⋯ | Aviso-PBD16_CuCl2 &lt;chr&gt; | Aviso-PBD16_H2O &lt;chr&gt; | Aviso-PBD17_CuCl2 &lt;chr&gt; | Aviso-PBD17_H2O &lt;chr&gt; | Aviso-PBD18_CuCl2 &lt;chr&gt; | Aviso-PBD18_H2O &lt;chr&gt; | Aviso-PBD19_CuCl2 &lt;chr&gt; | Aviso-PBD19_H2O &lt;chr&gt; | Aviso-PBD20_CuCl2 &lt;chr&gt; | Aviso-PBD20_H2O &lt;chr&gt; |\n|---|---|---|---|---|---|---|---|---|---|---|---|---|---|---|---|---|---|---|---|---|---|\n| Aviso_232_CuCl2_Block2.mzXML | Aviso | With_Treatment | 232 | CuCl2 | 2 | CuCl2-induced stress | Aviso | CuCl2 | Aviso_232_CuCl2_B2 | Aviso_CuCl2 | ⋯ | Aviso_CuCl2 | <!----> | Aviso_CuCl2 | <!----> | Aviso_CuCl2 | <!----> | Aviso_CuCl2 | <!----> | Aviso_CuCl2 | <!----> |\n| Aviso_233_CuCl2_Block2.mzXML | Aviso | With_Treatment | 233 | CuCl2 | 2 | CuCl2-induced stress | Aviso | CuCl2 | Aviso_233_CuCl2_B2 | Aviso_CuCl2 | ⋯ | Aviso_CuCl2 | <!----> | Aviso_CuCl2 | <!----> | Aviso_CuCl2 | <!----> | Aviso_CuCl2 | <!----> | Aviso_CuCl2 | <!----> |\n| Aviso_280_CuCl2_Block3.mzXML | Aviso | With_Treatment | 280 | CuCl2 | 3 | CuCl2-induced stress | Aviso | CuCl2 | Aviso_280_CuCl2_B3 | Aviso_CuCl2 | ⋯ | Aviso_CuCl2 | <!----> | Aviso_CuCl2 | <!----> | Aviso_CuCl2 | <!----> | Aviso_CuCl2 | <!----> | Aviso_CuCl2 | <!----> |\n| Chifu_187_CuCl2_Block1.mzXML | Chifu | With_Treatment | 187 | CuCl2 | 1 | CuCl2-induced stress | Chifu | CuCl2 | Chifu_187_CuCl2_B1 | <!----> | ⋯ | <!----> | <!----> | <!----> | <!----> | <!----> | <!----> | <!----> | <!----> | <!----> | <!----> |\n| Chifu_231_CuCl2_Block2.mzXML | Chifu | With_Treatment | 231 | CuCl2 | 2 | CuCl2-induced stress | Chifu | CuCl2 | Chifu_231_CuCl2_B2 | <!----> | ⋯ | <!----> | <!----> | <!----> | <!----> | <!----> | <!----> | <!----> | <!----> | <!----> | <!----> |\n| Chifu_279_CuCl2_Block3.mzXML | Chifu | With_Treatment | 279 | CuCl2 | 3 | CuCl2-induced stress | Chifu | CuCl2 | Chifu_279_CuCl2_B3 | <!----> | ⋯ | <!----> | <!----> | <!----> | <!----> | <!----> | <!----> | <!----> | <!----> | <!----> | <!----> |\n\n",
            "text/latex": "A data.frame: 6 × 54\n\\begin{tabular}{r|lllllllllllllllllllll}\n  & ATTRIBUTE\\_accession & ATTRIBUTE\\_SampleType & ATTRIBUTE\\_sampleNumber & ATTRIBUTE\\_treatment & ATTRIBUTE\\_replicates & ATTRIBUTE\\_Condition & Accessions & Treatment & Sample\\_code & Aviso-H2O\\_CuCl2 & ⋯ & Aviso-PBD16\\_CuCl2 & Aviso-PBD16\\_H2O & Aviso-PBD17\\_CuCl2 & Aviso-PBD17\\_H2O & Aviso-PBD18\\_CuCl2 & Aviso-PBD18\\_H2O & Aviso-PBD19\\_CuCl2 & Aviso-PBD19\\_H2O & Aviso-PBD20\\_CuCl2 & Aviso-PBD20\\_H2O\\\\\n  & <chr> & <chr> & <chr> & <chr> & <fct> & <chr> & <chr> & <chr> & <chr> & <chr> & ⋯ & <chr> & <chr> & <chr> & <chr> & <chr> & <chr> & <chr> & <chr> & <chr> & <chr>\\\\\n\\hline\n\tAviso\\_232\\_CuCl2\\_Block2.mzXML & Aviso & With\\_Treatment & 232 & CuCl2 & 2 & CuCl2-induced stress & Aviso & CuCl2 & Aviso\\_232\\_CuCl2\\_B2 & Aviso\\_CuCl2 & ⋯ & Aviso\\_CuCl2 &  & Aviso\\_CuCl2 &  & Aviso\\_CuCl2 &  & Aviso\\_CuCl2 &  & Aviso\\_CuCl2 & \\\\\n\tAviso\\_233\\_CuCl2\\_Block2.mzXML & Aviso & With\\_Treatment & 233 & CuCl2 & 2 & CuCl2-induced stress & Aviso & CuCl2 & Aviso\\_233\\_CuCl2\\_B2 & Aviso\\_CuCl2 & ⋯ & Aviso\\_CuCl2 &  & Aviso\\_CuCl2 &  & Aviso\\_CuCl2 &  & Aviso\\_CuCl2 &  & Aviso\\_CuCl2 & \\\\\n\tAviso\\_280\\_CuCl2\\_Block3.mzXML & Aviso & With\\_Treatment & 280 & CuCl2 & 3 & CuCl2-induced stress & Aviso & CuCl2 & Aviso\\_280\\_CuCl2\\_B3 & Aviso\\_CuCl2 & ⋯ & Aviso\\_CuCl2 &  & Aviso\\_CuCl2 &  & Aviso\\_CuCl2 &  & Aviso\\_CuCl2 &  & Aviso\\_CuCl2 & \\\\\n\tChifu\\_187\\_CuCl2\\_Block1.mzXML & Chifu & With\\_Treatment & 187 & CuCl2 & 1 & CuCl2-induced stress & Chifu & CuCl2 & Chifu\\_187\\_CuCl2\\_B1 &             & ⋯ &             &  &             &  &             &  &             &  &             & \\\\\n\tChifu\\_231\\_CuCl2\\_Block2.mzXML & Chifu & With\\_Treatment & 231 & CuCl2 & 2 & CuCl2-induced stress & Chifu & CuCl2 & Chifu\\_231\\_CuCl2\\_B2 &             & ⋯ &             &  &             &  &             &  &             &  &             & \\\\\n\tChifu\\_279\\_CuCl2\\_Block3.mzXML & Chifu & With\\_Treatment & 279 & CuCl2 & 3 & CuCl2-induced stress & Chifu & CuCl2 & Chifu\\_279\\_CuCl2\\_B3 &             & ⋯ &             &  &             &  &             &  &             &  &             & \\\\\n\\end{tabular}\n",
            "text/plain": [
              "                             ATTRIBUTE_accession ATTRIBUTE_SampleType\n",
              "Aviso_232_CuCl2_Block2.mzXML Aviso               With_Treatment      \n",
              "Aviso_233_CuCl2_Block2.mzXML Aviso               With_Treatment      \n",
              "Aviso_280_CuCl2_Block3.mzXML Aviso               With_Treatment      \n",
              "Chifu_187_CuCl2_Block1.mzXML Chifu               With_Treatment      \n",
              "Chifu_231_CuCl2_Block2.mzXML Chifu               With_Treatment      \n",
              "Chifu_279_CuCl2_Block3.mzXML Chifu               With_Treatment      \n",
              "                             ATTRIBUTE_sampleNumber ATTRIBUTE_treatment\n",
              "Aviso_232_CuCl2_Block2.mzXML 232                    CuCl2              \n",
              "Aviso_233_CuCl2_Block2.mzXML 233                    CuCl2              \n",
              "Aviso_280_CuCl2_Block3.mzXML 280                    CuCl2              \n",
              "Chifu_187_CuCl2_Block1.mzXML 187                    CuCl2              \n",
              "Chifu_231_CuCl2_Block2.mzXML 231                    CuCl2              \n",
              "Chifu_279_CuCl2_Block3.mzXML 279                    CuCl2              \n",
              "                             ATTRIBUTE_replicates ATTRIBUTE_Condition \n",
              "Aviso_232_CuCl2_Block2.mzXML 2                    CuCl2-induced stress\n",
              "Aviso_233_CuCl2_Block2.mzXML 2                    CuCl2-induced stress\n",
              "Aviso_280_CuCl2_Block3.mzXML 3                    CuCl2-induced stress\n",
              "Chifu_187_CuCl2_Block1.mzXML 1                    CuCl2-induced stress\n",
              "Chifu_231_CuCl2_Block2.mzXML 2                    CuCl2-induced stress\n",
              "Chifu_279_CuCl2_Block3.mzXML 3                    CuCl2-induced stress\n",
              "                             Accessions Treatment Sample_code       \n",
              "Aviso_232_CuCl2_Block2.mzXML Aviso      CuCl2     Aviso_232_CuCl2_B2\n",
              "Aviso_233_CuCl2_Block2.mzXML Aviso      CuCl2     Aviso_233_CuCl2_B2\n",
              "Aviso_280_CuCl2_Block3.mzXML Aviso      CuCl2     Aviso_280_CuCl2_B3\n",
              "Chifu_187_CuCl2_Block1.mzXML Chifu      CuCl2     Chifu_187_CuCl2_B1\n",
              "Chifu_231_CuCl2_Block2.mzXML Chifu      CuCl2     Chifu_231_CuCl2_B2\n",
              "Chifu_279_CuCl2_Block3.mzXML Chifu      CuCl2     Chifu_279_CuCl2_B3\n",
              "                             Aviso-H2O_CuCl2 ⋯ Aviso-PBD16_CuCl2\n",
              "Aviso_232_CuCl2_Block2.mzXML Aviso_CuCl2     ⋯ Aviso_CuCl2      \n",
              "Aviso_233_CuCl2_Block2.mzXML Aviso_CuCl2     ⋯ Aviso_CuCl2      \n",
              "Aviso_280_CuCl2_Block3.mzXML Aviso_CuCl2     ⋯ Aviso_CuCl2      \n",
              "Chifu_187_CuCl2_Block1.mzXML                 ⋯                  \n",
              "Chifu_231_CuCl2_Block2.mzXML                 ⋯                  \n",
              "Chifu_279_CuCl2_Block3.mzXML                 ⋯                  \n",
              "                             Aviso-PBD16_H2O Aviso-PBD17_CuCl2 Aviso-PBD17_H2O\n",
              "Aviso_232_CuCl2_Block2.mzXML                 Aviso_CuCl2                      \n",
              "Aviso_233_CuCl2_Block2.mzXML                 Aviso_CuCl2                      \n",
              "Aviso_280_CuCl2_Block3.mzXML                 Aviso_CuCl2                      \n",
              "Chifu_187_CuCl2_Block1.mzXML                                                  \n",
              "Chifu_231_CuCl2_Block2.mzXML                                                  \n",
              "Chifu_279_CuCl2_Block3.mzXML                                                  \n",
              "                             Aviso-PBD18_CuCl2 Aviso-PBD18_H2O\n",
              "Aviso_232_CuCl2_Block2.mzXML Aviso_CuCl2                      \n",
              "Aviso_233_CuCl2_Block2.mzXML Aviso_CuCl2                      \n",
              "Aviso_280_CuCl2_Block3.mzXML Aviso_CuCl2                      \n",
              "Chifu_187_CuCl2_Block1.mzXML                                  \n",
              "Chifu_231_CuCl2_Block2.mzXML                                  \n",
              "Chifu_279_CuCl2_Block3.mzXML                                  \n",
              "                             Aviso-PBD19_CuCl2 Aviso-PBD19_H2O\n",
              "Aviso_232_CuCl2_Block2.mzXML Aviso_CuCl2                      \n",
              "Aviso_233_CuCl2_Block2.mzXML Aviso_CuCl2                      \n",
              "Aviso_280_CuCl2_Block3.mzXML Aviso_CuCl2                      \n",
              "Chifu_187_CuCl2_Block1.mzXML                                  \n",
              "Chifu_231_CuCl2_Block2.mzXML                                  \n",
              "Chifu_279_CuCl2_Block3.mzXML                                  \n",
              "                             Aviso-PBD20_CuCl2 Aviso-PBD20_H2O\n",
              "Aviso_232_CuCl2_Block2.mzXML Aviso_CuCl2                      \n",
              "Aviso_233_CuCl2_Block2.mzXML Aviso_CuCl2                      \n",
              "Aviso_280_CuCl2_Block3.mzXML Aviso_CuCl2                      \n",
              "Chifu_187_CuCl2_Block1.mzXML                                  \n",
              "Chifu_231_CuCl2_Block2.mzXML                                  \n",
              "Chifu_279_CuCl2_Block3.mzXML                                  "
            ]
          },
          "metadata": {}
        },
        {
          "output_type": "display_data",
          "data": {
            "text/html": [
              "<style>\n",
              ".list-inline {list-style: none; margin:0; padding: 0}\n",
              ".list-inline>li {display: inline-block}\n",
              ".list-inline>li:not(:last-child)::after {content: \"\\00b7\"; padding: 0 .5ex}\n",
              "</style>\n",
              "<ol class=list-inline><li>138</li><li>54</li></ol>\n"
            ],
            "text/markdown": "1. 138\n2. 54\n\n\n",
            "text/latex": "\\begin{enumerate*}\n\\item 138\n\\item 54\n\\end{enumerate*}\n",
            "text/plain": [
              "[1] 138  54"
            ]
          },
          "metadata": {}
        }
      ],
      "source": [
        "head(md)\n",
        "dim(md)"
      ]
    },
    {
      "cell_type": "markdown",
      "id": "ea08fc3d",
      "metadata": {
        "id": "ea08fc3d"
      },
      "source": [
        "**About the experiment:**\n",
        "\n",
        "Background <br>\n",
        "The BRASSIMET project aims to study the potential for phytochemical defense in lines of interspecific introgression into the Aviso genetic background crossed with different accessions of cabbage or rape (as previouly proposed ([Razzaq et, al., 2022](https://doi.org/10.3390/metabo12060511))). Ideally, we seek to identify chromosomal regions of cabbage and rape that would be likely to extend the chemical defense potential in B. napus. To stimulate the phytochemical responses in a homogeneous way in the different genotypes, we will use a treatment with CuCl2.\n",
        "\n",
        "1. Plant growth <br>\n",
        "3 accessions (Aviso, Chiffu, HDEM) previouly analyzed by ([Missinou et al., 2022](https://doi.org/10.1021/acs.jafc.1c08118)) and and  20 lines of introgression were analyzed in three biological replicates (block), each with eight plants per accession. Seeds were germinated in a climate-controlled greenhouse in pots using a mixture of soil and sand (ratio 2:1). Plants were grown in a growth chamber under a daily cycle of 16h/8h in light/dark at 20°C and 18°C, respectively. They were fertilized twice with a half-dosed Hoagland solution. \n",
        "\n",
        "2. Cpper treatment  <br>\n",
        "The plants at the stage 1 month after germination were used to perform copper-stress experiment. Control plant were treated with deionized/distilled water instead of spore suspension. \n",
        "Plantes were treated with 5µm Copper at leaves and roots level. The root treatment is carried out in the morning, by depositing 1 mL of solution at the level of the collar of the plants.The foliar treatment is carried out in the morning, by spraying on the leaves so as to cover all the leaves of each plant more or less evenly.\n",
        "Both groups of plants (control and inoculated) were maintained under controlled conditions.\n",
        "\n",
        "3. Sample preparation and LC-MS experiment <br>\n",
        "The sampling is carried out in the morning of the second day after the treatment (48h after treatment). Roots and leaves are sampled separately, pooling the 4 plants from each replicate. The samples are frozen in liquid nitrogen, stored at -80°C in anticipation of lyophilization. The dried tissues were disintegrated by shaking for 60 s with a frequency of 30 Hz using the TissueLyser with grinding jars (10 ml) and stainless-steel grinding balls (Qiagen, Hilden, Germany). Compounds were extracted (with 99/1 MeOH/HOOH) and analytic composition were determined in positive and negative mode. Untargeted metabolomic data were acquired using a UHPLC system (Ultimate 3000 Thermo) coupled to quadrupole time of flight mass spectrometer (Q-Tof Impact II Bruker Daltonics, Bremen, Germany). \n",
        "\n",
        "4. Objectives <br>\n",
        "The goal of the experiment is to identify the chemical defenses induced in copper-treated leaves and roots of lines of introgression that discriminate in particularaly, the \"Aviso\" genotype."
      ]
    },
    {
      "cell_type": "markdown",
      "id": "fa549984",
      "metadata": {
        "id": "fa549984"
      },
      "source": [
        "## Splitting the data into Control and Samples using Metadata:"
      ]
    },
    {
      "cell_type": "code",
      "execution_count": 11,
      "id": "F7LHJ3dOf1EO",
      "metadata": {
        "id": "F7LHJ3dOf1EO"
      },
      "outputs": [],
      "source": [
        "input_data <- ft"
      ]
    },
    {
      "cell_type": "code",
      "execution_count": 12,
      "id": "85457a6b",
      "metadata": {
        "colab": {
          "base_uri": "https://localhost:8080/",
          "height": 341
        },
        "id": "85457a6b",
        "outputId": "58fd4aee-82dd-449e-b7bd-dfc58d8d91dc"
      },
      "outputs": [
        {
          "output_type": "display_data",
          "data": {
            "text/html": [
              "<table class=\"dataframe\">\n",
              "<caption>A data.frame: 6 × 138</caption>\n",
              "<thead>\n",
              "\t<tr><th></th><th scope=col>Aviso_232_CuCl2_Block2.mzXML</th><th scope=col>Aviso_233_CuCl2_Block2.mzXML</th><th scope=col>Aviso_280_CuCl2_Block3.mzXML</th><th scope=col>Chifu_187_CuCl2_Block1.mzXML</th><th scope=col>Chifu_231_CuCl2_Block2.mzXML</th><th scope=col>Chifu_279_CuCl2_Block3.mzXML</th><th scope=col>HDEM_186_CuCl2_Block1.mzXML</th><th scope=col>HDEM_230_CuCl2_Block2.mzXML</th><th scope=col>HDEM_278_CuCl2_Block3.mzXML</th><th scope=col>PBD01_167_CuCl2_Block1.mzXML</th><th scope=col>⋯</th><th scope=col>PBD17_250_Control _Block3.mzXML</th><th scope=col>PBD18_160_Control _Block1.mzXML</th><th scope=col>PBD18_206_Control _Block2.mzXML</th><th scope=col>PBD18_251_Control _Block3.mzXML</th><th scope=col>PBD19_207_Control _Block2.mzXML</th><th scope=col>PBD19_252_Control _Block3.mzXML</th><th scope=col>PBD19_207_252_Control _Block3.mzXML</th><th scope=col>PBD20_253_Control _Block3.1.mzXML</th><th scope=col>PBD20_253_Control _Block3.2.mzXML</th><th scope=col>PBD20_253_Control _Block3.3.mzXML</th></tr>\n",
              "\t<tr><th></th><th scope=col>&lt;dbl&gt;</th><th scope=col>&lt;dbl&gt;</th><th scope=col>&lt;dbl&gt;</th><th scope=col>&lt;dbl&gt;</th><th scope=col>&lt;dbl&gt;</th><th scope=col>&lt;dbl&gt;</th><th scope=col>&lt;dbl&gt;</th><th scope=col>&lt;dbl&gt;</th><th scope=col>&lt;dbl&gt;</th><th scope=col>&lt;dbl&gt;</th><th scope=col>⋯</th><th scope=col>&lt;dbl&gt;</th><th scope=col>&lt;dbl&gt;</th><th scope=col>&lt;dbl&gt;</th><th scope=col>&lt;dbl&gt;</th><th scope=col>&lt;dbl&gt;</th><th scope=col>&lt;dbl&gt;</th><th scope=col>&lt;dbl&gt;</th><th scope=col>&lt;dbl&gt;</th><th scope=col>&lt;dbl&gt;</th><th scope=col>&lt;dbl&gt;</th></tr>\n",
              "</thead>\n",
              "<tbody>\n",
              "\t<tr><th scope=row>2_Neg_477.065_4.52</th><td>0.3120</td><td>0.2700</td><td>0.2590</td><td>0.4220</td><td>0.3940</td><td>0.3760</td><td>0.45900</td><td>0.36800</td><td>0.3360</td><td>0.6140</td><td>⋯</td><td>0.8030</td><td>0.12100</td><td>0.3700</td><td>0.5680</td><td>0.3290</td><td>0.6610</td><td>0.4950</td><td>0.7630</td><td>0.7630</td><td>0.7630</td></tr>\n",
              "\t<tr><th scope=row>3_Neg_112.986_0.74</th><td>0.1770</td><td>0.1580</td><td>0.1920</td><td>0.2660</td><td>0.1770</td><td>0.2110</td><td>0.31900</td><td>0.25400</td><td>0.1810</td><td>0.3640</td><td>⋯</td><td>0.3660</td><td>0.08090</td><td>0.2110</td><td>0.3040</td><td>0.1950</td><td>0.3490</td><td>0.2720</td><td>0.3670</td><td>0.3670</td><td>0.3670</td></tr>\n",
              "\t<tr><th scope=row>4_Neg_133.014_0.71</th><td>0.1050</td><td>0.1100</td><td>0.1190</td><td>0.1020</td><td>0.1380</td><td>0.1600</td><td>0.13500</td><td>0.09830</td><td>0.1060</td><td>0.1030</td><td>⋯</td><td>0.3300</td><td>0.05040</td><td>0.1470</td><td>0.1770</td><td>0.0846</td><td>0.2290</td><td>0.1570</td><td>0.1760</td><td>0.1760</td><td>0.1760</td></tr>\n",
              "\t<tr><th scope=row>8_Neg_420.046_2.93</th><td>0.1250</td><td>0.1430</td><td>0.1670</td><td>0.0121</td><td>0.0483</td><td>0.0561</td><td>0.09240</td><td>0.09550</td><td>0.1320</td><td>0.0365</td><td>⋯</td><td>0.3320</td><td>0.13900</td><td>0.4140</td><td>0.3140</td><td>0.1170</td><td>0.0954</td><td>0.1060</td><td>0.4330</td><td>0.4330</td><td>0.4330</td></tr>\n",
              "\t<tr><th scope=row>9_Neg_439.085_0.68</th><td>0.0111</td><td>0.0165</td><td>0.0227</td><td>0.0149</td><td>0.0250</td><td>0.0201</td><td>0.00984</td><td>0.00719</td><td>0.0146</td><td>0.0264</td><td>⋯</td><td>0.1110</td><td>0.00695</td><td>0.0230</td><td>0.0280</td><td>0.0266</td><td>0.0562</td><td>0.0414</td><td>0.0491</td><td>0.0491</td><td>0.0491</td></tr>\n",
              "\t<tr><th scope=row>11_Neg_174.956_0.56</th><td>0.0369</td><td>0.0382</td><td>0.0311</td><td>0.0531</td><td>0.0423</td><td>0.0436</td><td>0.05550</td><td>0.03960</td><td>0.0356</td><td>0.0776</td><td>⋯</td><td>0.0704</td><td>0.01590</td><td>0.0425</td><td>0.0536</td><td>0.0290</td><td>0.0612</td><td>0.0451</td><td>0.0888</td><td>0.0888</td><td>0.0888</td></tr>\n",
              "</tbody>\n",
              "</table>\n"
            ],
            "text/markdown": "\nA data.frame: 6 × 138\n\n| <!--/--> | Aviso_232_CuCl2_Block2.mzXML &lt;dbl&gt; | Aviso_233_CuCl2_Block2.mzXML &lt;dbl&gt; | Aviso_280_CuCl2_Block3.mzXML &lt;dbl&gt; | Chifu_187_CuCl2_Block1.mzXML &lt;dbl&gt; | Chifu_231_CuCl2_Block2.mzXML &lt;dbl&gt; | Chifu_279_CuCl2_Block3.mzXML &lt;dbl&gt; | HDEM_186_CuCl2_Block1.mzXML &lt;dbl&gt; | HDEM_230_CuCl2_Block2.mzXML &lt;dbl&gt; | HDEM_278_CuCl2_Block3.mzXML &lt;dbl&gt; | PBD01_167_CuCl2_Block1.mzXML &lt;dbl&gt; | ⋯ ⋯ | PBD17_250_Control _Block3.mzXML &lt;dbl&gt; | PBD18_160_Control _Block1.mzXML &lt;dbl&gt; | PBD18_206_Control _Block2.mzXML &lt;dbl&gt; | PBD18_251_Control _Block3.mzXML &lt;dbl&gt; | PBD19_207_Control _Block2.mzXML &lt;dbl&gt; | PBD19_252_Control _Block3.mzXML &lt;dbl&gt; | PBD19_207_252_Control _Block3.mzXML &lt;dbl&gt; | PBD20_253_Control _Block3.1.mzXML &lt;dbl&gt; | PBD20_253_Control _Block3.2.mzXML &lt;dbl&gt; | PBD20_253_Control _Block3.3.mzXML &lt;dbl&gt; |\n|---|---|---|---|---|---|---|---|---|---|---|---|---|---|---|---|---|---|---|---|---|---|\n| 2_Neg_477.065_4.52 | 0.3120 | 0.2700 | 0.2590 | 0.4220 | 0.3940 | 0.3760 | 0.45900 | 0.36800 | 0.3360 | 0.6140 | ⋯ | 0.8030 | 0.12100 | 0.3700 | 0.5680 | 0.3290 | 0.6610 | 0.4950 | 0.7630 | 0.7630 | 0.7630 |\n| 3_Neg_112.986_0.74 | 0.1770 | 0.1580 | 0.1920 | 0.2660 | 0.1770 | 0.2110 | 0.31900 | 0.25400 | 0.1810 | 0.3640 | ⋯ | 0.3660 | 0.08090 | 0.2110 | 0.3040 | 0.1950 | 0.3490 | 0.2720 | 0.3670 | 0.3670 | 0.3670 |\n| 4_Neg_133.014_0.71 | 0.1050 | 0.1100 | 0.1190 | 0.1020 | 0.1380 | 0.1600 | 0.13500 | 0.09830 | 0.1060 | 0.1030 | ⋯ | 0.3300 | 0.05040 | 0.1470 | 0.1770 | 0.0846 | 0.2290 | 0.1570 | 0.1760 | 0.1760 | 0.1760 |\n| 8_Neg_420.046_2.93 | 0.1250 | 0.1430 | 0.1670 | 0.0121 | 0.0483 | 0.0561 | 0.09240 | 0.09550 | 0.1320 | 0.0365 | ⋯ | 0.3320 | 0.13900 | 0.4140 | 0.3140 | 0.1170 | 0.0954 | 0.1060 | 0.4330 | 0.4330 | 0.4330 |\n| 9_Neg_439.085_0.68 | 0.0111 | 0.0165 | 0.0227 | 0.0149 | 0.0250 | 0.0201 | 0.00984 | 0.00719 | 0.0146 | 0.0264 | ⋯ | 0.1110 | 0.00695 | 0.0230 | 0.0280 | 0.0266 | 0.0562 | 0.0414 | 0.0491 | 0.0491 | 0.0491 |\n| 11_Neg_174.956_0.56 | 0.0369 | 0.0382 | 0.0311 | 0.0531 | 0.0423 | 0.0436 | 0.05550 | 0.03960 | 0.0356 | 0.0776 | ⋯ | 0.0704 | 0.01590 | 0.0425 | 0.0536 | 0.0290 | 0.0612 | 0.0451 | 0.0888 | 0.0888 | 0.0888 |\n\n",
            "text/latex": "A data.frame: 6 × 138\n\\begin{tabular}{r|lllllllllllllllllllll}\n  & Aviso\\_232\\_CuCl2\\_Block2.mzXML & Aviso\\_233\\_CuCl2\\_Block2.mzXML & Aviso\\_280\\_CuCl2\\_Block3.mzXML & Chifu\\_187\\_CuCl2\\_Block1.mzXML & Chifu\\_231\\_CuCl2\\_Block2.mzXML & Chifu\\_279\\_CuCl2\\_Block3.mzXML & HDEM\\_186\\_CuCl2\\_Block1.mzXML & HDEM\\_230\\_CuCl2\\_Block2.mzXML & HDEM\\_278\\_CuCl2\\_Block3.mzXML & PBD01\\_167\\_CuCl2\\_Block1.mzXML & ⋯ & PBD17\\_250\\_Control \\_Block3.mzXML & PBD18\\_160\\_Control \\_Block1.mzXML & PBD18\\_206\\_Control \\_Block2.mzXML & PBD18\\_251\\_Control \\_Block3.mzXML & PBD19\\_207\\_Control \\_Block2.mzXML & PBD19\\_252\\_Control \\_Block3.mzXML & PBD19\\_207\\_252\\_Control \\_Block3.mzXML & PBD20\\_253\\_Control \\_Block3.1.mzXML & PBD20\\_253\\_Control \\_Block3.2.mzXML & PBD20\\_253\\_Control \\_Block3.3.mzXML\\\\\n  & <dbl> & <dbl> & <dbl> & <dbl> & <dbl> & <dbl> & <dbl> & <dbl> & <dbl> & <dbl> & ⋯ & <dbl> & <dbl> & <dbl> & <dbl> & <dbl> & <dbl> & <dbl> & <dbl> & <dbl> & <dbl>\\\\\n\\hline\n\t2\\_Neg\\_477.065\\_4.52 & 0.3120 & 0.2700 & 0.2590 & 0.4220 & 0.3940 & 0.3760 & 0.45900 & 0.36800 & 0.3360 & 0.6140 & ⋯ & 0.8030 & 0.12100 & 0.3700 & 0.5680 & 0.3290 & 0.6610 & 0.4950 & 0.7630 & 0.7630 & 0.7630\\\\\n\t3\\_Neg\\_112.986\\_0.74 & 0.1770 & 0.1580 & 0.1920 & 0.2660 & 0.1770 & 0.2110 & 0.31900 & 0.25400 & 0.1810 & 0.3640 & ⋯ & 0.3660 & 0.08090 & 0.2110 & 0.3040 & 0.1950 & 0.3490 & 0.2720 & 0.3670 & 0.3670 & 0.3670\\\\\n\t4\\_Neg\\_133.014\\_0.71 & 0.1050 & 0.1100 & 0.1190 & 0.1020 & 0.1380 & 0.1600 & 0.13500 & 0.09830 & 0.1060 & 0.1030 & ⋯ & 0.3300 & 0.05040 & 0.1470 & 0.1770 & 0.0846 & 0.2290 & 0.1570 & 0.1760 & 0.1760 & 0.1760\\\\\n\t8\\_Neg\\_420.046\\_2.93 & 0.1250 & 0.1430 & 0.1670 & 0.0121 & 0.0483 & 0.0561 & 0.09240 & 0.09550 & 0.1320 & 0.0365 & ⋯ & 0.3320 & 0.13900 & 0.4140 & 0.3140 & 0.1170 & 0.0954 & 0.1060 & 0.4330 & 0.4330 & 0.4330\\\\\n\t9\\_Neg\\_439.085\\_0.68 & 0.0111 & 0.0165 & 0.0227 & 0.0149 & 0.0250 & 0.0201 & 0.00984 & 0.00719 & 0.0146 & 0.0264 & ⋯ & 0.1110 & 0.00695 & 0.0230 & 0.0280 & 0.0266 & 0.0562 & 0.0414 & 0.0491 & 0.0491 & 0.0491\\\\\n\t11\\_Neg\\_174.956\\_0.56 & 0.0369 & 0.0382 & 0.0311 & 0.0531 & 0.0423 & 0.0436 & 0.05550 & 0.03960 & 0.0356 & 0.0776 & ⋯ & 0.0704 & 0.01590 & 0.0425 & 0.0536 & 0.0290 & 0.0612 & 0.0451 & 0.0888 & 0.0888 & 0.0888\\\\\n\\end{tabular}\n",
            "text/plain": [
              "                    Aviso_232_CuCl2_Block2.mzXML Aviso_233_CuCl2_Block2.mzXML\n",
              "2_Neg_477.065_4.52  0.3120                       0.2700                      \n",
              "3_Neg_112.986_0.74  0.1770                       0.1580                      \n",
              "4_Neg_133.014_0.71  0.1050                       0.1100                      \n",
              "8_Neg_420.046_2.93  0.1250                       0.1430                      \n",
              "9_Neg_439.085_0.68  0.0111                       0.0165                      \n",
              "11_Neg_174.956_0.56 0.0369                       0.0382                      \n",
              "                    Aviso_280_CuCl2_Block3.mzXML Chifu_187_CuCl2_Block1.mzXML\n",
              "2_Neg_477.065_4.52  0.2590                       0.4220                      \n",
              "3_Neg_112.986_0.74  0.1920                       0.2660                      \n",
              "4_Neg_133.014_0.71  0.1190                       0.1020                      \n",
              "8_Neg_420.046_2.93  0.1670                       0.0121                      \n",
              "9_Neg_439.085_0.68  0.0227                       0.0149                      \n",
              "11_Neg_174.956_0.56 0.0311                       0.0531                      \n",
              "                    Chifu_231_CuCl2_Block2.mzXML Chifu_279_CuCl2_Block3.mzXML\n",
              "2_Neg_477.065_4.52  0.3940                       0.3760                      \n",
              "3_Neg_112.986_0.74  0.1770                       0.2110                      \n",
              "4_Neg_133.014_0.71  0.1380                       0.1600                      \n",
              "8_Neg_420.046_2.93  0.0483                       0.0561                      \n",
              "9_Neg_439.085_0.68  0.0250                       0.0201                      \n",
              "11_Neg_174.956_0.56 0.0423                       0.0436                      \n",
              "                    HDEM_186_CuCl2_Block1.mzXML HDEM_230_CuCl2_Block2.mzXML\n",
              "2_Neg_477.065_4.52  0.45900                     0.36800                    \n",
              "3_Neg_112.986_0.74  0.31900                     0.25400                    \n",
              "4_Neg_133.014_0.71  0.13500                     0.09830                    \n",
              "8_Neg_420.046_2.93  0.09240                     0.09550                    \n",
              "9_Neg_439.085_0.68  0.00984                     0.00719                    \n",
              "11_Neg_174.956_0.56 0.05550                     0.03960                    \n",
              "                    HDEM_278_CuCl2_Block3.mzXML PBD01_167_CuCl2_Block1.mzXML ⋯\n",
              "2_Neg_477.065_4.52  0.3360                      0.6140                       ⋯\n",
              "3_Neg_112.986_0.74  0.1810                      0.3640                       ⋯\n",
              "4_Neg_133.014_0.71  0.1060                      0.1030                       ⋯\n",
              "8_Neg_420.046_2.93  0.1320                      0.0365                       ⋯\n",
              "9_Neg_439.085_0.68  0.0146                      0.0264                       ⋯\n",
              "11_Neg_174.956_0.56 0.0356                      0.0776                       ⋯\n",
              "                    PBD17_250_Control _Block3.mzXML\n",
              "2_Neg_477.065_4.52  0.8030                         \n",
              "3_Neg_112.986_0.74  0.3660                         \n",
              "4_Neg_133.014_0.71  0.3300                         \n",
              "8_Neg_420.046_2.93  0.3320                         \n",
              "9_Neg_439.085_0.68  0.1110                         \n",
              "11_Neg_174.956_0.56 0.0704                         \n",
              "                    PBD18_160_Control _Block1.mzXML\n",
              "2_Neg_477.065_4.52  0.12100                        \n",
              "3_Neg_112.986_0.74  0.08090                        \n",
              "4_Neg_133.014_0.71  0.05040                        \n",
              "8_Neg_420.046_2.93  0.13900                        \n",
              "9_Neg_439.085_0.68  0.00695                        \n",
              "11_Neg_174.956_0.56 0.01590                        \n",
              "                    PBD18_206_Control _Block2.mzXML\n",
              "2_Neg_477.065_4.52  0.3700                         \n",
              "3_Neg_112.986_0.74  0.2110                         \n",
              "4_Neg_133.014_0.71  0.1470                         \n",
              "8_Neg_420.046_2.93  0.4140                         \n",
              "9_Neg_439.085_0.68  0.0230                         \n",
              "11_Neg_174.956_0.56 0.0425                         \n",
              "                    PBD18_251_Control _Block3.mzXML\n",
              "2_Neg_477.065_4.52  0.5680                         \n",
              "3_Neg_112.986_0.74  0.3040                         \n",
              "4_Neg_133.014_0.71  0.1770                         \n",
              "8_Neg_420.046_2.93  0.3140                         \n",
              "9_Neg_439.085_0.68  0.0280                         \n",
              "11_Neg_174.956_0.56 0.0536                         \n",
              "                    PBD19_207_Control _Block2.mzXML\n",
              "2_Neg_477.065_4.52  0.3290                         \n",
              "3_Neg_112.986_0.74  0.1950                         \n",
              "4_Neg_133.014_0.71  0.0846                         \n",
              "8_Neg_420.046_2.93  0.1170                         \n",
              "9_Neg_439.085_0.68  0.0266                         \n",
              "11_Neg_174.956_0.56 0.0290                         \n",
              "                    PBD19_252_Control _Block3.mzXML\n",
              "2_Neg_477.065_4.52  0.6610                         \n",
              "3_Neg_112.986_0.74  0.3490                         \n",
              "4_Neg_133.014_0.71  0.2290                         \n",
              "8_Neg_420.046_2.93  0.0954                         \n",
              "9_Neg_439.085_0.68  0.0562                         \n",
              "11_Neg_174.956_0.56 0.0612                         \n",
              "                    PBD19_207_252_Control _Block3.mzXML\n",
              "2_Neg_477.065_4.52  0.4950                             \n",
              "3_Neg_112.986_0.74  0.2720                             \n",
              "4_Neg_133.014_0.71  0.1570                             \n",
              "8_Neg_420.046_2.93  0.1060                             \n",
              "9_Neg_439.085_0.68  0.0414                             \n",
              "11_Neg_174.956_0.56 0.0451                             \n",
              "                    PBD20_253_Control _Block3.1.mzXML\n",
              "2_Neg_477.065_4.52  0.7630                           \n",
              "3_Neg_112.986_0.74  0.3670                           \n",
              "4_Neg_133.014_0.71  0.1760                           \n",
              "8_Neg_420.046_2.93  0.4330                           \n",
              "9_Neg_439.085_0.68  0.0491                           \n",
              "11_Neg_174.956_0.56 0.0888                           \n",
              "                    PBD20_253_Control _Block3.2.mzXML\n",
              "2_Neg_477.065_4.52  0.7630                           \n",
              "3_Neg_112.986_0.74  0.3670                           \n",
              "4_Neg_133.014_0.71  0.1760                           \n",
              "8_Neg_420.046_2.93  0.4330                           \n",
              "9_Neg_439.085_0.68  0.0491                           \n",
              "11_Neg_174.956_0.56 0.0888                           \n",
              "                    PBD20_253_Control _Block3.3.mzXML\n",
              "2_Neg_477.065_4.52  0.7630                           \n",
              "3_Neg_112.986_0.74  0.3670                           \n",
              "4_Neg_133.014_0.71  0.1760                           \n",
              "8_Neg_420.046_2.93  0.4330                           \n",
              "9_Neg_439.085_0.68  0.0491                           \n",
              "11_Neg_174.956_0.56 0.0888                           "
            ]
          },
          "metadata": {}
        },
        {
          "output_type": "display_data",
          "data": {
            "text/html": [
              "<style>\n",
              ".list-inline {list-style: none; margin:0; padding: 0}\n",
              ".list-inline>li {display: inline-block}\n",
              ".list-inline>li:not(:last-child)::after {content: \"\\00b7\"; padding: 0 .5ex}\n",
              "</style>\n",
              "<ol class=list-inline><li>3086</li><li>138</li></ol>\n"
            ],
            "text/markdown": "1. 3086\n2. 138\n\n\n",
            "text/latex": "\\begin{enumerate*}\n\\item 3086\n\\item 138\n\\end{enumerate*}\n",
            "text/plain": [
              "[1] 3086  138"
            ]
          },
          "metadata": {}
        }
      ],
      "source": [
        "Samples <- ft\n",
        "head(Samples)\n",
        "dim(Samples)"
      ]
    },
    {
      "cell_type": "code",
      "execution_count": 13,
      "id": "a25d5a9c",
      "metadata": {
        "id": "a25d5a9c",
        "colab": {
          "base_uri": "https://localhost:8080/",
          "height": 341
        },
        "outputId": "597dff1e-f666-4557-8c3a-8de4db97c23e"
      },
      "outputs": [
        {
          "output_type": "display_data",
          "data": {
            "text/html": [
              "<table class=\"dataframe\">\n",
              "<caption>A data.frame: 6 × 138</caption>\n",
              "<thead>\n",
              "\t<tr><th></th><th scope=col>Aviso_232_CuCl2_Block2.mzXML</th><th scope=col>Aviso_233_CuCl2_Block2.mzXML</th><th scope=col>Aviso_280_CuCl2_Block3.mzXML</th><th scope=col>Chifu_187_CuCl2_Block1.mzXML</th><th scope=col>Chifu_231_CuCl2_Block2.mzXML</th><th scope=col>Chifu_279_CuCl2_Block3.mzXML</th><th scope=col>HDEM_186_CuCl2_Block1.mzXML</th><th scope=col>HDEM_230_CuCl2_Block2.mzXML</th><th scope=col>HDEM_278_CuCl2_Block3.mzXML</th><th scope=col>PBD01_167_CuCl2_Block1.mzXML</th><th scope=col>⋯</th><th scope=col>PBD17_250_Control _Block3.mzXML</th><th scope=col>PBD18_160_Control _Block1.mzXML</th><th scope=col>PBD18_206_Control _Block2.mzXML</th><th scope=col>PBD18_251_Control _Block3.mzXML</th><th scope=col>PBD19_207_Control _Block2.mzXML</th><th scope=col>PBD19_252_Control _Block3.mzXML</th><th scope=col>PBD19_207_252_Control _Block3.mzXML</th><th scope=col>PBD20_253_Control _Block3.1.mzXML</th><th scope=col>PBD20_253_Control _Block3.2.mzXML</th><th scope=col>PBD20_253_Control _Block3.3.mzXML</th></tr>\n",
              "\t<tr><th></th><th scope=col>&lt;dbl&gt;</th><th scope=col>&lt;dbl&gt;</th><th scope=col>&lt;dbl&gt;</th><th scope=col>&lt;dbl&gt;</th><th scope=col>&lt;dbl&gt;</th><th scope=col>&lt;dbl&gt;</th><th scope=col>&lt;dbl&gt;</th><th scope=col>&lt;dbl&gt;</th><th scope=col>&lt;dbl&gt;</th><th scope=col>&lt;dbl&gt;</th><th scope=col>⋯</th><th scope=col>&lt;dbl&gt;</th><th scope=col>&lt;dbl&gt;</th><th scope=col>&lt;dbl&gt;</th><th scope=col>&lt;dbl&gt;</th><th scope=col>&lt;dbl&gt;</th><th scope=col>&lt;dbl&gt;</th><th scope=col>&lt;dbl&gt;</th><th scope=col>&lt;dbl&gt;</th><th scope=col>&lt;dbl&gt;</th><th scope=col>&lt;dbl&gt;</th></tr>\n",
              "</thead>\n",
              "<tbody>\n",
              "\t<tr><th scope=row>2_Neg_477.065_4.52</th><td>0.3120</td><td>0.2700</td><td>0.2590</td><td>0.4220</td><td>0.3940</td><td>0.3760</td><td>0.45900</td><td>0.36800</td><td>0.3360</td><td>0.6140</td><td>⋯</td><td>0.8030</td><td>0.12100</td><td>0.3700</td><td>0.5680</td><td>0.3290</td><td>0.6610</td><td>0.4950</td><td>0.7630</td><td>0.7630</td><td>0.7630</td></tr>\n",
              "\t<tr><th scope=row>3_Neg_112.986_0.74</th><td>0.1770</td><td>0.1580</td><td>0.1920</td><td>0.2660</td><td>0.1770</td><td>0.2110</td><td>0.31900</td><td>0.25400</td><td>0.1810</td><td>0.3640</td><td>⋯</td><td>0.3660</td><td>0.08090</td><td>0.2110</td><td>0.3040</td><td>0.1950</td><td>0.3490</td><td>0.2720</td><td>0.3670</td><td>0.3670</td><td>0.3670</td></tr>\n",
              "\t<tr><th scope=row>4_Neg_133.014_0.71</th><td>0.1050</td><td>0.1100</td><td>0.1190</td><td>0.1020</td><td>0.1380</td><td>0.1600</td><td>0.13500</td><td>0.09830</td><td>0.1060</td><td>0.1030</td><td>⋯</td><td>0.3300</td><td>0.05040</td><td>0.1470</td><td>0.1770</td><td>0.0846</td><td>0.2290</td><td>0.1570</td><td>0.1760</td><td>0.1760</td><td>0.1760</td></tr>\n",
              "\t<tr><th scope=row>8_Neg_420.046_2.93</th><td>0.1250</td><td>0.1430</td><td>0.1670</td><td>0.0121</td><td>0.0483</td><td>0.0561</td><td>0.09240</td><td>0.09550</td><td>0.1320</td><td>0.0365</td><td>⋯</td><td>0.3320</td><td>0.13900</td><td>0.4140</td><td>0.3140</td><td>0.1170</td><td>0.0954</td><td>0.1060</td><td>0.4330</td><td>0.4330</td><td>0.4330</td></tr>\n",
              "\t<tr><th scope=row>9_Neg_439.085_0.68</th><td>0.0111</td><td>0.0165</td><td>0.0227</td><td>0.0149</td><td>0.0250</td><td>0.0201</td><td>0.00984</td><td>0.00719</td><td>0.0146</td><td>0.0264</td><td>⋯</td><td>0.1110</td><td>0.00695</td><td>0.0230</td><td>0.0280</td><td>0.0266</td><td>0.0562</td><td>0.0414</td><td>0.0491</td><td>0.0491</td><td>0.0491</td></tr>\n",
              "\t<tr><th scope=row>11_Neg_174.956_0.56</th><td>0.0369</td><td>0.0382</td><td>0.0311</td><td>0.0531</td><td>0.0423</td><td>0.0436</td><td>0.05550</td><td>0.03960</td><td>0.0356</td><td>0.0776</td><td>⋯</td><td>0.0704</td><td>0.01590</td><td>0.0425</td><td>0.0536</td><td>0.0290</td><td>0.0612</td><td>0.0451</td><td>0.0888</td><td>0.0888</td><td>0.0888</td></tr>\n",
              "</tbody>\n",
              "</table>\n"
            ],
            "text/markdown": "\nA data.frame: 6 × 138\n\n| <!--/--> | Aviso_232_CuCl2_Block2.mzXML &lt;dbl&gt; | Aviso_233_CuCl2_Block2.mzXML &lt;dbl&gt; | Aviso_280_CuCl2_Block3.mzXML &lt;dbl&gt; | Chifu_187_CuCl2_Block1.mzXML &lt;dbl&gt; | Chifu_231_CuCl2_Block2.mzXML &lt;dbl&gt; | Chifu_279_CuCl2_Block3.mzXML &lt;dbl&gt; | HDEM_186_CuCl2_Block1.mzXML &lt;dbl&gt; | HDEM_230_CuCl2_Block2.mzXML &lt;dbl&gt; | HDEM_278_CuCl2_Block3.mzXML &lt;dbl&gt; | PBD01_167_CuCl2_Block1.mzXML &lt;dbl&gt; | ⋯ ⋯ | PBD17_250_Control _Block3.mzXML &lt;dbl&gt; | PBD18_160_Control _Block1.mzXML &lt;dbl&gt; | PBD18_206_Control _Block2.mzXML &lt;dbl&gt; | PBD18_251_Control _Block3.mzXML &lt;dbl&gt; | PBD19_207_Control _Block2.mzXML &lt;dbl&gt; | PBD19_252_Control _Block3.mzXML &lt;dbl&gt; | PBD19_207_252_Control _Block3.mzXML &lt;dbl&gt; | PBD20_253_Control _Block3.1.mzXML &lt;dbl&gt; | PBD20_253_Control _Block3.2.mzXML &lt;dbl&gt; | PBD20_253_Control _Block3.3.mzXML &lt;dbl&gt; |\n|---|---|---|---|---|---|---|---|---|---|---|---|---|---|---|---|---|---|---|---|---|---|\n| 2_Neg_477.065_4.52 | 0.3120 | 0.2700 | 0.2590 | 0.4220 | 0.3940 | 0.3760 | 0.45900 | 0.36800 | 0.3360 | 0.6140 | ⋯ | 0.8030 | 0.12100 | 0.3700 | 0.5680 | 0.3290 | 0.6610 | 0.4950 | 0.7630 | 0.7630 | 0.7630 |\n| 3_Neg_112.986_0.74 | 0.1770 | 0.1580 | 0.1920 | 0.2660 | 0.1770 | 0.2110 | 0.31900 | 0.25400 | 0.1810 | 0.3640 | ⋯ | 0.3660 | 0.08090 | 0.2110 | 0.3040 | 0.1950 | 0.3490 | 0.2720 | 0.3670 | 0.3670 | 0.3670 |\n| 4_Neg_133.014_0.71 | 0.1050 | 0.1100 | 0.1190 | 0.1020 | 0.1380 | 0.1600 | 0.13500 | 0.09830 | 0.1060 | 0.1030 | ⋯ | 0.3300 | 0.05040 | 0.1470 | 0.1770 | 0.0846 | 0.2290 | 0.1570 | 0.1760 | 0.1760 | 0.1760 |\n| 8_Neg_420.046_2.93 | 0.1250 | 0.1430 | 0.1670 | 0.0121 | 0.0483 | 0.0561 | 0.09240 | 0.09550 | 0.1320 | 0.0365 | ⋯ | 0.3320 | 0.13900 | 0.4140 | 0.3140 | 0.1170 | 0.0954 | 0.1060 | 0.4330 | 0.4330 | 0.4330 |\n| 9_Neg_439.085_0.68 | 0.0111 | 0.0165 | 0.0227 | 0.0149 | 0.0250 | 0.0201 | 0.00984 | 0.00719 | 0.0146 | 0.0264 | ⋯ | 0.1110 | 0.00695 | 0.0230 | 0.0280 | 0.0266 | 0.0562 | 0.0414 | 0.0491 | 0.0491 | 0.0491 |\n| 11_Neg_174.956_0.56 | 0.0369 | 0.0382 | 0.0311 | 0.0531 | 0.0423 | 0.0436 | 0.05550 | 0.03960 | 0.0356 | 0.0776 | ⋯ | 0.0704 | 0.01590 | 0.0425 | 0.0536 | 0.0290 | 0.0612 | 0.0451 | 0.0888 | 0.0888 | 0.0888 |\n\n",
            "text/latex": "A data.frame: 6 × 138\n\\begin{tabular}{r|lllllllllllllllllllll}\n  & Aviso\\_232\\_CuCl2\\_Block2.mzXML & Aviso\\_233\\_CuCl2\\_Block2.mzXML & Aviso\\_280\\_CuCl2\\_Block3.mzXML & Chifu\\_187\\_CuCl2\\_Block1.mzXML & Chifu\\_231\\_CuCl2\\_Block2.mzXML & Chifu\\_279\\_CuCl2\\_Block3.mzXML & HDEM\\_186\\_CuCl2\\_Block1.mzXML & HDEM\\_230\\_CuCl2\\_Block2.mzXML & HDEM\\_278\\_CuCl2\\_Block3.mzXML & PBD01\\_167\\_CuCl2\\_Block1.mzXML & ⋯ & PBD17\\_250\\_Control \\_Block3.mzXML & PBD18\\_160\\_Control \\_Block1.mzXML & PBD18\\_206\\_Control \\_Block2.mzXML & PBD18\\_251\\_Control \\_Block3.mzXML & PBD19\\_207\\_Control \\_Block2.mzXML & PBD19\\_252\\_Control \\_Block3.mzXML & PBD19\\_207\\_252\\_Control \\_Block3.mzXML & PBD20\\_253\\_Control \\_Block3.1.mzXML & PBD20\\_253\\_Control \\_Block3.2.mzXML & PBD20\\_253\\_Control \\_Block3.3.mzXML\\\\\n  & <dbl> & <dbl> & <dbl> & <dbl> & <dbl> & <dbl> & <dbl> & <dbl> & <dbl> & <dbl> & ⋯ & <dbl> & <dbl> & <dbl> & <dbl> & <dbl> & <dbl> & <dbl> & <dbl> & <dbl> & <dbl>\\\\\n\\hline\n\t2\\_Neg\\_477.065\\_4.52 & 0.3120 & 0.2700 & 0.2590 & 0.4220 & 0.3940 & 0.3760 & 0.45900 & 0.36800 & 0.3360 & 0.6140 & ⋯ & 0.8030 & 0.12100 & 0.3700 & 0.5680 & 0.3290 & 0.6610 & 0.4950 & 0.7630 & 0.7630 & 0.7630\\\\\n\t3\\_Neg\\_112.986\\_0.74 & 0.1770 & 0.1580 & 0.1920 & 0.2660 & 0.1770 & 0.2110 & 0.31900 & 0.25400 & 0.1810 & 0.3640 & ⋯ & 0.3660 & 0.08090 & 0.2110 & 0.3040 & 0.1950 & 0.3490 & 0.2720 & 0.3670 & 0.3670 & 0.3670\\\\\n\t4\\_Neg\\_133.014\\_0.71 & 0.1050 & 0.1100 & 0.1190 & 0.1020 & 0.1380 & 0.1600 & 0.13500 & 0.09830 & 0.1060 & 0.1030 & ⋯ & 0.3300 & 0.05040 & 0.1470 & 0.1770 & 0.0846 & 0.2290 & 0.1570 & 0.1760 & 0.1760 & 0.1760\\\\\n\t8\\_Neg\\_420.046\\_2.93 & 0.1250 & 0.1430 & 0.1670 & 0.0121 & 0.0483 & 0.0561 & 0.09240 & 0.09550 & 0.1320 & 0.0365 & ⋯ & 0.3320 & 0.13900 & 0.4140 & 0.3140 & 0.1170 & 0.0954 & 0.1060 & 0.4330 & 0.4330 & 0.4330\\\\\n\t9\\_Neg\\_439.085\\_0.68 & 0.0111 & 0.0165 & 0.0227 & 0.0149 & 0.0250 & 0.0201 & 0.00984 & 0.00719 & 0.0146 & 0.0264 & ⋯ & 0.1110 & 0.00695 & 0.0230 & 0.0280 & 0.0266 & 0.0562 & 0.0414 & 0.0491 & 0.0491 & 0.0491\\\\\n\t11\\_Neg\\_174.956\\_0.56 & 0.0369 & 0.0382 & 0.0311 & 0.0531 & 0.0423 & 0.0436 & 0.05550 & 0.03960 & 0.0356 & 0.0776 & ⋯ & 0.0704 & 0.01590 & 0.0425 & 0.0536 & 0.0290 & 0.0612 & 0.0451 & 0.0888 & 0.0888 & 0.0888\\\\\n\\end{tabular}\n",
            "text/plain": [
              "                    Aviso_232_CuCl2_Block2.mzXML Aviso_233_CuCl2_Block2.mzXML\n",
              "2_Neg_477.065_4.52  0.3120                       0.2700                      \n",
              "3_Neg_112.986_0.74  0.1770                       0.1580                      \n",
              "4_Neg_133.014_0.71  0.1050                       0.1100                      \n",
              "8_Neg_420.046_2.93  0.1250                       0.1430                      \n",
              "9_Neg_439.085_0.68  0.0111                       0.0165                      \n",
              "11_Neg_174.956_0.56 0.0369                       0.0382                      \n",
              "                    Aviso_280_CuCl2_Block3.mzXML Chifu_187_CuCl2_Block1.mzXML\n",
              "2_Neg_477.065_4.52  0.2590                       0.4220                      \n",
              "3_Neg_112.986_0.74  0.1920                       0.2660                      \n",
              "4_Neg_133.014_0.71  0.1190                       0.1020                      \n",
              "8_Neg_420.046_2.93  0.1670                       0.0121                      \n",
              "9_Neg_439.085_0.68  0.0227                       0.0149                      \n",
              "11_Neg_174.956_0.56 0.0311                       0.0531                      \n",
              "                    Chifu_231_CuCl2_Block2.mzXML Chifu_279_CuCl2_Block3.mzXML\n",
              "2_Neg_477.065_4.52  0.3940                       0.3760                      \n",
              "3_Neg_112.986_0.74  0.1770                       0.2110                      \n",
              "4_Neg_133.014_0.71  0.1380                       0.1600                      \n",
              "8_Neg_420.046_2.93  0.0483                       0.0561                      \n",
              "9_Neg_439.085_0.68  0.0250                       0.0201                      \n",
              "11_Neg_174.956_0.56 0.0423                       0.0436                      \n",
              "                    HDEM_186_CuCl2_Block1.mzXML HDEM_230_CuCl2_Block2.mzXML\n",
              "2_Neg_477.065_4.52  0.45900                     0.36800                    \n",
              "3_Neg_112.986_0.74  0.31900                     0.25400                    \n",
              "4_Neg_133.014_0.71  0.13500                     0.09830                    \n",
              "8_Neg_420.046_2.93  0.09240                     0.09550                    \n",
              "9_Neg_439.085_0.68  0.00984                     0.00719                    \n",
              "11_Neg_174.956_0.56 0.05550                     0.03960                    \n",
              "                    HDEM_278_CuCl2_Block3.mzXML PBD01_167_CuCl2_Block1.mzXML ⋯\n",
              "2_Neg_477.065_4.52  0.3360                      0.6140                       ⋯\n",
              "3_Neg_112.986_0.74  0.1810                      0.3640                       ⋯\n",
              "4_Neg_133.014_0.71  0.1060                      0.1030                       ⋯\n",
              "8_Neg_420.046_2.93  0.1320                      0.0365                       ⋯\n",
              "9_Neg_439.085_0.68  0.0146                      0.0264                       ⋯\n",
              "11_Neg_174.956_0.56 0.0356                      0.0776                       ⋯\n",
              "                    PBD17_250_Control _Block3.mzXML\n",
              "2_Neg_477.065_4.52  0.8030                         \n",
              "3_Neg_112.986_0.74  0.3660                         \n",
              "4_Neg_133.014_0.71  0.3300                         \n",
              "8_Neg_420.046_2.93  0.3320                         \n",
              "9_Neg_439.085_0.68  0.1110                         \n",
              "11_Neg_174.956_0.56 0.0704                         \n",
              "                    PBD18_160_Control _Block1.mzXML\n",
              "2_Neg_477.065_4.52  0.12100                        \n",
              "3_Neg_112.986_0.74  0.08090                        \n",
              "4_Neg_133.014_0.71  0.05040                        \n",
              "8_Neg_420.046_2.93  0.13900                        \n",
              "9_Neg_439.085_0.68  0.00695                        \n",
              "11_Neg_174.956_0.56 0.01590                        \n",
              "                    PBD18_206_Control _Block2.mzXML\n",
              "2_Neg_477.065_4.52  0.3700                         \n",
              "3_Neg_112.986_0.74  0.2110                         \n",
              "4_Neg_133.014_0.71  0.1470                         \n",
              "8_Neg_420.046_2.93  0.4140                         \n",
              "9_Neg_439.085_0.68  0.0230                         \n",
              "11_Neg_174.956_0.56 0.0425                         \n",
              "                    PBD18_251_Control _Block3.mzXML\n",
              "2_Neg_477.065_4.52  0.5680                         \n",
              "3_Neg_112.986_0.74  0.3040                         \n",
              "4_Neg_133.014_0.71  0.1770                         \n",
              "8_Neg_420.046_2.93  0.3140                         \n",
              "9_Neg_439.085_0.68  0.0280                         \n",
              "11_Neg_174.956_0.56 0.0536                         \n",
              "                    PBD19_207_Control _Block2.mzXML\n",
              "2_Neg_477.065_4.52  0.3290                         \n",
              "3_Neg_112.986_0.74  0.1950                         \n",
              "4_Neg_133.014_0.71  0.0846                         \n",
              "8_Neg_420.046_2.93  0.1170                         \n",
              "9_Neg_439.085_0.68  0.0266                         \n",
              "11_Neg_174.956_0.56 0.0290                         \n",
              "                    PBD19_252_Control _Block3.mzXML\n",
              "2_Neg_477.065_4.52  0.6610                         \n",
              "3_Neg_112.986_0.74  0.3490                         \n",
              "4_Neg_133.014_0.71  0.2290                         \n",
              "8_Neg_420.046_2.93  0.0954                         \n",
              "9_Neg_439.085_0.68  0.0562                         \n",
              "11_Neg_174.956_0.56 0.0612                         \n",
              "                    PBD19_207_252_Control _Block3.mzXML\n",
              "2_Neg_477.065_4.52  0.4950                             \n",
              "3_Neg_112.986_0.74  0.2720                             \n",
              "4_Neg_133.014_0.71  0.1570                             \n",
              "8_Neg_420.046_2.93  0.1060                             \n",
              "9_Neg_439.085_0.68  0.0414                             \n",
              "11_Neg_174.956_0.56 0.0451                             \n",
              "                    PBD20_253_Control _Block3.1.mzXML\n",
              "2_Neg_477.065_4.52  0.7630                           \n",
              "3_Neg_112.986_0.74  0.3670                           \n",
              "4_Neg_133.014_0.71  0.1760                           \n",
              "8_Neg_420.046_2.93  0.4330                           \n",
              "9_Neg_439.085_0.68  0.0491                           \n",
              "11_Neg_174.956_0.56 0.0888                           \n",
              "                    PBD20_253_Control _Block3.2.mzXML\n",
              "2_Neg_477.065_4.52  0.7630                           \n",
              "3_Neg_112.986_0.74  0.3670                           \n",
              "4_Neg_133.014_0.71  0.1760                           \n",
              "8_Neg_420.046_2.93  0.4330                           \n",
              "9_Neg_439.085_0.68  0.0491                           \n",
              "11_Neg_174.956_0.56 0.0888                           \n",
              "                    PBD20_253_Control _Block3.3.mzXML\n",
              "2_Neg_477.065_4.52  0.7630                           \n",
              "3_Neg_112.986_0.74  0.3670                           \n",
              "4_Neg_133.014_0.71  0.1760                           \n",
              "8_Neg_420.046_2.93  0.4330                           \n",
              "9_Neg_439.085_0.68  0.0491                           \n",
              "11_Neg_174.956_0.56 0.0888                           "
            ]
          },
          "metadata": {}
        },
        {
          "output_type": "display_data",
          "data": {
            "text/html": [
              "<style>\n",
              ".list-inline {list-style: none; margin:0; padding: 0}\n",
              ".list-inline>li {display: inline-block}\n",
              ".list-inline>li:not(:last-child)::after {content: \"\\00b7\"; padding: 0 .5ex}\n",
              "</style>\n",
              "<ol class=list-inline><li>3086</li><li>138</li></ol>\n"
            ],
            "text/markdown": "1. 3086\n2. 138\n\n\n",
            "text/latex": "\\begin{enumerate*}\n\\item 3086\n\\item 138\n\\end{enumerate*}\n",
            "text/plain": [
              "[1] 3086  138"
            ]
          },
          "metadata": {}
        }
      ],
      "source": [
        "Imputed <- Samples\n",
        "head(Imputed)\n",
        "dim(Imputed)"
      ]
    },
    {
      "cell_type": "markdown",
      "source": [
        "## Creating a function named FrequencyPlot:  \n",
        "The below function takes in the two input datatables: for example, gapfilled and non-gapfilled, calculates the frequency distribution of the data in the order of 10 and produces a grouped barplot showing the distribution as output. The frequency plot shows where the features are present in higher number."
      ],
      "metadata": {
        "id": "NZQXTsaQmJPN"
      },
      "id": "NZQXTsaQmJPN"
    },
    {
      "cell_type": "code",
      "source": [
        "#'Global' settings for plot size in the output cell\n",
        "options(repr.plot.width=10, repr.plot.height=8,res=600) #For google collab\n",
        "#options(repr.plot.width=5, repr.plot.height=3) #For Jupyter Notebook"
      ],
      "metadata": {
        "id": "ewj5z0ywmLNZ"
      },
      "id": "ewj5z0ywmLNZ",
      "execution_count": 14,
      "outputs": []
    },
    {
      "cell_type": "code",
      "source": [
        "FrequencyPlot2 <- function(x1,x2){\n",
        "  \n",
        "   #creating bins from -1 to 10^10 using sequence function seq()\n",
        "    bins <- c(-1,0,(1 * 10^(-seq(0,10,1)))) \n",
        "    \n",
        "    #cut function cuts the give table into its appropriate bins\n",
        "    scores_x1 <- cut(as.matrix(x1),bins,labels = c('0','1','0.1','1E-2','1E-3','1E-4','1E-5','1E-6','1E-7','1E-8','1E-9','1E-10')) \n",
        "    \n",
        "    #transform function convert the tables into a column format: easy for visualization \n",
        "    Table_x1<-transform(table(scores_x1)) #contains 2 columns: \"scores_x1\", \"Freq\"\n",
        "    \n",
        "    #Repeating the same steps for x2\n",
        "    scores_x2 <- cut(as.matrix(x2),bins,labels = c('0','1','10','1E2','1E3','1E4','1E5','1E6','1E7','1E8','1E9','1E10'))\n",
        "    Table_x2<-transform(table(scores_x2))\n",
        "  \n",
        "    #Getting the names of x1 and x2\n",
        "    arg1 <- deparse(substitute(x1))\n",
        "    arg2 <-deparse(substitute(x2))\n",
        "    \n",
        "    #Creating a data frame for plotting\n",
        "    data_plot <- as.data.frame(c(Table_x1$Freq,Table_x2$Freq)) #Concatenating the frequency info of both tables rowwise\n",
        "    colnames(data_plot) <- \"Freq\" #naming the 1st column as 'Freq'\n",
        "    data_plot$Condition <- c(rep(arg1,12),rep(arg2,12)) #adding a 2nd column 'Condition', which just repeats the name of x1 and x2 accordingly\n",
        "    data_plot$Range_bins <- rep(Table_x1$scores_x1,2) #Adding 3rd column 'Range Bins'\n",
        "    data_plot$Log_Freq <- log(data_plot$Freq+1) #Log scaling the frequency values\n",
        "    \n",
        "    ## GGPLOT2\n",
        "    BarPlot <- ggplot(data_plot, aes(Range_bins, Log_Freq, fill = Condition)) + \n",
        "    geom_bar(stat=\"identity\", position = \"dodge\", width=0.4) + \n",
        "    scale_fill_brewer(palette = \"Set1\") +\n",
        "    ggtitle(label=\"Frequency plot\") +\n",
        "    xlab(\"Range\") + ylab(\"(Log)Frequency\") + labs(fill = \"Data Type\") + \n",
        "    theme(axis.text.x = element_text(angle = 90, vjust = 0.5, hjust=1)) +   # setting the angle for the x label\n",
        "    theme(axis.text.y = element_text(angle = 45, vjust = 0.5, hjust=1)) +   # setting the angle for the y label\n",
        "    theme(plot.title = element_text(hjust = 0.5)) # centering the plot title\n",
        "  \n",
        "    print(BarPlot)\n",
        "}  "
      ],
      "metadata": {
        "id": "ny9lrDL4mPTk"
      },
      "id": "ny9lrDL4mPTk",
      "execution_count": 15,
      "outputs": []
    },
    {
      "cell_type": "markdown",
      "id": "f06a2dd7",
      "metadata": {
        "id": "f06a2dd7"
      },
      "source": [
        "## Normalization:\n",
        "The following code performs sample-centric (column-wise) normalisation:"
      ]
    },
    {
      "cell_type": "code",
      "execution_count": 16,
      "id": "3a008a7a",
      "metadata": {
        "id": "3a008a7a",
        "colab": {
          "base_uri": "https://localhost:8080/"
        },
        "outputId": "aaee77af-e285-4179-e996-d1187b0dca3f"
      },
      "outputs": [
        {
          "output_type": "stream",
          "name": "stdout",
          "text": [
            "Do you want to perform Normalization: Y/N:Y\n",
            "[1] \"No.of NA values in Normalized data: 0\"\n"
          ]
        }
      ],
      "source": [
        "if (readline(\"Do you want to perform Normalization: Y/N:\") == 'Y'){\n",
        "    \n",
        "    #Getting column-wise sums of the input-data\n",
        "    sample_sum <- colSums(Imputed, na.rm= TRUE, dims = 1)\n",
        "    \n",
        "    #Dividing each element of a particular column with its column sum\n",
        "    Normalized_data <- c()\n",
        "    for (i in 1:ncol(Imputed)){\n",
        "        x <- Imputed[,i] / sample_sum[i]\n",
        "        Normalized_data <- cbind(Normalized_data, x)\n",
        "    }\n",
        "    colnames(Normalized_data) <- names(sample_sum)\n",
        "    \n",
        "} else return(Imputed)\n",
        "  \n",
        "print(paste('No.of NA values in Normalized data:',sum(is.na(Normalized_data)== TRUE)))"
      ]
    },
    {
      "cell_type": "code",
      "execution_count": 33,
      "id": "58fc407e",
      "metadata": {
        "id": "58fc407e"
      },
      "outputs": [],
      "source": [
        "write.csv(Normalized_data,file='220728_brassimet_Roots_Normalised_Quant_table.csv', row.names=TRUE) "
      ]
    },
    {
      "cell_type": "code",
      "source": [
        "Normalized <- Normalized_data\n",
        "NotNormalized <- Imputed"
      ],
      "metadata": {
        "id": "zbQ4TsTNkqOr"
      },
      "id": "zbQ4TsTNkqOr",
      "execution_count": 18,
      "outputs": []
    },
    {
      "cell_type": "code",
      "source": [
        "if(readline('Do you want to perform Imputation with minimum value of NonGapFilled table? - Y/N:')=='Y'){\n",
        "    \n",
        "    plot<- FrequencyPlot2(Normalized,NotNormalized)\n",
        "    \n",
        "    Arg1 = plot$data$Condition[1]\n",
        "    Arg2 = plot$data$Condition[13]\n",
        "    \n",
        "    # accessing the datatable of plot and subsetting with the condition: Eliminating the Range (or bin) 0 and Ranges with zero frequencies \n",
        "    plotData_New <- subset(plot$data,plot$data$Freq!=0 & plot$data$Range_bins !=0) \n",
        "    \n",
        "    #getting the first appearing value of this new plot datatable\n",
        "    First_val_temp <- aggregate(plotData_New$Freq, by=list(plotData_New$Condition), FUN=first) \n",
        "    \n",
        "    # Subsetting the rows in the plotData_New that has the first appearing values\n",
        "    First_val <- plotData_New[plotData_New$Freq %in% c(First_val_temp$x[1],First_val_temp$x[2]),]\n",
        "  \n",
        "    # getting the 2nd minimum value of non-gap filled data. (The first minimum value in the data table is usually zero)\n",
        "    RawLOD <- round(min(NotNormalized[NotNormalized!=min(NotNormalized)]))\n",
        "    print(paste0(\"The minimum value greater than 0 for \",Arg1,\":\", round(min(Normalized[Normalized!=min(Normalized)]))))\n",
        "    print(paste0(\"The minimum value greater than 0 for \",Arg2,\":\", RawLOD))\n",
        "    \n",
        "    Imputed2 <- Normalized\n",
        "    Imputed2[Imputed2<RawLOD] <- RawLOD # Replacing values<RawLOD with RawLOD\n",
        "} else return(Normalized)\n",
        "\n",
        "ggsave(plot,filename=\"220725_brassimet_Roots_FrequencyPlot_Normalized.png\", width = 10, height = 8)"
      ],
      "metadata": {
        "colab": {
          "base_uri": "https://localhost:8080/",
          "height": 549
        },
        "id": "_ISFSOe5koyL",
        "outputId": "0cfbbc47-8b1c-4e09-d1f6-f4721ef74fca"
      },
      "id": "_ISFSOe5koyL",
      "execution_count": 19,
      "outputs": [
        {
          "output_type": "stream",
          "name": "stdout",
          "text": [
            "Do you want to perform Imputation with minimum value of NonGapFilled table? - Y/N:Y\n",
            "[1] \"The minimum value greater than 0 for Normalized:0\"\n",
            "[1] \"The minimum value greater than 0 for NotNormalized:0\"\n"
          ]
        },
        {
          "output_type": "display_data",
          "data": {
            "text/plain": [
              "plot without title"
            ],
            "image/png": "[encoded data removed]"
          },
          "metadata": {
            "image/png": {
              "width": 600,
              "height": 480
            }
          }
        }
      ]
    },
    {
      "cell_type": "markdown",
      "id": "3ceee464",
      "metadata": {
        "id": "3ceee464"
      },
      "source": [
        "In the following cell, we are checking once again if the rownames of our metadata is the same as the column names of our feature table. It should return **TRUE** and we are also checking the data sparsity before proceeding into any statistical tests. Data sparsity tells the amount of zeros we have in our normalized dataframe."
      ]
    },
    {
      "cell_type": "code",
      "source": [
        "Normalized_data <- Samples"
      ],
      "metadata": {
        "id": "4C-gnpMo1WYG"
      },
      "id": "4C-gnpMo1WYG",
      "execution_count": 20,
      "outputs": []
    },
    {
      "cell_type": "code",
      "source": [
        "head(Normalized_data)"
      ],
      "metadata": {
        "colab": {
          "base_uri": "https://localhost:8080/",
          "height": 324
        },
        "id": "HJ8IMz7cqY96",
        "outputId": "58db164f-e26d-4f5f-d4c5-4f791c765a6e"
      },
      "id": "HJ8IMz7cqY96",
      "execution_count": 21,
      "outputs": [
        {
          "output_type": "display_data",
          "data": {
            "text/html": [
              "<table class=\"dataframe\">\n",
              "<caption>A data.frame: 6 × 138</caption>\n",
              "<thead>\n",
              "\t<tr><th></th><th scope=col>Aviso_232_CuCl2_Block2.mzXML</th><th scope=col>Aviso_233_CuCl2_Block2.mzXML</th><th scope=col>Aviso_280_CuCl2_Block3.mzXML</th><th scope=col>Chifu_187_CuCl2_Block1.mzXML</th><th scope=col>Chifu_231_CuCl2_Block2.mzXML</th><th scope=col>Chifu_279_CuCl2_Block3.mzXML</th><th scope=col>HDEM_186_CuCl2_Block1.mzXML</th><th scope=col>HDEM_230_CuCl2_Block2.mzXML</th><th scope=col>HDEM_278_CuCl2_Block3.mzXML</th><th scope=col>PBD01_167_CuCl2_Block1.mzXML</th><th scope=col>⋯</th><th scope=col>PBD17_250_Control _Block3.mzXML</th><th scope=col>PBD18_160_Control _Block1.mzXML</th><th scope=col>PBD18_206_Control _Block2.mzXML</th><th scope=col>PBD18_251_Control _Block3.mzXML</th><th scope=col>PBD19_207_Control _Block2.mzXML</th><th scope=col>PBD19_252_Control _Block3.mzXML</th><th scope=col>PBD19_207_252_Control _Block3.mzXML</th><th scope=col>PBD20_253_Control _Block3.1.mzXML</th><th scope=col>PBD20_253_Control _Block3.2.mzXML</th><th scope=col>PBD20_253_Control _Block3.3.mzXML</th></tr>\n",
              "\t<tr><th></th><th scope=col>&lt;dbl&gt;</th><th scope=col>&lt;dbl&gt;</th><th scope=col>&lt;dbl&gt;</th><th scope=col>&lt;dbl&gt;</th><th scope=col>&lt;dbl&gt;</th><th scope=col>&lt;dbl&gt;</th><th scope=col>&lt;dbl&gt;</th><th scope=col>&lt;dbl&gt;</th><th scope=col>&lt;dbl&gt;</th><th scope=col>&lt;dbl&gt;</th><th scope=col>⋯</th><th scope=col>&lt;dbl&gt;</th><th scope=col>&lt;dbl&gt;</th><th scope=col>&lt;dbl&gt;</th><th scope=col>&lt;dbl&gt;</th><th scope=col>&lt;dbl&gt;</th><th scope=col>&lt;dbl&gt;</th><th scope=col>&lt;dbl&gt;</th><th scope=col>&lt;dbl&gt;</th><th scope=col>&lt;dbl&gt;</th><th scope=col>&lt;dbl&gt;</th></tr>\n",
              "</thead>\n",
              "<tbody>\n",
              "\t<tr><th scope=row>2_Neg_477.065_4.52</th><td>0.3120</td><td>0.2700</td><td>0.2590</td><td>0.4220</td><td>0.3940</td><td>0.3760</td><td>0.45900</td><td>0.36800</td><td>0.3360</td><td>0.6140</td><td>⋯</td><td>0.8030</td><td>0.12100</td><td>0.3700</td><td>0.5680</td><td>0.3290</td><td>0.6610</td><td>0.4950</td><td>0.7630</td><td>0.7630</td><td>0.7630</td></tr>\n",
              "\t<tr><th scope=row>3_Neg_112.986_0.74</th><td>0.1770</td><td>0.1580</td><td>0.1920</td><td>0.2660</td><td>0.1770</td><td>0.2110</td><td>0.31900</td><td>0.25400</td><td>0.1810</td><td>0.3640</td><td>⋯</td><td>0.3660</td><td>0.08090</td><td>0.2110</td><td>0.3040</td><td>0.1950</td><td>0.3490</td><td>0.2720</td><td>0.3670</td><td>0.3670</td><td>0.3670</td></tr>\n",
              "\t<tr><th scope=row>4_Neg_133.014_0.71</th><td>0.1050</td><td>0.1100</td><td>0.1190</td><td>0.1020</td><td>0.1380</td><td>0.1600</td><td>0.13500</td><td>0.09830</td><td>0.1060</td><td>0.1030</td><td>⋯</td><td>0.3300</td><td>0.05040</td><td>0.1470</td><td>0.1770</td><td>0.0846</td><td>0.2290</td><td>0.1570</td><td>0.1760</td><td>0.1760</td><td>0.1760</td></tr>\n",
              "\t<tr><th scope=row>8_Neg_420.046_2.93</th><td>0.1250</td><td>0.1430</td><td>0.1670</td><td>0.0121</td><td>0.0483</td><td>0.0561</td><td>0.09240</td><td>0.09550</td><td>0.1320</td><td>0.0365</td><td>⋯</td><td>0.3320</td><td>0.13900</td><td>0.4140</td><td>0.3140</td><td>0.1170</td><td>0.0954</td><td>0.1060</td><td>0.4330</td><td>0.4330</td><td>0.4330</td></tr>\n",
              "\t<tr><th scope=row>9_Neg_439.085_0.68</th><td>0.0111</td><td>0.0165</td><td>0.0227</td><td>0.0149</td><td>0.0250</td><td>0.0201</td><td>0.00984</td><td>0.00719</td><td>0.0146</td><td>0.0264</td><td>⋯</td><td>0.1110</td><td>0.00695</td><td>0.0230</td><td>0.0280</td><td>0.0266</td><td>0.0562</td><td>0.0414</td><td>0.0491</td><td>0.0491</td><td>0.0491</td></tr>\n",
              "\t<tr><th scope=row>11_Neg_174.956_0.56</th><td>0.0369</td><td>0.0382</td><td>0.0311</td><td>0.0531</td><td>0.0423</td><td>0.0436</td><td>0.05550</td><td>0.03960</td><td>0.0356</td><td>0.0776</td><td>⋯</td><td>0.0704</td><td>0.01590</td><td>0.0425</td><td>0.0536</td><td>0.0290</td><td>0.0612</td><td>0.0451</td><td>0.0888</td><td>0.0888</td><td>0.0888</td></tr>\n",
              "</tbody>\n",
              "</table>\n"
            ],
            "text/markdown": "\nA data.frame: 6 × 138\n\n| <!--/--> | Aviso_232_CuCl2_Block2.mzXML &lt;dbl&gt; | Aviso_233_CuCl2_Block2.mzXML &lt;dbl&gt; | Aviso_280_CuCl2_Block3.mzXML &lt;dbl&gt; | Chifu_187_CuCl2_Block1.mzXML &lt;dbl&gt; | Chifu_231_CuCl2_Block2.mzXML &lt;dbl&gt; | Chifu_279_CuCl2_Block3.mzXML &lt;dbl&gt; | HDEM_186_CuCl2_Block1.mzXML &lt;dbl&gt; | HDEM_230_CuCl2_Block2.mzXML &lt;dbl&gt; | HDEM_278_CuCl2_Block3.mzXML &lt;dbl&gt; | PBD01_167_CuCl2_Block1.mzXML &lt;dbl&gt; | ⋯ ⋯ | PBD17_250_Control _Block3.mzXML &lt;dbl&gt; | PBD18_160_Control _Block1.mzXML &lt;dbl&gt; | PBD18_206_Control _Block2.mzXML &lt;dbl&gt; | PBD18_251_Control _Block3.mzXML &lt;dbl&gt; | PBD19_207_Control _Block2.mzXML &lt;dbl&gt; | PBD19_252_Control _Block3.mzXML &lt;dbl&gt; | PBD19_207_252_Control _Block3.mzXML &lt;dbl&gt; | PBD20_253_Control _Block3.1.mzXML &lt;dbl&gt; | PBD20_253_Control _Block3.2.mzXML &lt;dbl&gt; | PBD20_253_Control _Block3.3.mzXML &lt;dbl&gt; |\n|---|---|---|---|---|---|---|---|---|---|---|---|---|---|---|---|---|---|---|---|---|---|\n| 2_Neg_477.065_4.52 | 0.3120 | 0.2700 | 0.2590 | 0.4220 | 0.3940 | 0.3760 | 0.45900 | 0.36800 | 0.3360 | 0.6140 | ⋯ | 0.8030 | 0.12100 | 0.3700 | 0.5680 | 0.3290 | 0.6610 | 0.4950 | 0.7630 | 0.7630 | 0.7630 |\n| 3_Neg_112.986_0.74 | 0.1770 | 0.1580 | 0.1920 | 0.2660 | 0.1770 | 0.2110 | 0.31900 | 0.25400 | 0.1810 | 0.3640 | ⋯ | 0.3660 | 0.08090 | 0.2110 | 0.3040 | 0.1950 | 0.3490 | 0.2720 | 0.3670 | 0.3670 | 0.3670 |\n| 4_Neg_133.014_0.71 | 0.1050 | 0.1100 | 0.1190 | 0.1020 | 0.1380 | 0.1600 | 0.13500 | 0.09830 | 0.1060 | 0.1030 | ⋯ | 0.3300 | 0.05040 | 0.1470 | 0.1770 | 0.0846 | 0.2290 | 0.1570 | 0.1760 | 0.1760 | 0.1760 |\n| 8_Neg_420.046_2.93 | 0.1250 | 0.1430 | 0.1670 | 0.0121 | 0.0483 | 0.0561 | 0.09240 | 0.09550 | 0.1320 | 0.0365 | ⋯ | 0.3320 | 0.13900 | 0.4140 | 0.3140 | 0.1170 | 0.0954 | 0.1060 | 0.4330 | 0.4330 | 0.4330 |\n| 9_Neg_439.085_0.68 | 0.0111 | 0.0165 | 0.0227 | 0.0149 | 0.0250 | 0.0201 | 0.00984 | 0.00719 | 0.0146 | 0.0264 | ⋯ | 0.1110 | 0.00695 | 0.0230 | 0.0280 | 0.0266 | 0.0562 | 0.0414 | 0.0491 | 0.0491 | 0.0491 |\n| 11_Neg_174.956_0.56 | 0.0369 | 0.0382 | 0.0311 | 0.0531 | 0.0423 | 0.0436 | 0.05550 | 0.03960 | 0.0356 | 0.0776 | ⋯ | 0.0704 | 0.01590 | 0.0425 | 0.0536 | 0.0290 | 0.0612 | 0.0451 | 0.0888 | 0.0888 | 0.0888 |\n\n",
            "text/latex": "A data.frame: 6 × 138\n\\begin{tabular}{r|lllllllllllllllllllll}\n  & Aviso\\_232\\_CuCl2\\_Block2.mzXML & Aviso\\_233\\_CuCl2\\_Block2.mzXML & Aviso\\_280\\_CuCl2\\_Block3.mzXML & Chifu\\_187\\_CuCl2\\_Block1.mzXML & Chifu\\_231\\_CuCl2\\_Block2.mzXML & Chifu\\_279\\_CuCl2\\_Block3.mzXML & HDEM\\_186\\_CuCl2\\_Block1.mzXML & HDEM\\_230\\_CuCl2\\_Block2.mzXML & HDEM\\_278\\_CuCl2\\_Block3.mzXML & PBD01\\_167\\_CuCl2\\_Block1.mzXML & ⋯ & PBD17\\_250\\_Control \\_Block3.mzXML & PBD18\\_160\\_Control \\_Block1.mzXML & PBD18\\_206\\_Control \\_Block2.mzXML & PBD18\\_251\\_Control \\_Block3.mzXML & PBD19\\_207\\_Control \\_Block2.mzXML & PBD19\\_252\\_Control \\_Block3.mzXML & PBD19\\_207\\_252\\_Control \\_Block3.mzXML & PBD20\\_253\\_Control \\_Block3.1.mzXML & PBD20\\_253\\_Control \\_Block3.2.mzXML & PBD20\\_253\\_Control \\_Block3.3.mzXML\\\\\n  & <dbl> & <dbl> & <dbl> & <dbl> & <dbl> & <dbl> & <dbl> & <dbl> & <dbl> & <dbl> & ⋯ & <dbl> & <dbl> & <dbl> & <dbl> & <dbl> & <dbl> & <dbl> & <dbl> & <dbl> & <dbl>\\\\\n\\hline\n\t2\\_Neg\\_477.065\\_4.52 & 0.3120 & 0.2700 & 0.2590 & 0.4220 & 0.3940 & 0.3760 & 0.45900 & 0.36800 & 0.3360 & 0.6140 & ⋯ & 0.8030 & 0.12100 & 0.3700 & 0.5680 & 0.3290 & 0.6610 & 0.4950 & 0.7630 & 0.7630 & 0.7630\\\\\n\t3\\_Neg\\_112.986\\_0.74 & 0.1770 & 0.1580 & 0.1920 & 0.2660 & 0.1770 & 0.2110 & 0.31900 & 0.25400 & 0.1810 & 0.3640 & ⋯ & 0.3660 & 0.08090 & 0.2110 & 0.3040 & 0.1950 & 0.3490 & 0.2720 & 0.3670 & 0.3670 & 0.3670\\\\\n\t4\\_Neg\\_133.014\\_0.71 & 0.1050 & 0.1100 & 0.1190 & 0.1020 & 0.1380 & 0.1600 & 0.13500 & 0.09830 & 0.1060 & 0.1030 & ⋯ & 0.3300 & 0.05040 & 0.1470 & 0.1770 & 0.0846 & 0.2290 & 0.1570 & 0.1760 & 0.1760 & 0.1760\\\\\n\t8\\_Neg\\_420.046\\_2.93 & 0.1250 & 0.1430 & 0.1670 & 0.0121 & 0.0483 & 0.0561 & 0.09240 & 0.09550 & 0.1320 & 0.0365 & ⋯ & 0.3320 & 0.13900 & 0.4140 & 0.3140 & 0.1170 & 0.0954 & 0.1060 & 0.4330 & 0.4330 & 0.4330\\\\\n\t9\\_Neg\\_439.085\\_0.68 & 0.0111 & 0.0165 & 0.0227 & 0.0149 & 0.0250 & 0.0201 & 0.00984 & 0.00719 & 0.0146 & 0.0264 & ⋯ & 0.1110 & 0.00695 & 0.0230 & 0.0280 & 0.0266 & 0.0562 & 0.0414 & 0.0491 & 0.0491 & 0.0491\\\\\n\t11\\_Neg\\_174.956\\_0.56 & 0.0369 & 0.0382 & 0.0311 & 0.0531 & 0.0423 & 0.0436 & 0.05550 & 0.03960 & 0.0356 & 0.0776 & ⋯ & 0.0704 & 0.01590 & 0.0425 & 0.0536 & 0.0290 & 0.0612 & 0.0451 & 0.0888 & 0.0888 & 0.0888\\\\\n\\end{tabular}\n",
            "text/plain": [
              "                    Aviso_232_CuCl2_Block2.mzXML Aviso_233_CuCl2_Block2.mzXML\n",
              "2_Neg_477.065_4.52  0.3120                       0.2700                      \n",
              "3_Neg_112.986_0.74  0.1770                       0.1580                      \n",
              "4_Neg_133.014_0.71  0.1050                       0.1100                      \n",
              "8_Neg_420.046_2.93  0.1250                       0.1430                      \n",
              "9_Neg_439.085_0.68  0.0111                       0.0165                      \n",
              "11_Neg_174.956_0.56 0.0369                       0.0382                      \n",
              "                    Aviso_280_CuCl2_Block3.mzXML Chifu_187_CuCl2_Block1.mzXML\n",
              "2_Neg_477.065_4.52  0.2590                       0.4220                      \n",
              "3_Neg_112.986_0.74  0.1920                       0.2660                      \n",
              "4_Neg_133.014_0.71  0.1190                       0.1020                      \n",
              "8_Neg_420.046_2.93  0.1670                       0.0121                      \n",
              "9_Neg_439.085_0.68  0.0227                       0.0149                      \n",
              "11_Neg_174.956_0.56 0.0311                       0.0531                      \n",
              "                    Chifu_231_CuCl2_Block2.mzXML Chifu_279_CuCl2_Block3.mzXML\n",
              "2_Neg_477.065_4.52  0.3940                       0.3760                      \n",
              "3_Neg_112.986_0.74  0.1770                       0.2110                      \n",
              "4_Neg_133.014_0.71  0.1380                       0.1600                      \n",
              "8_Neg_420.046_2.93  0.0483                       0.0561                      \n",
              "9_Neg_439.085_0.68  0.0250                       0.0201                      \n",
              "11_Neg_174.956_0.56 0.0423                       0.0436                      \n",
              "                    HDEM_186_CuCl2_Block1.mzXML HDEM_230_CuCl2_Block2.mzXML\n",
              "2_Neg_477.065_4.52  0.45900                     0.36800                    \n",
              "3_Neg_112.986_0.74  0.31900                     0.25400                    \n",
              "4_Neg_133.014_0.71  0.13500                     0.09830                    \n",
              "8_Neg_420.046_2.93  0.09240                     0.09550                    \n",
              "9_Neg_439.085_0.68  0.00984                     0.00719                    \n",
              "11_Neg_174.956_0.56 0.05550                     0.03960                    \n",
              "                    HDEM_278_CuCl2_Block3.mzXML PBD01_167_CuCl2_Block1.mzXML ⋯\n",
              "2_Neg_477.065_4.52  0.3360                      0.6140                       ⋯\n",
              "3_Neg_112.986_0.74  0.1810                      0.3640                       ⋯\n",
              "4_Neg_133.014_0.71  0.1060                      0.1030                       ⋯\n",
              "8_Neg_420.046_2.93  0.1320                      0.0365                       ⋯\n",
              "9_Neg_439.085_0.68  0.0146                      0.0264                       ⋯\n",
              "11_Neg_174.956_0.56 0.0356                      0.0776                       ⋯\n",
              "                    PBD17_250_Control _Block3.mzXML\n",
              "2_Neg_477.065_4.52  0.8030                         \n",
              "3_Neg_112.986_0.74  0.3660                         \n",
              "4_Neg_133.014_0.71  0.3300                         \n",
              "8_Neg_420.046_2.93  0.3320                         \n",
              "9_Neg_439.085_0.68  0.1110                         \n",
              "11_Neg_174.956_0.56 0.0704                         \n",
              "                    PBD18_160_Control _Block1.mzXML\n",
              "2_Neg_477.065_4.52  0.12100                        \n",
              "3_Neg_112.986_0.74  0.08090                        \n",
              "4_Neg_133.014_0.71  0.05040                        \n",
              "8_Neg_420.046_2.93  0.13900                        \n",
              "9_Neg_439.085_0.68  0.00695                        \n",
              "11_Neg_174.956_0.56 0.01590                        \n",
              "                    PBD18_206_Control _Block2.mzXML\n",
              "2_Neg_477.065_4.52  0.3700                         \n",
              "3_Neg_112.986_0.74  0.2110                         \n",
              "4_Neg_133.014_0.71  0.1470                         \n",
              "8_Neg_420.046_2.93  0.4140                         \n",
              "9_Neg_439.085_0.68  0.0230                         \n",
              "11_Neg_174.956_0.56 0.0425                         \n",
              "                    PBD18_251_Control _Block3.mzXML\n",
              "2_Neg_477.065_4.52  0.5680                         \n",
              "3_Neg_112.986_0.74  0.3040                         \n",
              "4_Neg_133.014_0.71  0.1770                         \n",
              "8_Neg_420.046_2.93  0.3140                         \n",
              "9_Neg_439.085_0.68  0.0280                         \n",
              "11_Neg_174.956_0.56 0.0536                         \n",
              "                    PBD19_207_Control _Block2.mzXML\n",
              "2_Neg_477.065_4.52  0.3290                         \n",
              "3_Neg_112.986_0.74  0.1950                         \n",
              "4_Neg_133.014_0.71  0.0846                         \n",
              "8_Neg_420.046_2.93  0.1170                         \n",
              "9_Neg_439.085_0.68  0.0266                         \n",
              "11_Neg_174.956_0.56 0.0290                         \n",
              "                    PBD19_252_Control _Block3.mzXML\n",
              "2_Neg_477.065_4.52  0.6610                         \n",
              "3_Neg_112.986_0.74  0.3490                         \n",
              "4_Neg_133.014_0.71  0.2290                         \n",
              "8_Neg_420.046_2.93  0.0954                         \n",
              "9_Neg_439.085_0.68  0.0562                         \n",
              "11_Neg_174.956_0.56 0.0612                         \n",
              "                    PBD19_207_252_Control _Block3.mzXML\n",
              "2_Neg_477.065_4.52  0.4950                             \n",
              "3_Neg_112.986_0.74  0.2720                             \n",
              "4_Neg_133.014_0.71  0.1570                             \n",
              "8_Neg_420.046_2.93  0.1060                             \n",
              "9_Neg_439.085_0.68  0.0414                             \n",
              "11_Neg_174.956_0.56 0.0451                             \n",
              "                    PBD20_253_Control _Block3.1.mzXML\n",
              "2_Neg_477.065_4.52  0.7630                           \n",
              "3_Neg_112.986_0.74  0.3670                           \n",
              "4_Neg_133.014_0.71  0.1760                           \n",
              "8_Neg_420.046_2.93  0.4330                           \n",
              "9_Neg_439.085_0.68  0.0491                           \n",
              "11_Neg_174.956_0.56 0.0888                           \n",
              "                    PBD20_253_Control _Block3.2.mzXML\n",
              "2_Neg_477.065_4.52  0.7630                           \n",
              "3_Neg_112.986_0.74  0.3670                           \n",
              "4_Neg_133.014_0.71  0.1760                           \n",
              "8_Neg_420.046_2.93  0.4330                           \n",
              "9_Neg_439.085_0.68  0.0491                           \n",
              "11_Neg_174.956_0.56 0.0888                           \n",
              "                    PBD20_253_Control _Block3.3.mzXML\n",
              "2_Neg_477.065_4.52  0.7630                           \n",
              "3_Neg_112.986_0.74  0.3670                           \n",
              "4_Neg_133.014_0.71  0.1760                           \n",
              "8_Neg_420.046_2.93  0.4330                           \n",
              "9_Neg_439.085_0.68  0.0491                           \n",
              "11_Neg_174.956_0.56 0.0888                           "
            ]
          },
          "metadata": {}
        }
      ]
    },
    {
      "cell_type": "markdown",
      "source": [
        "# **<font color='\tdodgerblue'> Multivariate analysis **<font>\n",
        "\n",
        "\n",
        "\n"
      ],
      "metadata": {
        "id": "9n6wLi7jgxse"
      },
      "id": "9n6wLi7jgxse"
    },
    {
      "cell_type": "markdown",
      "source": [
        "1.   Hierarchical Clustering Analysis (HCA)\n",
        "2.   Principal composante analysis (PCA)\n",
        "3.   Principal Coordinate analysis (PCoA) \n",
        "4.   Permutational multivariate analysis of variance (PERMANOVA)\n",
        "5.   Partial least squares-discriminant analysis (PLSDA)\n",
        "6.   Receiver-Operating Characteristic A(ROC) analysis\n",
        "7.   Discriminates analysis\n",
        "8.   Volcano plot"
      ],
      "metadata": {
        "id": "0HYL1FpNh97d"
      },
      "id": "0HYL1FpNh97d"
    },
    {
      "cell_type": "code",
      "source": [
        "## Install require package\n",
        "\n",
        "#install.packages(\"installr\") \n",
        "if (!require(\"BiocManager\", quietly = TRUE))\n",
        "    install.packages(\"BiocManager\")\n",
        "BiocManager::install(\"ComplexHeatmap\")\n",
        "install.packages(\"devtools\")\n",
        "install.packages(\"circlize\")\n",
        "install.packages(\"tidyverse\")\n",
        "install.packages(\"dplyr\")\n",
        "install.packages(\"ggpubr\")\n",
        "install.packages(\"mvnormtest\")\n",
        "install.packages(\"vroom\")\n",
        "#install.packages('magick')  # there is no package called ‘magick’ R version 4.2.0\n",
        "install.packages('viridis')"
      ],
      "metadata": {
        "id": "8dd8IPZVrjx1"
      },
      "id": "8dd8IPZVrjx1",
      "execution_count": null,
      "outputs": []
    },
    {
      "cell_type": "markdown",
      "source": [
        "## 1. Hierarchical Clustering Analysis (HCA)\n",
        "\n",
        "HCA try to create clusters of observations in data set, based on similarities of variables."
      ],
      "metadata": {
        "id": "UK3VwseSrL88"
      },
      "id": "UK3VwseSrL88"
    },
    {
      "cell_type": "code",
      "source": [
        "## Lad package\n",
        "require(\"devtools\")\n",
        "require(\"ComplexHeatmap\")\n",
        "require(\"circlize\")\n",
        "require(\"tidyverse\")\n",
        "require(\"dplyr\")\n",
        "require(\"pheatmap\")\n",
        "require(\"ggpubr\")\n",
        "require(\"mvnormtest\")\n",
        "require(\"vroom\")\n",
        "#require('magick')\n",
        "require('viridis')"
      ],
      "metadata": {
        "id": "SE8haFIQwisN"
      },
      "id": "SE8haFIQwisN",
      "execution_count": 6,
      "outputs": []
    },
    {
      "cell_type": "code",
      "source": [
        "dat_POS <- as.data.frame(read.csv(file = \"../../../../220728_brassimet_Roots_Normalised_Quant_table.csv\", row.names = 1))\n",
        "metadata <- as.data.frame(read.csv(file = \"../../../../Brassinet_Roots_metadata_Dec 2021.csv\", row.names = 1))\n",
        "metadata1 <- read.csv(file = \"../../../../Brassinet_Roots_metadata_Dec 2021.csv\", header=T, sep = \",\", row.names = 1)"
      ],
      "metadata": {
        "id": "aujJO45Xyeja"
      },
      "id": "aujJO45Xyeja",
      "execution_count": 21,
      "outputs": []
    },
    {
      "cell_type": "code",
      "source": [
        "getwd()"
      ],
      "metadata": {
        "colab": {
          "base_uri": "https://localhost:8080/",
          "height": 34
        },
        "id": "AK9HbyvO7hOL",
        "outputId": "811c63df-a170-483f-e2ce-efe1e988dd93"
      },
      "id": "AK9HbyvO7hOL",
      "execution_count": 22,
      "outputs": [
        {
          "output_type": "display_data",
          "data": {
            "text/html": [
              "'/content/E:/IGEPP-UMR 1349 INRAE/BRASSIMET-project/output_data'"
            ],
            "text/markdown": "'/content/E:/IGEPP-UMR 1349 INRAE/BRASSIMET-project/output_data'",
            "text/latex": "'/content/E:/IGEPP-UMR 1349 INRAE/BRASSIMET-project/output\\_data'",
            "text/plain": [
              "[1] \"/content/E:/IGEPP-UMR 1349 INRAE/BRASSIMET-project/output_data\""
            ]
          },
          "metadata": {}
        }
      ]
    },
    {
      "cell_type": "code",
      "source": [
        "head(dat_POS)"
      ],
      "metadata": {
        "colab": {
          "base_uri": "https://localhost:8080/",
          "height": 306
        },
        "id": "jIiwD7gy-UFE",
        "outputId": "0f606022-070d-44d1-c98e-233eb56757d8"
      },
      "id": "jIiwD7gy-UFE",
      "execution_count": 23,
      "outputs": [
        {
          "output_type": "display_data",
          "data": {
            "text/html": [
              "<table class=\"dataframe\">\n",
              "<caption>A data.frame: 6 × 138</caption>\n",
              "<thead>\n",
              "\t<tr><th></th><th scope=col>Aviso_232_CuCl2_Block2.mzXML</th><th scope=col>Aviso_233_CuCl2_Block2.mzXML</th><th scope=col>Aviso_280_CuCl2_Block3.mzXML</th><th scope=col>Chifu_187_CuCl2_Block1.mzXML</th><th scope=col>Chifu_231_CuCl2_Block2.mzXML</th><th scope=col>Chifu_279_CuCl2_Block3.mzXML</th><th scope=col>HDEM_186_CuCl2_Block1.mzXML</th><th scope=col>HDEM_230_CuCl2_Block2.mzXML</th><th scope=col>HDEM_278_CuCl2_Block3.mzXML</th><th scope=col>PBD01_167_CuCl2_Block1.mzXML</th><th scope=col>⋯</th><th scope=col>PBD17_250_Control._Block3.mzXML</th><th scope=col>PBD18_160_Control._Block1.mzXML</th><th scope=col>PBD18_206_Control._Block2.mzXML</th><th scope=col>PBD18_251_Control._Block3.mzXML</th><th scope=col>PBD19_207_Control._Block2.mzXML</th><th scope=col>PBD19_252_Control._Block3.mzXML</th><th scope=col>PBD19_207_252_Control._Block3.mzXML</th><th scope=col>PBD20_253_Control._Block3.1.mzXML</th><th scope=col>PBD20_253_Control._Block3.2.mzXML</th><th scope=col>PBD20_253_Control._Block3.3.mzXML</th></tr>\n",
              "\t<tr><th></th><th scope=col>&lt;dbl&gt;</th><th scope=col>&lt;dbl&gt;</th><th scope=col>&lt;dbl&gt;</th><th scope=col>&lt;dbl&gt;</th><th scope=col>&lt;dbl&gt;</th><th scope=col>&lt;dbl&gt;</th><th scope=col>&lt;dbl&gt;</th><th scope=col>&lt;dbl&gt;</th><th scope=col>&lt;dbl&gt;</th><th scope=col>&lt;dbl&gt;</th><th scope=col>⋯</th><th scope=col>&lt;dbl&gt;</th><th scope=col>&lt;dbl&gt;</th><th scope=col>&lt;dbl&gt;</th><th scope=col>&lt;dbl&gt;</th><th scope=col>&lt;dbl&gt;</th><th scope=col>&lt;dbl&gt;</th><th scope=col>&lt;dbl&gt;</th><th scope=col>&lt;dbl&gt;</th><th scope=col>&lt;dbl&gt;</th><th scope=col>&lt;dbl&gt;</th></tr>\n",
              "</thead>\n",
              "<tbody>\n",
              "\t<tr><th scope=row>2_Neg_477.065_4.52</th><td>0.026341490</td><td>0.029492665</td><td>0.027603399</td><td>0.039440394</td><td>0.033350152</td><td>0.041528316</td><td>0.038540680</td><td>0.040520022</td><td>0.038488058</td><td>0.042035813</td><td>⋯</td><td>0.059399332</td><td>0.021111126</td><td>0.028822807</td><td>0.057183505</td><td>0.036912326</td><td>0.056468395</td><td>0.048009006</td><td>0.061153065</td><td>0.061153065</td><td>0.061153065</td></tr>\n",
              "\t<tr><th scope=row>3_Neg_112.986_0.74</th><td>0.014943730</td><td>0.017258671</td><td>0.020462752</td><td>0.024860532</td><td>0.014982175</td><td>0.023304454</td><td>0.026785353</td><td>0.027967624</td><td>0.020733150</td><td>0.024920254</td><td>⋯</td><td>0.027073668</td><td>0.014114794</td><td>0.016436790</td><td>0.030605256</td><td>0.021878127</td><td>0.029814629</td><td>0.026380707</td><td>0.029414384</td><td>0.029414384</td><td>0.029414384</td></tr>\n",
              "\t<tr><th scope=row>4_Neg_133.014_0.71</th><td>0.008864925</td><td>0.012015530</td><td>0.012682643</td><td>0.009532986</td><td>0.011681018</td><td>0.017671624</td><td>0.011335494</td><td>0.010823691</td><td>0.012142066</td><td>0.007051610</td><td>⋯</td><td>0.024410684</td><td>0.008793394</td><td>0.011451223</td><td>0.017819508</td><td>0.009491741</td><td>0.019563181</td><td>0.015227099</td><td>0.014106080</td><td>0.014106080</td><td>0.014106080</td></tr>\n",
              "\t<tr><th scope=row>8_Neg_420.046_2.93</th><td>0.010553482</td><td>0.015620189</td><td>0.017798331</td><td>0.001130874</td><td>0.004088356</td><td>0.006196113</td><td>0.007758516</td><td>0.010515386</td><td>0.015120309</td><td>0.002498872</td><td>⋯</td><td>0.024558628</td><td>0.024251624</td><td>0.032250384</td><td>0.031612008</td><td>0.013126876</td><td>0.008149902</td><td>0.010280717</td><td>0.034704164</td><td>0.034704164</td><td>0.034704164</td></tr>\n",
              "\t<tr><th scope=row>9_Neg_439.085_0.68</th><td>0.000937149</td><td>0.001802330</td><td>0.002419294</td><td>0.001392564</td><td>0.002116126</td><td>0.002219998</td><td>0.000826232</td><td>0.000791682</td><td>0.001672398</td><td>0.001807403</td><td>⋯</td><td>0.008210867</td><td>0.001212581</td><td>0.001791688</td><td>0.002818905</td><td>0.002984401</td><td>0.004801095</td><td>0.004015299</td><td>0.003935276</td><td>0.003935276</td><td>0.003935276</td></tr>\n",
              "\t<tr><th scope=row>11_Neg_174.956_0.56</th><td>0.003115388</td><td>0.004172666</td><td>0.003314539</td><td>0.004962760</td><td>0.003580486</td><td>0.004815517</td><td>0.004660148</td><td>0.004360307</td><td>0.004077901</td><td>0.005312669</td><td>⋯</td><td>0.005207613</td><td>0.002774107</td><td>0.003310728</td><td>0.005396190</td><td>0.003253670</td><td>0.005228239</td><td>0.004374154</td><td>0.007117159</td><td>0.007117159</td><td>0.007117159</td></tr>\n",
              "</tbody>\n",
              "</table>\n"
            ],
            "text/markdown": "\nA data.frame: 6 × 138\n\n| <!--/--> | Aviso_232_CuCl2_Block2.mzXML &lt;dbl&gt; | Aviso_233_CuCl2_Block2.mzXML &lt;dbl&gt; | Aviso_280_CuCl2_Block3.mzXML &lt;dbl&gt; | Chifu_187_CuCl2_Block1.mzXML &lt;dbl&gt; | Chifu_231_CuCl2_Block2.mzXML &lt;dbl&gt; | Chifu_279_CuCl2_Block3.mzXML &lt;dbl&gt; | HDEM_186_CuCl2_Block1.mzXML &lt;dbl&gt; | HDEM_230_CuCl2_Block2.mzXML &lt;dbl&gt; | HDEM_278_CuCl2_Block3.mzXML &lt;dbl&gt; | PBD01_167_CuCl2_Block1.mzXML &lt;dbl&gt; | ⋯ ⋯ | PBD17_250_Control._Block3.mzXML &lt;dbl&gt; | PBD18_160_Control._Block1.mzXML &lt;dbl&gt; | PBD18_206_Control._Block2.mzXML &lt;dbl&gt; | PBD18_251_Control._Block3.mzXML &lt;dbl&gt; | PBD19_207_Control._Block2.mzXML &lt;dbl&gt; | PBD19_252_Control._Block3.mzXML &lt;dbl&gt; | PBD19_207_252_Control._Block3.mzXML &lt;dbl&gt; | PBD20_253_Control._Block3.1.mzXML &lt;dbl&gt; | PBD20_253_Control._Block3.2.mzXML &lt;dbl&gt; | PBD20_253_Control._Block3.3.mzXML &lt;dbl&gt; |\n|---|---|---|---|---|---|---|---|---|---|---|---|---|---|---|---|---|---|---|---|---|---|\n| 2_Neg_477.065_4.52 | 0.026341490 | 0.029492665 | 0.027603399 | 0.039440394 | 0.033350152 | 0.041528316 | 0.038540680 | 0.040520022 | 0.038488058 | 0.042035813 | ⋯ | 0.059399332 | 0.021111126 | 0.028822807 | 0.057183505 | 0.036912326 | 0.056468395 | 0.048009006 | 0.061153065 | 0.061153065 | 0.061153065 |\n| 3_Neg_112.986_0.74 | 0.014943730 | 0.017258671 | 0.020462752 | 0.024860532 | 0.014982175 | 0.023304454 | 0.026785353 | 0.027967624 | 0.020733150 | 0.024920254 | ⋯ | 0.027073668 | 0.014114794 | 0.016436790 | 0.030605256 | 0.021878127 | 0.029814629 | 0.026380707 | 0.029414384 | 0.029414384 | 0.029414384 |\n| 4_Neg_133.014_0.71 | 0.008864925 | 0.012015530 | 0.012682643 | 0.009532986 | 0.011681018 | 0.017671624 | 0.011335494 | 0.010823691 | 0.012142066 | 0.007051610 | ⋯ | 0.024410684 | 0.008793394 | 0.011451223 | 0.017819508 | 0.009491741 | 0.019563181 | 0.015227099 | 0.014106080 | 0.014106080 | 0.014106080 |\n| 8_Neg_420.046_2.93 | 0.010553482 | 0.015620189 | 0.017798331 | 0.001130874 | 0.004088356 | 0.006196113 | 0.007758516 | 0.010515386 | 0.015120309 | 0.002498872 | ⋯ | 0.024558628 | 0.024251624 | 0.032250384 | 0.031612008 | 0.013126876 | 0.008149902 | 0.010280717 | 0.034704164 | 0.034704164 | 0.034704164 |\n| 9_Neg_439.085_0.68 | 0.000937149 | 0.001802330 | 0.002419294 | 0.001392564 | 0.002116126 | 0.002219998 | 0.000826232 | 0.000791682 | 0.001672398 | 0.001807403 | ⋯ | 0.008210867 | 0.001212581 | 0.001791688 | 0.002818905 | 0.002984401 | 0.004801095 | 0.004015299 | 0.003935276 | 0.003935276 | 0.003935276 |\n| 11_Neg_174.956_0.56 | 0.003115388 | 0.004172666 | 0.003314539 | 0.004962760 | 0.003580486 | 0.004815517 | 0.004660148 | 0.004360307 | 0.004077901 | 0.005312669 | ⋯ | 0.005207613 | 0.002774107 | 0.003310728 | 0.005396190 | 0.003253670 | 0.005228239 | 0.004374154 | 0.007117159 | 0.007117159 | 0.007117159 |\n\n",
            "text/latex": "A data.frame: 6 × 138\n\\begin{tabular}{r|lllllllllllllllllllll}\n  & Aviso\\_232\\_CuCl2\\_Block2.mzXML & Aviso\\_233\\_CuCl2\\_Block2.mzXML & Aviso\\_280\\_CuCl2\\_Block3.mzXML & Chifu\\_187\\_CuCl2\\_Block1.mzXML & Chifu\\_231\\_CuCl2\\_Block2.mzXML & Chifu\\_279\\_CuCl2\\_Block3.mzXML & HDEM\\_186\\_CuCl2\\_Block1.mzXML & HDEM\\_230\\_CuCl2\\_Block2.mzXML & HDEM\\_278\\_CuCl2\\_Block3.mzXML & PBD01\\_167\\_CuCl2\\_Block1.mzXML & ⋯ & PBD17\\_250\\_Control.\\_Block3.mzXML & PBD18\\_160\\_Control.\\_Block1.mzXML & PBD18\\_206\\_Control.\\_Block2.mzXML & PBD18\\_251\\_Control.\\_Block3.mzXML & PBD19\\_207\\_Control.\\_Block2.mzXML & PBD19\\_252\\_Control.\\_Block3.mzXML & PBD19\\_207\\_252\\_Control.\\_Block3.mzXML & PBD20\\_253\\_Control.\\_Block3.1.mzXML & PBD20\\_253\\_Control.\\_Block3.2.mzXML & PBD20\\_253\\_Control.\\_Block3.3.mzXML\\\\\n  & <dbl> & <dbl> & <dbl> & <dbl> & <dbl> & <dbl> & <dbl> & <dbl> & <dbl> & <dbl> & ⋯ & <dbl> & <dbl> & <dbl> & <dbl> & <dbl> & <dbl> & <dbl> & <dbl> & <dbl> & <dbl>\\\\\n\\hline\n\t2\\_Neg\\_477.065\\_4.52 & 0.026341490 & 0.029492665 & 0.027603399 & 0.039440394 & 0.033350152 & 0.041528316 & 0.038540680 & 0.040520022 & 0.038488058 & 0.042035813 & ⋯ & 0.059399332 & 0.021111126 & 0.028822807 & 0.057183505 & 0.036912326 & 0.056468395 & 0.048009006 & 0.061153065 & 0.061153065 & 0.061153065\\\\\n\t3\\_Neg\\_112.986\\_0.74 & 0.014943730 & 0.017258671 & 0.020462752 & 0.024860532 & 0.014982175 & 0.023304454 & 0.026785353 & 0.027967624 & 0.020733150 & 0.024920254 & ⋯ & 0.027073668 & 0.014114794 & 0.016436790 & 0.030605256 & 0.021878127 & 0.029814629 & 0.026380707 & 0.029414384 & 0.029414384 & 0.029414384\\\\\n\t4\\_Neg\\_133.014\\_0.71 & 0.008864925 & 0.012015530 & 0.012682643 & 0.009532986 & 0.011681018 & 0.017671624 & 0.011335494 & 0.010823691 & 0.012142066 & 0.007051610 & ⋯ & 0.024410684 & 0.008793394 & 0.011451223 & 0.017819508 & 0.009491741 & 0.019563181 & 0.015227099 & 0.014106080 & 0.014106080 & 0.014106080\\\\\n\t8\\_Neg\\_420.046\\_2.93 & 0.010553482 & 0.015620189 & 0.017798331 & 0.001130874 & 0.004088356 & 0.006196113 & 0.007758516 & 0.010515386 & 0.015120309 & 0.002498872 & ⋯ & 0.024558628 & 0.024251624 & 0.032250384 & 0.031612008 & 0.013126876 & 0.008149902 & 0.010280717 & 0.034704164 & 0.034704164 & 0.034704164\\\\\n\t9\\_Neg\\_439.085\\_0.68 & 0.000937149 & 0.001802330 & 0.002419294 & 0.001392564 & 0.002116126 & 0.002219998 & 0.000826232 & 0.000791682 & 0.001672398 & 0.001807403 & ⋯ & 0.008210867 & 0.001212581 & 0.001791688 & 0.002818905 & 0.002984401 & 0.004801095 & 0.004015299 & 0.003935276 & 0.003935276 & 0.003935276\\\\\n\t11\\_Neg\\_174.956\\_0.56 & 0.003115388 & 0.004172666 & 0.003314539 & 0.004962760 & 0.003580486 & 0.004815517 & 0.004660148 & 0.004360307 & 0.004077901 & 0.005312669 & ⋯ & 0.005207613 & 0.002774107 & 0.003310728 & 0.005396190 & 0.003253670 & 0.005228239 & 0.004374154 & 0.007117159 & 0.007117159 & 0.007117159\\\\\n\\end{tabular}\n",
            "text/plain": [
              "                    Aviso_232_CuCl2_Block2.mzXML Aviso_233_CuCl2_Block2.mzXML\n",
              "2_Neg_477.065_4.52  0.026341490                  0.029492665                 \n",
              "3_Neg_112.986_0.74  0.014943730                  0.017258671                 \n",
              "4_Neg_133.014_0.71  0.008864925                  0.012015530                 \n",
              "8_Neg_420.046_2.93  0.010553482                  0.015620189                 \n",
              "9_Neg_439.085_0.68  0.000937149                  0.001802330                 \n",
              "11_Neg_174.956_0.56 0.003115388                  0.004172666                 \n",
              "                    Aviso_280_CuCl2_Block3.mzXML Chifu_187_CuCl2_Block1.mzXML\n",
              "2_Neg_477.065_4.52  0.027603399                  0.039440394                 \n",
              "3_Neg_112.986_0.74  0.020462752                  0.024860532                 \n",
              "4_Neg_133.014_0.71  0.012682643                  0.009532986                 \n",
              "8_Neg_420.046_2.93  0.017798331                  0.001130874                 \n",
              "9_Neg_439.085_0.68  0.002419294                  0.001392564                 \n",
              "11_Neg_174.956_0.56 0.003314539                  0.004962760                 \n",
              "                    Chifu_231_CuCl2_Block2.mzXML Chifu_279_CuCl2_Block3.mzXML\n",
              "2_Neg_477.065_4.52  0.033350152                  0.041528316                 \n",
              "3_Neg_112.986_0.74  0.014982175                  0.023304454                 \n",
              "4_Neg_133.014_0.71  0.011681018                  0.017671624                 \n",
              "8_Neg_420.046_2.93  0.004088356                  0.006196113                 \n",
              "9_Neg_439.085_0.68  0.002116126                  0.002219998                 \n",
              "11_Neg_174.956_0.56 0.003580486                  0.004815517                 \n",
              "                    HDEM_186_CuCl2_Block1.mzXML HDEM_230_CuCl2_Block2.mzXML\n",
              "2_Neg_477.065_4.52  0.038540680                 0.040520022                \n",
              "3_Neg_112.986_0.74  0.026785353                 0.027967624                \n",
              "4_Neg_133.014_0.71  0.011335494                 0.010823691                \n",
              "8_Neg_420.046_2.93  0.007758516                 0.010515386                \n",
              "9_Neg_439.085_0.68  0.000826232                 0.000791682                \n",
              "11_Neg_174.956_0.56 0.004660148                 0.004360307                \n",
              "                    HDEM_278_CuCl2_Block3.mzXML PBD01_167_CuCl2_Block1.mzXML ⋯\n",
              "2_Neg_477.065_4.52  0.038488058                 0.042035813                  ⋯\n",
              "3_Neg_112.986_0.74  0.020733150                 0.024920254                  ⋯\n",
              "4_Neg_133.014_0.71  0.012142066                 0.007051610                  ⋯\n",
              "8_Neg_420.046_2.93  0.015120309                 0.002498872                  ⋯\n",
              "9_Neg_439.085_0.68  0.001672398                 0.001807403                  ⋯\n",
              "11_Neg_174.956_0.56 0.004077901                 0.005312669                  ⋯\n",
              "                    PBD17_250_Control._Block3.mzXML\n",
              "2_Neg_477.065_4.52  0.059399332                    \n",
              "3_Neg_112.986_0.74  0.027073668                    \n",
              "4_Neg_133.014_0.71  0.024410684                    \n",
              "8_Neg_420.046_2.93  0.024558628                    \n",
              "9_Neg_439.085_0.68  0.008210867                    \n",
              "11_Neg_174.956_0.56 0.005207613                    \n",
              "                    PBD18_160_Control._Block1.mzXML\n",
              "2_Neg_477.065_4.52  0.021111126                    \n",
              "3_Neg_112.986_0.74  0.014114794                    \n",
              "4_Neg_133.014_0.71  0.008793394                    \n",
              "8_Neg_420.046_2.93  0.024251624                    \n",
              "9_Neg_439.085_0.68  0.001212581                    \n",
              "11_Neg_174.956_0.56 0.002774107                    \n",
              "                    PBD18_206_Control._Block2.mzXML\n",
              "2_Neg_477.065_4.52  0.028822807                    \n",
              "3_Neg_112.986_0.74  0.016436790                    \n",
              "4_Neg_133.014_0.71  0.011451223                    \n",
              "8_Neg_420.046_2.93  0.032250384                    \n",
              "9_Neg_439.085_0.68  0.001791688                    \n",
              "11_Neg_174.956_0.56 0.003310728                    \n",
              "                    PBD18_251_Control._Block3.mzXML\n",
              "2_Neg_477.065_4.52  0.057183505                    \n",
              "3_Neg_112.986_0.74  0.030605256                    \n",
              "4_Neg_133.014_0.71  0.017819508                    \n",
              "8_Neg_420.046_2.93  0.031612008                    \n",
              "9_Neg_439.085_0.68  0.002818905                    \n",
              "11_Neg_174.956_0.56 0.005396190                    \n",
              "                    PBD19_207_Control._Block2.mzXML\n",
              "2_Neg_477.065_4.52  0.036912326                    \n",
              "3_Neg_112.986_0.74  0.021878127                    \n",
              "4_Neg_133.014_0.71  0.009491741                    \n",
              "8_Neg_420.046_2.93  0.013126876                    \n",
              "9_Neg_439.085_0.68  0.002984401                    \n",
              "11_Neg_174.956_0.56 0.003253670                    \n",
              "                    PBD19_252_Control._Block3.mzXML\n",
              "2_Neg_477.065_4.52  0.056468395                    \n",
              "3_Neg_112.986_0.74  0.029814629                    \n",
              "4_Neg_133.014_0.71  0.019563181                    \n",
              "8_Neg_420.046_2.93  0.008149902                    \n",
              "9_Neg_439.085_0.68  0.004801095                    \n",
              "11_Neg_174.956_0.56 0.005228239                    \n",
              "                    PBD19_207_252_Control._Block3.mzXML\n",
              "2_Neg_477.065_4.52  0.048009006                        \n",
              "3_Neg_112.986_0.74  0.026380707                        \n",
              "4_Neg_133.014_0.71  0.015227099                        \n",
              "8_Neg_420.046_2.93  0.010280717                        \n",
              "9_Neg_439.085_0.68  0.004015299                        \n",
              "11_Neg_174.956_0.56 0.004374154                        \n",
              "                    PBD20_253_Control._Block3.1.mzXML\n",
              "2_Neg_477.065_4.52  0.061153065                      \n",
              "3_Neg_112.986_0.74  0.029414384                      \n",
              "4_Neg_133.014_0.71  0.014106080                      \n",
              "8_Neg_420.046_2.93  0.034704164                      \n",
              "9_Neg_439.085_0.68  0.003935276                      \n",
              "11_Neg_174.956_0.56 0.007117159                      \n",
              "                    PBD20_253_Control._Block3.2.mzXML\n",
              "2_Neg_477.065_4.52  0.061153065                      \n",
              "3_Neg_112.986_0.74  0.029414384                      \n",
              "4_Neg_133.014_0.71  0.014106080                      \n",
              "8_Neg_420.046_2.93  0.034704164                      \n",
              "9_Neg_439.085_0.68  0.003935276                      \n",
              "11_Neg_174.956_0.56 0.007117159                      \n",
              "                    PBD20_253_Control._Block3.3.mzXML\n",
              "2_Neg_477.065_4.52  0.061153065                      \n",
              "3_Neg_112.986_0.74  0.029414384                      \n",
              "4_Neg_133.014_0.71  0.014106080                      \n",
              "8_Neg_420.046_2.93  0.034704164                      \n",
              "9_Neg_439.085_0.68  0.003935276                      \n",
              "11_Neg_174.956_0.56 0.007117159                      "
            ]
          },
          "metadata": {}
        }
      ]
    },
    {
      "cell_type": "code",
      "source": [
        "head(metadata)"
      ],
      "metadata": {
        "colab": {
          "base_uri": "https://localhost:8080/",
          "height": 411
        },
        "id": "jk7J4Yft1L3x",
        "outputId": "7e6c90ac-4023-468b-f87e-618467980544"
      },
      "id": "jk7J4Yft1L3x",
      "execution_count": 24,
      "outputs": [
        {
          "output_type": "display_data",
          "data": {
            "text/html": [
              "<table class=\"dataframe\">\n",
              "<caption>A data.frame: 6 × 54</caption>\n",
              "<thead>\n",
              "\t<tr><th></th><th scope=col>ATTRIBUTE_accession</th><th scope=col>ATTRIBUTE_SampleType</th><th scope=col>ATTRIBUTE_sampleNumber</th><th scope=col>ATTRIBUTE_treatment</th><th scope=col>ATTRIBUTE_replicates</th><th scope=col>ATTRIBUTE_Condition</th><th scope=col>Accessions</th><th scope=col>Treatment</th><th scope=col>Sample_code</th><th scope=col>Aviso.H2O_CuCl2</th><th scope=col>⋯</th><th scope=col>Aviso.PBD16_CuCl2</th><th scope=col>Aviso.PBD16_H2O</th><th scope=col>Aviso.PBD17_CuCl2</th><th scope=col>Aviso.PBD17_H2O</th><th scope=col>Aviso.PBD18_CuCl2</th><th scope=col>Aviso.PBD18_H2O</th><th scope=col>Aviso.PBD19_CuCl2</th><th scope=col>Aviso.PBD19_H2O</th><th scope=col>Aviso.PBD20_CuCl2</th><th scope=col>Aviso.PBD20_H2O</th></tr>\n",
              "\t<tr><th></th><th scope=col>&lt;chr&gt;</th><th scope=col>&lt;chr&gt;</th><th scope=col>&lt;chr&gt;</th><th scope=col>&lt;chr&gt;</th><th scope=col>&lt;int&gt;</th><th scope=col>&lt;chr&gt;</th><th scope=col>&lt;chr&gt;</th><th scope=col>&lt;chr&gt;</th><th scope=col>&lt;chr&gt;</th><th scope=col>&lt;chr&gt;</th><th scope=col>⋯</th><th scope=col>&lt;chr&gt;</th><th scope=col>&lt;chr&gt;</th><th scope=col>&lt;chr&gt;</th><th scope=col>&lt;chr&gt;</th><th scope=col>&lt;chr&gt;</th><th scope=col>&lt;chr&gt;</th><th scope=col>&lt;chr&gt;</th><th scope=col>&lt;chr&gt;</th><th scope=col>&lt;chr&gt;</th><th scope=col>&lt;chr&gt;</th></tr>\n",
              "</thead>\n",
              "<tbody>\n",
              "\t<tr><th scope=row>Aviso_232_CuCl2_Block2.mzXML Sample</th><td>Aviso</td><td>With_Treatment</td><td>232</td><td>CuCl2</td><td>2</td><td>CuCl2-induced stress</td><td>Aviso</td><td>CuCl2</td><td>Aviso_232_CuCl2_B2</td><td>Aviso_CuCl2</td><td>⋯</td><td>Aviso_CuCl2</td><td></td><td>Aviso_CuCl2</td><td></td><td>Aviso_CuCl2</td><td></td><td>Aviso_CuCl2</td><td></td><td>Aviso_CuCl2</td><td></td></tr>\n",
              "\t<tr><th scope=row>Aviso_233_CuCl2_Block2.mzXML Sample</th><td>Aviso</td><td>With_Treatment</td><td>233</td><td>CuCl2</td><td>2</td><td>CuCl2-induced stress</td><td>Aviso</td><td>CuCl2</td><td>Aviso_233_CuCl2_B2</td><td>Aviso_CuCl2</td><td>⋯</td><td>Aviso_CuCl2</td><td></td><td>Aviso_CuCl2</td><td></td><td>Aviso_CuCl2</td><td></td><td>Aviso_CuCl2</td><td></td><td>Aviso_CuCl2</td><td></td></tr>\n",
              "\t<tr><th scope=row>Aviso_280_CuCl2_Block3.mzXML Sample</th><td>Aviso</td><td>With_Treatment</td><td>280</td><td>CuCl2</td><td>3</td><td>CuCl2-induced stress</td><td>Aviso</td><td>CuCl2</td><td>Aviso_280_CuCl2_B3</td><td>Aviso_CuCl2</td><td>⋯</td><td>Aviso_CuCl2</td><td></td><td>Aviso_CuCl2</td><td></td><td>Aviso_CuCl2</td><td></td><td>Aviso_CuCl2</td><td></td><td>Aviso_CuCl2</td><td></td></tr>\n",
              "\t<tr><th scope=row>Chifu_187_CuCl2_Block1.mzXML Sample</th><td>Chifu</td><td>With_Treatment</td><td>187</td><td>CuCl2</td><td>1</td><td>CuCl2-induced stress</td><td>Chifu</td><td>CuCl2</td><td>Chifu_187_CuCl2_B1</td><td>           </td><td>⋯</td><td>           </td><td></td><td>           </td><td></td><td>           </td><td></td><td>           </td><td></td><td>           </td><td></td></tr>\n",
              "\t<tr><th scope=row>Chifu_231_CuCl2_Block2.mzXML Sample</th><td>Chifu</td><td>With_Treatment</td><td>231</td><td>CuCl2</td><td>2</td><td>CuCl2-induced stress</td><td>Chifu</td><td>CuCl2</td><td>Chifu_231_CuCl2_B2</td><td>           </td><td>⋯</td><td>           </td><td></td><td>           </td><td></td><td>           </td><td></td><td>           </td><td></td><td>           </td><td></td></tr>\n",
              "\t<tr><th scope=row>Chifu_279_CuCl2_Block3.mzXML Sample</th><td>Chifu</td><td>With_Treatment</td><td>279</td><td>CuCl2</td><td>3</td><td>CuCl2-induced stress</td><td>Chifu</td><td>CuCl2</td><td>Chifu_279_CuCl2_B3</td><td>           </td><td>⋯</td><td>           </td><td></td><td>           </td><td></td><td>           </td><td></td><td>           </td><td></td><td>           </td><td></td></tr>\n",
              "</tbody>\n",
              "</table>\n"
            ],
            "text/markdown": "\nA data.frame: 6 × 54\n\n| <!--/--> | ATTRIBUTE_accession &lt;chr&gt; | ATTRIBUTE_SampleType &lt;chr&gt; | ATTRIBUTE_sampleNumber &lt;chr&gt; | ATTRIBUTE_treatment &lt;chr&gt; | ATTRIBUTE_replicates &lt;int&gt; | ATTRIBUTE_Condition &lt;chr&gt; | Accessions &lt;chr&gt; | Treatment &lt;chr&gt; | Sample_code &lt;chr&gt; | Aviso.H2O_CuCl2 &lt;chr&gt; | ⋯ ⋯ | Aviso.PBD16_CuCl2 &lt;chr&gt; | Aviso.PBD16_H2O &lt;chr&gt; | Aviso.PBD17_CuCl2 &lt;chr&gt; | Aviso.PBD17_H2O &lt;chr&gt; | Aviso.PBD18_CuCl2 &lt;chr&gt; | Aviso.PBD18_H2O &lt;chr&gt; | Aviso.PBD19_CuCl2 &lt;chr&gt; | Aviso.PBD19_H2O &lt;chr&gt; | Aviso.PBD20_CuCl2 &lt;chr&gt; | Aviso.PBD20_H2O &lt;chr&gt; |\n|---|---|---|---|---|---|---|---|---|---|---|---|---|---|---|---|---|---|---|---|---|---|\n| Aviso_232_CuCl2_Block2.mzXML Sample | Aviso | With_Treatment | 232 | CuCl2 | 2 | CuCl2-induced stress | Aviso | CuCl2 | Aviso_232_CuCl2_B2 | Aviso_CuCl2 | ⋯ | Aviso_CuCl2 | <!----> | Aviso_CuCl2 | <!----> | Aviso_CuCl2 | <!----> | Aviso_CuCl2 | <!----> | Aviso_CuCl2 | <!----> |\n| Aviso_233_CuCl2_Block2.mzXML Sample | Aviso | With_Treatment | 233 | CuCl2 | 2 | CuCl2-induced stress | Aviso | CuCl2 | Aviso_233_CuCl2_B2 | Aviso_CuCl2 | ⋯ | Aviso_CuCl2 | <!----> | Aviso_CuCl2 | <!----> | Aviso_CuCl2 | <!----> | Aviso_CuCl2 | <!----> | Aviso_CuCl2 | <!----> |\n| Aviso_280_CuCl2_Block3.mzXML Sample | Aviso | With_Treatment | 280 | CuCl2 | 3 | CuCl2-induced stress | Aviso | CuCl2 | Aviso_280_CuCl2_B3 | Aviso_CuCl2 | ⋯ | Aviso_CuCl2 | <!----> | Aviso_CuCl2 | <!----> | Aviso_CuCl2 | <!----> | Aviso_CuCl2 | <!----> | Aviso_CuCl2 | <!----> |\n| Chifu_187_CuCl2_Block1.mzXML Sample | Chifu | With_Treatment | 187 | CuCl2 | 1 | CuCl2-induced stress | Chifu | CuCl2 | Chifu_187_CuCl2_B1 | <!----> | ⋯ | <!----> | <!----> | <!----> | <!----> | <!----> | <!----> | <!----> | <!----> | <!----> | <!----> |\n| Chifu_231_CuCl2_Block2.mzXML Sample | Chifu | With_Treatment | 231 | CuCl2 | 2 | CuCl2-induced stress | Chifu | CuCl2 | Chifu_231_CuCl2_B2 | <!----> | ⋯ | <!----> | <!----> | <!----> | <!----> | <!----> | <!----> | <!----> | <!----> | <!----> | <!----> |\n| Chifu_279_CuCl2_Block3.mzXML Sample | Chifu | With_Treatment | 279 | CuCl2 | 3 | CuCl2-induced stress | Chifu | CuCl2 | Chifu_279_CuCl2_B3 | <!----> | ⋯ | <!----> | <!----> | <!----> | <!----> | <!----> | <!----> | <!----> | <!----> | <!----> | <!----> |\n\n",
            "text/latex": "A data.frame: 6 × 54\n\\begin{tabular}{r|lllllllllllllllllllll}\n  & ATTRIBUTE\\_accession & ATTRIBUTE\\_SampleType & ATTRIBUTE\\_sampleNumber & ATTRIBUTE\\_treatment & ATTRIBUTE\\_replicates & ATTRIBUTE\\_Condition & Accessions & Treatment & Sample\\_code & Aviso.H2O\\_CuCl2 & ⋯ & Aviso.PBD16\\_CuCl2 & Aviso.PBD16\\_H2O & Aviso.PBD17\\_CuCl2 & Aviso.PBD17\\_H2O & Aviso.PBD18\\_CuCl2 & Aviso.PBD18\\_H2O & Aviso.PBD19\\_CuCl2 & Aviso.PBD19\\_H2O & Aviso.PBD20\\_CuCl2 & Aviso.PBD20\\_H2O\\\\\n  & <chr> & <chr> & <chr> & <chr> & <int> & <chr> & <chr> & <chr> & <chr> & <chr> & ⋯ & <chr> & <chr> & <chr> & <chr> & <chr> & <chr> & <chr> & <chr> & <chr> & <chr>\\\\\n\\hline\n\tAviso\\_232\\_CuCl2\\_Block2.mzXML Sample & Aviso & With\\_Treatment & 232 & CuCl2 & 2 & CuCl2-induced stress & Aviso & CuCl2 & Aviso\\_232\\_CuCl2\\_B2 & Aviso\\_CuCl2 & ⋯ & Aviso\\_CuCl2 &  & Aviso\\_CuCl2 &  & Aviso\\_CuCl2 &  & Aviso\\_CuCl2 &  & Aviso\\_CuCl2 & \\\\\n\tAviso\\_233\\_CuCl2\\_Block2.mzXML Sample & Aviso & With\\_Treatment & 233 & CuCl2 & 2 & CuCl2-induced stress & Aviso & CuCl2 & Aviso\\_233\\_CuCl2\\_B2 & Aviso\\_CuCl2 & ⋯ & Aviso\\_CuCl2 &  & Aviso\\_CuCl2 &  & Aviso\\_CuCl2 &  & Aviso\\_CuCl2 &  & Aviso\\_CuCl2 & \\\\\n\tAviso\\_280\\_CuCl2\\_Block3.mzXML Sample & Aviso & With\\_Treatment & 280 & CuCl2 & 3 & CuCl2-induced stress & Aviso & CuCl2 & Aviso\\_280\\_CuCl2\\_B3 & Aviso\\_CuCl2 & ⋯ & Aviso\\_CuCl2 &  & Aviso\\_CuCl2 &  & Aviso\\_CuCl2 &  & Aviso\\_CuCl2 &  & Aviso\\_CuCl2 & \\\\\n\tChifu\\_187\\_CuCl2\\_Block1.mzXML Sample & Chifu & With\\_Treatment & 187 & CuCl2 & 1 & CuCl2-induced stress & Chifu & CuCl2 & Chifu\\_187\\_CuCl2\\_B1 &             & ⋯ &             &  &             &  &             &  &             &  &             & \\\\\n\tChifu\\_231\\_CuCl2\\_Block2.mzXML Sample & Chifu & With\\_Treatment & 231 & CuCl2 & 2 & CuCl2-induced stress & Chifu & CuCl2 & Chifu\\_231\\_CuCl2\\_B2 &             & ⋯ &             &  &             &  &             &  &             &  &             & \\\\\n\tChifu\\_279\\_CuCl2\\_Block3.mzXML Sample & Chifu & With\\_Treatment & 279 & CuCl2 & 3 & CuCl2-induced stress & Chifu & CuCl2 & Chifu\\_279\\_CuCl2\\_B3 &             & ⋯ &             &  &             &  &             &  &             &  &             & \\\\\n\\end{tabular}\n",
            "text/plain": [
              "                                    ATTRIBUTE_accession ATTRIBUTE_SampleType\n",
              "Aviso_232_CuCl2_Block2.mzXML Sample Aviso               With_Treatment      \n",
              "Aviso_233_CuCl2_Block2.mzXML Sample Aviso               With_Treatment      \n",
              "Aviso_280_CuCl2_Block3.mzXML Sample Aviso               With_Treatment      \n",
              "Chifu_187_CuCl2_Block1.mzXML Sample Chifu               With_Treatment      \n",
              "Chifu_231_CuCl2_Block2.mzXML Sample Chifu               With_Treatment      \n",
              "Chifu_279_CuCl2_Block3.mzXML Sample Chifu               With_Treatment      \n",
              "                                    ATTRIBUTE_sampleNumber ATTRIBUTE_treatment\n",
              "Aviso_232_CuCl2_Block2.mzXML Sample 232                    CuCl2              \n",
              "Aviso_233_CuCl2_Block2.mzXML Sample 233                    CuCl2              \n",
              "Aviso_280_CuCl2_Block3.mzXML Sample 280                    CuCl2              \n",
              "Chifu_187_CuCl2_Block1.mzXML Sample 187                    CuCl2              \n",
              "Chifu_231_CuCl2_Block2.mzXML Sample 231                    CuCl2              \n",
              "Chifu_279_CuCl2_Block3.mzXML Sample 279                    CuCl2              \n",
              "                                    ATTRIBUTE_replicates ATTRIBUTE_Condition \n",
              "Aviso_232_CuCl2_Block2.mzXML Sample 2                    CuCl2-induced stress\n",
              "Aviso_233_CuCl2_Block2.mzXML Sample 2                    CuCl2-induced stress\n",
              "Aviso_280_CuCl2_Block3.mzXML Sample 3                    CuCl2-induced stress\n",
              "Chifu_187_CuCl2_Block1.mzXML Sample 1                    CuCl2-induced stress\n",
              "Chifu_231_CuCl2_Block2.mzXML Sample 2                    CuCl2-induced stress\n",
              "Chifu_279_CuCl2_Block3.mzXML Sample 3                    CuCl2-induced stress\n",
              "                                    Accessions Treatment Sample_code       \n",
              "Aviso_232_CuCl2_Block2.mzXML Sample Aviso      CuCl2     Aviso_232_CuCl2_B2\n",
              "Aviso_233_CuCl2_Block2.mzXML Sample Aviso      CuCl2     Aviso_233_CuCl2_B2\n",
              "Aviso_280_CuCl2_Block3.mzXML Sample Aviso      CuCl2     Aviso_280_CuCl2_B3\n",
              "Chifu_187_CuCl2_Block1.mzXML Sample Chifu      CuCl2     Chifu_187_CuCl2_B1\n",
              "Chifu_231_CuCl2_Block2.mzXML Sample Chifu      CuCl2     Chifu_231_CuCl2_B2\n",
              "Chifu_279_CuCl2_Block3.mzXML Sample Chifu      CuCl2     Chifu_279_CuCl2_B3\n",
              "                                    Aviso.H2O_CuCl2 ⋯ Aviso.PBD16_CuCl2\n",
              "Aviso_232_CuCl2_Block2.mzXML Sample Aviso_CuCl2     ⋯ Aviso_CuCl2      \n",
              "Aviso_233_CuCl2_Block2.mzXML Sample Aviso_CuCl2     ⋯ Aviso_CuCl2      \n",
              "Aviso_280_CuCl2_Block3.mzXML Sample Aviso_CuCl2     ⋯ Aviso_CuCl2      \n",
              "Chifu_187_CuCl2_Block1.mzXML Sample                 ⋯                  \n",
              "Chifu_231_CuCl2_Block2.mzXML Sample                 ⋯                  \n",
              "Chifu_279_CuCl2_Block3.mzXML Sample                 ⋯                  \n",
              "                                    Aviso.PBD16_H2O Aviso.PBD17_CuCl2\n",
              "Aviso_232_CuCl2_Block2.mzXML Sample                 Aviso_CuCl2      \n",
              "Aviso_233_CuCl2_Block2.mzXML Sample                 Aviso_CuCl2      \n",
              "Aviso_280_CuCl2_Block3.mzXML Sample                 Aviso_CuCl2      \n",
              "Chifu_187_CuCl2_Block1.mzXML Sample                                  \n",
              "Chifu_231_CuCl2_Block2.mzXML Sample                                  \n",
              "Chifu_279_CuCl2_Block3.mzXML Sample                                  \n",
              "                                    Aviso.PBD17_H2O Aviso.PBD18_CuCl2\n",
              "Aviso_232_CuCl2_Block2.mzXML Sample                 Aviso_CuCl2      \n",
              "Aviso_233_CuCl2_Block2.mzXML Sample                 Aviso_CuCl2      \n",
              "Aviso_280_CuCl2_Block3.mzXML Sample                 Aviso_CuCl2      \n",
              "Chifu_187_CuCl2_Block1.mzXML Sample                                  \n",
              "Chifu_231_CuCl2_Block2.mzXML Sample                                  \n",
              "Chifu_279_CuCl2_Block3.mzXML Sample                                  \n",
              "                                    Aviso.PBD18_H2O Aviso.PBD19_CuCl2\n",
              "Aviso_232_CuCl2_Block2.mzXML Sample                 Aviso_CuCl2      \n",
              "Aviso_233_CuCl2_Block2.mzXML Sample                 Aviso_CuCl2      \n",
              "Aviso_280_CuCl2_Block3.mzXML Sample                 Aviso_CuCl2      \n",
              "Chifu_187_CuCl2_Block1.mzXML Sample                                  \n",
              "Chifu_231_CuCl2_Block2.mzXML Sample                                  \n",
              "Chifu_279_CuCl2_Block3.mzXML Sample                                  \n",
              "                                    Aviso.PBD19_H2O Aviso.PBD20_CuCl2\n",
              "Aviso_232_CuCl2_Block2.mzXML Sample                 Aviso_CuCl2      \n",
              "Aviso_233_CuCl2_Block2.mzXML Sample                 Aviso_CuCl2      \n",
              "Aviso_280_CuCl2_Block3.mzXML Sample                 Aviso_CuCl2      \n",
              "Chifu_187_CuCl2_Block1.mzXML Sample                                  \n",
              "Chifu_231_CuCl2_Block2.mzXML Sample                                  \n",
              "Chifu_279_CuCl2_Block3.mzXML Sample                                  \n",
              "                                    Aviso.PBD20_H2O\n",
              "Aviso_232_CuCl2_Block2.mzXML Sample                \n",
              "Aviso_233_CuCl2_Block2.mzXML Sample                \n",
              "Aviso_280_CuCl2_Block3.mzXML Sample                \n",
              "Chifu_187_CuCl2_Block1.mzXML Sample                \n",
              "Chifu_231_CuCl2_Block2.mzXML Sample                \n",
              "Chifu_279_CuCl2_Block3.mzXML Sample                "
            ]
          },
          "metadata": {}
        }
      ]
    },
    {
      "cell_type": "code",
      "source": [
        "data_POS <- t(dat_POS)\n",
        "data1_POS = data_POS\n",
        "dim(data_POS)\n",
        "#write.csv(data_POS,file='220728_brassimet_Roots_Normalised_Quant_transpose_table.csv', row.names=TRUE) "
      ],
      "metadata": {
        "colab": {
          "base_uri": "https://localhost:8080/",
          "height": 34
        },
        "id": "nvrEXyON-FtG",
        "outputId": "dc0b16f7-f88c-4226-e8db-9876d12e3ffd"
      },
      "id": "nvrEXyON-FtG",
      "execution_count": 25,
      "outputs": [
        {
          "output_type": "display_data",
          "data": {
            "text/html": [
              "<style>\n",
              ".list-inline {list-style: none; margin:0; padding: 0}\n",
              ".list-inline>li {display: inline-block}\n",
              ".list-inline>li:not(:last-child)::after {content: \"\\00b7\"; padding: 0 .5ex}\n",
              "</style>\n",
              "<ol class=list-inline><li>138</li><li>3086</li></ol>\n"
            ],
            "text/markdown": "1. 138\n2. 3086\n\n\n",
            "text/latex": "\\begin{enumerate*}\n\\item 138\n\\item 3086\n\\end{enumerate*}\n",
            "text/plain": [
              "[1]  138 3086"
            ]
          },
          "metadata": {}
        }
      ]
    },
    {
      "cell_type": "code",
      "source": [
        "#install.packages('limma')\n",
        "require('limma')"
      ],
      "metadata": {
        "colab": {
          "base_uri": "https://localhost:8080/"
        },
        "id": "5AfZrFJklKok",
        "outputId": "849e8acd-394f-4673-8ff0-56986ab9f518"
      },
      "id": "5AfZrFJklKok",
      "execution_count": 54,
      "outputs": [
        {
          "output_type": "stream",
          "name": "stderr",
          "text": [
            "Installing package into ‘/usr/local/lib/R/site-library’\n",
            "(as ‘lib’ is unspecified)\n",
            "\n",
            "Warning message:\n",
            "“package ‘limma’ is not available for this version of R\n",
            "\n",
            "A version of this package for your version of R might be available elsewhere,\n",
            "see the ideas at\n",
            "https://cran.r-project.org/doc/manuals/r-patched/R-admin.html#Installing-packages”\n"
          ]
        }
      ]
    },
    {
      "cell_type": "code",
      "source": [
        "## Creation of object\n",
        "Brassica_brassimet <- list(# Different tables\n",
        "  #Height_Metabolic_Features_Deprotonated = as.matrix(data1_POS[,2:ncol(data1_POS)]),\n",
        "  Height_Metabolic_Features_Protonated = as.matrix(data1_POS[,2:ncol(data1_POS)]),\n",
        "  #Normalized_Metabolic_Features_Protonated = as.matrix(data1_POS[,2:ncol(data1_POS)]),\n",
        " \n",
        "  # type of compounds\n",
        "  Metabolic_Features = list(#Deprotonated = colnames(data1_NEG)[2:ncol(data1_NEG)],\n",
        "                            Protonated = colnames(data1_POS)[2:ncol(data1_POS)]),\n",
        "  # type of samples\n",
        "  samples = list(name = rownames(metadata)[1:22], \n",
        "                 Replicates = metadata$ATTRIBUTE_replicates,\n",
        "                 Accessions = metadata$Accessions, \n",
        "                 Treatments = metadata$Treatments,\n",
        "                 Kenetics = metadata$Kinetics,\n",
        "                 Samples = metadata$Samples_code,\n",
        "                 Conditions = metadata$Conditions_code, \n",
        "                 \n",
        "                 Aviso_H2O_CuCl2 = metadata$Aviso.H2O_CuCl2,\n",
        "                 Aviso_HDEM_CuCl2 = metadata$Aviso.HDEM_CuCl2,\n",
        "                 Aviso_Chifu_CuCl2 = metadata$Aviso.Chifu_CuCl2,\n",
        "                 \n",
        "                 Aviso_PBD01_CuCl2 = metadata$Aviso.PBD01_CuCl2,\n",
        "                 Aviso_PBD02_CuCl2 = metadata$Aviso.PBD02_CuCl2,\n",
        "                 Aviso_PBD03_CuCl2 = metadata$Aviso.PBD03_CuCl2,\n",
        "                 Aviso_PBD04_CuCl2 = metadata$Aviso.PBD04_CuCl2,\n",
        "                 Aviso_PBD05_CuCl2 = metadata$Aviso.PBD05_CuCl2,\n",
        "                 Aviso_PBD06_CuCl2 = metadata$Aviso.PBD06_CuCl2,\n",
        "                 Aviso_PBD07_CuCl2 = metadata$Aviso.PBD07_CuCl2,\n",
        "                 Aviso_PBD08_CuCl2 = metadata$Aviso.PBD08_CuCl2,\n",
        "                 Aviso_PBD09_CuCl2 = metadata$Aviso.PBD09_CuCl2,\n",
        "                 Aviso_PBD10_CuCl2 = metadata$Aviso.PBD10_CuCl2,\n",
        "                 Aviso_PBD11_CuCl2 = metadata$Aviso.PBD11_CuCl2,\n",
        "                 Aviso_PBD12_CuCl2 = metadata$Aviso.PBD12_CuCl2,\n",
        "                 Aviso_PBD13_CuCl2 = metadata$Aviso.PBD13_CuCl2,\n",
        "                 Aviso_PBD14_CuCl2 = metadata$Aviso.PBD14_CuCl2,\n",
        "                 Aviso_PBD15_CuCl2 = metadata$Aviso.PBD15_CuCl2,\n",
        "                 Aviso_PBD16_CuCl2 = metadata$Aviso.PBD16_CuCl2,\n",
        "                 Aviso_PBD17_CuCl2 = metadata$Aviso.PBD17_CuCl2,\n",
        "                 Aviso_PBD18_CuCl2 = metadata$Aviso.PBD18_CuCl2,\n",
        "                 Aviso_PBD19_CuCl2 = metadata$Aviso.PBD19_CuCl2,\n",
        "                 Aviso_PBD20_CuCl2 = metadata$Aviso.PBD20_CuCl2\n",
        "  )\n",
        ")\n"
      ],
      "metadata": {
        "id": "QOqG9eRQ-sOg"
      },
      "id": "QOqG9eRQ-sOg",
      "execution_count": 27,
      "outputs": []
    },
    {
      "cell_type": "code",
      "source": [
        "help(mean)\n",
        "#MEAN = mean(Brassica_brassimet$samples$Replicates"
      ],
      "metadata": {
        "id": "FuEeG1YblSj5"
      },
      "id": "FuEeG1YblSj5",
      "execution_count": 28,
      "outputs": []
    },
    {
      "cell_type": "code",
      "source": [
        "set.seed(405)\n",
        "#?Heatmap\n",
        "ht_opt(\n",
        "  legend_title_gp = gpar(fontsize = 12, fontface = \"bold\"), \n",
        "  legend_labels_gp = gpar(fontsize = 12, fontface = \"bold\"), \n",
        "  heatmap_column_names_gp = gpar(fontsize = 12, fontface = \"bold\"))\n",
        "\n",
        "\n",
        "COL = c('Aviso'='#a9a9a9','HDEM'='#000000','Chifu'='#000075', \n",
        "            'PBD01'='#e6194b','PBD02'='#3cb44b','PBD03'='#ffe119','PBD04'='#4363d8','PBD05'='#f58231', \n",
        "            'PBD06'='#911eb4','PBD07'='#46f0f0','PBD08'='#f032e6','PBD09'='#bcf60c','PBD10'='#fabebe',\n",
        "            'PBD11'='#008080','PBD12'='#e6beff','PBD13'='#9a6324','PBD14'='#fffac8','PBD15'='#800000', \n",
        "            'PBD16'='#aaffc3','PBD17'='#808000','PBD18'='#ffd8b1','PBD19'='#808080','PBD20'='#ffffff')\n",
        "\n",
        "\n",
        "png(\"220728_brassimet_roots Heatmap features Protonated data Imputed and Normalized.png\", width=10,height=10,units=\"in\",res=1200)\n",
        "## HETAMAP OF PROTONATED FEATURES       \n",
        "ha2 = Heatmap(scale(Brassica_brassimet$Height_Metabolic_Features_Protonated[1:22,1:length(Brassica_brassimet$Metabolic_Features$Protonated)]), name=\"Z-score [M+H]+\",\n",
        "              row_km = 2,\n",
        "              column_km = 3,\n",
        "              row_gap = unit(c(1, 1), \"mm\"), border = TRUE,\n",
        "              cluster_rows = FALSE,\n",
        "              cluster_columns = TRUE,\n",
        "              clustering_distance_columns = function(x) as.dist(1 - cor(t(x))),\n",
        "              clustering_method_columns = 'ward.D2',\n",
        "              #col = c(\"navy\", \"blue\",\"red\"),\n",
        "              #clustering_method_rows = 'ward.D2',\n",
        "              show_row_names = TRUE,\n",
        "              show_column_names = FALSE,\n",
        "              column_title =  \"Metabolic features (m/z [M+H]+)\",\n",
        "              #column_title =  \"Protonated metabolic features (m/z [M+H]+)\",\n",
        "              column_title_gp = gpar(fontsize = 20, fontface = \"bold\"),\n",
        "              row_title_gp = gpar(fontsize = 20, fontface = \"bold\"),\n",
        "              \n",
        "              row_title =  \"Brassica accessions\",\n",
        "              #left_annotation = rowAnnotation(\" \" = Brassica_phytochemistry$samples$species, col = list(speies = c( \"blue\", \"yellow\", \"red\"))),\n",
        "              #left_annotation = rowAnnotation(\" \" = Brassica_phytochemistry$samples$species), # \" \" for empty name\n",
        "              use_raster = F,\n",
        "              #col = colorRamp2(quantile(m1, seq(0, 1, by = 0.25)), viridis(5)),\n",
        "\n",
        "              col = colorRamp2(c(-3, 0, 3), c(\"#09eff9\", '#eeeeee', \"red\")), # POSIIVE MODE\n",
        ")\n",
        "ha2 + Heatmap(Brassica_brassimet$samples$Accessions, name = \"Accessions\", col = COL, width = unit(5, \"mm\")) +\n",
        "  Heatmap(Brassica_brassimet$samples$Treatments, name = \"Treatments\", col =  c(\"blue1\",\"red\"), width = unit(5, \"mm\"))\n",
        "dev.off()\n",
        "\n",
        "#ha2 + Heatmap(Brassica_brassimet$samples$Accessions, name = \"Accessions\", col = c('#a9a9a9','#000000','#000075','#e6194b','#3cb44b','#ffe119','#4363d8','#f58231','#911eb4','#46f0f0','#f032e6','#bcf60c','#fabebe','#008080','#e6beff','#9a6324','#fffac8', '#800000', '#aaffc3', '#808000', '#ffd8b1','#808080','#ffffff'), width = unit(8, \"mm\")) +\n",
        "#  Heatmap(Brassica_brassimet$samples$Treatments, name = \"Treatments\", col =  c(\"blue1\",\"red\"), width = unit(8, \"mm\")) +\n",
        "#  Heatmap(Brassica_brassimet$samples$Kenetics, name = \"Kinetics\", col = c('#009E73', \"gray\"), width = unit(8, \"mm\"))\n"
      ],
      "metadata": {
        "id": "jSVaZeOYE_Sh"
      },
      "id": "jSVaZeOYE_Sh",
      "execution_count": null,
      "outputs": []
    },
    {
      "cell_type": "code",
      "source": [
        "head(PCoA_plot)"
      ],
      "metadata": {
        "id": "vI2-7KqYHp7P"
      },
      "id": "vI2-7KqYHp7P",
      "execution_count": null,
      "outputs": []
    },
    {
      "cell_type": "markdown",
      "source": [
        "## Volcano plots\n",
        "\n",
        "A volcano plot is a type of scatter plot represents differential expression of features (genes for example): on the x-axis we typically find the fold change and on the y-axis the p-value."
      ],
      "metadata": {
        "id": "00gUmHkWFYTP"
      },
      "id": "00gUmHkWFYTP"
    },
    {
      "cell_type": "code",
      "source": [
        "# Download the data we will use for plotting\n",
        "download.file(\"https://raw.githubusercontent.com/biocorecrg/CRG_RIntroduction/master/de_df_for_volcano.rds\", \"de_df_for_volcano.rds\", method=\"curl\")\n",
        "\n",
        "# The RDS format is used to save a single R object to a file, and to restore it.\n",
        "# Extract that object in the current session:\n",
        "tmp <- readRDS(\"de_df_for_volcano.rds\")\n",
        "\n",
        "# remove rows that contain NA values\n",
        "de <- tmp[complete.cases(tmp), ]"
      ],
      "metadata": {
        "id": "Y8mJa749OoHR"
      },
      "id": "Y8mJa749OoHR",
      "execution_count": null,
      "outputs": []
    },
    {
      "cell_type": "code",
      "source": [
        "head(tmp)"
      ],
      "metadata": {
        "id": "XHNd5flJOt2x"
      },
      "id": "XHNd5flJOt2x",
      "execution_count": null,
      "outputs": []
    },
    {
      "cell_type": "markdown",
      "source": [
        "At the end of a clustering analysis, it is relatively common to plot our clusters and data points onto a 2D map as well. Yet, we need an additional analysis (for example a PCA) to compute those dimensions."
      ],
      "metadata": {
        "id": "Fl_ICNgIYB7-"
      },
      "id": "Fl_ICNgIYB7-"
    },
    {
      "cell_type": "markdown",
      "source": [
        "## 2. Principal composante analysis (PCA)\n",
        "\n",
        "The difference is that PCA focuses on shared variance: it tries to summarize multiple variables in the minimum number of components so that each component explains the most variance."
      ],
      "metadata": {
        "id": "Y6hji4aPXw90"
      },
      "id": "Y6hji4aPXw90"
    },
    {
      "cell_type": "markdown",
      "source": [
        "## 3.   Principal Coordinate analysis (PCoA) \n",
        "\n",
        "Like HCA, PCoA try to create clusters of observations in data set, based on (dis)similarities of variables. \n"
      ],
      "metadata": {
        "id": "1pDIpL4hYT_r"
      },
      "id": "1pDIpL4hYT_r"
    }
  ],
  "metadata": {
    "colab": {
      "collapsed_sections": [],
      "name": "Metabolic_Features_Filtering_BRASSIMET-project.ipynb",
      "provenance": [],
      "include_colab_link": true
    },
    "kernelspec": {
      "display_name": "R",
      "language": "R",
      "name": "ir"
    },
    "language_info": {
      "codemirror_mode": "r",
      "file_extension": ".r",
      "mimetype": "text/x-r-source",
      "name": "R",
      "pygments_lexer": "r",
      "version": "3.6.1"
    },
    "gpuClass": "standard"
  },
  "nbformat": 4,
  "nbformat_minor": 5
}